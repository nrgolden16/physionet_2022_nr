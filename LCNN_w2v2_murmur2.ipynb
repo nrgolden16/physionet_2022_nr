{
 "cells": [
  {
   "cell_type": "code",
   "execution_count": 1,
   "id": "70172489",
   "metadata": {},
   "outputs": [],
   "source": [
    "import torch\n",
    "import gc\n",
    "gc.collect()\n",
    "torch.cuda.empty_cache()"
   ]
  },
  {
   "cell_type": "code",
   "execution_count": 2,
   "id": "856a67ed",
   "metadata": {},
   "outputs": [],
   "source": [
    "import sys\n",
    "sys.path.append(\"/home/jh20/narin/physionet/python-classifier-2022\")\n",
    "from helper_code import *\n",
    "import numpy as np, scipy as sp, scipy.stats, os, joblib\n",
    "import glob\n",
    "import pandas as pd\n",
    "from sklearn.model_selection import train_test_split\n",
    "import time\n",
    "import torch.nn.functional as F\n",
    "from tqdm import tqdm\n",
    "from IPython.display import Audio\n",
    "from scipy.io import wavfile\n",
    "import soundfile\n",
    "import librosa\n",
    "import torch\n",
    "import random\n",
    "from transformers import Wav2Vec2ForCTC, Wav2Vec2Tokenizer, Wav2Vec2Model,Wav2Vec2Config, Wav2Vec2FeatureExtractor, Wav2Vec2Processor"
   ]
  },
  {
   "cell_type": "code",
   "execution_count": 3,
   "id": "ceb87153",
   "metadata": {},
   "outputs": [],
   "source": [
    "import logging\n",
    "def get_logger(filename):\n",
    "    # Logging configuration: set the basic configuration of the logging system\n",
    "    log_formatter = logging.Formatter(fmt='%(asctime)s [%(processName)s, %(process)s] [%(levelname)-5.5s]  %(message)s',\n",
    "                                      datefmt='%m-%d %H:%M')\n",
    "    logger = logging.getLogger()\n",
    "    logger.setLevel(logging.DEBUG)\n",
    "    # File logger\n",
    "    file_handler = logging.FileHandler(\"{}.log\".format(filename))\n",
    "    file_handler.setFormatter(log_formatter)\n",
    "    file_handler.setLevel(logging.DEBUG)\n",
    "    logger.addHandler(file_handler)\n",
    "    # Stderr logger\n",
    "    std_handler = logging.StreamHandler(sys.stdout)\n",
    "    std_handler.setFormatter(log_formatter)\n",
    "    std_handler.setLevel(logging.DEBUG)\n",
    "    logger.addHandler(std_handler)\n",
    "    return logger"
   ]
  },
  {
   "cell_type": "code",
   "execution_count": 4,
   "id": "c62a3e69",
   "metadata": {},
   "outputs": [],
   "source": [
    "# Compute a binary confusion matrix, where the columns are the expert labels and the rows are the classifier labels.\n",
    "def compute_confusion_matrix(labels, outputs):\n",
    "    assert(np.shape(labels)[0] == np.shape(outputs)[0])\n",
    "    assert(all(value in (0, 1, True, False) for value in np.unique(labels)))\n",
    "    assert(all(value in (0, 1, True, False) for value in np.unique(outputs)))\n",
    "\n",
    "    num_patients = np.shape(labels)[0]\n",
    "    num_label_classes = np.shape(labels)[1]\n",
    "    num_output_classes = np.shape(outputs)[1]\n",
    "\n",
    "    A = np.zeros((num_output_classes, num_label_classes))\n",
    "    for k in range(num_patients):\n",
    "        for i in range(num_output_classes):\n",
    "            for j in range(num_label_classes):\n",
    "                if outputs[k, i] == 1 and labels[k, j] == 1:\n",
    "                    A[i, j] += 1\n",
    "\n",
    "    return A\n",
    "\n",
    "# Compute binary one-vs-rest confusion matrices, where the columns are the expert labels and the rows are the classifier labels.\n",
    "def compute_one_vs_rest_confusion_matrix(labels, outputs):\n",
    "    assert(np.shape(labels) == np.shape(outputs))\n",
    "    assert(all(value in (0, 1, True, False) for value in np.unique(labels)))\n",
    "    assert(all(value in (0, 1, True, False) for value in np.unique(outputs)))\n",
    "\n",
    "    num_patients, num_classes = np.shape(labels)\n",
    "\n",
    "    A = np.zeros((num_classes, 2, 2))\n",
    "    for i in range(num_patients):\n",
    "        for j in range(num_classes):\n",
    "            if labels[i, j] == 1 and outputs[i, j] == 1: # TP\n",
    "                A[j, 0, 0] += 1\n",
    "            elif labels[i, j] == 0 and outputs[i, j] == 1: # FP\n",
    "                A[j, 0, 1] += 1\n",
    "            elif labels[i, j] == 1 and outputs[i, j] == 0: # FN\n",
    "                A[j, 1, 0] += 1\n",
    "            elif labels[i, j] == 0 and outputs[i, j] == 0: # TN\n",
    "                A[j, 1, 1] += 1\n",
    "\n",
    "    return A\n",
    "\n",
    "# Compute macro F-measure.\n",
    "def compute_f_measure(labels, outputs):\n",
    "    num_patients, num_classes = np.shape(labels)\n",
    "\n",
    "    A = compute_one_vs_rest_confusion_matrix(labels, outputs)\n",
    "\n",
    "    f_measure = np.zeros(num_classes)\n",
    "    for k in range(num_classes):\n",
    "        tp, fp, fn, tn = A[k, 0, 0], A[k, 0, 1], A[k, 1, 0], A[k, 1, 1]\n",
    "        if 2 * tp + fp + fn > 0:\n",
    "            f_measure[k] = float(2 * tp) / float(2 * tp + fp + fn)\n",
    "        else:\n",
    "            f_measure[k] = float('nan')\n",
    "\n",
    "    if np.any(np.isfinite(f_measure)):\n",
    "        macro_f_measure = np.nanmean(f_measure)\n",
    "    else:\n",
    "        macro_f_measure = float('nan')\n",
    "\n",
    "    return macro_f_measure, f_measure\n",
    "\n",
    "# Compute accuracy.\n",
    "def compute_accuracy(labels, outputs):\n",
    "    # Compute confusion matrix.\n",
    "    assert(np.shape(labels) == np.shape(outputs))\n",
    "    num_patients, num_classes = np.shape(labels)\n",
    "    A = compute_confusion_matrix(labels, outputs)\n",
    "\n",
    "    # Compute accuracy.\n",
    "    if np.sum(A) > 0:\n",
    "        accuracy = np.trace(A) / np.sum(A)\n",
    "    else:\n",
    "        accuracy = float('nan')\n",
    "\n",
    "    # Compute per-class accuracy.\n",
    "    accuracy_classes = np.zeros(num_classes)\n",
    "    for i in range(num_classes):\n",
    "        if np.sum(A[:, i]) > 0:\n",
    "            accuracy_classes[i] = A[i, i] / np.sum(A[:, i])\n",
    "        else:\n",
    "            accuracy_classes[i] = float('nan')\n",
    "\n",
    "    return accuracy, accuracy_classes\n",
    "\n",
    "# Compute accuracy.\n",
    "def compute_weighted_accuracy(labels, outputs, classes):\n",
    "    # Define constants.\n",
    "    if classes == ['Present', 'Unknown', 'Absent']:\n",
    "        weights = np.array([[5, 3, 1], [5, 3, 1], [5, 3, 1]])\n",
    "    elif classes == ['Abnormal', 'Normal']:\n",
    "        weights = np.array([[5, 1], [5, 1]])\n",
    "    else:\n",
    "        raise NotImplementedError('Weighted accuracy undefined for classes {}'.format(', '.join(classes)))\n",
    "\n",
    "    # Compute confusion matrix.\n",
    "    assert(np.shape(labels) == np.shape(outputs))\n",
    "    A = compute_confusion_matrix(labels, outputs)\n",
    "\n",
    "    # Multiply the confusion matrix by the weight matrix.\n",
    "    assert(np.shape(A) == np.shape(weights))\n",
    "    B = weights * A\n",
    "\n",
    "    # Compute weighted_accuracy.\n",
    "    if np.sum(B) > 0:\n",
    "        weighted_accuracy = np.trace(B) / np.sum(B)\n",
    "    else:\n",
    "        weighted_accuracy = float('nan')\n",
    "\n",
    "    return weighted_accuracy"
   ]
  },
  {
   "cell_type": "code",
   "execution_count": 5,
   "id": "b4db609e",
   "metadata": {},
   "outputs": [],
   "source": [
    "# from torchmetrics import F1\n",
    "# from torchmetrics import Accuracy\n",
    "\n",
    "from sklearn.metrics import f1_score"
   ]
  },
  {
   "cell_type": "code",
   "execution_count": 6,
   "id": "8f0f30e0",
   "metadata": {},
   "outputs": [],
   "source": [
    "import argparse, warnings, sys\n",
    "import torch\n",
    "\n",
    "sys.path.append('/home/jh20/narin/dcase/DESED_task')\n",
    "sys.path.append('/home/jh20/narin/dcase/DESED_task/recipes/dcase2022_task4_baseline')\n",
    "\n",
    "\n",
    "parser = argparse.ArgumentParser(description = \"HMD_trainer\")\n",
    "## Training Settings\n",
    "parser.add_argument('--train_data_folder',    default='/home/jh20/Data/nr_data/ECG/Physionet2022/physionet.org/files/circor-heart-sound/1.0.3/train/',     help='train data path')\n",
    "parser.add_argument('--valid_data_folder',    default='/home/jh20/Data/nr_data/ECG/Physionet2022/physionet.org/files/circor-heart-sound/1.0.3/validation/',     help='validation data path')\n",
    "parser.add_argument('--train_feature_folder',    default='/home/jh20/Data/nr_data/ECG/Physionet2022/physionet.org/files/circor-heart-sound/1.0.3/train_wav2vec2/',     help='train feature path')\n",
    "parser.add_argument('--valid_feature_folder',    default='/home/jh20/Data/nr_data/ECG/Physionet2022/physionet.org/files/circor-heart-sound/1.0.3/validation_wav2vec2/',     help='validation feature path')\n",
    "parser.add_argument('--output_folder',    default='./output_folder_LCNN',     help='output folder')\n",
    "parser.add_argument(\"--mode\",default=\"murmur\", type=str, help=\"mode : murmur/outcome\")\n",
    "parser.add_argument(\"--lr\",default=1e-6, type=float, help=\"learning rate\")\n",
    "parser.add_argument(\"--minibatchsize_train\", default=6 ,type=int)\n",
    "parser.add_argument(\"--minibatchsize_valid\", default=4, type=int)\n",
    "parser.add_argument(\"--train_num_workers\", default=8, type=int, help=\"number of training workers\")\n",
    "parser.add_argument(\"--dev_num_workers\", default=1, type=int, help=\"number of validation workers\")\n",
    "parser.add_argument(\"--seed\", default=617, type=int)\n",
    "parser.add_argument(\"--model_path\", default='./hmd_LCNN', type=str)\n",
    "parser.add_argument(\"--logdir\", default='./log_hmd_LCNN/', type=str)\n",
    "parser.add_argument(\"--model_name\", default='hmd_LCNN_model_murmur', type=str)\n",
    "parser.add_argument(\"--start_iter\", default=0, type=int)\n",
    "parser.add_argument(\"--end_iter\", default=80, type=int)\n",
    "parser.add_argument(\"--gpu\", default=\"0\", type=str)\n",
    "\n",
    "\n",
    "\n",
    "\n",
    "warnings.simplefilter(action='ignore', category=FutureWarning)\n",
    "warnings.filterwarnings('ignore')\n",
    "warnings.simplefilter(\"ignore\")\n",
    "torch.multiprocessing.set_sharing_strategy('file_system')\n",
    "args = parser.parse_args(args=[])"
   ]
  },
  {
   "cell_type": "code",
   "execution_count": null,
   "id": "54fc4303",
   "metadata": {},
   "outputs": [],
   "source": []
  },
  {
   "cell_type": "code",
   "execution_count": 82,
   "id": "05a37013",
   "metadata": {},
   "outputs": [],
   "source": [
    "def feature_extract_raw(fnm, samp_sec=30, sr = 4000, pre_emphasis = 0):\n",
    "\n",
    "    if isinstance(fnm, str) :  #fnm이 str타입이면 \n",
    "        data, sample_rate = librosa.load(fnm, sr = sr)  # raw data와 sr 로딩\n",
    "        data = data * 1.0    # 아마 float으로 바꾸기 위함\n",
    "        data = data[sr:-sr]\n",
    "    else :\n",
    "        data = fnm * 1.0   # fnm이 raw data 일때.\n",
    "        data = data[sr:-sr]\n",
    "        sample_rate = sr    # 4000인 sr을 가져옴\n",
    "\n",
    "    if samp_sec:     \n",
    "        if len(data) > sample_rate * samp_sec :    # data가 20초 넘으면\n",
    "            n_samp = len(data) // int(sample_rate * samp_sec)   # 얼마나 넘는지 보고 (데이터에 20초가 몇번 들어가나)\n",
    "            signal = []\n",
    "            for i in range(n_samp) :  # n번만큼 signal list 원소로 20초씩 자른 데이터를 넣음\n",
    "                signal.append(data[ int(sample_rate * samp_sec)*i:(int(sample_rate * samp_sec)*(i+1))])\n",
    "        else :\n",
    "            n_samp = 1\n",
    "            signal = np.zeros(int(sample_rate*samp_sec,))  # 빈 20초 signal 생성\n",
    "            for i in range(int(sample_rate * samp_sec) // len(data)) : # 20초 안에 data가 몇번 들어가는지 만큼 루프\n",
    "                signal[(i)*len(data):(i+1)*len(data)] = data      # data를 signal에 반복해서 넣어줌\n",
    "            num_last = int(sample_rate * samp_sec) - len(data)*(i+1)  # n번 넣고 남은 나머지 공백을 계산\n",
    "            signal[(i+1)*len(data):int(sample_rate * samp_sec)] = data[:num_last]  # 나머지 공백을 data를 잘라서 넣어줌\n",
    "            signal = signal\n",
    "    else:\n",
    "        n_samp = 1\n",
    "        signal = [data]\n",
    "\n",
    "    for i in range(n_samp) :   # 위의 n_samp을 가져와서 루프\n",
    "        if pre_emphasis :      # pre-emphasis 진행 보통 y(t) = x(t) - a*x(t-1)  근데 0이라서 pre-emphasis 없는듯\n",
    "            emphasized_signal = np.append(signal[i][0], signal[i][1:] - pre_emphasis * signal[i][:-1])\n",
    "        else :  # pre-emphasis 없음\n",
    "            emphasized_signal = signal[i]\n",
    "\n",
    "    return signal #n_samp"
   ]
  },
  {
   "cell_type": "code",
   "execution_count": 7,
   "id": "6f9525d5",
   "metadata": {},
   "outputs": [],
   "source": [
    "def read_recording(wav_fn, audio_length= 20, sr= 4000):  #20초 \n",
    "\n",
    "    recording, frequency = load_wav_file(wav_fn)\n",
    "    recording = recording * 1.0\n",
    "    recording = recording[4000:-4000]\n",
    "\n",
    "    length = audio_length*sr\n",
    "    if recording.shape[0] <= length:\n",
    "        shortage = length - recording.shape[0]\n",
    "        recording = np.pad(recording, (0, shortage), 'wrap')\n",
    "    start_frame = np.int64(random.random()*(recording.shape[0]-length))\n",
    "    recording = recording[start_frame:start_frame + length] \n",
    "\n",
    "    return recording"
   ]
  },
  {
   "cell_type": "code",
   "execution_count": 16,
   "id": "9433b576",
   "metadata": {},
   "outputs": [
    {
     "data": {
      "text/plain": [
       "array([1, 2, 3, 1, 2, 3, 1, 2])"
      ]
     },
     "execution_count": 16,
     "metadata": {},
     "output_type": "execute_result"
    }
   ],
   "source": [
    "np.pad(np.array([1,2,3]), (0, 5), 'wrap')"
   ]
  },
  {
   "cell_type": "code",
   "execution_count": 86,
   "id": "cf492dca",
   "metadata": {},
   "outputs": [],
   "source": [
    "wav_files = glob.glob(args.train_data_folder + '*.wav')"
   ]
  },
  {
   "cell_type": "code",
   "execution_count": 90,
   "id": "c07c044e",
   "metadata": {},
   "outputs": [],
   "source": [
    "data, sample_rate = librosa.load(wav_files[0], sr = 4000)"
   ]
  },
  {
   "cell_type": "code",
   "execution_count": 100,
   "id": "7fb3e19d",
   "metadata": {},
   "outputs": [
    {
     "data": {
      "text/plain": [
       "(120000,)"
      ]
     },
     "execution_count": 100,
     "metadata": {},
     "output_type": "execute_result"
    }
   ],
   "source": [
    "read_recording(wav_files[0]).shape"
   ]
  },
  {
   "cell_type": "code",
   "execution_count": 94,
   "id": "5575344f",
   "metadata": {},
   "outputs": [
    {
     "data": {
      "text/plain": [
       "(57536,)"
      ]
     },
     "execution_count": 94,
     "metadata": {},
     "output_type": "execute_result"
    }
   ],
   "source": [
    "data[4000:-4000].shape"
   ]
  },
  {
   "cell_type": "code",
   "execution_count": 3,
   "id": "260a6a3b",
   "metadata": {},
   "outputs": [],
   "source": [
    "torch.cuda.empty_cache()"
   ]
  },
  {
   "cell_type": "code",
   "execution_count": 8,
   "id": "c6c84643",
   "metadata": {},
   "outputs": [],
   "source": [
    "import torch.nn as nn\n",
    "import torch\n",
    "import torch.nn.functional as F\n",
    "\n",
    "class Wav2Vec2_LCNN(nn.Module):\n",
    "\n",
    "    def __init__(self,mode):\n",
    "\n",
    "        super(Wav2Vec2_LCNN, self).__init__()\n",
    "        '''input : (B,T)'''\n",
    "        \n",
    "        self.mode = mode\n",
    "        self.wav2vec2_CTC = Wav2Vec2ForCTC.from_pretrained(\"facebook/wav2vec2-base-960h\")\n",
    "        self.wav2vec2_CTC.lm_head = nn.Identity()\n",
    "\n",
    "        \n",
    "        \n",
    "        self.conv2d_1  = nn.Conv2d(1, 32, kernel_size=(5,5), stride=(1,1), padding=(2,2))\n",
    "        self.conv2d_2  = nn.Conv2d(1, 32, kernel_size=(5,5), stride=(1,1), padding=(2,2))\n",
    "        \n",
    "        self.max2d_1 = nn.MaxPool2d(kernel_size =(2,2), stride=(2,2),padding = 0)\n",
    "        \n",
    "        self.conv2d_3  = nn.Conv2d(32, 32, kernel_size=(1,1), stride=(1,1))\n",
    "        self.conv2d_4  = nn.Conv2d(32, 32, kernel_size=(1,1), stride=(1,1))\n",
    "        \n",
    "        self.bn2d_1 = nn.BatchNorm2d(32)\n",
    "        \n",
    "        self.conv2d_5  = nn.Conv2d(32, 48, kernel_size=(3,3), stride=(1,1), padding=(1,1))\n",
    "        self.conv2d_6  = nn.Conv2d(32, 48, kernel_size=(3,3), stride=(1,1), padding=(1,1))\n",
    "        \n",
    "        self.max2d_2 = nn.MaxPool2d(kernel_size =(2,2), stride=(2,2),padding = 0)\n",
    "        self.bn2d_2 = nn.BatchNorm2d(48)\n",
    "        \n",
    "        \n",
    "        self.conv2d_7  = nn.Conv2d(48, 48, kernel_size=(1,1), stride=(1,1))\n",
    "        self.conv2d_8  = nn.Conv2d(48, 48, kernel_size=(1,1), stride=(1,1))\n",
    "        \n",
    "        self.bn2d_3 = nn.BatchNorm2d(48)\n",
    "        \n",
    "        self.conv2d_9  = nn.Conv2d(48, 64, kernel_size=(3,3), stride=(1,1), padding=(1,1))\n",
    "        self.conv2d_10  = nn.Conv2d(48, 64, kernel_size=(3,3), stride=(1,1), padding=(1,1))\n",
    "        \n",
    "        self.max2d_3 = nn.MaxPool2d(kernel_size =(2,2), stride=(2,2),padding = 0)\n",
    "        \n",
    "        self.conv2d_11  = nn.Conv2d(64, 64, kernel_size=(1,1), stride=(1,1))\n",
    "        self.conv2d_12  = nn.Conv2d(64, 64, kernel_size=(1,1), stride=(1,1))\n",
    "        \n",
    "        self.bn2d_4 = nn.BatchNorm2d(64)\n",
    "        \n",
    "        self.conv2d_13  = nn.Conv2d(64, 32, kernel_size=(3,3), stride=(1,1), padding=(1,1))\n",
    "        self.conv2d_14  = nn.Conv2d(64, 32, kernel_size=(3,3), stride=(1,1), padding=(1,1))\n",
    "        \n",
    "        self.bn2d_5 = nn.BatchNorm2d(32)\n",
    "        \n",
    "        \n",
    "        self.conv2d_15  = nn.Conv2d(32, 32, kernel_size=(1,1), stride=(1,1))\n",
    "        self.conv2d_16  = nn.Conv2d(32, 32, kernel_size=(1,1), stride=(1,1))\n",
    "        \n",
    "        self.bn2d_6 = nn.BatchNorm2d(32)\n",
    "        \n",
    "        \n",
    "        self.conv2d_17  = nn.Conv2d(32, 32, kernel_size=(1,1), stride=(1,1))\n",
    "        self.conv2d_18  = nn.Conv2d(32, 32, kernel_size=(1,1), stride=(1,1))\n",
    "        \n",
    "        self.max2d_4 = nn.MaxPool2d(kernel_size =(2,2), stride=(2,2),padding = 0)\n",
    "        \n",
    "        self.adaptavg = nn.AdaptiveAvgPool2d(1)\n",
    "        \n",
    "        \n",
    "#        self.fc1 = nn.Linear(64, 128)\n",
    "        \n",
    "        if self.mode == 'murmur' :\n",
    "            self.fc_mur = nn.Sequential(\n",
    "                                        nn.Linear(32,1),\n",
    "                                        nn.Sigmoid()\n",
    "                                        )\n",
    "        elif self.mode == 'outcome' :\n",
    "            self.fc_out = nn.Sequential(\n",
    "                                        nn.Linear(128,32),\n",
    "                                        nn.ReLU(),\n",
    "                                        nn.Linear(32,1),\n",
    "                                        nn.Sigmoid()\n",
    "                                        )\n",
    "        \n",
    "        \n",
    "    def forward(self, input):\n",
    "        \n",
    "        input = self.wav2vec2_CTC(input).logits\n",
    "        input = input.unsqueeze(1)\n",
    "        \n",
    "        x1 = self.conv2d_1(input)\n",
    "        x2 = self.conv2d_2(input)\n",
    "        max1 = torch.maximum(x1,x2)\n",
    "        x = self.max2d_1(max1)\n",
    "        \n",
    "        x3 = self.conv2d_3(x)\n",
    "        x4 = self.conv2d_4(x)\n",
    "        max2 = torch.maximum(x3,x4)\n",
    "        x = self.bn2d_1(max2)\n",
    "        \n",
    "        x5 = self.conv2d_5(x)\n",
    "        x6 = self.conv2d_6(x)\n",
    "        max3 = torch.maximum(x5,x6)\n",
    "        x = self.max2d_2(max3)\n",
    "        x = self.bn2d_2(x)\n",
    "        \n",
    "        x7 = self.conv2d_7(x)\n",
    "        x8 = self.conv2d_8(x)\n",
    "        max4 = torch.maximum(x7,x8)\n",
    "        x = self.bn2d_3(max4)\n",
    "        \n",
    "        x9 = self.conv2d_9(x)\n",
    "        x10 = self.conv2d_10(x)\n",
    "        max5 = torch.maximum(x9,x10)\n",
    "        x = self.max2d_3(max5)\n",
    "        \n",
    "        x11 = self.conv2d_11(x)\n",
    "        x12 = self.conv2d_12(x)\n",
    "        max6 = torch.maximum(x11,x12)\n",
    "        x = self.bn2d_4(max6)\n",
    "        \n",
    "        x13 = self.conv2d_13(x)\n",
    "        x14 = self.conv2d_14(x)\n",
    "        max7 = torch.maximum(x13,x14)\n",
    "        x = self.bn2d_5(max7)\n",
    "        \n",
    "        x15 = self.conv2d_15(x)\n",
    "        x16 = self.conv2d_16(x)\n",
    "        max8 = torch.maximum(x15,x16)\n",
    "        x = self.bn2d_6(max8)\n",
    "        \n",
    "        x17 = self.conv2d_17(x)\n",
    "        x18 = self.conv2d_18(x)\n",
    "        max9 = torch.maximum(x17,x18)\n",
    "        x = self.max2d_4(max9)\n",
    "        \n",
    "        x = self.adaptavg(x)\n",
    "        x = x.view(x.size(0),-1)\n",
    "        \n",
    "#        x = self.fc1(x)\n",
    "        \n",
    "        \n",
    "        if self.mode == 'murmur' :\n",
    "            out = self.fc_mur(x)\n",
    "        elif self.mode == 'outcome' :\n",
    "            out = self.fc_out(x)\n",
    "#        out = {'murmur':out1, 'outcome':out2}\n",
    "        \n",
    "        return out"
   ]
  },
  {
   "cell_type": "code",
   "execution_count": 11,
   "id": "17f746d8",
   "metadata": {},
   "outputs": [
    {
     "name": "stderr",
     "output_type": "stream",
     "text": [
      "Some weights of Wav2Vec2ForCTC were not initialized from the model checkpoint at facebook/wav2vec2-base-960h and are newly initialized: ['wav2vec2.masked_spec_embed']\n",
      "You should probably TRAIN this model on a down-stream task to be able to use it for predictions and inference.\n"
     ]
    }
   ],
   "source": [
    "model = Wav2Vec2_LCNN(\"murmur\")\n",
    "x = torch.randn((32,120000))\n",
    "output = model(x)"
   ]
  },
  {
   "cell_type": "code",
   "execution_count": 14,
   "id": "a37a6b88",
   "metadata": {},
   "outputs": [
    {
     "data": {
      "text/plain": [
       "tensor([[0.6074],\n",
       "        [0.6141],\n",
       "        [0.6126],\n",
       "        [0.6075],\n",
       "        [0.6128],\n",
       "        [0.6112],\n",
       "        [0.6145],\n",
       "        [0.6069],\n",
       "        [0.6158],\n",
       "        [0.6094],\n",
       "        [0.6154],\n",
       "        [0.6117],\n",
       "        [0.6135],\n",
       "        [0.6177],\n",
       "        [0.6133],\n",
       "        [0.6098],\n",
       "        [0.6097],\n",
       "        [0.6113],\n",
       "        [0.6088],\n",
       "        [0.6108],\n",
       "        [0.6251],\n",
       "        [0.6153],\n",
       "        [0.6092],\n",
       "        [0.6103],\n",
       "        [0.6137],\n",
       "        [0.6114],\n",
       "        [0.6109],\n",
       "        [0.6161],\n",
       "        [0.6063],\n",
       "        [0.6133],\n",
       "        [0.6115],\n",
       "        [0.6069]], grad_fn=<SigmoidBackward0>)"
      ]
     },
     "execution_count": 14,
     "metadata": {},
     "output_type": "execute_result"
    }
   ],
   "source": [
    "output"
   ]
  },
  {
   "cell_type": "code",
   "execution_count": 25,
   "id": "47a6752a",
   "metadata": {},
   "outputs": [],
   "source": [
    "patient_file = glob.glob(args.train_data_folder + '*.txt')"
   ]
  },
  {
   "cell_type": "code",
   "execution_count": 26,
   "id": "98079d75",
   "metadata": {},
   "outputs": [
    {
     "data": {
      "text/plain": [
       "['/home/jh20/Data/nr_data/ECG/Physionet2022/physionet.org/files/circor-heart-sound/1.0.3/train/50103.txt',\n",
       " '/home/jh20/Data/nr_data/ECG/Physionet2022/physionet.org/files/circor-heart-sound/1.0.3/train/50077.txt',\n",
       " '/home/jh20/Data/nr_data/ECG/Physionet2022/physionet.org/files/circor-heart-sound/1.0.3/train/68298.txt',\n",
       " '/home/jh20/Data/nr_data/ECG/Physionet2022/physionet.org/files/circor-heart-sound/1.0.3/train/51331.txt',\n",
       " '/home/jh20/Data/nr_data/ECG/Physionet2022/physionet.org/files/circor-heart-sound/1.0.3/train/69152.txt',\n",
       " '/home/jh20/Data/nr_data/ECG/Physionet2022/physionet.org/files/circor-heart-sound/1.0.3/train/85239.txt',\n",
       " '/home/jh20/Data/nr_data/ECG/Physionet2022/physionet.org/files/circor-heart-sound/1.0.3/train/84949.txt',\n",
       " '/home/jh20/Data/nr_data/ECG/Physionet2022/physionet.org/files/circor-heart-sound/1.0.3/train/85159.txt',\n",
       " '/home/jh20/Data/nr_data/ECG/Physionet2022/physionet.org/files/circor-heart-sound/1.0.3/train/31737.txt',\n",
       " '/home/jh20/Data/nr_data/ECG/Physionet2022/physionet.org/files/circor-heart-sound/1.0.3/train/85075.txt',\n",
       " '/home/jh20/Data/nr_data/ECG/Physionet2022/physionet.org/files/circor-heart-sound/1.0.3/train/46065.txt',\n",
       " '/home/jh20/Data/nr_data/ECG/Physionet2022/physionet.org/files/circor-heart-sound/1.0.3/train/84864.txt',\n",
       " '/home/jh20/Data/nr_data/ECG/Physionet2022/physionet.org/files/circor-heart-sound/1.0.3/train/85327.txt',\n",
       " '/home/jh20/Data/nr_data/ECG/Physionet2022/physionet.org/files/circor-heart-sound/1.0.3/train/50076.txt',\n",
       " '/home/jh20/Data/nr_data/ECG/Physionet2022/physionet.org/files/circor-heart-sound/1.0.3/train/50295.txt',\n",
       " '/home/jh20/Data/nr_data/ECG/Physionet2022/physionet.org/files/circor-heart-sound/1.0.3/train/46778.txt',\n",
       " '/home/jh20/Data/nr_data/ECG/Physionet2022/physionet.org/files/circor-heart-sound/1.0.3/train/68260.txt',\n",
       " '/home/jh20/Data/nr_data/ECG/Physionet2022/physionet.org/files/circor-heart-sound/1.0.3/train/50014.txt',\n",
       " '/home/jh20/Data/nr_data/ECG/Physionet2022/physionet.org/files/circor-heart-sound/1.0.3/train/85011.txt',\n",
       " '/home/jh20/Data/nr_data/ECG/Physionet2022/physionet.org/files/circor-heart-sound/1.0.3/train/68222.txt',\n",
       " '/home/jh20/Data/nr_data/ECG/Physionet2022/physionet.org/files/circor-heart-sound/1.0.3/train/85093.txt',\n",
       " '/home/jh20/Data/nr_data/ECG/Physionet2022/physionet.org/files/circor-heart-sound/1.0.3/train/85270.txt',\n",
       " '/home/jh20/Data/nr_data/ECG/Physionet2022/physionet.org/files/circor-heart-sound/1.0.3/train/84765.txt',\n",
       " '/home/jh20/Data/nr_data/ECG/Physionet2022/physionet.org/files/circor-heart-sound/1.0.3/train/50751.txt',\n",
       " '/home/jh20/Data/nr_data/ECG/Physionet2022/physionet.org/files/circor-heart-sound/1.0.3/train/50221.txt',\n",
       " '/home/jh20/Data/nr_data/ECG/Physionet2022/physionet.org/files/circor-heart-sound/1.0.3/train/68560.txt',\n",
       " '/home/jh20/Data/nr_data/ECG/Physionet2022/physionet.org/files/circor-heart-sound/1.0.3/train/50789.txt',\n",
       " '/home/jh20/Data/nr_data/ECG/Physionet2022/physionet.org/files/circor-heart-sound/1.0.3/train/64715.txt',\n",
       " '/home/jh20/Data/nr_data/ECG/Physionet2022/physionet.org/files/circor-heart-sound/1.0.3/train/50138.txt',\n",
       " '/home/jh20/Data/nr_data/ECG/Physionet2022/physionet.org/files/circor-heart-sound/1.0.3/train/50119.txt',\n",
       " '/home/jh20/Data/nr_data/ECG/Physionet2022/physionet.org/files/circor-heart-sound/1.0.3/train/50687.txt',\n",
       " '/home/jh20/Data/nr_data/ECG/Physionet2022/physionet.org/files/circor-heart-sound/1.0.3/train/50325.txt',\n",
       " '/home/jh20/Data/nr_data/ECG/Physionet2022/physionet.org/files/circor-heart-sound/1.0.3/train/50027.txt',\n",
       " '/home/jh20/Data/nr_data/ECG/Physionet2022/physionet.org/files/circor-heart-sound/1.0.3/train/84755.txt',\n",
       " '/home/jh20/Data/nr_data/ECG/Physionet2022/physionet.org/files/circor-heart-sound/1.0.3/train/49854.txt',\n",
       " '/home/jh20/Data/nr_data/ECG/Physionet2022/physionet.org/files/circor-heart-sound/1.0.3/train/50352.txt',\n",
       " '/home/jh20/Data/nr_data/ECG/Physionet2022/physionet.org/files/circor-heart-sound/1.0.3/train/46579.txt',\n",
       " '/home/jh20/Data/nr_data/ECG/Physionet2022/physionet.org/files/circor-heart-sound/1.0.3/train/49968.txt',\n",
       " '/home/jh20/Data/nr_data/ECG/Physionet2022/physionet.org/files/circor-heart-sound/1.0.3/train/85258.txt',\n",
       " '/home/jh20/Data/nr_data/ECG/Physionet2022/physionet.org/files/circor-heart-sound/1.0.3/train/85259.txt',\n",
       " '/home/jh20/Data/nr_data/ECG/Physionet2022/physionet.org/files/circor-heart-sound/1.0.3/train/84991.txt',\n",
       " '/home/jh20/Data/nr_data/ECG/Physionet2022/physionet.org/files/circor-heart-sound/1.0.3/train/47002.txt',\n",
       " '/home/jh20/Data/nr_data/ECG/Physionet2022/physionet.org/files/circor-heart-sound/1.0.3/train/49808.txt',\n",
       " '/home/jh20/Data/nr_data/ECG/Physionet2022/physionet.org/files/circor-heart-sound/1.0.3/train/85264.txt',\n",
       " '/home/jh20/Data/nr_data/ECG/Physionet2022/physionet.org/files/circor-heart-sound/1.0.3/train/68827.txt',\n",
       " '/home/jh20/Data/nr_data/ECG/Physionet2022/physionet.org/files/circor-heart-sound/1.0.3/train/68175.txt',\n",
       " '/home/jh20/Data/nr_data/ECG/Physionet2022/physionet.org/files/circor-heart-sound/1.0.3/train/68413.txt',\n",
       " '/home/jh20/Data/nr_data/ECG/Physionet2022/physionet.org/files/circor-heart-sound/1.0.3/train/49687.txt',\n",
       " '/home/jh20/Data/nr_data/ECG/Physionet2022/physionet.org/files/circor-heart-sound/1.0.3/train/50317.txt',\n",
       " '/home/jh20/Data/nr_data/ECG/Physionet2022/physionet.org/files/circor-heart-sound/1.0.3/train/50669.txt',\n",
       " '/home/jh20/Data/nr_data/ECG/Physionet2022/physionet.org/files/circor-heart-sound/1.0.3/train/84863.txt',\n",
       " '/home/jh20/Data/nr_data/ECG/Physionet2022/physionet.org/files/circor-heart-sound/1.0.3/train/49622.txt',\n",
       " '/home/jh20/Data/nr_data/ECG/Physionet2022/physionet.org/files/circor-heart-sound/1.0.3/train/50244.txt',\n",
       " '/home/jh20/Data/nr_data/ECG/Physionet2022/physionet.org/files/circor-heart-sound/1.0.3/train/69141.txt',\n",
       " '/home/jh20/Data/nr_data/ECG/Physionet2022/physionet.org/files/circor-heart-sound/1.0.3/train/84859.txt',\n",
       " '/home/jh20/Data/nr_data/ECG/Physionet2022/physionet.org/files/circor-heart-sound/1.0.3/train/85135.txt',\n",
       " '/home/jh20/Data/nr_data/ECG/Physionet2022/physionet.org/files/circor-heart-sound/1.0.3/train/50228.txt',\n",
       " '/home/jh20/Data/nr_data/ECG/Physionet2022/physionet.org/files/circor-heart-sound/1.0.3/train/49638.txt',\n",
       " '/home/jh20/Data/nr_data/ECG/Physionet2022/physionet.org/files/circor-heart-sound/1.0.3/train/85055.txt',\n",
       " '/home/jh20/Data/nr_data/ECG/Physionet2022/physionet.org/files/circor-heart-sound/1.0.3/train/50822.txt',\n",
       " '/home/jh20/Data/nr_data/ECG/Physionet2022/physionet.org/files/circor-heart-sound/1.0.3/train/85180.txt',\n",
       " '/home/jh20/Data/nr_data/ECG/Physionet2022/physionet.org/files/circor-heart-sound/1.0.3/train/49850.txt',\n",
       " '/home/jh20/Data/nr_data/ECG/Physionet2022/physionet.org/files/circor-heart-sound/1.0.3/train/55945.txt',\n",
       " '/home/jh20/Data/nr_data/ECG/Physionet2022/physionet.org/files/circor-heart-sound/1.0.3/train/84976.txt',\n",
       " '/home/jh20/Data/nr_data/ECG/Physionet2022/physionet.org/files/circor-heart-sound/1.0.3/train/68705.txt',\n",
       " '/home/jh20/Data/nr_data/ECG/Physionet2022/physionet.org/files/circor-heart-sound/1.0.3/train/85299.txt',\n",
       " '/home/jh20/Data/nr_data/ECG/Physionet2022/physionet.org/files/circor-heart-sound/1.0.3/train/84894.txt',\n",
       " '/home/jh20/Data/nr_data/ECG/Physionet2022/physionet.org/files/circor-heart-sound/1.0.3/train/49839.txt',\n",
       " '/home/jh20/Data/nr_data/ECG/Physionet2022/physionet.org/files/circor-heart-sound/1.0.3/train/85308.txt',\n",
       " '/home/jh20/Data/nr_data/ECG/Physionet2022/physionet.org/files/circor-heart-sound/1.0.3/train/50072.txt',\n",
       " '/home/jh20/Data/nr_data/ECG/Physionet2022/physionet.org/files/circor-heart-sound/1.0.3/train/85087.txt',\n",
       " '/home/jh20/Data/nr_data/ECG/Physionet2022/physionet.org/files/circor-heart-sound/1.0.3/train/50116.txt',\n",
       " '/home/jh20/Data/nr_data/ECG/Physionet2022/physionet.org/files/circor-heart-sound/1.0.3/train/49900.txt',\n",
       " '/home/jh20/Data/nr_data/ECG/Physionet2022/physionet.org/files/circor-heart-sound/1.0.3/train/49729.txt',\n",
       " '/home/jh20/Data/nr_data/ECG/Physionet2022/physionet.org/files/circor-heart-sound/1.0.3/train/50739.txt',\n",
       " '/home/jh20/Data/nr_data/ECG/Physionet2022/physionet.org/files/circor-heart-sound/1.0.3/train/85033.txt',\n",
       " '/home/jh20/Data/nr_data/ECG/Physionet2022/physionet.org/files/circor-heart-sound/1.0.3/train/85172.txt',\n",
       " '/home/jh20/Data/nr_data/ECG/Physionet2022/physionet.org/files/circor-heart-sound/1.0.3/train/49751.txt',\n",
       " '/home/jh20/Data/nr_data/ECG/Physionet2022/physionet.org/files/circor-heart-sound/1.0.3/train/85012.txt',\n",
       " '/home/jh20/Data/nr_data/ECG/Physionet2022/physionet.org/files/circor-heart-sound/1.0.3/train/49986.txt',\n",
       " '/home/jh20/Data/nr_data/ECG/Physionet2022/physionet.org/files/circor-heart-sound/1.0.3/train/68269.txt',\n",
       " '/home/jh20/Data/nr_data/ECG/Physionet2022/physionet.org/files/circor-heart-sound/1.0.3/train/68901.txt',\n",
       " '/home/jh20/Data/nr_data/ECG/Physionet2022/physionet.org/files/circor-heart-sound/1.0.3/train/85010.txt',\n",
       " '/home/jh20/Data/nr_data/ECG/Physionet2022/physionet.org/files/circor-heart-sound/1.0.3/train/85035.txt',\n",
       " '/home/jh20/Data/nr_data/ECG/Physionet2022/physionet.org/files/circor-heart-sound/1.0.3/train/68659.txt',\n",
       " '/home/jh20/Data/nr_data/ECG/Physionet2022/physionet.org/files/circor-heart-sound/1.0.3/train/50121.txt',\n",
       " '/home/jh20/Data/nr_data/ECG/Physionet2022/physionet.org/files/circor-heart-sound/1.0.3/train/50676.txt',\n",
       " '/home/jh20/Data/nr_data/ECG/Physionet2022/physionet.org/files/circor-heart-sound/1.0.3/train/49577.txt',\n",
       " '/home/jh20/Data/nr_data/ECG/Physionet2022/physionet.org/files/circor-heart-sound/1.0.3/train/85175.txt',\n",
       " '/home/jh20/Data/nr_data/ECG/Physionet2022/physionet.org/files/circor-heart-sound/1.0.3/train/77373.txt',\n",
       " '/home/jh20/Data/nr_data/ECG/Physionet2022/physionet.org/files/circor-heart-sound/1.0.3/train/39456.txt',\n",
       " '/home/jh20/Data/nr_data/ECG/Physionet2022/physionet.org/files/circor-heart-sound/1.0.3/train/85226.txt',\n",
       " '/home/jh20/Data/nr_data/ECG/Physionet2022/physionet.org/files/circor-heart-sound/1.0.3/train/50117.txt',\n",
       " '/home/jh20/Data/nr_data/ECG/Physionet2022/physionet.org/files/circor-heart-sound/1.0.3/train/50795.txt',\n",
       " '/home/jh20/Data/nr_data/ECG/Physionet2022/physionet.org/files/circor-heart-sound/1.0.3/train/50118.txt',\n",
       " '/home/jh20/Data/nr_data/ECG/Physionet2022/physionet.org/files/circor-heart-sound/1.0.3/train/68740.txt',\n",
       " '/home/jh20/Data/nr_data/ECG/Physionet2022/physionet.org/files/circor-heart-sound/1.0.3/train/50129.txt',\n",
       " '/home/jh20/Data/nr_data/ECG/Physionet2022/physionet.org/files/circor-heart-sound/1.0.3/train/68752.txt',\n",
       " '/home/jh20/Data/nr_data/ECG/Physionet2022/physionet.org/files/circor-heart-sound/1.0.3/train/84742.txt',\n",
       " '/home/jh20/Data/nr_data/ECG/Physionet2022/physionet.org/files/circor-heart-sound/1.0.3/train/50646.txt',\n",
       " '/home/jh20/Data/nr_data/ECG/Physionet2022/physionet.org/files/circor-heart-sound/1.0.3/train/68886.txt',\n",
       " '/home/jh20/Data/nr_data/ECG/Physionet2022/physionet.org/files/circor-heart-sound/1.0.3/train/50319.txt',\n",
       " '/home/jh20/Data/nr_data/ECG/Physionet2022/physionet.org/files/circor-heart-sound/1.0.3/train/50621.txt',\n",
       " '/home/jh20/Data/nr_data/ECG/Physionet2022/physionet.org/files/circor-heart-sound/1.0.3/train/85326.txt',\n",
       " '/home/jh20/Data/nr_data/ECG/Physionet2022/physionet.org/files/circor-heart-sound/1.0.3/train/68864.txt',\n",
       " '/home/jh20/Data/nr_data/ECG/Physionet2022/physionet.org/files/circor-heart-sound/1.0.3/train/85331.txt',\n",
       " '/home/jh20/Data/nr_data/ECG/Physionet2022/physionet.org/files/circor-heart-sound/1.0.3/train/68908.txt',\n",
       " '/home/jh20/Data/nr_data/ECG/Physionet2022/physionet.org/files/circor-heart-sound/1.0.3/train/49598.txt',\n",
       " '/home/jh20/Data/nr_data/ECG/Physionet2022/physionet.org/files/circor-heart-sound/1.0.3/train/50649.txt',\n",
       " '/home/jh20/Data/nr_data/ECG/Physionet2022/physionet.org/files/circor-heart-sound/1.0.3/train/68347.txt',\n",
       " '/home/jh20/Data/nr_data/ECG/Physionet2022/physionet.org/files/circor-heart-sound/1.0.3/train/50100.txt',\n",
       " '/home/jh20/Data/nr_data/ECG/Physionet2022/physionet.org/files/circor-heart-sound/1.0.3/train/50311.txt',\n",
       " '/home/jh20/Data/nr_data/ECG/Physionet2022/physionet.org/files/circor-heart-sound/1.0.3/train/49970.txt',\n",
       " '/home/jh20/Data/nr_data/ECG/Physionet2022/physionet.org/files/circor-heart-sound/1.0.3/train/85161.txt',\n",
       " '/home/jh20/Data/nr_data/ECG/Physionet2022/physionet.org/files/circor-heart-sound/1.0.3/train/50655.txt',\n",
       " '/home/jh20/Data/nr_data/ECG/Physionet2022/physionet.org/files/circor-heart-sound/1.0.3/train/85322.txt',\n",
       " '/home/jh20/Data/nr_data/ECG/Physionet2022/physionet.org/files/circor-heart-sound/1.0.3/train/68456.txt',\n",
       " '/home/jh20/Data/nr_data/ECG/Physionet2022/physionet.org/files/circor-heart-sound/1.0.3/train/84736.txt',\n",
       " '/home/jh20/Data/nr_data/ECG/Physionet2022/physionet.org/files/circor-heart-sound/1.0.3/train/50691.txt',\n",
       " '/home/jh20/Data/nr_data/ECG/Physionet2022/physionet.org/files/circor-heart-sound/1.0.3/train/68757.txt',\n",
       " '/home/jh20/Data/nr_data/ECG/Physionet2022/physionet.org/files/circor-heart-sound/1.0.3/train/85241.txt',\n",
       " '/home/jh20/Data/nr_data/ECG/Physionet2022/physionet.org/files/circor-heart-sound/1.0.3/train/85020.txt',\n",
       " '/home/jh20/Data/nr_data/ECG/Physionet2022/physionet.org/files/circor-heart-sound/1.0.3/train/84928.txt',\n",
       " '/home/jh20/Data/nr_data/ECG/Physionet2022/physionet.org/files/circor-heart-sound/1.0.3/train/50744.txt',\n",
       " '/home/jh20/Data/nr_data/ECG/Physionet2022/physionet.org/files/circor-heart-sound/1.0.3/train/84747.txt',\n",
       " '/home/jh20/Data/nr_data/ECG/Physionet2022/physionet.org/files/circor-heart-sound/1.0.3/train/85229.txt',\n",
       " '/home/jh20/Data/nr_data/ECG/Physionet2022/physionet.org/files/circor-heart-sound/1.0.3/train/49618.txt',\n",
       " '/home/jh20/Data/nr_data/ECG/Physionet2022/physionet.org/files/circor-heart-sound/1.0.3/train/84716.txt',\n",
       " '/home/jh20/Data/nr_data/ECG/Physionet2022/physionet.org/files/circor-heart-sound/1.0.3/train/84886.txt',\n",
       " '/home/jh20/Data/nr_data/ECG/Physionet2022/physionet.org/files/circor-heart-sound/1.0.3/train/84861.txt',\n",
       " '/home/jh20/Data/nr_data/ECG/Physionet2022/physionet.org/files/circor-heart-sound/1.0.3/train/84775.txt',\n",
       " '/home/jh20/Data/nr_data/ECG/Physionet2022/physionet.org/files/circor-heart-sound/1.0.3/train/57700.txt',\n",
       " '/home/jh20/Data/nr_data/ECG/Physionet2022/physionet.org/files/circor-heart-sound/1.0.3/train/57706.txt',\n",
       " '/home/jh20/Data/nr_data/ECG/Physionet2022/physionet.org/files/circor-heart-sound/1.0.3/train/68292.txt',\n",
       " '/home/jh20/Data/nr_data/ECG/Physionet2022/physionet.org/files/circor-heart-sound/1.0.3/train/50758.txt',\n",
       " '/home/jh20/Data/nr_data/ECG/Physionet2022/physionet.org/files/circor-heart-sound/1.0.3/train/50153.txt',\n",
       " '/home/jh20/Data/nr_data/ECG/Physionet2022/physionet.org/files/circor-heart-sound/1.0.3/train/50166.txt',\n",
       " '/home/jh20/Data/nr_data/ECG/Physionet2022/physionet.org/files/circor-heart-sound/1.0.3/train/49661.txt',\n",
       " '/home/jh20/Data/nr_data/ECG/Physionet2022/physionet.org/files/circor-heart-sound/1.0.3/train/50805.txt',\n",
       " '/home/jh20/Data/nr_data/ECG/Physionet2022/physionet.org/files/circor-heart-sound/1.0.3/train/84746.txt',\n",
       " '/home/jh20/Data/nr_data/ECG/Physionet2022/physionet.org/files/circor-heart-sound/1.0.3/train/68470.txt',\n",
       " '/home/jh20/Data/nr_data/ECG/Physionet2022/physionet.org/files/circor-heart-sound/1.0.3/train/50247.txt',\n",
       " '/home/jh20/Data/nr_data/ECG/Physionet2022/physionet.org/files/circor-heart-sound/1.0.3/train/49562.txt',\n",
       " '/home/jh20/Data/nr_data/ECG/Physionet2022/physionet.org/files/circor-heart-sound/1.0.3/train/50349.txt',\n",
       " '/home/jh20/Data/nr_data/ECG/Physionet2022/physionet.org/files/circor-heart-sound/1.0.3/train/50787.txt',\n",
       " '/home/jh20/Data/nr_data/ECG/Physionet2022/physionet.org/files/circor-heart-sound/1.0.3/train/68888.txt',\n",
       " '/home/jh20/Data/nr_data/ECG/Physionet2022/physionet.org/files/circor-heart-sound/1.0.3/train/85018.txt',\n",
       " '/home/jh20/Data/nr_data/ECG/Physionet2022/physionet.org/files/circor-heart-sound/1.0.3/train/68279.txt',\n",
       " '/home/jh20/Data/nr_data/ECG/Physionet2022/physionet.org/files/circor-heart-sound/1.0.3/train/50094.txt',\n",
       " '/home/jh20/Data/nr_data/ECG/Physionet2022/physionet.org/files/circor-heart-sound/1.0.3/train/68204.txt',\n",
       " '/home/jh20/Data/nr_data/ECG/Physionet2022/physionet.org/files/circor-heart-sound/1.0.3/train/84834.txt',\n",
       " '/home/jh20/Data/nr_data/ECG/Physionet2022/physionet.org/files/circor-heart-sound/1.0.3/train/50258.txt',\n",
       " '/home/jh20/Data/nr_data/ECG/Physionet2022/physionet.org/files/circor-heart-sound/1.0.3/train/85217.txt',\n",
       " '/home/jh20/Data/nr_data/ECG/Physionet2022/physionet.org/files/circor-heart-sound/1.0.3/train/50001.txt',\n",
       " '/home/jh20/Data/nr_data/ECG/Physionet2022/physionet.org/files/circor-heart-sound/1.0.3/train/45843.txt',\n",
       " '/home/jh20/Data/nr_data/ECG/Physionet2022/physionet.org/files/circor-heart-sound/1.0.3/train/68394.txt',\n",
       " '/home/jh20/Data/nr_data/ECG/Physionet2022/physionet.org/files/circor-heart-sound/1.0.3/train/49990.txt',\n",
       " '/home/jh20/Data/nr_data/ECG/Physionet2022/physionet.org/files/circor-heart-sound/1.0.3/train/85064.txt',\n",
       " '/home/jh20/Data/nr_data/ECG/Physionet2022/physionet.org/files/circor-heart-sound/1.0.3/train/85222.txt',\n",
       " '/home/jh20/Data/nr_data/ECG/Physionet2022/physionet.org/files/circor-heart-sound/1.0.3/train/50797.txt',\n",
       " '/home/jh20/Data/nr_data/ECG/Physionet2022/physionet.org/files/circor-heart-sound/1.0.3/train/84697.txt',\n",
       " '/home/jh20/Data/nr_data/ECG/Physionet2022/physionet.org/files/circor-heart-sound/1.0.3/train/84785.txt',\n",
       " '/home/jh20/Data/nr_data/ECG/Physionet2022/physionet.org/files/circor-heart-sound/1.0.3/train/39043.txt',\n",
       " '/home/jh20/Data/nr_data/ECG/Physionet2022/physionet.org/files/circor-heart-sound/1.0.3/train/50074.txt',\n",
       " '/home/jh20/Data/nr_data/ECG/Physionet2022/physionet.org/files/circor-heart-sound/1.0.3/train/85029.txt',\n",
       " '/home/jh20/Data/nr_data/ECG/Physionet2022/physionet.org/files/circor-heart-sound/1.0.3/train/50756.txt',\n",
       " '/home/jh20/Data/nr_data/ECG/Physionet2022/physionet.org/files/circor-heart-sound/1.0.3/train/84870.txt',\n",
       " '/home/jh20/Data/nr_data/ECG/Physionet2022/physionet.org/files/circor-heart-sound/1.0.3/train/50271.txt',\n",
       " '/home/jh20/Data/nr_data/ECG/Physionet2022/physionet.org/files/circor-heart-sound/1.0.3/train/13918.txt',\n",
       " '/home/jh20/Data/nr_data/ECG/Physionet2022/physionet.org/files/circor-heart-sound/1.0.3/train/49959.txt',\n",
       " '/home/jh20/Data/nr_data/ECG/Physionet2022/physionet.org/files/circor-heart-sound/1.0.3/train/84786.txt',\n",
       " '/home/jh20/Data/nr_data/ECG/Physionet2022/physionet.org/files/circor-heart-sound/1.0.3/train/49999.txt',\n",
       " '/home/jh20/Data/nr_data/ECG/Physionet2022/physionet.org/files/circor-heart-sound/1.0.3/train/50818.txt',\n",
       " '/home/jh20/Data/nr_data/ECG/Physionet2022/physionet.org/files/circor-heart-sound/1.0.3/train/84805.txt',\n",
       " '/home/jh20/Data/nr_data/ECG/Physionet2022/physionet.org/files/circor-heart-sound/1.0.3/train/84983.txt',\n",
       " '/home/jh20/Data/nr_data/ECG/Physionet2022/physionet.org/files/circor-heart-sound/1.0.3/train/84919.txt',\n",
       " '/home/jh20/Data/nr_data/ECG/Physionet2022/physionet.org/files/circor-heart-sound/1.0.3/train/84883.txt',\n",
       " '/home/jh20/Data/nr_data/ECG/Physionet2022/physionet.org/files/circor-heart-sound/1.0.3/train/84936.txt',\n",
       " '/home/jh20/Data/nr_data/ECG/Physionet2022/physionet.org/files/circor-heart-sound/1.0.3/train/50115.txt',\n",
       " '/home/jh20/Data/nr_data/ECG/Physionet2022/physionet.org/files/circor-heart-sound/1.0.3/train/68624.txt',\n",
       " '/home/jh20/Data/nr_data/ECG/Physionet2022/physionet.org/files/circor-heart-sound/1.0.3/train/81501.txt',\n",
       " '/home/jh20/Data/nr_data/ECG/Physionet2022/physionet.org/files/circor-heart-sound/1.0.3/train/85343.txt',\n",
       " '/home/jh20/Data/nr_data/ECG/Physionet2022/physionet.org/files/circor-heart-sound/1.0.3/train/50740.txt',\n",
       " '/home/jh20/Data/nr_data/ECG/Physionet2022/physionet.org/files/circor-heart-sound/1.0.3/train/68407.txt',\n",
       " '/home/jh20/Data/nr_data/ECG/Physionet2022/physionet.org/files/circor-heart-sound/1.0.3/train/69174.txt',\n",
       " '/home/jh20/Data/nr_data/ECG/Physionet2022/physionet.org/files/circor-heart-sound/1.0.3/train/85063.txt',\n",
       " '/home/jh20/Data/nr_data/ECG/Physionet2022/physionet.org/files/circor-heart-sound/1.0.3/train/50005.txt',\n",
       " '/home/jh20/Data/nr_data/ECG/Physionet2022/physionet.org/files/circor-heart-sound/1.0.3/train/29045.txt',\n",
       " '/home/jh20/Data/nr_data/ECG/Physionet2022/physionet.org/files/circor-heart-sound/1.0.3/train/84704.txt',\n",
       " '/home/jh20/Data/nr_data/ECG/Physionet2022/physionet.org/files/circor-heart-sound/1.0.3/train/83094.txt',\n",
       " '/home/jh20/Data/nr_data/ECG/Physionet2022/physionet.org/files/circor-heart-sound/1.0.3/train/68412.txt',\n",
       " '/home/jh20/Data/nr_data/ECG/Physionet2022/physionet.org/files/circor-heart-sound/1.0.3/train/50297.txt',\n",
       " '/home/jh20/Data/nr_data/ECG/Physionet2022/physionet.org/files/circor-heart-sound/1.0.3/train/50248.txt',\n",
       " '/home/jh20/Data/nr_data/ECG/Physionet2022/physionet.org/files/circor-heart-sound/1.0.3/train/50713.txt',\n",
       " '/home/jh20/Data/nr_data/ECG/Physionet2022/physionet.org/files/circor-heart-sound/1.0.3/train/85019.txt',\n",
       " '/home/jh20/Data/nr_data/ECG/Physionet2022/physionet.org/files/circor-heart-sound/1.0.3/train/50261.txt',\n",
       " '/home/jh20/Data/nr_data/ECG/Physionet2022/physionet.org/files/circor-heart-sound/1.0.3/train/85313.txt',\n",
       " '/home/jh20/Data/nr_data/ECG/Physionet2022/physionet.org/files/circor-heart-sound/1.0.3/train/50113.txt',\n",
       " '/home/jh20/Data/nr_data/ECG/Physionet2022/physionet.org/files/circor-heart-sound/1.0.3/train/49595.txt',\n",
       " '/home/jh20/Data/nr_data/ECG/Physionet2022/physionet.org/files/circor-heart-sound/1.0.3/train/50066.txt',\n",
       " '/home/jh20/Data/nr_data/ECG/Physionet2022/physionet.org/files/circor-heart-sound/1.0.3/train/50707.txt',\n",
       " '/home/jh20/Data/nr_data/ECG/Physionet2022/physionet.org/files/circor-heart-sound/1.0.3/train/68895.txt',\n",
       " '/home/jh20/Data/nr_data/ECG/Physionet2022/physionet.org/files/circor-heart-sound/1.0.3/train/85203.txt',\n",
       " '/home/jh20/Data/nr_data/ECG/Physionet2022/physionet.org/files/circor-heart-sound/1.0.3/train/49842.txt',\n",
       " '/home/jh20/Data/nr_data/ECG/Physionet2022/physionet.org/files/circor-heart-sound/1.0.3/train/84934.txt',\n",
       " '/home/jh20/Data/nr_data/ECG/Physionet2022/physionet.org/files/circor-heart-sound/1.0.3/train/85102.txt',\n",
       " '/home/jh20/Data/nr_data/ECG/Physionet2022/physionet.org/files/circor-heart-sound/1.0.3/train/50802.txt',\n",
       " '/home/jh20/Data/nr_data/ECG/Physionet2022/physionet.org/files/circor-heart-sound/1.0.3/train/50336.txt',\n",
       " '/home/jh20/Data/nr_data/ECG/Physionet2022/physionet.org/files/circor-heart-sound/1.0.3/train/50645.txt',\n",
       " '/home/jh20/Data/nr_data/ECG/Physionet2022/physionet.org/files/circor-heart-sound/1.0.3/train/50647.txt',\n",
       " '/home/jh20/Data/nr_data/ECG/Physionet2022/physionet.org/files/circor-heart-sound/1.0.3/train/85245.txt',\n",
       " '/home/jh20/Data/nr_data/ECG/Physionet2022/physionet.org/files/circor-heart-sound/1.0.3/train/50256.txt',\n",
       " '/home/jh20/Data/nr_data/ECG/Physionet2022/physionet.org/files/circor-heart-sound/1.0.3/train/50303.txt',\n",
       " '/home/jh20/Data/nr_data/ECG/Physionet2022/physionet.org/files/circor-heart-sound/1.0.3/train/68379.txt',\n",
       " '/home/jh20/Data/nr_data/ECG/Physionet2022/physionet.org/files/circor-heart-sound/1.0.3/train/68377.txt',\n",
       " '/home/jh20/Data/nr_data/ECG/Physionet2022/physionet.org/files/circor-heart-sound/1.0.3/train/84730.txt',\n",
       " '/home/jh20/Data/nr_data/ECG/Physionet2022/physionet.org/files/circor-heart-sound/1.0.3/train/84768.txt',\n",
       " '/home/jh20/Data/nr_data/ECG/Physionet2022/physionet.org/files/circor-heart-sound/1.0.3/train/50150.txt',\n",
       " '/home/jh20/Data/nr_data/ECG/Physionet2022/physionet.org/files/circor-heart-sound/1.0.3/train/84778.txt',\n",
       " '/home/jh20/Data/nr_data/ECG/Physionet2022/physionet.org/files/circor-heart-sound/1.0.3/train/68702.txt',\n",
       " '/home/jh20/Data/nr_data/ECG/Physionet2022/physionet.org/files/circor-heart-sound/1.0.3/train/85323.txt',\n",
       " '/home/jh20/Data/nr_data/ECG/Physionet2022/physionet.org/files/circor-heart-sound/1.0.3/train/68425.txt',\n",
       " '/home/jh20/Data/nr_data/ECG/Physionet2022/physionet.org/files/circor-heart-sound/1.0.3/train/50209.txt',\n",
       " '/home/jh20/Data/nr_data/ECG/Physionet2022/physionet.org/files/circor-heart-sound/1.0.3/train/85096.txt',\n",
       " '/home/jh20/Data/nr_data/ECG/Physionet2022/physionet.org/files/circor-heart-sound/1.0.3/train/85319.txt',\n",
       " '/home/jh20/Data/nr_data/ECG/Physionet2022/physionet.org/files/circor-heart-sound/1.0.3/train/49946.txt',\n",
       " '/home/jh20/Data/nr_data/ECG/Physionet2022/physionet.org/files/circor-heart-sound/1.0.3/train/50636.txt',\n",
       " '/home/jh20/Data/nr_data/ECG/Physionet2022/physionet.org/files/circor-heart-sound/1.0.3/train/85244.txt',\n",
       " '/home/jh20/Data/nr_data/ECG/Physionet2022/physionet.org/files/circor-heart-sound/1.0.3/train/69066.txt',\n",
       " '/home/jh20/Data/nr_data/ECG/Physionet2022/physionet.org/files/circor-heart-sound/1.0.3/train/84882.txt',\n",
       " '/home/jh20/Data/nr_data/ECG/Physionet2022/physionet.org/files/circor-heart-sound/1.0.3/train/68444.txt',\n",
       " '/home/jh20/Data/nr_data/ECG/Physionet2022/physionet.org/files/circor-heart-sound/1.0.3/train/85315.txt',\n",
       " '/home/jh20/Data/nr_data/ECG/Physionet2022/physionet.org/files/circor-heart-sound/1.0.3/train/50796.txt',\n",
       " '/home/jh20/Data/nr_data/ECG/Physionet2022/physionet.org/files/circor-heart-sound/1.0.3/train/50008.txt',\n",
       " '/home/jh20/Data/nr_data/ECG/Physionet2022/physionet.org/files/circor-heart-sound/1.0.3/train/50070.txt',\n",
       " '/home/jh20/Data/nr_data/ECG/Physionet2022/physionet.org/files/circor-heart-sound/1.0.3/train/68395.txt',\n",
       " '/home/jh20/Data/nr_data/ECG/Physionet2022/physionet.org/files/circor-heart-sound/1.0.3/train/50820.txt',\n",
       " '/home/jh20/Data/nr_data/ECG/Physionet2022/physionet.org/files/circor-heart-sound/1.0.3/train/50350.txt',\n",
       " '/home/jh20/Data/nr_data/ECG/Physionet2022/physionet.org/files/circor-heart-sound/1.0.3/train/50788.txt',\n",
       " '/home/jh20/Data/nr_data/ECG/Physionet2022/physionet.org/files/circor-heart-sound/1.0.3/train/85048.txt',\n",
       " '/home/jh20/Data/nr_data/ECG/Physionet2022/physionet.org/files/circor-heart-sound/1.0.3/train/50803.txt',\n",
       " '/home/jh20/Data/nr_data/ECG/Physionet2022/physionet.org/files/circor-heart-sound/1.0.3/train/84947.txt',\n",
       " '/home/jh20/Data/nr_data/ECG/Physionet2022/physionet.org/files/circor-heart-sound/1.0.3/train/85176.txt',\n",
       " '/home/jh20/Data/nr_data/ECG/Physionet2022/physionet.org/files/circor-heart-sound/1.0.3/train/50127.txt',\n",
       " '/home/jh20/Data/nr_data/ECG/Physionet2022/physionet.org/files/circor-heart-sound/1.0.3/train/84875.txt',\n",
       " '/home/jh20/Data/nr_data/ECG/Physionet2022/physionet.org/files/circor-heart-sound/1.0.3/train/72288.txt',\n",
       " '/home/jh20/Data/nr_data/ECG/Physionet2022/physionet.org/files/circor-heart-sound/1.0.3/train/50829.txt',\n",
       " '/home/jh20/Data/nr_data/ECG/Physionet2022/physionet.org/files/circor-heart-sound/1.0.3/train/85030.txt',\n",
       " '/home/jh20/Data/nr_data/ECG/Physionet2022/physionet.org/files/circor-heart-sound/1.0.3/train/85026.txt',\n",
       " '/home/jh20/Data/nr_data/ECG/Physionet2022/physionet.org/files/circor-heart-sound/1.0.3/train/68368.txt',\n",
       " '/home/jh20/Data/nr_data/ECG/Physionet2022/physionet.org/files/circor-heart-sound/1.0.3/train/85214.txt',\n",
       " '/home/jh20/Data/nr_data/ECG/Physionet2022/physionet.org/files/circor-heart-sound/1.0.3/train/50015.txt',\n",
       " '/home/jh20/Data/nr_data/ECG/Physionet2022/physionet.org/files/circor-heart-sound/1.0.3/train/50732.txt',\n",
       " '/home/jh20/Data/nr_data/ECG/Physionet2022/physionet.org/files/circor-heart-sound/1.0.3/train/84793.txt',\n",
       " '/home/jh20/Data/nr_data/ECG/Physionet2022/physionet.org/files/circor-heart-sound/1.0.3/train/84802.txt',\n",
       " '/home/jh20/Data/nr_data/ECG/Physionet2022/physionet.org/files/circor-heart-sound/1.0.3/train/85182.txt',\n",
       " '/home/jh20/Data/nr_data/ECG/Physionet2022/physionet.org/files/circor-heart-sound/1.0.3/train/84721.txt',\n",
       " '/home/jh20/Data/nr_data/ECG/Physionet2022/physionet.org/files/circor-heart-sound/1.0.3/train/50285.txt',\n",
       " '/home/jh20/Data/nr_data/ECG/Physionet2022/physionet.org/files/circor-heart-sound/1.0.3/train/50326.txt',\n",
       " '/home/jh20/Data/nr_data/ECG/Physionet2022/physionet.org/files/circor-heart-sound/1.0.3/train/84838.txt',\n",
       " '/home/jh20/Data/nr_data/ECG/Physionet2022/physionet.org/files/circor-heart-sound/1.0.3/train/84930.txt',\n",
       " '/home/jh20/Data/nr_data/ECG/Physionet2022/physionet.org/files/circor-heart-sound/1.0.3/train/50658.txt',\n",
       " '/home/jh20/Data/nr_data/ECG/Physionet2022/physionet.org/files/circor-heart-sound/1.0.3/train/85114.txt',\n",
       " '/home/jh20/Data/nr_data/ECG/Physionet2022/physionet.org/files/circor-heart-sound/1.0.3/train/50250.txt',\n",
       " '/home/jh20/Data/nr_data/ECG/Physionet2022/physionet.org/files/circor-heart-sound/1.0.3/train/85116.txt',\n",
       " '/home/jh20/Data/nr_data/ECG/Physionet2022/physionet.org/files/circor-heart-sound/1.0.3/train/85277.txt',\n",
       " '/home/jh20/Data/nr_data/ECG/Physionet2022/physionet.org/files/circor-heart-sound/1.0.3/train/50216.txt',\n",
       " '/home/jh20/Data/nr_data/ECG/Physionet2022/physionet.org/files/circor-heart-sound/1.0.3/train/50826.txt',\n",
       " '/home/jh20/Data/nr_data/ECG/Physionet2022/physionet.org/files/circor-heart-sound/1.0.3/train/84753.txt',\n",
       " '/home/jh20/Data/nr_data/ECG/Physionet2022/physionet.org/files/circor-heart-sound/1.0.3/train/50056.txt',\n",
       " '/home/jh20/Data/nr_data/ECG/Physionet2022/physionet.org/files/circor-heart-sound/1.0.3/train/49735.txt',\n",
       " '/home/jh20/Data/nr_data/ECG/Physionet2022/physionet.org/files/circor-heart-sound/1.0.3/train/50238.txt',\n",
       " '/home/jh20/Data/nr_data/ECG/Physionet2022/physionet.org/files/circor-heart-sound/1.0.3/train/85212.txt',\n",
       " '/home/jh20/Data/nr_data/ECG/Physionet2022/physionet.org/files/circor-heart-sound/1.0.3/train/50312.txt',\n",
       " '/home/jh20/Data/nr_data/ECG/Physionet2022/physionet.org/files/circor-heart-sound/1.0.3/train/75440.txt',\n",
       " '/home/jh20/Data/nr_data/ECG/Physionet2022/physionet.org/files/circor-heart-sound/1.0.3/train/84689.txt',\n",
       " '/home/jh20/Data/nr_data/ECG/Physionet2022/physionet.org/files/circor-heart-sound/1.0.3/train/63456.txt',\n",
       " '/home/jh20/Data/nr_data/ECG/Physionet2022/physionet.org/files/circor-heart-sound/1.0.3/train/50727.txt',\n",
       " '/home/jh20/Data/nr_data/ECG/Physionet2022/physionet.org/files/circor-heart-sound/1.0.3/train/85332.txt',\n",
       " '/home/jh20/Data/nr_data/ECG/Physionet2022/physionet.org/files/circor-heart-sound/1.0.3/train/50736.txt',\n",
       " '/home/jh20/Data/nr_data/ECG/Physionet2022/physionet.org/files/circor-heart-sound/1.0.3/train/84885.txt',\n",
       " '/home/jh20/Data/nr_data/ECG/Physionet2022/physionet.org/files/circor-heart-sound/1.0.3/train/50742.txt',\n",
       " '/home/jh20/Data/nr_data/ECG/Physionet2022/physionet.org/files/circor-heart-sound/1.0.3/train/84815.txt',\n",
       " '/home/jh20/Data/nr_data/ECG/Physionet2022/physionet.org/files/circor-heart-sound/1.0.3/train/69096.txt',\n",
       " '/home/jh20/Data/nr_data/ECG/Physionet2022/physionet.org/files/circor-heart-sound/1.0.3/train/49659.txt',\n",
       " '/home/jh20/Data/nr_data/ECG/Physionet2022/physionet.org/files/circor-heart-sound/1.0.3/train/85349.txt',\n",
       " '/home/jh20/Data/nr_data/ECG/Physionet2022/physionet.org/files/circor-heart-sound/1.0.3/train/69079.txt',\n",
       " '/home/jh20/Data/nr_data/ECG/Physionet2022/physionet.org/files/circor-heart-sound/1.0.3/train/85252.txt',\n",
       " '/home/jh20/Data/nr_data/ECG/Physionet2022/physionet.org/files/circor-heart-sound/1.0.3/train/50393.txt',\n",
       " '/home/jh20/Data/nr_data/ECG/Physionet2022/physionet.org/files/circor-heart-sound/1.0.3/train/85335.txt',\n",
       " '/home/jh20/Data/nr_data/ECG/Physionet2022/physionet.org/files/circor-heart-sound/1.0.3/train/84837.txt',\n",
       " '/home/jh20/Data/nr_data/ECG/Physionet2022/physionet.org/files/circor-heart-sound/1.0.3/train/84688.txt',\n",
       " '/home/jh20/Data/nr_data/ECG/Physionet2022/physionet.org/files/circor-heart-sound/1.0.3/train/50085.txt',\n",
       " '/home/jh20/Data/nr_data/ECG/Physionet2022/physionet.org/files/circor-heart-sound/1.0.3/train/68359.txt',\n",
       " '/home/jh20/Data/nr_data/ECG/Physionet2022/physionet.org/files/circor-heart-sound/1.0.3/train/50096.txt',\n",
       " '/home/jh20/Data/nr_data/ECG/Physionet2022/physionet.org/files/circor-heart-sound/1.0.3/train/84804.txt',\n",
       " '/home/jh20/Data/nr_data/ECG/Physionet2022/physionet.org/files/circor-heart-sound/1.0.3/train/85253.txt',\n",
       " '/home/jh20/Data/nr_data/ECG/Physionet2022/physionet.org/files/circor-heart-sound/1.0.3/train/49754.txt',\n",
       " '/home/jh20/Data/nr_data/ECG/Physionet2022/physionet.org/files/circor-heart-sound/1.0.3/train/84866.txt',\n",
       " '/home/jh20/Data/nr_data/ECG/Physionet2022/physionet.org/files/circor-heart-sound/1.0.3/train/84887.txt',\n",
       " '/home/jh20/Data/nr_data/ECG/Physionet2022/physionet.org/files/circor-heart-sound/1.0.3/train/50753.txt',\n",
       " '/home/jh20/Data/nr_data/ECG/Physionet2022/physionet.org/files/circor-heart-sound/1.0.3/train/49873.txt',\n",
       " '/home/jh20/Data/nr_data/ECG/Physionet2022/physionet.org/files/circor-heart-sound/1.0.3/train/85090.txt',\n",
       " '/home/jh20/Data/nr_data/ECG/Physionet2022/physionet.org/files/circor-heart-sound/1.0.3/train/84702.txt',\n",
       " '/home/jh20/Data/nr_data/ECG/Physionet2022/physionet.org/files/circor-heart-sound/1.0.3/train/85076.txt',\n",
       " '/home/jh20/Data/nr_data/ECG/Physionet2022/physionet.org/files/circor-heart-sound/1.0.3/train/49745.txt',\n",
       " '/home/jh20/Data/nr_data/ECG/Physionet2022/physionet.org/files/circor-heart-sound/1.0.3/train/85334.txt',\n",
       " '/home/jh20/Data/nr_data/ECG/Physionet2022/physionet.org/files/circor-heart-sound/1.0.3/train/50109.txt',\n",
       " '/home/jh20/Data/nr_data/ECG/Physionet2022/physionet.org/files/circor-heart-sound/1.0.3/train/50254.txt',\n",
       " '/home/jh20/Data/nr_data/ECG/Physionet2022/physionet.org/files/circor-heart-sound/1.0.3/train/49561.txt',\n",
       " '/home/jh20/Data/nr_data/ECG/Physionet2022/physionet.org/files/circor-heart-sound/1.0.3/train/39403.txt',\n",
       " '/home/jh20/Data/nr_data/ECG/Physionet2022/physionet.org/files/circor-heart-sound/1.0.3/train/50782.txt',\n",
       " '/home/jh20/Data/nr_data/ECG/Physionet2022/physionet.org/files/circor-heart-sound/1.0.3/train/85286.txt',\n",
       " '/home/jh20/Data/nr_data/ECG/Physionet2022/physionet.org/files/circor-heart-sound/1.0.3/train/76240.txt',\n",
       " '/home/jh20/Data/nr_data/ECG/Physionet2022/physionet.org/files/circor-heart-sound/1.0.3/train/85109.txt',\n",
       " '/home/jh20/Data/nr_data/ECG/Physionet2022/physionet.org/files/circor-heart-sound/1.0.3/train/50626.txt',\n",
       " '/home/jh20/Data/nr_data/ECG/Physionet2022/physionet.org/files/circor-heart-sound/1.0.3/train/50099.txt',\n",
       " '/home/jh20/Data/nr_data/ECG/Physionet2022/physionet.org/files/circor-heart-sound/1.0.3/train/85113.txt',\n",
       " '/home/jh20/Data/nr_data/ECG/Physionet2022/physionet.org/files/circor-heart-sound/1.0.3/train/85164.txt',\n",
       " '/home/jh20/Data/nr_data/ECG/Physionet2022/physionet.org/files/circor-heart-sound/1.0.3/train/85139.txt',\n",
       " '/home/jh20/Data/nr_data/ECG/Physionet2022/physionet.org/files/circor-heart-sound/1.0.3/train/84977.txt',\n",
       " '/home/jh20/Data/nr_data/ECG/Physionet2022/physionet.org/files/circor-heart-sound/1.0.3/train/84735.txt',\n",
       " '/home/jh20/Data/nr_data/ECG/Physionet2022/physionet.org/files/circor-heart-sound/1.0.3/train/85034.txt',\n",
       " '/home/jh20/Data/nr_data/ECG/Physionet2022/physionet.org/files/circor-heart-sound/1.0.3/train/50306.txt',\n",
       " '/home/jh20/Data/nr_data/ECG/Physionet2022/physionet.org/files/circor-heart-sound/1.0.3/train/50061.txt',\n",
       " '/home/jh20/Data/nr_data/ECG/Physionet2022/physionet.org/files/circor-heart-sound/1.0.3/train/50220.txt',\n",
       " '/home/jh20/Data/nr_data/ECG/Physionet2022/physionet.org/files/circor-heart-sound/1.0.3/train/84876.txt',\n",
       " '/home/jh20/Data/nr_data/ECG/Physionet2022/physionet.org/files/circor-heart-sound/1.0.3/train/50229.txt',\n",
       " '/home/jh20/Data/nr_data/ECG/Physionet2022/physionet.org/files/circor-heart-sound/1.0.3/train/85052.txt',\n",
       " '/home/jh20/Data/nr_data/ECG/Physionet2022/physionet.org/files/circor-heart-sound/1.0.3/train/85321.txt',\n",
       " '/home/jh20/Data/nr_data/ECG/Physionet2022/physionet.org/files/circor-heart-sound/1.0.3/train/29378.txt',\n",
       " '/home/jh20/Data/nr_data/ECG/Physionet2022/physionet.org/files/circor-heart-sound/1.0.3/train/68857.txt',\n",
       " '/home/jh20/Data/nr_data/ECG/Physionet2022/physionet.org/files/circor-heart-sound/1.0.3/train/84884.txt',\n",
       " '/home/jh20/Data/nr_data/ECG/Physionet2022/physionet.org/files/circor-heart-sound/1.0.3/train/50652.txt',\n",
       " '/home/jh20/Data/nr_data/ECG/Physionet2022/physionet.org/files/circor-heart-sound/1.0.3/train/50384.txt',\n",
       " '/home/jh20/Data/nr_data/ECG/Physionet2022/physionet.org/files/circor-heart-sound/1.0.3/train/84824.txt',\n",
       " '/home/jh20/Data/nr_data/ECG/Physionet2022/physionet.org/files/circor-heart-sound/1.0.3/train/84799.txt',\n",
       " '/home/jh20/Data/nr_data/ECG/Physionet2022/physionet.org/files/circor-heart-sound/1.0.3/train/85293.txt',\n",
       " '/home/jh20/Data/nr_data/ECG/Physionet2022/physionet.org/files/circor-heart-sound/1.0.3/train/50639.txt',\n",
       " '/home/jh20/Data/nr_data/ECG/Physionet2022/physionet.org/files/circor-heart-sound/1.0.3/train/84996.txt',\n",
       " '/home/jh20/Data/nr_data/ECG/Physionet2022/physionet.org/files/circor-heart-sound/1.0.3/train/49630.txt',\n",
       " '/home/jh20/Data/nr_data/ECG/Physionet2022/physionet.org/files/circor-heart-sound/1.0.3/train/50773.txt',\n",
       " '/home/jh20/Data/nr_data/ECG/Physionet2022/physionet.org/files/circor-heart-sound/1.0.3/train/50665.txt',\n",
       " '/home/jh20/Data/nr_data/ECG/Physionet2022/physionet.org/files/circor-heart-sound/1.0.3/train/84731.txt',\n",
       " '/home/jh20/Data/nr_data/ECG/Physionet2022/physionet.org/files/circor-heart-sound/1.0.3/train/14241.txt',\n",
       " '/home/jh20/Data/nr_data/ECG/Physionet2022/physionet.org/files/circor-heart-sound/1.0.3/train/50722.txt',\n",
       " '/home/jh20/Data/nr_data/ECG/Physionet2022/physionet.org/files/circor-heart-sound/1.0.3/train/49974.txt',\n",
       " '/home/jh20/Data/nr_data/ECG/Physionet2022/physionet.org/files/circor-heart-sound/1.0.3/train/50388.txt',\n",
       " '/home/jh20/Data/nr_data/ECG/Physionet2022/physionet.org/files/circor-heart-sound/1.0.3/train/50798.txt',\n",
       " '/home/jh20/Data/nr_data/ECG/Physionet2022/physionet.org/files/circor-heart-sound/1.0.3/train/50776.txt',\n",
       " '/home/jh20/Data/nr_data/ECG/Physionet2022/physionet.org/files/circor-heart-sound/1.0.3/train/50343.txt',\n",
       " '/home/jh20/Data/nr_data/ECG/Physionet2022/physionet.org/files/circor-heart-sound/1.0.3/train/84809.txt',\n",
       " '/home/jh20/Data/nr_data/ECG/Physionet2022/physionet.org/files/circor-heart-sound/1.0.3/train/84985.txt',\n",
       " '/home/jh20/Data/nr_data/ECG/Physionet2022/physionet.org/files/circor-heart-sound/1.0.3/train/68741.txt',\n",
       " '/home/jh20/Data/nr_data/ECG/Physionet2022/physionet.org/files/circor-heart-sound/1.0.3/train/49838.txt',\n",
       " '/home/jh20/Data/nr_data/ECG/Physionet2022/physionet.org/files/circor-heart-sound/1.0.3/train/69129.txt',\n",
       " '/home/jh20/Data/nr_data/ECG/Physionet2022/physionet.org/files/circor-heart-sound/1.0.3/train/50277.txt',\n",
       " '/home/jh20/Data/nr_data/ECG/Physionet2022/physionet.org/files/circor-heart-sound/1.0.3/train/50784.txt',\n",
       " '/home/jh20/Data/nr_data/ECG/Physionet2022/physionet.org/files/circor-heart-sound/1.0.3/train/50667.txt',\n",
       " '/home/jh20/Data/nr_data/ECG/Physionet2022/physionet.org/files/circor-heart-sound/1.0.3/train/61610.txt',\n",
       " '/home/jh20/Data/nr_data/ECG/Physionet2022/physionet.org/files/circor-heart-sound/1.0.3/train/50089.txt',\n",
       " '/home/jh20/Data/nr_data/ECG/Physionet2022/physionet.org/files/circor-heart-sound/1.0.3/train/84724.txt',\n",
       " '/home/jh20/Data/nr_data/ECG/Physionet2022/physionet.org/files/circor-heart-sound/1.0.3/train/84957.txt',\n",
       " '/home/jh20/Data/nr_data/ECG/Physionet2022/physionet.org/files/circor-heart-sound/1.0.3/train/50122.txt',\n",
       " '/home/jh20/Data/nr_data/ECG/Physionet2022/physionet.org/files/circor-heart-sound/1.0.3/train/84823.txt',\n",
       " '/home/jh20/Data/nr_data/ECG/Physionet2022/physionet.org/files/circor-heart-sound/1.0.3/train/69067.txt',\n",
       " '/home/jh20/Data/nr_data/ECG/Physionet2022/physionet.org/files/circor-heart-sound/1.0.3/train/50161.txt',\n",
       " '/home/jh20/Data/nr_data/ECG/Physionet2022/physionet.org/files/circor-heart-sound/1.0.3/train/50725.txt',\n",
       " '/home/jh20/Data/nr_data/ECG/Physionet2022/physionet.org/files/circor-heart-sound/1.0.3/train/50354.txt',\n",
       " '/home/jh20/Data/nr_data/ECG/Physionet2022/physionet.org/files/circor-heart-sound/1.0.3/train/69155.txt',\n",
       " '/home/jh20/Data/nr_data/ECG/Physionet2022/physionet.org/files/circor-heart-sound/1.0.3/train/68374.txt',\n",
       " '/home/jh20/Data/nr_data/ECG/Physionet2022/physionet.org/files/circor-heart-sound/1.0.3/train/68337.txt',\n",
       " '/home/jh20/Data/nr_data/ECG/Physionet2022/physionet.org/files/circor-heart-sound/1.0.3/train/84988.txt',\n",
       " '/home/jh20/Data/nr_data/ECG/Physionet2022/physionet.org/files/circor-heart-sound/1.0.3/train/49897.txt',\n",
       " '/home/jh20/Data/nr_data/ECG/Physionet2022/physionet.org/files/circor-heart-sound/1.0.3/train/85340.txt',\n",
       " '/home/jh20/Data/nr_data/ECG/Physionet2022/physionet.org/files/circor-heart-sound/1.0.3/train/49960.txt',\n",
       " '/home/jh20/Data/nr_data/ECG/Physionet2022/physionet.org/files/circor-heart-sound/1.0.3/train/50241.txt',\n",
       " '/home/jh20/Data/nr_data/ECG/Physionet2022/physionet.org/files/circor-heart-sound/1.0.3/train/50318.txt',\n",
       " '/home/jh20/Data/nr_data/ECG/Physionet2022/physionet.org/files/circor-heart-sound/1.0.3/train/85249.txt',\n",
       " '/home/jh20/Data/nr_data/ECG/Physionet2022/physionet.org/files/circor-heart-sound/1.0.3/train/68567.txt',\n",
       " '/home/jh20/Data/nr_data/ECG/Physionet2022/physionet.org/files/circor-heart-sound/1.0.3/train/84965.txt',\n",
       " '/home/jh20/Data/nr_data/ECG/Physionet2022/physionet.org/files/circor-heart-sound/1.0.3/train/50149.txt',\n",
       " '/home/jh20/Data/nr_data/ECG/Physionet2022/physionet.org/files/circor-heart-sound/1.0.3/train/84808.txt',\n",
       " '/home/jh20/Data/nr_data/ECG/Physionet2022/physionet.org/files/circor-heart-sound/1.0.3/train/50771.txt',\n",
       " '/home/jh20/Data/nr_data/ECG/Physionet2022/physionet.org/files/circor-heart-sound/1.0.3/train/84945.txt',\n",
       " '/home/jh20/Data/nr_data/ECG/Physionet2022/physionet.org/files/circor-heart-sound/1.0.3/train/69188.txt',\n",
       " '/home/jh20/Data/nr_data/ECG/Physionet2022/physionet.org/files/circor-heart-sound/1.0.3/train/49627.txt',\n",
       " '/home/jh20/Data/nr_data/ECG/Physionet2022/physionet.org/files/circor-heart-sound/1.0.3/train/84706.txt',\n",
       " '/home/jh20/Data/nr_data/ECG/Physionet2022/physionet.org/files/circor-heart-sound/1.0.3/train/85345.txt',\n",
       " '/home/jh20/Data/nr_data/ECG/Physionet2022/physionet.org/files/circor-heart-sound/1.0.3/train/50729.txt',\n",
       " '/home/jh20/Data/nr_data/ECG/Physionet2022/physionet.org/files/circor-heart-sound/1.0.3/train/85230.txt',\n",
       " '/home/jh20/Data/nr_data/ECG/Physionet2022/physionet.org/files/circor-heart-sound/1.0.3/train/68909.txt',\n",
       " '/home/jh20/Data/nr_data/ECG/Physionet2022/physionet.org/files/circor-heart-sound/1.0.3/train/68316.txt',\n",
       " '/home/jh20/Data/nr_data/ECG/Physionet2022/physionet.org/files/circor-heart-sound/1.0.3/train/84868.txt',\n",
       " '/home/jh20/Data/nr_data/ECG/Physionet2022/physionet.org/files/circor-heart-sound/1.0.3/train/36327.txt',\n",
       " '/home/jh20/Data/nr_data/ECG/Physionet2022/physionet.org/files/circor-heart-sound/1.0.3/train/72283.txt',\n",
       " '/home/jh20/Data/nr_data/ECG/Physionet2022/physionet.org/files/circor-heart-sound/1.0.3/train/85124.txt',\n",
       " '/home/jh20/Data/nr_data/ECG/Physionet2022/physionet.org/files/circor-heart-sound/1.0.3/train/50231.txt',\n",
       " '/home/jh20/Data/nr_data/ECG/Physionet2022/physionet.org/files/circor-heart-sound/1.0.3/train/85301.txt',\n",
       " '/home/jh20/Data/nr_data/ECG/Physionet2022/physionet.org/files/circor-heart-sound/1.0.3/train/46532.txt',\n",
       " '/home/jh20/Data/nr_data/ECG/Physionet2022/physionet.org/files/circor-heart-sound/1.0.3/train/50772.txt',\n",
       " '/home/jh20/Data/nr_data/ECG/Physionet2022/physionet.org/files/circor-heart-sound/1.0.3/train/84831.txt',\n",
       " '/home/jh20/Data/nr_data/ECG/Physionet2022/physionet.org/files/circor-heart-sound/1.0.3/train/84912.txt',\n",
       " '/home/jh20/Data/nr_data/ECG/Physionet2022/physionet.org/files/circor-heart-sound/1.0.3/train/49712.txt',\n",
       " '/home/jh20/Data/nr_data/ECG/Physionet2022/physionet.org/files/circor-heart-sound/1.0.3/train/85062.txt',\n",
       " '/home/jh20/Data/nr_data/ECG/Physionet2022/physionet.org/files/circor-heart-sound/1.0.3/train/49853.txt',\n",
       " '/home/jh20/Data/nr_data/ECG/Physionet2022/physionet.org/files/circor-heart-sound/1.0.3/train/50298.txt',\n",
       " '/home/jh20/Data/nr_data/ECG/Physionet2022/physionet.org/files/circor-heart-sound/1.0.3/train/50251.txt',\n",
       " '/home/jh20/Data/nr_data/ECG/Physionet2022/physionet.org/files/circor-heart-sound/1.0.3/train/84962.txt',\n",
       " '/home/jh20/Data/nr_data/ECG/Physionet2022/physionet.org/files/circor-heart-sound/1.0.3/train/50334.txt',\n",
       " '/home/jh20/Data/nr_data/ECG/Physionet2022/physionet.org/files/circor-heart-sound/1.0.3/train/84892.txt',\n",
       " '/home/jh20/Data/nr_data/ECG/Physionet2022/physionet.org/files/circor-heart-sound/1.0.3/train/50628.txt',\n",
       " '/home/jh20/Data/nr_data/ECG/Physionet2022/physionet.org/files/circor-heart-sound/1.0.3/train/49994.txt',\n",
       " '/home/jh20/Data/nr_data/ECG/Physionet2022/physionet.org/files/circor-heart-sound/1.0.3/train/50690.txt',\n",
       " '/home/jh20/Data/nr_data/ECG/Physionet2022/physionet.org/files/circor-heart-sound/1.0.3/train/68477.txt',\n",
       " '/home/jh20/Data/nr_data/ECG/Physionet2022/physionet.org/files/circor-heart-sound/1.0.3/train/68427.txt',\n",
       " '/home/jh20/Data/nr_data/ECG/Physionet2022/physionet.org/files/circor-heart-sound/1.0.3/train/50300.txt',\n",
       " '/home/jh20/Data/nr_data/ECG/Physionet2022/physionet.org/files/circor-heart-sound/1.0.3/train/50217.txt',\n",
       " '/home/jh20/Data/nr_data/ECG/Physionet2022/physionet.org/files/circor-heart-sound/1.0.3/train/85147.txt',\n",
       " '/home/jh20/Data/nr_data/ECG/Physionet2022/physionet.org/files/circor-heart-sound/1.0.3/train/50142.txt',\n",
       " '/home/jh20/Data/nr_data/ECG/Physionet2022/physionet.org/files/circor-heart-sound/1.0.3/train/85031.txt',\n",
       " '/home/jh20/Data/nr_data/ECG/Physionet2022/physionet.org/files/circor-heart-sound/1.0.3/train/84854.txt',\n",
       " '/home/jh20/Data/nr_data/ECG/Physionet2022/physionet.org/files/circor-heart-sound/1.0.3/train/50141.txt',\n",
       " '/home/jh20/Data/nr_data/ECG/Physionet2022/physionet.org/files/circor-heart-sound/1.0.3/train/85202.txt',\n",
       " '/home/jh20/Data/nr_data/ECG/Physionet2022/physionet.org/files/circor-heart-sound/1.0.3/train/84738.txt',\n",
       " '/home/jh20/Data/nr_data/ECG/Physionet2022/physionet.org/files/circor-heart-sound/1.0.3/train/50023.txt',\n",
       " '/home/jh20/Data/nr_data/ECG/Physionet2022/physionet.org/files/circor-heart-sound/1.0.3/train/85127.txt',\n",
       " '/home/jh20/Data/nr_data/ECG/Physionet2022/physionet.org/files/circor-heart-sound/1.0.3/train/50296.txt',\n",
       " '/home/jh20/Data/nr_data/ECG/Physionet2022/physionet.org/files/circor-heart-sound/1.0.3/train/50661.txt',\n",
       " '/home/jh20/Data/nr_data/ECG/Physionet2022/physionet.org/files/circor-heart-sound/1.0.3/train/50678.txt',\n",
       " '/home/jh20/Data/nr_data/ECG/Physionet2022/physionet.org/files/circor-heart-sound/1.0.3/train/78280.txt',\n",
       " '/home/jh20/Data/nr_data/ECG/Physionet2022/physionet.org/files/circor-heart-sound/1.0.3/train/85066.txt',\n",
       " '/home/jh20/Data/nr_data/ECG/Physionet2022/physionet.org/files/circor-heart-sound/1.0.3/train/50280.txt',\n",
       " '/home/jh20/Data/nr_data/ECG/Physionet2022/physionet.org/files/circor-heart-sound/1.0.3/train/43852.txt',\n",
       " '/home/jh20/Data/nr_data/ECG/Physionet2022/physionet.org/files/circor-heart-sound/1.0.3/train/84740.txt',\n",
       " '/home/jh20/Data/nr_data/ECG/Physionet2022/physionet.org/files/circor-heart-sound/1.0.3/train/85174.txt',\n",
       " '/home/jh20/Data/nr_data/ECG/Physionet2022/physionet.org/files/circor-heart-sound/1.0.3/train/49704.txt',\n",
       " '/home/jh20/Data/nr_data/ECG/Physionet2022/physionet.org/files/circor-heart-sound/1.0.3/train/68849.txt',\n",
       " '/home/jh20/Data/nr_data/ECG/Physionet2022/physionet.org/files/circor-heart-sound/1.0.3/train/84942.txt',\n",
       " '/home/jh20/Data/nr_data/ECG/Physionet2022/physionet.org/files/circor-heart-sound/1.0.3/train/85150.txt',\n",
       " '/home/jh20/Data/nr_data/ECG/Physionet2022/physionet.org/files/circor-heart-sound/1.0.3/train/50749.txt',\n",
       " '/home/jh20/Data/nr_data/ECG/Physionet2022/physionet.org/files/circor-heart-sound/1.0.3/train/84960.txt',\n",
       " '/home/jh20/Data/nr_data/ECG/Physionet2022/physionet.org/files/circor-heart-sound/1.0.3/train/84835.txt',\n",
       " '/home/jh20/Data/nr_data/ECG/Physionet2022/physionet.org/files/circor-heart-sound/1.0.3/train/84699.txt',\n",
       " '/home/jh20/Data/nr_data/ECG/Physionet2022/physionet.org/files/circor-heart-sound/1.0.3/train/68756.txt',\n",
       " '/home/jh20/Data/nr_data/ECG/Physionet2022/physionet.org/files/circor-heart-sound/1.0.3/train/85110.txt',\n",
       " '/home/jh20/Data/nr_data/ECG/Physionet2022/physionet.org/files/circor-heart-sound/1.0.3/train/50812.txt',\n",
       " '/home/jh20/Data/nr_data/ECG/Physionet2022/physionet.org/files/circor-heart-sound/1.0.3/train/84761.txt',\n",
       " '/home/jh20/Data/nr_data/ECG/Physionet2022/physionet.org/files/circor-heart-sound/1.0.3/train/84939.txt',\n",
       " '/home/jh20/Data/nr_data/ECG/Physionet2022/physionet.org/files/circor-heart-sound/1.0.3/train/68219.txt',\n",
       " '/home/jh20/Data/nr_data/ECG/Physionet2022/physionet.org/files/circor-heart-sound/1.0.3/train/81638.txt',\n",
       " '/home/jh20/Data/nr_data/ECG/Physionet2022/physionet.org/files/circor-heart-sound/1.0.3/train/68532.txt',\n",
       " '/home/jh20/Data/nr_data/ECG/Physionet2022/physionet.org/files/circor-heart-sound/1.0.3/train/84796.txt',\n",
       " '/home/jh20/Data/nr_data/ECG/Physionet2022/physionet.org/files/circor-heart-sound/1.0.3/train/50233.txt',\n",
       " '/home/jh20/Data/nr_data/ECG/Physionet2022/physionet.org/files/circor-heart-sound/1.0.3/train/85269.txt',\n",
       " '/home/jh20/Data/nr_data/ECG/Physionet2022/physionet.org/files/circor-heart-sound/1.0.3/train/49995.txt',\n",
       " '/home/jh20/Data/nr_data/ECG/Physionet2022/physionet.org/files/circor-heart-sound/1.0.3/train/68465.txt',\n",
       " '/home/jh20/Data/nr_data/ECG/Physionet2022/physionet.org/files/circor-heart-sound/1.0.3/train/84935.txt',\n",
       " '/home/jh20/Data/nr_data/ECG/Physionet2022/physionet.org/files/circor-heart-sound/1.0.3/train/64256.txt',\n",
       " '/home/jh20/Data/nr_data/ECG/Physionet2022/physionet.org/files/circor-heart-sound/1.0.3/train/50078.txt',\n",
       " '/home/jh20/Data/nr_data/ECG/Physionet2022/physionet.org/files/circor-heart-sound/1.0.3/train/50731.txt',\n",
       " '/home/jh20/Data/nr_data/ECG/Physionet2022/physionet.org/files/circor-heart-sound/1.0.3/train/85250.txt',\n",
       " '/home/jh20/Data/nr_data/ECG/Physionet2022/physionet.org/files/circor-heart-sound/1.0.3/train/68660.txt',\n",
       " '/home/jh20/Data/nr_data/ECG/Physionet2022/physionet.org/files/circor-heart-sound/1.0.3/train/50174.txt',\n",
       " '/home/jh20/Data/nr_data/ECG/Physionet2022/physionet.org/files/circor-heart-sound/1.0.3/train/84764.txt',\n",
       " '/home/jh20/Data/nr_data/ECG/Physionet2022/physionet.org/files/circor-heart-sound/1.0.3/train/68708.txt',\n",
       " '/home/jh20/Data/nr_data/ECG/Physionet2022/physionet.org/files/circor-heart-sound/1.0.3/train/84933.txt',\n",
       " '/home/jh20/Data/nr_data/ECG/Physionet2022/physionet.org/files/circor-heart-sound/1.0.3/train/50768.txt',\n",
       " '/home/jh20/Data/nr_data/ECG/Physionet2022/physionet.org/files/circor-heart-sound/1.0.3/train/76758.txt',\n",
       " '/home/jh20/Data/nr_data/ECG/Physionet2022/physionet.org/files/circor-heart-sound/1.0.3/train/69159.txt',\n",
       " '/home/jh20/Data/nr_data/ECG/Physionet2022/physionet.org/files/circor-heart-sound/1.0.3/train/50668.txt',\n",
       " '/home/jh20/Data/nr_data/ECG/Physionet2022/physionet.org/files/circor-heart-sound/1.0.3/train/50747.txt',\n",
       " '/home/jh20/Data/nr_data/ECG/Physionet2022/physionet.org/files/circor-heart-sound/1.0.3/train/85036.txt',\n",
       " '/home/jh20/Data/nr_data/ECG/Physionet2022/physionet.org/files/circor-heart-sound/1.0.3/train/85296.txt',\n",
       " '/home/jh20/Data/nr_data/ECG/Physionet2022/physionet.org/files/circor-heart-sound/1.0.3/train/68504.txt',\n",
       " '/home/jh20/Data/nr_data/ECG/Physionet2022/physionet.org/files/circor-heart-sound/1.0.3/train/50314.txt',\n",
       " '/home/jh20/Data/nr_data/ECG/Physionet2022/physionet.org/files/circor-heart-sound/1.0.3/train/50230.txt',\n",
       " '/home/jh20/Data/nr_data/ECG/Physionet2022/physionet.org/files/circor-heart-sound/1.0.3/train/50323.txt',\n",
       " '/home/jh20/Data/nr_data/ECG/Physionet2022/physionet.org/files/circor-heart-sound/1.0.3/train/23625.txt',\n",
       " '/home/jh20/Data/nr_data/ECG/Physionet2022/physionet.org/files/circor-heart-sound/1.0.3/train/50763.txt',\n",
       " '/home/jh20/Data/nr_data/ECG/Physionet2022/physionet.org/files/circor-heart-sound/1.0.3/train/85028.txt',\n",
       " '/home/jh20/Data/nr_data/ECG/Physionet2022/physionet.org/files/circor-heart-sound/1.0.3/train/85300.txt',\n",
       " '/home/jh20/Data/nr_data/ECG/Physionet2022/physionet.org/files/circor-heart-sound/1.0.3/train/85169.txt',\n",
       " '/home/jh20/Data/nr_data/ECG/Physionet2022/physionet.org/files/circor-heart-sound/1.0.3/train/85042.txt',\n",
       " '/home/jh20/Data/nr_data/ECG/Physionet2022/physionet.org/files/circor-heart-sound/1.0.3/train/68303.txt',\n",
       " '/home/jh20/Data/nr_data/ECG/Physionet2022/physionet.org/files/circor-heart-sound/1.0.3/train/49988.txt',\n",
       " '/home/jh20/Data/nr_data/ECG/Physionet2022/physionet.org/files/circor-heart-sound/1.0.3/train/69106.txt',\n",
       " '/home/jh20/Data/nr_data/ECG/Physionet2022/physionet.org/files/circor-heart-sound/1.0.3/train/50206.txt',\n",
       " '/home/jh20/Data/nr_data/ECG/Physionet2022/physionet.org/files/circor-heart-sound/1.0.3/train/49585.txt',\n",
       " '/home/jh20/Data/nr_data/ECG/Physionet2022/physionet.org/files/circor-heart-sound/1.0.3/train/49989.txt',\n",
       " '/home/jh20/Data/nr_data/ECG/Physionet2022/physionet.org/files/circor-heart-sound/1.0.3/train/84732.txt',\n",
       " '/home/jh20/Data/nr_data/ECG/Physionet2022/physionet.org/files/circor-heart-sound/1.0.3/train/68556.txt',\n",
       " '/home/jh20/Data/nr_data/ECG/Physionet2022/physionet.org/files/circor-heart-sound/1.0.3/train/81297.txt',\n",
       " '/home/jh20/Data/nr_data/ECG/Physionet2022/physionet.org/files/circor-heart-sound/1.0.3/train/85196.txt',\n",
       " '/home/jh20/Data/nr_data/ECG/Physionet2022/physionet.org/files/circor-heart-sound/1.0.3/train/24160.txt',\n",
       " '/home/jh20/Data/nr_data/ECG/Physionet2022/physionet.org/files/circor-heart-sound/1.0.3/train/68186.txt',\n",
       " '/home/jh20/Data/nr_data/ECG/Physionet2022/physionet.org/files/circor-heart-sound/1.0.3/train/50625.txt',\n",
       " '/home/jh20/Data/nr_data/ECG/Physionet2022/physionet.org/files/circor-heart-sound/1.0.3/train/84790.txt',\n",
       " '/home/jh20/Data/nr_data/ECG/Physionet2022/physionet.org/files/circor-heart-sound/1.0.3/train/85236.txt',\n",
       " '/home/jh20/Data/nr_data/ECG/Physionet2022/physionet.org/files/circor-heart-sound/1.0.3/train/85103.txt',\n",
       " '/home/jh20/Data/nr_data/ECG/Physionet2022/physionet.org/files/circor-heart-sound/1.0.3/train/84714.txt',\n",
       " '/home/jh20/Data/nr_data/ECG/Physionet2022/physionet.org/files/circor-heart-sound/1.0.3/train/50359.txt',\n",
       " '/home/jh20/Data/nr_data/ECG/Physionet2022/physionet.org/files/circor-heart-sound/1.0.3/train/85192.txt',\n",
       " '/home/jh20/Data/nr_data/ECG/Physionet2022/physionet.org/files/circor-heart-sound/1.0.3/train/49930.txt',\n",
       " '/home/jh20/Data/nr_data/ECG/Physionet2022/physionet.org/files/circor-heart-sound/1.0.3/train/78582.txt',\n",
       " '/home/jh20/Data/nr_data/ECG/Physionet2022/physionet.org/files/circor-heart-sound/1.0.3/train/68874.txt',\n",
       " '/home/jh20/Data/nr_data/ECG/Physionet2022/physionet.org/files/circor-heart-sound/1.0.3/train/85243.txt',\n",
       " '/home/jh20/Data/nr_data/ECG/Physionet2022/physionet.org/files/circor-heart-sound/1.0.3/train/85131.txt',\n",
       " '/home/jh20/Data/nr_data/ECG/Physionet2022/physionet.org/files/circor-heart-sound/1.0.3/train/50635.txt',\n",
       " '/home/jh20/Data/nr_data/ECG/Physionet2022/physionet.org/files/circor-heart-sound/1.0.3/train/84776.txt',\n",
       " '/home/jh20/Data/nr_data/ECG/Physionet2022/physionet.org/files/circor-heart-sound/1.0.3/train/68182.txt',\n",
       " '/home/jh20/Data/nr_data/ECG/Physionet2022/physionet.org/files/circor-heart-sound/1.0.3/train/49821.txt',\n",
       " '/home/jh20/Data/nr_data/ECG/Physionet2022/physionet.org/files/circor-heart-sound/1.0.3/train/49610.txt',\n",
       " '/home/jh20/Data/nr_data/ECG/Physionet2022/physionet.org/files/circor-heart-sound/1.0.3/train/50673.txt',\n",
       " '/home/jh20/Data/nr_data/ECG/Physionet2022/physionet.org/files/circor-heart-sound/1.0.3/train/84969.txt',\n",
       " '/home/jh20/Data/nr_data/ECG/Physionet2022/physionet.org/files/circor-heart-sound/1.0.3/train/49574.txt',\n",
       " '/home/jh20/Data/nr_data/ECG/Physionet2022/physionet.org/files/circor-heart-sound/1.0.3/train/50657.txt',\n",
       " '/home/jh20/Data/nr_data/ECG/Physionet2022/physionet.org/files/circor-heart-sound/1.0.3/train/49979.txt',\n",
       " '/home/jh20/Data/nr_data/ECG/Physionet2022/physionet.org/files/circor-heart-sound/1.0.3/train/84798.txt',\n",
       " '/home/jh20/Data/nr_data/ECG/Physionet2022/physionet.org/files/circor-heart-sound/1.0.3/train/69093.txt',\n",
       " '/home/jh20/Data/nr_data/ECG/Physionet2022/physionet.org/files/circor-heart-sound/1.0.3/train/84769.txt',\n",
       " '/home/jh20/Data/nr_data/ECG/Physionet2022/physionet.org/files/circor-heart-sound/1.0.3/train/84780.txt',\n",
       " '/home/jh20/Data/nr_data/ECG/Physionet2022/physionet.org/files/circor-heart-sound/1.0.3/train/84695.txt',\n",
       " '/home/jh20/Data/nr_data/ECG/Physionet2022/physionet.org/files/circor-heart-sound/1.0.3/train/50030.txt',\n",
       " '/home/jh20/Data/nr_data/ECG/Physionet2022/physionet.org/files/circor-heart-sound/1.0.3/train/84921.txt',\n",
       " '/home/jh20/Data/nr_data/ECG/Physionet2022/physionet.org/files/circor-heart-sound/1.0.3/train/68318.txt',\n",
       " '/home/jh20/Data/nr_data/ECG/Physionet2022/physionet.org/files/circor-heart-sound/1.0.3/train/85276.txt',\n",
       " '/home/jh20/Data/nr_data/ECG/Physionet2022/physionet.org/files/circor-heart-sound/1.0.3/train/85287.txt',\n",
       " '/home/jh20/Data/nr_data/ECG/Physionet2022/physionet.org/files/circor-heart-sound/1.0.3/train/85246.txt',\n",
       " '/home/jh20/Data/nr_data/ECG/Physionet2022/physionet.org/files/circor-heart-sound/1.0.3/train/84984.txt',\n",
       " '/home/jh20/Data/nr_data/ECG/Physionet2022/physionet.org/files/circor-heart-sound/1.0.3/train/68431.txt',\n",
       " '/home/jh20/Data/nr_data/ECG/Physionet2022/physionet.org/files/circor-heart-sound/1.0.3/train/50620.txt',\n",
       " '/home/jh20/Data/nr_data/ECG/Physionet2022/physionet.org/files/circor-heart-sound/1.0.3/train/50032.txt',\n",
       " '/home/jh20/Data/nr_data/ECG/Physionet2022/physionet.org/files/circor-heart-sound/1.0.3/train/85151.txt',\n",
       " '/home/jh20/Data/nr_data/ECG/Physionet2022/physionet.org/files/circor-heart-sound/1.0.3/train/49931.txt',\n",
       " '/home/jh20/Data/nr_data/ECG/Physionet2022/physionet.org/files/circor-heart-sound/1.0.3/train/49993.txt',\n",
       " '/home/jh20/Data/nr_data/ECG/Physionet2022/physionet.org/files/circor-heart-sound/1.0.3/train/50034.txt',\n",
       " '/home/jh20/Data/nr_data/ECG/Physionet2022/physionet.org/files/circor-heart-sound/1.0.3/train/85086.txt',\n",
       " '/home/jh20/Data/nr_data/ECG/Physionet2022/physionet.org/files/circor-heart-sound/1.0.3/train/84922.txt',\n",
       " '/home/jh20/Data/nr_data/ECG/Physionet2022/physionet.org/files/circor-heart-sound/1.0.3/train/85341.txt',\n",
       " '/home/jh20/Data/nr_data/ECG/Physionet2022/physionet.org/files/circor-heart-sound/1.0.3/train/84696.txt',\n",
       " '/home/jh20/Data/nr_data/ECG/Physionet2022/physionet.org/files/circor-heart-sound/1.0.3/train/84950.txt',\n",
       " '/home/jh20/Data/nr_data/ECG/Physionet2022/physionet.org/files/circor-heart-sound/1.0.3/train/50037.txt',\n",
       " '/home/jh20/Data/nr_data/ECG/Physionet2022/physionet.org/files/circor-heart-sound/1.0.3/train/85213.txt',\n",
       " '/home/jh20/Data/nr_data/ECG/Physionet2022/physionet.org/files/circor-heart-sound/1.0.3/train/85197.txt',\n",
       " '/home/jh20/Data/nr_data/ECG/Physionet2022/physionet.org/files/circor-heart-sound/1.0.3/train/85053.txt',\n",
       " '/home/jh20/Data/nr_data/ECG/Physionet2022/physionet.org/files/circor-heart-sound/1.0.3/train/50688.txt',\n",
       " '/home/jh20/Data/nr_data/ECG/Physionet2022/physionet.org/files/circor-heart-sound/1.0.3/train/50018.txt',\n",
       " '/home/jh20/Data/nr_data/ECG/Physionet2022/physionet.org/files/circor-heart-sound/1.0.3/train/49669.txt',\n",
       " '/home/jh20/Data/nr_data/ECG/Physionet2022/physionet.org/files/circor-heart-sound/1.0.3/train/85099.txt',\n",
       " '/home/jh20/Data/nr_data/ECG/Physionet2022/physionet.org/files/circor-heart-sound/1.0.3/train/68482.txt',\n",
       " '/home/jh20/Data/nr_data/ECG/Physionet2022/physionet.org/files/circor-heart-sound/1.0.3/train/49748.txt',\n",
       " '/home/jh20/Data/nr_data/ECG/Physionet2022/physionet.org/files/circor-heart-sound/1.0.3/train/50133.txt',\n",
       " '/home/jh20/Data/nr_data/ECG/Physionet2022/physionet.org/files/circor-heart-sound/1.0.3/train/63581.txt',\n",
       " '/home/jh20/Data/nr_data/ECG/Physionet2022/physionet.org/files/circor-heart-sound/1.0.3/train/84853.txt',\n",
       " '/home/jh20/Data/nr_data/ECG/Physionet2022/physionet.org/files/circor-heart-sound/1.0.3/train/85023.txt',\n",
       " '/home/jh20/Data/nr_data/ECG/Physionet2022/physionet.org/files/circor-heart-sound/1.0.3/train/68755.txt',\n",
       " '/home/jh20/Data/nr_data/ECG/Physionet2022/physionet.org/files/circor-heart-sound/1.0.3/train/50136.txt',\n",
       " '/home/jh20/Data/nr_data/ECG/Physionet2022/physionet.org/files/circor-heart-sound/1.0.3/train/85157.txt',\n",
       " '/home/jh20/Data/nr_data/ECG/Physionet2022/physionet.org/files/circor-heart-sound/1.0.3/train/85094.txt',\n",
       " '/home/jh20/Data/nr_data/ECG/Physionet2022/physionet.org/files/circor-heart-sound/1.0.3/train/49678.txt',\n",
       " '/home/jh20/Data/nr_data/ECG/Physionet2022/physionet.org/files/circor-heart-sound/1.0.3/train/84803.txt',\n",
       " '/home/jh20/Data/nr_data/ECG/Physionet2022/physionet.org/files/circor-heart-sound/1.0.3/train/84784.txt',\n",
       " '/home/jh20/Data/nr_data/ECG/Physionet2022/physionet.org/files/circor-heart-sound/1.0.3/train/84754.txt',\n",
       " '/home/jh20/Data/nr_data/ECG/Physionet2022/physionet.org/files/circor-heart-sound/1.0.3/train/50677.txt',\n",
       " '/home/jh20/Data/nr_data/ECG/Physionet2022/physionet.org/files/circor-heart-sound/1.0.3/train/74420.txt',\n",
       " '/home/jh20/Data/nr_data/ECG/Physionet2022/physionet.org/files/circor-heart-sound/1.0.3/train/84718.txt',\n",
       " '/home/jh20/Data/nr_data/ECG/Physionet2022/physionet.org/files/circor-heart-sound/1.0.3/train/85154.txt',\n",
       " '/home/jh20/Data/nr_data/ECG/Physionet2022/physionet.org/files/circor-heart-sound/1.0.3/train/50331.txt',\n",
       " '/home/jh20/Data/nr_data/ECG/Physionet2022/physionet.org/files/circor-heart-sound/1.0.3/train/50007.txt',\n",
       " '/home/jh20/Data/nr_data/ECG/Physionet2022/physionet.org/files/circor-heart-sound/1.0.3/train/85285.txt',\n",
       " '/home/jh20/Data/nr_data/ECG/Physionet2022/physionet.org/files/circor-heart-sound/1.0.3/train/85163.txt',\n",
       " '/home/jh20/Data/nr_data/ECG/Physionet2022/physionet.org/files/circor-heart-sound/1.0.3/train/50284.txt',\n",
       " '/home/jh20/Data/nr_data/ECG/Physionet2022/physionet.org/files/circor-heart-sound/1.0.3/train/50239.txt',\n",
       " '/home/jh20/Data/nr_data/ECG/Physionet2022/physionet.org/files/circor-heart-sound/1.0.3/train/50222.txt',\n",
       " '/home/jh20/Data/nr_data/ECG/Physionet2022/physionet.org/files/circor-heart-sound/1.0.3/train/68576.txt',\n",
       " '/home/jh20/Data/nr_data/ECG/Physionet2022/physionet.org/files/circor-heart-sound/1.0.3/train/85122.txt',\n",
       " '/home/jh20/Data/nr_data/ECG/Physionet2022/physionet.org/files/circor-heart-sound/1.0.3/train/50680.txt',\n",
       " '/home/jh20/Data/nr_data/ECG/Physionet2022/physionet.org/files/circor-heart-sound/1.0.3/train/49969.txt',\n",
       " '/home/jh20/Data/nr_data/ECG/Physionet2022/physionet.org/files/circor-heart-sound/1.0.3/train/84937.txt',\n",
       " '/home/jh20/Data/nr_data/ECG/Physionet2022/physionet.org/files/circor-heart-sound/1.0.3/train/68363.txt',\n",
       " '/home/jh20/Data/nr_data/ECG/Physionet2022/physionet.org/files/circor-heart-sound/1.0.3/train/50304.txt',\n",
       " '/home/jh20/Data/nr_data/ECG/Physionet2022/physionet.org/files/circor-heart-sound/1.0.3/train/85199.txt',\n",
       " '/home/jh20/Data/nr_data/ECG/Physionet2022/physionet.org/files/circor-heart-sound/1.0.3/train/50126.txt',\n",
       " '/home/jh20/Data/nr_data/ECG/Physionet2022/physionet.org/files/circor-heart-sound/1.0.3/train/14998.txt',\n",
       " '/home/jh20/Data/nr_data/ECG/Physionet2022/physionet.org/files/circor-heart-sound/1.0.3/train/50111.txt',\n",
       " '/home/jh20/Data/nr_data/ECG/Physionet2022/physionet.org/files/circor-heart-sound/1.0.3/train/85235.txt',\n",
       " '/home/jh20/Data/nr_data/ECG/Physionet2022/physionet.org/files/circor-heart-sound/1.0.3/train/44514.txt',\n",
       " '/home/jh20/Data/nr_data/ECG/Physionet2022/physionet.org/files/circor-heart-sound/1.0.3/train/50125.txt',\n",
       " '/home/jh20/Data/nr_data/ECG/Physionet2022/physionet.org/files/circor-heart-sound/1.0.3/train/50128.txt',\n",
       " '/home/jh20/Data/nr_data/ECG/Physionet2022/physionet.org/files/circor-heart-sound/1.0.3/train/84970.txt',\n",
       " '/home/jh20/Data/nr_data/ECG/Physionet2022/physionet.org/files/circor-heart-sound/1.0.3/train/50207.txt',\n",
       " '/home/jh20/Data/nr_data/ECG/Physionet2022/physionet.org/files/circor-heart-sound/1.0.3/train/84725.txt',\n",
       " '/home/jh20/Data/nr_data/ECG/Physionet2022/physionet.org/files/circor-heart-sound/1.0.3/train/50335.txt',\n",
       " '/home/jh20/Data/nr_data/ECG/Physionet2022/physionet.org/files/circor-heart-sound/1.0.3/train/85004.txt',\n",
       " '/home/jh20/Data/nr_data/ECG/Physionet2022/physionet.org/files/circor-heart-sound/1.0.3/train/68478.txt',\n",
       " '/home/jh20/Data/nr_data/ECG/Physionet2022/physionet.org/files/circor-heart-sound/1.0.3/train/84992.txt',\n",
       " '/home/jh20/Data/nr_data/ECG/Physionet2022/physionet.org/files/circor-heart-sound/1.0.3/train/50057.txt',\n",
       " '/home/jh20/Data/nr_data/ECG/Physionet2022/physionet.org/files/circor-heart-sound/1.0.3/train/84762.txt',\n",
       " '/home/jh20/Data/nr_data/ECG/Physionet2022/physionet.org/files/circor-heart-sound/1.0.3/train/49998.txt',\n",
       " '/home/jh20/Data/nr_data/ECG/Physionet2022/physionet.org/files/circor-heart-sound/1.0.3/train/2530.txt',\n",
       " '/home/jh20/Data/nr_data/ECG/Physionet2022/physionet.org/files/circor-heart-sound/1.0.3/train/68487.txt',\n",
       " '/home/jh20/Data/nr_data/ECG/Physionet2022/physionet.org/files/circor-heart-sound/1.0.3/train/50762.txt',\n",
       " '/home/jh20/Data/nr_data/ECG/Physionet2022/physionet.org/files/circor-heart-sound/1.0.3/train/68861.txt',\n",
       " '/home/jh20/Data/nr_data/ECG/Physionet2022/physionet.org/files/circor-heart-sound/1.0.3/train/50327.txt',\n",
       " '/home/jh20/Data/nr_data/ECG/Physionet2022/physionet.org/files/circor-heart-sound/1.0.3/train/68498.txt',\n",
       " '/home/jh20/Data/nr_data/ECG/Physionet2022/physionet.org/files/circor-heart-sound/1.0.3/train/50391.txt',\n",
       " '/home/jh20/Data/nr_data/ECG/Physionet2022/physionet.org/files/circor-heart-sound/1.0.3/train/85119.txt',\n",
       " '/home/jh20/Data/nr_data/ECG/Physionet2022/physionet.org/files/circor-heart-sound/1.0.3/train/85198.txt',\n",
       " '/home/jh20/Data/nr_data/ECG/Physionet2022/physionet.org/files/circor-heart-sound/1.0.3/train/49631.txt',\n",
       " '/home/jh20/Data/nr_data/ECG/Physionet2022/physionet.org/files/circor-heart-sound/1.0.3/train/50278.txt',\n",
       " '/home/jh20/Data/nr_data/ECG/Physionet2022/physionet.org/files/circor-heart-sound/1.0.3/train/50004.txt',\n",
       " '/home/jh20/Data/nr_data/ECG/Physionet2022/physionet.org/files/circor-heart-sound/1.0.3/train/85227.txt',\n",
       " '/home/jh20/Data/nr_data/ECG/Physionet2022/physionet.org/files/circor-heart-sound/1.0.3/train/50159.txt',\n",
       " '/home/jh20/Data/nr_data/ECG/Physionet2022/physionet.org/files/circor-heart-sound/1.0.3/train/85207.txt',\n",
       " '/home/jh20/Data/nr_data/ECG/Physionet2022/physionet.org/files/circor-heart-sound/1.0.3/train/68582.txt',\n",
       " '/home/jh20/Data/nr_data/ECG/Physionet2022/physionet.org/files/circor-heart-sound/1.0.3/train/9979.txt',\n",
       " '/home/jh20/Data/nr_data/ECG/Physionet2022/physionet.org/files/circor-heart-sound/1.0.3/train/50204.txt',\n",
       " '/home/jh20/Data/nr_data/ECG/Physionet2022/physionet.org/files/circor-heart-sound/1.0.3/train/68632.txt',\n",
       " '/home/jh20/Data/nr_data/ECG/Physionet2022/physionet.org/files/circor-heart-sound/1.0.3/train/85262.txt',\n",
       " '/home/jh20/Data/nr_data/ECG/Physionet2022/physionet.org/files/circor-heart-sound/1.0.3/train/85240.txt',\n",
       " '/home/jh20/Data/nr_data/ECG/Physionet2022/physionet.org/files/circor-heart-sound/1.0.3/train/50746.txt',\n",
       " '/home/jh20/Data/nr_data/ECG/Physionet2022/physionet.org/files/circor-heart-sound/1.0.3/train/68419.txt',\n",
       " '/home/jh20/Data/nr_data/ECG/Physionet2022/physionet.org/files/circor-heart-sound/1.0.3/train/49719.txt',\n",
       " '/home/jh20/Data/nr_data/ECG/Physionet2022/physionet.org/files/circor-heart-sound/1.0.3/train/49963.txt',\n",
       " '/home/jh20/Data/nr_data/ECG/Physionet2022/physionet.org/files/circor-heart-sound/1.0.3/train/85044.txt',\n",
       " '/home/jh20/Data/nr_data/ECG/Physionet2022/physionet.org/files/circor-heart-sound/1.0.3/train/50752.txt',\n",
       " '/home/jh20/Data/nr_data/ECG/Physionet2022/physionet.org/files/circor-heart-sound/1.0.3/train/85027.txt',\n",
       " '/home/jh20/Data/nr_data/ECG/Physionet2022/physionet.org/files/circor-heart-sound/1.0.3/train/50738.txt',\n",
       " '/home/jh20/Data/nr_data/ECG/Physionet2022/physionet.org/files/circor-heart-sound/1.0.3/train/50339.txt',\n",
       " '/home/jh20/Data/nr_data/ECG/Physionet2022/physionet.org/files/circor-heart-sound/1.0.3/train/50281.txt',\n",
       " '/home/jh20/Data/nr_data/ECG/Physionet2022/physionet.org/files/circor-heart-sound/1.0.3/train/50723.txt',\n",
       " '/home/jh20/Data/nr_data/ECG/Physionet2022/physionet.org/files/circor-heart-sound/1.0.3/train/50793.txt',\n",
       " '/home/jh20/Data/nr_data/ECG/Physionet2022/physionet.org/files/circor-heart-sound/1.0.3/train/84995.txt',\n",
       " '/home/jh20/Data/nr_data/ECG/Physionet2022/physionet.org/files/circor-heart-sound/1.0.3/train/50819.txt',\n",
       " '/home/jh20/Data/nr_data/ECG/Physionet2022/physionet.org/files/circor-heart-sound/1.0.3/train/84851.txt',\n",
       " '/home/jh20/Data/nr_data/ECG/Physionet2022/physionet.org/files/circor-heart-sound/1.0.3/train/69161.txt',\n",
       " '/home/jh20/Data/nr_data/ECG/Physionet2022/physionet.org/files/circor-heart-sound/1.0.3/train/84918.txt',\n",
       " '/home/jh20/Data/nr_data/ECG/Physionet2022/physionet.org/files/circor-heart-sound/1.0.3/train/85080.txt',\n",
       " '/home/jh20/Data/nr_data/ECG/Physionet2022/physionet.org/files/circor-heart-sound/1.0.3/train/68646.txt',\n",
       " '/home/jh20/Data/nr_data/ECG/Physionet2022/physionet.org/files/circor-heart-sound/1.0.3/train/84966.txt',\n",
       " '/home/jh20/Data/nr_data/ECG/Physionet2022/physionet.org/files/circor-heart-sound/1.0.3/train/50689.txt',\n",
       " '/home/jh20/Data/nr_data/ECG/Physionet2022/physionet.org/files/circor-heart-sound/1.0.3/train/49987.txt',\n",
       " '/home/jh20/Data/nr_data/ECG/Physionet2022/physionet.org/files/circor-heart-sound/1.0.3/train/85336.txt',\n",
       " '/home/jh20/Data/nr_data/ECG/Physionet2022/physionet.org/files/circor-heart-sound/1.0.3/train/50263.txt',\n",
       " '/home/jh20/Data/nr_data/ECG/Physionet2022/physionet.org/files/circor-heart-sound/1.0.3/train/85046.txt',\n",
       " '/home/jh20/Data/nr_data/ECG/Physionet2022/physionet.org/files/circor-heart-sound/1.0.3/train/84839.txt',\n",
       " '/home/jh20/Data/nr_data/ECG/Physionet2022/physionet.org/files/circor-heart-sound/1.0.3/train/50316.txt',\n",
       " '/home/jh20/Data/nr_data/ECG/Physionet2022/physionet.org/files/circor-heart-sound/1.0.3/train/84807.txt',\n",
       " '/home/jh20/Data/nr_data/ECG/Physionet2022/physionet.org/files/circor-heart-sound/1.0.3/train/85123.txt',\n",
       " '/home/jh20/Data/nr_data/ECG/Physionet2022/physionet.org/files/circor-heart-sound/1.0.3/train/49823.txt',\n",
       " '/home/jh20/Data/nr_data/ECG/Physionet2022/physionet.org/files/circor-heart-sound/1.0.3/train/40840.txt',\n",
       " '/home/jh20/Data/nr_data/ECG/Physionet2022/physionet.org/files/circor-heart-sound/1.0.3/train/50766.txt',\n",
       " '/home/jh20/Data/nr_data/ECG/Physionet2022/physionet.org/files/circor-heart-sound/1.0.3/train/80348.txt',\n",
       " '/home/jh20/Data/nr_data/ECG/Physionet2022/physionet.org/files/circor-heart-sound/1.0.3/train/50654.txt',\n",
       " '/home/jh20/Data/nr_data/ECG/Physionet2022/physionet.org/files/circor-heart-sound/1.0.3/train/85000.txt',\n",
       " '/home/jh20/Data/nr_data/ECG/Physionet2022/physionet.org/files/circor-heart-sound/1.0.3/train/50704.txt',\n",
       " '/home/jh20/Data/nr_data/ECG/Physionet2022/physionet.org/files/circor-heart-sound/1.0.3/train/50321.txt',\n",
       " '/home/jh20/Data/nr_data/ECG/Physionet2022/physionet.org/files/circor-heart-sound/1.0.3/train/84751.txt',\n",
       " '/home/jh20/Data/nr_data/ECG/Physionet2022/physionet.org/files/circor-heart-sound/1.0.3/train/85143.txt',\n",
       " '/home/jh20/Data/nr_data/ECG/Physionet2022/physionet.org/files/circor-heart-sound/1.0.3/train/78592.txt',\n",
       " '/home/jh20/Data/nr_data/ECG/Physionet2022/physionet.org/files/circor-heart-sound/1.0.3/train/68213.txt',\n",
       " '/home/jh20/Data/nr_data/ECG/Physionet2022/physionet.org/files/circor-heart-sound/1.0.3/train/85136.txt',\n",
       " '/home/jh20/Data/nr_data/ECG/Physionet2022/physionet.org/files/circor-heart-sound/1.0.3/train/84946.txt',\n",
       " '/home/jh20/Data/nr_data/ECG/Physionet2022/physionet.org/files/circor-heart-sound/1.0.3/train/50754.txt',\n",
       " '/home/jh20/Data/nr_data/ECG/Physionet2022/physionet.org/files/circor-heart-sound/1.0.3/train/68711.txt',\n",
       " '/home/jh20/Data/nr_data/ECG/Physionet2022/physionet.org/files/circor-heart-sound/1.0.3/train/85037.txt',\n",
       " '/home/jh20/Data/nr_data/ECG/Physionet2022/physionet.org/files/circor-heart-sound/1.0.3/train/85091.txt',\n",
       " '/home/jh20/Data/nr_data/ECG/Physionet2022/physionet.org/files/circor-heart-sound/1.0.3/train/85337.txt',\n",
       " '/home/jh20/Data/nr_data/ECG/Physionet2022/physionet.org/files/circor-heart-sound/1.0.3/train/84971.txt',\n",
       " '/home/jh20/Data/nr_data/ECG/Physionet2022/physionet.org/files/circor-heart-sound/1.0.3/train/50291.txt',\n",
       " '/home/jh20/Data/nr_data/ECG/Physionet2022/physionet.org/files/circor-heart-sound/1.0.3/train/84709.txt',\n",
       " '/home/jh20/Data/nr_data/ECG/Physionet2022/physionet.org/files/circor-heart-sound/1.0.3/train/85077.txt',\n",
       " '/home/jh20/Data/nr_data/ECG/Physionet2022/physionet.org/files/circor-heart-sound/1.0.3/train/50337.txt',\n",
       " '/home/jh20/Data/nr_data/ECG/Physionet2022/physionet.org/files/circor-heart-sound/1.0.3/train/85328.txt',\n",
       " '/home/jh20/Data/nr_data/ECG/Physionet2022/physionet.org/files/circor-heart-sound/1.0.3/train/50332.txt',\n",
       " '/home/jh20/Data/nr_data/ECG/Physionet2022/physionet.org/files/circor-heart-sound/1.0.3/train/50273.txt',\n",
       " '/home/jh20/Data/nr_data/ECG/Physionet2022/physionet.org/files/circor-heart-sound/1.0.3/train/85210.txt',\n",
       " '/home/jh20/Data/nr_data/ECG/Physionet2022/physionet.org/files/circor-heart-sound/1.0.3/train/50053.txt',\n",
       " '/home/jh20/Data/nr_data/ECG/Physionet2022/physionet.org/files/circor-heart-sound/1.0.3/train/84877.txt',\n",
       " '/home/jh20/Data/nr_data/ECG/Physionet2022/physionet.org/files/circor-heart-sound/1.0.3/train/50152.txt',\n",
       " '/home/jh20/Data/nr_data/ECG/Physionet2022/physionet.org/files/circor-heart-sound/1.0.3/train/50272.txt',\n",
       " '/home/jh20/Data/nr_data/ECG/Physionet2022/physionet.org/files/circor-heart-sound/1.0.3/train/84710.txt',\n",
       " '/home/jh20/Data/nr_data/ECG/Physionet2022/physionet.org/files/circor-heart-sound/1.0.3/train/69095.txt',\n",
       " '/home/jh20/Data/nr_data/ECG/Physionet2022/physionet.org/files/circor-heart-sound/1.0.3/train/50264.txt',\n",
       " '/home/jh20/Data/nr_data/ECG/Physionet2022/physionet.org/files/circor-heart-sound/1.0.3/train/85153.txt',\n",
       " '/home/jh20/Data/nr_data/ECG/Physionet2022/physionet.org/files/circor-heart-sound/1.0.3/train/50146.txt',\n",
       " '/home/jh20/Data/nr_data/ECG/Physionet2022/physionet.org/files/circor-heart-sound/1.0.3/train/50748.txt',\n",
       " '/home/jh20/Data/nr_data/ECG/Physionet2022/physionet.org/files/circor-heart-sound/1.0.3/train/50385.txt',\n",
       " '/home/jh20/Data/nr_data/ECG/Physionet2022/physionet.org/files/circor-heart-sound/1.0.3/train/50225.txt',\n",
       " '/home/jh20/Data/nr_data/ECG/Physionet2022/physionet.org/files/circor-heart-sound/1.0.3/train/50043.txt',\n",
       " '/home/jh20/Data/nr_data/ECG/Physionet2022/physionet.org/files/circor-heart-sound/1.0.3/train/84749.txt',\n",
       " '/home/jh20/Data/nr_data/ECG/Physionet2022/physionet.org/files/circor-heart-sound/1.0.3/train/50715.txt',\n",
       " '/home/jh20/Data/nr_data/ECG/Physionet2022/physionet.org/files/circor-heart-sound/1.0.3/train/50276.txt',\n",
       " '/home/jh20/Data/nr_data/ECG/Physionet2022/physionet.org/files/circor-heart-sound/1.0.3/train/85168.txt',\n",
       " '/home/jh20/Data/nr_data/ECG/Physionet2022/physionet.org/files/circor-heart-sound/1.0.3/train/69176.txt',\n",
       " '/home/jh20/Data/nr_data/ECG/Physionet2022/physionet.org/files/circor-heart-sound/1.0.3/train/68737.txt',\n",
       " '/home/jh20/Data/nr_data/ECG/Physionet2022/physionet.org/files/circor-heart-sound/1.0.3/train/84878.txt',\n",
       " '/home/jh20/Data/nr_data/ECG/Physionet2022/physionet.org/files/circor-heart-sound/1.0.3/train/85265.txt',\n",
       " '/home/jh20/Data/nr_data/ECG/Physionet2022/physionet.org/files/circor-heart-sound/1.0.3/train/50092.txt',\n",
       " '/home/jh20/Data/nr_data/ECG/Physionet2022/physionet.org/files/circor-heart-sound/1.0.3/train/85278.txt',\n",
       " '/home/jh20/Data/nr_data/ECG/Physionet2022/physionet.org/files/circor-heart-sound/1.0.3/train/84779.txt',\n",
       " '/home/jh20/Data/nr_data/ECG/Physionet2022/physionet.org/files/circor-heart-sound/1.0.3/train/50629.txt',\n",
       " '/home/jh20/Data/nr_data/ECG/Physionet2022/physionet.org/files/circor-heart-sound/1.0.3/train/82275.txt',\n",
       " '/home/jh20/Data/nr_data/ECG/Physionet2022/physionet.org/files/circor-heart-sound/1.0.3/train/50080.txt',\n",
       " '/home/jh20/Data/nr_data/ECG/Physionet2022/physionet.org/files/circor-heart-sound/1.0.3/train/85148.txt',\n",
       " '/home/jh20/Data/nr_data/ECG/Physionet2022/physionet.org/files/circor-heart-sound/1.0.3/train/84890.txt',\n",
       " '/home/jh20/Data/nr_data/ECG/Physionet2022/physionet.org/files/circor-heart-sound/1.0.3/train/85105.txt',\n",
       " '/home/jh20/Data/nr_data/ECG/Physionet2022/physionet.org/files/circor-heart-sound/1.0.3/train/50009.txt',\n",
       " '/home/jh20/Data/nr_data/ECG/Physionet2022/physionet.org/files/circor-heart-sound/1.0.3/train/85057.txt',\n",
       " '/home/jh20/Data/nr_data/ECG/Physionet2022/physionet.org/files/circor-heart-sound/1.0.3/train/85186.txt',\n",
       " '/home/jh20/Data/nr_data/ECG/Physionet2022/physionet.org/files/circor-heart-sound/1.0.3/train/50137.txt',\n",
       " '/home/jh20/Data/nr_data/ECG/Physionet2022/physionet.org/files/circor-heart-sound/1.0.3/train/85316.txt',\n",
       " '/home/jh20/Data/nr_data/ECG/Physionet2022/physionet.org/files/circor-heart-sound/1.0.3/train/68831.txt',\n",
       " '/home/jh20/Data/nr_data/ECG/Physionet2022/physionet.org/files/circor-heart-sound/1.0.3/train/50160.txt',\n",
       " '/home/jh20/Data/nr_data/ECG/Physionet2022/physionet.org/files/circor-heart-sound/1.0.3/train/85317.txt',\n",
       " '/home/jh20/Data/nr_data/ECG/Physionet2022/physionet.org/files/circor-heart-sound/1.0.3/train/85002.txt',\n",
       " '/home/jh20/Data/nr_data/ECG/Physionet2022/physionet.org/files/circor-heart-sound/1.0.3/train/49568.txt',\n",
       " '/home/jh20/Data/nr_data/ECG/Physionet2022/physionet.org/files/circor-heart-sound/1.0.3/train/84690.txt',\n",
       " '/home/jh20/Data/nr_data/ECG/Physionet2022/physionet.org/files/circor-heart-sound/1.0.3/train/50048.txt',\n",
       " '/home/jh20/Data/nr_data/ECG/Physionet2022/physionet.org/files/circor-heart-sound/1.0.3/train/50017.txt',\n",
       " '/home/jh20/Data/nr_data/ECG/Physionet2022/physionet.org/files/circor-heart-sound/1.0.3/train/84881.txt',\n",
       " '/home/jh20/Data/nr_data/ECG/Physionet2022/physionet.org/files/circor-heart-sound/1.0.3/train/50379.txt',\n",
       " '/home/jh20/Data/nr_data/ECG/Physionet2022/physionet.org/files/circor-heart-sound/1.0.3/train/84713.txt',\n",
       " '/home/jh20/Data/nr_data/ECG/Physionet2022/physionet.org/files/circor-heart-sound/1.0.3/train/84987.txt',\n",
       " '/home/jh20/Data/nr_data/ECG/Physionet2022/physionet.org/files/circor-heart-sound/1.0.3/train/50807.txt',\n",
       " '/home/jh20/Data/nr_data/ECG/Physionet2022/physionet.org/files/circor-heart-sound/1.0.3/train/84693.txt',\n",
       " '/home/jh20/Data/nr_data/ECG/Physionet2022/physionet.org/files/circor-heart-sound/1.0.3/train/85038.txt',\n",
       " '/home/jh20/Data/nr_data/ECG/Physionet2022/physionet.org/files/circor-heart-sound/1.0.3/train/85234.txt',\n",
       " '/home/jh20/Data/nr_data/ECG/Physionet2022/physionet.org/files/circor-heart-sound/1.0.3/train/50790.txt',\n",
       " '/home/jh20/Data/nr_data/ECG/Physionet2022/physionet.org/files/circor-heart-sound/1.0.3/train/84750.txt',\n",
       " '/home/jh20/Data/nr_data/ECG/Physionet2022/physionet.org/files/circor-heart-sound/1.0.3/train/9983.txt',\n",
       " '/home/jh20/Data/nr_data/ECG/Physionet2022/physionet.org/files/circor-heart-sound/1.0.3/train/50720.txt',\n",
       " '/home/jh20/Data/nr_data/ECG/Physionet2022/physionet.org/files/circor-heart-sound/1.0.3/train/50721.txt',\n",
       " '/home/jh20/Data/nr_data/ECG/Physionet2022/physionet.org/files/circor-heart-sound/1.0.3/train/50151.txt',\n",
       " '/home/jh20/Data/nr_data/ECG/Physionet2022/physionet.org/files/circor-heart-sound/1.0.3/train/50054.txt',\n",
       " '/home/jh20/Data/nr_data/ECG/Physionet2022/physionet.org/files/circor-heart-sound/1.0.3/train/50123.txt',\n",
       " '/home/jh20/Data/nr_data/ECG/Physionet2022/physionet.org/files/circor-heart-sound/1.0.3/train/85312.txt',\n",
       " '/home/jh20/Data/nr_data/ECG/Physionet2022/physionet.org/files/circor-heart-sound/1.0.3/train/69120.txt',\n",
       " '/home/jh20/Data/nr_data/ECG/Physionet2022/physionet.org/files/circor-heart-sound/1.0.3/train/85112.txt',\n",
       " '/home/jh20/Data/nr_data/ECG/Physionet2022/physionet.org/files/circor-heart-sound/1.0.3/train/50735.txt',\n",
       " '/home/jh20/Data/nr_data/ECG/Physionet2022/physionet.org/files/circor-heart-sound/1.0.3/train/50345.txt',\n",
       " '/home/jh20/Data/nr_data/ECG/Physionet2022/physionet.org/files/circor-heart-sound/1.0.3/train/49776.txt',\n",
       " '/home/jh20/Data/nr_data/ECG/Physionet2022/physionet.org/files/circor-heart-sound/1.0.3/train/40058.txt',\n",
       " '/home/jh20/Data/nr_data/ECG/Physionet2022/physionet.org/files/circor-heart-sound/1.0.3/train/84727.txt',\n",
       " '/home/jh20/Data/nr_data/ECG/Physionet2022/physionet.org/files/circor-heart-sound/1.0.3/train/84994.txt',\n",
       " '/home/jh20/Data/nr_data/ECG/Physionet2022/physionet.org/files/circor-heart-sound/1.0.3/train/50029.txt',\n",
       " '/home/jh20/Data/nr_data/ECG/Physionet2022/physionet.org/files/circor-heart-sound/1.0.3/train/49876.txt',\n",
       " '/home/jh20/Data/nr_data/ECG/Physionet2022/physionet.org/files/circor-heart-sound/1.0.3/train/68194.txt',\n",
       " '/home/jh20/Data/nr_data/ECG/Physionet2022/physionet.org/files/circor-heart-sound/1.0.3/train/84687.txt',\n",
       " '/home/jh20/Data/nr_data/ECG/Physionet2022/physionet.org/files/circor-heart-sound/1.0.3/train/49966.txt']"
      ]
     },
     "execution_count": 26,
     "metadata": {},
     "output_type": "execute_result"
    }
   ],
   "source": [
    "patient_file"
   ]
  },
  {
   "cell_type": "code",
   "execution_count": 27,
   "id": "5d2aac0b",
   "metadata": {},
   "outputs": [],
   "source": [
    "patient_data = load_patient_data(patient_file[0])"
   ]
  },
  {
   "cell_type": "code",
   "execution_count": 30,
   "id": "702d7c0c",
   "metadata": {},
   "outputs": [
    {
     "data": {
      "text/plain": [
       "'50103 4 4000\\nAV 50103_AV.hea 50103_AV.wav 50103_AV.tsv\\nPV 50103_PV.hea 50103_PV.wav 50103_PV.tsv\\nTV 50103_TV.hea 50103_TV.wav 50103_TV.tsv\\nMV 50103_MV.hea 50103_MV.wav 50103_MV.tsv\\n#Age: Child\\n#Sex: Male\\n#Height: 128.0\\n#Weight: 25.1\\n#Pregnancy status: False\\n#Murmur: Absent\\n#Murmur locations: nan\\n#Most audible location: nan\\n#Systolic murmur timing: nan\\n#Systolic murmur shape: nan\\n#Systolic murmur grading: nan\\n#Systolic murmur pitch: nan\\n#Systolic murmur quality: nan\\n#Diastolic murmur timing: nan\\n#Diastolic murmur shape: nan\\n#Diastolic murmur grading: nan\\n#Diastolic murmur pitch: nan\\n#Diastolic murmur quality: nan\\n#Outcome: Normal\\n#Campaign: CC2014\\n#Additional ID: nan\\n'"
      ]
     },
     "execution_count": 30,
     "metadata": {},
     "output_type": "execute_result"
    }
   ],
   "source": [
    "0 == 0.0patient_data"
   ]
  },
  {
   "cell_type": "code",
   "execution_count": 61,
   "id": "65f5811a",
   "metadata": {},
   "outputs": [],
   "source": [
    "feature_lst=[]\n",
    "current_patient_data = load_patient_data(patient_file[0])\n",
    "num_locations = get_num_locations(current_patient_data)\n",
    "recording_information = current_patient_data.split('\\n')[1:num_locations+1]\n",
    "for j in range(num_locations):\n",
    "    entries = recording_information[j].split(' ')\n",
    "    recording_file = entries[2]\n",
    "    filename = os.path.join(args.train_data_folder, recording_file)\n",
    "    raw_data = feature_extract_raw(filename)  # (120000,)\n",
    "    raw_data = raw_data.reshape((1,120000))\n",
    "    feature_lst.append(raw_data)"
   ]
  },
  {
   "cell_type": "code",
   "execution_count": 72,
   "id": "22c13482",
   "metadata": {},
   "outputs": [
    {
     "data": {
      "text/plain": [
       "'/home/jh20/Data/nr_data/ECG/Physionet2022/physionet.org/files/circor-heart-sound/1.0.3/train/50103_MV.wav'"
      ]
     },
     "execution_count": 72,
     "metadata": {},
     "output_type": "execute_result"
    }
   ],
   "source": [
    "filename"
   ]
  },
  {
   "cell_type": "code",
   "execution_count": 74,
   "id": "478d266a",
   "metadata": {},
   "outputs": [],
   "source": [
    "raw_data = raw_data.reshape((1,raw_len)).reshape((1,120000))"
   ]
  },
  {
   "cell_type": "code",
   "execution_count": 75,
   "id": "5270b209",
   "metadata": {},
   "outputs": [
    {
     "data": {
      "text/plain": [
       "array([[ 0.00280762,  0.00497437,  0.00360107, ..., -0.00515747,\n",
       "        -0.00619507, -0.009552  ]])"
      ]
     },
     "execution_count": 75,
     "metadata": {},
     "output_type": "execute_result"
    }
   ],
   "source": [
    "raw_data"
   ]
  },
  {
   "cell_type": "code",
   "execution_count": 76,
   "id": "bddc25f4",
   "metadata": {},
   "outputs": [],
   "source": [
    "recording_information = patient_data.split('\\n')[1:4+1]"
   ]
  },
  {
   "cell_type": "code",
   "execution_count": 32,
   "id": "b3226720",
   "metadata": {},
   "outputs": [
    {
     "data": {
      "text/plain": [
       "['AV 50103_AV.hea 50103_AV.wav 50103_AV.tsv',\n",
       " 'PV 50103_PV.hea 50103_PV.wav 50103_PV.tsv',\n",
       " 'TV 50103_TV.hea 50103_TV.wav 50103_TV.tsv',\n",
       " 'MV 50103_MV.hea 50103_MV.wav 50103_MV.tsv']"
      ]
     },
     "execution_count": 32,
     "metadata": {},
     "output_type": "execute_result"
    }
   ],
   "source": [
    "recording_information"
   ]
  },
  {
   "cell_type": "code",
   "execution_count": 9,
   "id": "69bdb288",
   "metadata": {},
   "outputs": [],
   "source": [
    "from torch.utils.data import Dataset,DataLoader, RandomSampler\n",
    "import pandas as pd\n",
    "import numpy as np\n",
    "import sys\n",
    "sys.path.append(\"/home/jh20/narin/physionet/python-classifier-2022\")\n",
    "from helper_code import *\n",
    "import torchaudio\n",
    "import random\n",
    "import numpy as np\n",
    "import librosa\n",
    "import glob\n",
    "import math\n",
    "import pickle\n",
    "\n",
    "\n",
    "def read_recording(wav_fn, audio_length= 20, sr= 4000):  #20초 \n",
    "\n",
    "    recording, frequency = librosa.load(wav_fn)\n",
    "    recording = recording * 1.0\n",
    "    recording = recording[4000:-4000]\n",
    "\n",
    "    length = audio_length*sr\n",
    "    if recording.shape[0] <= length:\n",
    "        shortage = length - recording.shape[0]\n",
    "        recording = np.pad(recording, (0, shortage), 'wrap')\n",
    "    start_frame = np.int64(random.random()*(recording.shape[0]-length))\n",
    "    recording = recording[start_frame:start_frame + length] \n",
    "\n",
    "    return recording\n",
    "\n",
    "\n",
    "\n",
    "\n",
    "class train_loader(Dataset):\n",
    "    def __init__(self,data_folder, **kwargs):\n",
    "        self.data_folder = data_folder\n",
    "#         self.feature_folder = feature_folder\n",
    "        \n",
    "        self.patient_file = glob.glob(data_folder + '*.txt')\n",
    "#         self.feature_file = glob.glob(feature_folder + '*.pickle')\n",
    "        self.wav_files = glob.glob(data_folder + '*.wav')\n",
    "#         self.num_feature_files = len(self.feature_file)\n",
    "        \n",
    "        self.murmur_classes = ['Present', 'Absent']\n",
    "        self.num_murmur_classes = len(self.murmur_classes)\n",
    "        self.outcome_classes = ['Abnormal', 'Normal']\n",
    "        self.num_outcome_classes = len(self.outcome_classes)\n",
    "        \n",
    "        self.age_classes = ['Neonate', 'Infant', 'Child', 'Adolescent', 'Young Adult']\n",
    "        self.recording_locations = ['AV', 'MV', 'PV', 'TV', 'PhC']\n",
    "        \n",
    "        murmur_lable = []\n",
    "        outcome_lable = []\n",
    "        feature_lst = []\n",
    "        for i in range(len(self.patient_file)):\n",
    "            current_patient_data = load_patient_data(self.patient_file[i])\n",
    "            num_locations = get_num_locations(current_patient_data)\n",
    "            recording_information = current_patient_data.split('\\n')[1:num_locations+1]\n",
    "            for j in range(num_locations):\n",
    "                entries = recording_information[j].split(' ')\n",
    "                recording_file = entries[2]\n",
    "                filename = os.path.join(data_folder, recording_file)\n",
    "                raw_data = read_recording(filename)  # (120000,)\n",
    "#                 raw_len = len(raw_data)\n",
    "#                 raw_data = raw_data.reshape((1,raw_len))\n",
    "                feature_lst.append(raw_data)\n",
    "                \n",
    "                if get_murmur(current_patient_data) == self.murmur_classes[0]:\n",
    "                    murmur_lable.append(1)\n",
    "                elif get_murmur(current_patient_data) == self.murmur_classes[1]:\n",
    "                    murmur_lable.append(0)\n",
    "                else :\n",
    "                    murmur_lable.append(0)\n",
    "                \n",
    "                if get_outcome(current_patient_data) == self.outcome_classes[0]:\n",
    "                    outcome_lable.append(1)\n",
    "                elif get_outcome(current_patient_data) == self.outcome_classes[1]:\n",
    "                    outcome_lable.append(0)\n",
    "                \n",
    "                \n",
    "\n",
    "        \n",
    "#         murmur_lable = np.zeros(self.num_feature_files, dtype=np.float32)\n",
    "#         outcome_lable = np.zeros(self.num_feature_files, dtype=np.float32)\n",
    "#         examples = {}\n",
    "#         for i in range(self.num_feature_files):\n",
    "#             filename = self.feature_file[i]\n",
    "#             current_patient_id = filename.split('/')[-1].split('_')[0]\n",
    "#             current_txt_file = self.data_folder + str(current_patient_id) + '.txt'\n",
    "#             with open(current_txt_file, 'r') as f:\n",
    "#                 current_patient_data = f.read()\n",
    "#             current_loc = filename.split('/')[-1].split('.')[0].split('_')[1]\n",
    "#             if filename.split('/')[-1].split('.')[0]  not in examples.keys():\n",
    "#                 current_feature_data = filename.split('/')[-1].split('.')[0]\n",
    "#                 with open(filename, 'rb') as fr:\n",
    "#                     feature = pickle.load(fr)\n",
    "#                 examples[current_feature_data] = {\n",
    "#                     \"id\" : current_patient_id,\n",
    "#                     \"txt_fn\" : current_txt_file,   #txt,\n",
    "#                     \"feature\" : feature,  #wav2vev2\n",
    "#                     \"num_location\": get_num_locations(current_patient_data),\n",
    "#                     \"frequency\" : get_frequency(current_patient_data),\n",
    "#                     \"location\" : current_loc,\n",
    "#                     \"age\" : get_age(current_patient_data),\n",
    "#                     \"sex\" : get_sex(current_patient_data),\n",
    "#                     \"height\" : get_height(current_patient_data),\n",
    "#                     \"weight\" : get_weight(current_patient_data),\n",
    "#                     \"pregnancy_status\" : get_pregnancy_status(current_patient_data),\n",
    "#                     \"murmur\" : get_murmur(current_patient_data),\n",
    "#                     \"outcome\" : get_outcome(current_patient_data)\n",
    "\n",
    "#                 }\n",
    "#             if get_murmur(current_patient_data) == self.murmur_classes[0]:\n",
    "#                 murmur_lable[i] = 1\n",
    "#             elif get_murmur(current_patient_data) == self.murmur_classes[1]:\n",
    "#                 murmur_lable[i] = 0\n",
    "#             else :\n",
    "#                 murmur_lable[i] = 0\n",
    "                \n",
    "#             if get_outcome(current_patient_data) == self.outcome_classes[0]:\n",
    "#                 outcome_lable[i] = 1\n",
    "#             elif get_outcome(current_patient_data) == self.outcome_classes[1]:\n",
    "#                 outcome_lable[i] = 0\n",
    "                \n",
    "            \n",
    "#         self.examples = examples\n",
    "#         self.examples_list = list(examples.keys())\n",
    "        self.feature_lst = feature_lst\n",
    "        self.murmur_lable = murmur_lable\n",
    "        self.outcome_lable = outcome_lable\n",
    "        \n",
    "        \n",
    "        \n",
    "        \n",
    "        \n",
    "#         if len(self.examples_list) != self.num_feature_files:\n",
    "#             raise ValueError('length is different!')\n",
    "    def __len__(self):\n",
    "        return len(self.feature_lst)\n",
    "    \n",
    "        \n",
    "    def __getitem__(self, index):\n",
    "        \n",
    "        # patient info\n",
    "#         current_feature_dict = self.examples[self.examples_list[index]]\n",
    "#         current_patient_data = load_patient_data(current_feature_dict[\"txt_fn\"])\n",
    "\n",
    "        \n",
    "        \n",
    "        feature = self.feature_lst[index]\n",
    "        current_murmur = self.murmur_lable[index]\n",
    "        current_outcome = self.outcome_lable[index]\n",
    "        \n",
    "        \n",
    "#         #log mel feature\n",
    "#         log_mel_feature = librosa.power_to_db(librosa.feature.melspectrogram(y = current_recording.astype(np.float32),\n",
    "#                                                          sr= 4000,\n",
    "#                                                          n_mels=128,\n",
    "#                                                          n_fft=400, \n",
    "#                                                          hop_length=128, \n",
    "#                                                          win_length=400))\n",
    "        \n",
    "#         # age\n",
    "#         current_patient_age = current_wav_dict[\"age\"]\n",
    "#         current_age_group = np.zeros(6, dtype=np.float32)\n",
    "#         if current_patient_age in self.age_classes:\n",
    "#             j = self.age_classes.index(current_patient_age)\n",
    "#             current_age_group[j] = 1.0\n",
    "#         else :\n",
    "#             current_age_group[5] = 1.0\n",
    "            \n",
    "            \n",
    "#         # sex\n",
    "#         sex = current_wav_dict[\"sex\"]\n",
    "#         sex_feature = np.zeros(2, dtype=np.float32)\n",
    "#         if compare_strings(sex, 'Femalraw_datae'):\n",
    "#             sex_feature[0] = 1.0\n",
    "#         elif compare_strings(sex, 'Male'):\n",
    "#             sex_feature[1] = 1.0\n",
    "            \n",
    "#         # height and weight.\n",
    "#         height = current_wav_dict[\"height\"]\n",
    "#         weight = current_wav_dict[\"weight\"]\n",
    "        \n",
    "#         ## simple impute\n",
    "#         if math.isnan(height) :\n",
    "#             height = 110.846  #mean\n",
    "#         if math.isnan(weight) :\n",
    "#             weight = 23.767   #mean\n",
    "            \n",
    "#         height_weight = np.array([height, weight], dtype=np.float32)\n",
    "        \n",
    "        \n",
    "#         # Extract pregnancy\n",
    "#         preg_feature = np.zeros(2, dtype=np.float32)\n",
    "#         is_pregnant = current_wav_dict[\"pregnancy_status\"]\n",
    "#         if is_pregnant == True:\n",
    "#             preg_feature[0] = 1.0\n",
    "#         elif is_pregnant == False:\n",
    "#             preg_feature[1] = 1.0\n",
    "\n",
    "#         # Extract location\n",
    "#         location = current_wav_dict[\"location\"]\n",
    "#         num_recording_locations = len(self.recording_locations)\n",
    "#         loc_feature = np.zeros(num_recording_locations, dtype=np.float32)\n",
    "#         if location in self.recording_locations:\n",
    "#             j = self.recording_locations.index(location)\n",
    "#             loc_feature[j] = 1.0\n",
    "\n",
    "\n",
    "        \n",
    "\n",
    "        # label\n",
    "        \n",
    "#         current_murmur = np.zeros(self.num_murmur_classes, dtype=np.float32)\n",
    "#         murmur = get_murmur(current_patient_data)\n",
    "#         if murmur in self.murmur_classes:\n",
    "#             j = self.murmur_classes.index(murmur)\n",
    "#             current_murmur[j] = 1\n",
    "#         else:\n",
    "#             current_murmur[1] = 1   #unknown absent에 합침\n",
    "\n",
    "\n",
    "#         current_outcome = np.zeros(self.num_outcome_classes, dtype=np.float32)\n",
    "#         outcome = get_outcome(current_patient_data)\n",
    "#         if outcome in self.outcome_classes:\n",
    "#             j = self.outcome_classes.index(outcome)\n",
    "#             current_outcome[j] = 1\n",
    "            \n",
    "\n",
    "\n",
    "        \n",
    "        return feature, current_murmur, current_outcome"
   ]
  },
  {
   "cell_type": "code",
   "execution_count": 18,
   "id": "29dddfb9",
   "metadata": {},
   "outputs": [
    {
     "name": "stdout",
     "output_type": "stream",
     "text": [
      "Available devices  1\n",
      "08-14 01:16 [MainProcess, 19490] [DEBUG]  Starting new HTTPS connection (1): huggingface.co:443\n",
      "08-14 01:16 [MainProcess, 19490] [DEBUG]  Starting new HTTPS connection (1): huggingface.co:443\n",
      "08-14 01:16 [MainProcess, 19490] [DEBUG]  https://huggingface.co:443 \"HEAD /facebook/wav2vec2-base-960h/resolve/main/config.json HTTP/1.1\" 200 0\n",
      "08-14 01:16 [MainProcess, 19490] [DEBUG]  https://huggingface.co:443 \"HEAD /facebook/wav2vec2-base-960h/resolve/main/config.json HTTP/1.1\" 200 0\n",
      "08-14 01:16 [MainProcess, 19490] [DEBUG]  Starting new HTTPS connection (1): huggingface.co:443\n",
      "08-14 01:16 [MainProcess, 19490] [DEBUG]  Starting new HTTPS connection (1): huggingface.co:443\n",
      "08-14 01:16 [MainProcess, 19490] [DEBUG]  https://huggingface.co:443 \"HEAD /facebook/wav2vec2-base-960h/resolve/main/pytorch_model.bin HTTP/1.1\" 302 0\n",
      "08-14 01:16 [MainProcess, 19490] [DEBUG]  https://huggingface.co:443 \"HEAD /facebook/wav2vec2-base-960h/resolve/main/pytorch_model.bin HTTP/1.1\" 302 0\n"
     ]
    },
    {
     "name": "stderr",
     "output_type": "stream",
     "text": [
      "Some weights of Wav2Vec2ForCTC were not initialized from the model checkpoint at facebook/wav2vec2-base-960h and are newly initialized: ['wav2vec2.masked_spec_embed']\n",
      "You should probably TRAIN this model on a down-stream task to be able to use it for predictions and inference.\n"
     ]
    }
   ],
   "source": [
    "# Find data files.\n",
    "# if verbose >= 1:\n",
    "#     print('Finding data files...')\n",
    "\n",
    "torch.cuda.empty_cache()\n",
    "device = torch.device('cuda' if torch.cuda.is_available() else 'cpu')\n",
    "print ('Available devices ', torch.cuda.device_count())\n",
    "\n",
    "\n",
    "GPU_NUM = \"0\" # 원하는 GPU 번호 입력\n",
    "device = torch.device(f'cuda:{GPU_NUM}' if torch.cuda.is_available() else 'cpu')\n",
    "torch.cuda.set_device(device) # change allocation of current GPU\n",
    "\n",
    "# Find the patient data files.\n",
    "patient_files = find_patient_files(args.train_data_folder)\n",
    "num_patient_files = len(patient_files)\n",
    "\n",
    "if num_patient_files==0:\n",
    "    raise Exception('No data was provided.')\n",
    "0 == 0.0\n",
    "# Create a folder for the model if it does not already exist.\n",
    "os.makedirs(args.model_path, exist_ok=True)\n",
    "os.makedirs(args.logdir, exist_ok=True)\n",
    "\n",
    "open(args.logdir + 'score.txt', \"a+\")\n",
    "score_file = open(args.logdir + 'score.txt', \"a+\")\n",
    "\n",
    "\n",
    "model_folder = args.model_path\n",
    "log_dir = args.logdir\n",
    "logger = get_logger(log_dir + '/' + model_folder)\n",
    "\n",
    "# Define the model\n",
    "wav2vec2_lcnn_model = Wav2Vec2_LCNN(\"murmur\")\n",
    "wav2vec2_lcnn_model = wav2vec2_lcnn_model.cuda(device)\n",
    "\n",
    "# Define the metrics\n",
    "# accuracy = Accuracy(num_classes=2)\n",
    "# f1 = F1(num_classes=2,average='micro')\n",
    "\n",
    "# optimizer, loss\n",
    "opt = torch.optim.Adam(wav2vec2_lcnn_model.parameters(), lr=args.lr, betas=(0.9, 0.999))\n",
    "scheduler = torch.optim.lr_scheduler.ExponentialLR(opt, 0.91)\n",
    "criterion = torch.nn.BCELoss()\n",
    "\n",
    "\n",
    "#data loader\n",
    "trainset = train_loader(args.train_data_folder )\n",
    "validset = train_loader(args.valid_data_folder )\n",
    "# point_sampler = RandomSampler(trainset)\n",
    "\n",
    "dataloader_train = DataLoader(dataset=trainset,\n",
    "                    batch_size=args.minibatchsize_train,\n",
    "                           shuffle =True,\n",
    "                           num_workers=args.train_num_workers)\n",
    "dataloader_valid = DataLoader(dataset=validset,\n",
    "                    batch_size=args.minibatchsize_valid,\n",
    "                           num_workers=args.dev_num_workers)"
   ]
  },
  {
   "cell_type": "code",
   "execution_count": 117,
   "id": "5ae4d93e",
   "metadata": {},
   "outputs": [
    {
     "data": {
      "text/plain": [
       "(120000,)"
      ]
     },
     "execution_count": 117,
     "metadata": {},
     "output_type": "execute_result"
    }
   ],
   "source": [
    "trainset[0][0].shape"
   ]
  },
  {
   "cell_type": "code",
   "execution_count": 19,
   "id": "70975663",
   "metadata": {},
   "outputs": [],
   "source": [
    "a,b, c = next(iter(dataloader_train))"
   ]
  },
  {
   "cell_type": "code",
   "execution_count": 21,
   "id": "806aed1f",
   "metadata": {},
   "outputs": [
    {
     "data": {
      "text/plain": [
       "torch.Size([6, 80000])"
      ]
     },
     "execution_count": 21,
     "metadata": {},
     "output_type": "execute_result"
    }
   ],
   "source": [
    "a.shape"
   ]
  },
  {
   "cell_type": "code",
   "execution_count": 25,
   "id": "9a02ef8e",
   "metadata": {},
   "outputs": [],
   "source": [
    "torch.cuda.empty_cache()"
   ]
  },
  {
   "cell_type": "code",
   "execution_count": 11,
   "id": "a693835d",
   "metadata": {},
   "outputs": [
    {
     "name": "stderr",
     "output_type": "stream",
     "text": [
      "100%|█████████████████████████████████████████| 422/422 [01:59<00:00,  3.54it/s]"
     ]
    },
    {
     "name": "stdout",
     "output_type": "stream",
     "text": [
      "lr:  9.1e-07\n",
      "08-13 16:32 [MainProcess, 19490] [INFO ]  Iteration:0, train loss = 0.724867 ,train F1 = 0.320398 \n"
     ]
    },
    {
     "name": "stderr",
     "output_type": "stream",
     "text": [
      "\n",
      "100%|█████████████████████████████████████████| 158/158 [00:06<00:00, 23.72it/s]\n"
     ]
    },
    {
     "name": "stdout",
     "output_type": "stream",
     "text": [
      "08-13 16:32 [MainProcess, 19490] [INFO ]  valid Epoch:0, Train loss=0.7249, Valid loss=0.6923,Valid F1=0.3482, Valid weighted acc=0.5718\n",
      "08-13 16:32 [MainProcess, 19490] [INFO ]  Time used for each epoch training: 126.40052390098572 seconds.\n",
      "08-13 16:32 [MainProcess, 19490] [INFO ]  **************************************************\n"
     ]
    },
    {
     "name": "stderr",
     "output_type": "stream",
     "text": [
      "100%|█████████████████████████████████████████| 422/422 [02:01<00:00,  3.48it/s]"
     ]
    },
    {
     "name": "stdout",
     "output_type": "stream",
     "text": [
      "lr:  8.281e-07\n",
      "08-13 16:34 [MainProcess, 19490] [INFO ]  Iteration:1, train loss = 0.676614 ,train F1 = 0.320398 \n"
     ]
    },
    {
     "name": "stderr",
     "output_type": "stream",
     "text": [
      "\n",
      "100%|█████████████████████████████████████████| 158/158 [00:06<00:00, 23.77it/s]\n"
     ]
    },
    {
     "name": "stdout",
     "output_type": "stream",
     "text": [
      "08-13 16:34 [MainProcess, 19490] [INFO ]  valid Epoch:1, Train loss=0.6766, Valid loss=0.6605,Valid F1=0.3482, Valid weighted acc=0.5718\n",
      "08-13 16:34 [MainProcess, 19490] [INFO ]  Time used for each epoch training: 128.2951717376709 seconds.\n",
      "08-13 16:34 [MainProcess, 19490] [INFO ]  **************************************************\n"
     ]
    },
    {
     "name": "stderr",
     "output_type": "stream",
     "text": [
      "100%|█████████████████████████████████████████| 422/422 [02:01<00:00,  3.47it/s]"
     ]
    },
    {
     "name": "stdout",
     "output_type": "stream",
     "text": [
      "lr:  7.53571e-07\n",
      "08-13 16:36 [MainProcess, 19490] [INFO ]  Iteration:2, train loss = 0.650327 ,train F1 = 0.320398 \n"
     ]
    },
    {
     "name": "stderr",
     "output_type": "stream",
     "text": [
      "\n",
      "100%|█████████████████████████████████████████| 158/158 [00:06<00:00, 23.69it/s]"
     ]
    },
    {
     "name": "stdout",
     "output_type": "stream",
     "text": [
      "08-13 16:36 [MainProcess, 19490] [INFO ]  valid Epoch:2, Train loss=0.6503, Valid loss=0.6311,Valid F1=0.3482, Valid weighted acc=0.5718\n"
     ]
    },
    {
     "name": "stderr",
     "output_type": "stream",
     "text": [
      "\n"
     ]
    },
    {
     "name": "stdout",
     "output_type": "stream",
     "text": [
      "08-13 16:36 [MainProcess, 19490] [INFO ]  Time used for each epoch training: 128.66765761375427 seconds.\n",
      "08-13 16:36 [MainProcess, 19490] [INFO ]  **************************************************\n"
     ]
    },
    {
     "name": "stderr",
     "output_type": "stream",
     "text": [
      "100%|█████████████████████████████████████████| 422/422 [02:01<00:00,  3.46it/s]"
     ]
    },
    {
     "name": "stdout",
     "output_type": "stream",
     "text": [
      "lr:  6.8574961e-07\n",
      "08-13 16:38 [MainProcess, 19490] [INFO ]  Iteration:3, train loss = 0.630450 ,train F1 = 0.320398 \n"
     ]
    },
    {
     "name": "stderr",
     "output_type": "stream",
     "text": [
      "\n",
      "100%|█████████████████████████████████████████| 158/158 [00:06<00:00, 23.56it/s]\n"
     ]
    },
    {
     "name": "stdout",
     "output_type": "stream",
     "text": [
      "08-13 16:39 [MainProcess, 19490] [INFO ]  valid Epoch:3, Train loss=0.6304, Valid loss=0.6119,Valid F1=0.3482, Valid weighted acc=0.5718\n",
      "08-13 16:39 [MainProcess, 19490] [INFO ]  Time used for each epoch training: 128.97380232810974 seconds.\n",
      "08-13 16:39 [MainProcess, 19490] [INFO ]  **************************************************\n"
     ]
    },
    {
     "name": "stderr",
     "output_type": "stream",
     "text": [
      "100%|█████████████████████████████████████████| 422/422 [02:02<00:00,  3.43it/s]"
     ]
    },
    {
     "name": "stdout",
     "output_type": "stream",
     "text": [
      "lr:  6.240321451000001e-07\n",
      "08-13 16:41 [MainProcess, 19490] [INFO ]  Iteration:4, train loss = 0.610343 ,train F1 = 0.320398 \n"
     ]
    },
    {
     "name": "stderr",
     "output_type": "stream",
     "text": [
      "\n",
      "100%|█████████████████████████████████████████| 158/158 [00:06<00:00, 23.20it/s]\n"
     ]
    },
    {
     "name": "stdout",
     "output_type": "stream",
     "text": [
      "08-13 16:41 [MainProcess, 19490] [INFO ]  valid Epoch:4, Train loss=0.6103, Valid loss=0.5854,Valid F1=0.3482, Valid weighted acc=0.5718\n",
      "08-13 16:41 [MainProcess, 19490] [INFO ]  Time used for each epoch training: 130.28402972221375 seconds.\n",
      "08-13 16:41 [MainProcess, 19490] [INFO ]  **************************************************\n"
     ]
    },
    {
     "name": "stderr",
     "output_type": "stream",
     "text": [
      "100%|█████████████████████████████████████████| 422/422 [02:03<00:00,  3.42it/s]"
     ]
    },
    {
     "name": "stdout",
     "output_type": "stream",
     "text": [
      "lr:  5.67869252041e-07\n",
      "08-13 16:43 [MainProcess, 19490] [INFO ]  Iteration:5, train loss = 0.589782 ,train F1 = 0.319035 \n"
     ]
    },
    {
     "name": "stderr",
     "output_type": "stream",
     "text": [
      "\n",
      "100%|█████████████████████████████████████████| 158/158 [00:06<00:00, 23.13it/s]"
     ]
    },
    {
     "name": "stdout",
     "output_type": "stream",
     "text": [
      "08-13 16:43 [MainProcess, 19490] [INFO ]  valid Epoch:5, Train loss=0.5898, Valid loss=0.5783,Valid F1=0.3486, Valid weighted acc=0.5727\n"
     ]
    },
    {
     "name": "stderr",
     "output_type": "stream",
     "text": [
      "\n"
     ]
    },
    {
     "name": "stdout",
     "output_type": "stream",
     "text": [
      "08-13 16:43 [MainProcess, 19490] [INFO ]  Time used for each epoch training: 130.93567848205566 seconds.\n",
      "08-13 16:43 [MainProcess, 19490] [INFO ]  **************************************************\n"
     ]
    },
    {
     "name": "stderr",
     "output_type": "stream",
     "text": [
      "100%|█████████████████████████████████████████| 422/422 [02:04<00:00,  3.39it/s]"
     ]
    },
    {
     "name": "stdout",
     "output_type": "stream",
     "text": [
      "lr:  5.167610193573101e-07\n",
      "08-13 16:45 [MainProcess, 19490] [INFO ]  Iteration:6, train loss = 0.571259 ,train F1 = 0.355847 \n"
     ]
    },
    {
     "name": "stderr",
     "output_type": "stream",
     "text": [
      "\n",
      "100%|█████████████████████████████████████████| 158/158 [00:06<00:00, 23.26it/s]\n"
     ]
    },
    {
     "name": "stdout",
     "output_type": "stream",
     "text": [
      "08-13 16:45 [MainProcess, 19490] [INFO ]  valid Epoch:6, Train loss=0.5713, Valid loss=0.5520,Valid F1=0.6239, Valid weighted acc=0.7876\n",
      "08-13 16:45 [MainProcess, 19490] [INFO ]  Time used for each epoch training: 131.75598692893982 seconds.\n",
      "08-13 16:45 [MainProcess, 19490] [INFO ]  **************************************************\n"
     ]
    },
    {
     "name": "stderr",
     "output_type": "stream",
     "text": [
      "100%|█████████████████████████████████████████| 422/422 [02:03<00:00,  3.43it/s]"
     ]
    },
    {
     "name": "stdout",
     "output_type": "stream",
     "text": [
      "lr:  4.702525276151522e-07\n",
      "08-13 16:47 [MainProcess, 19490] [INFO ]  Iteration:7, train loss = 0.556138 ,train F1 = 0.383875 \n"
     ]
    },
    {
     "name": "stderr",
     "output_type": "stream",
     "text": [
      "\n",
      "100%|█████████████████████████████████████████| 158/158 [00:06<00:00, 23.25it/s]\n"
     ]
    },
    {
     "name": "stdout",
     "output_type": "stream",
     "text": [
      "08-13 16:47 [MainProcess, 19490] [INFO ]  valid Epoch:7, Train loss=0.5561, Valid loss=0.5555,Valid F1=0.5768, Valid weighted acc=0.7756\n",
      "08-13 16:47 [MainProcess, 19490] [INFO ]  Time used for each epoch training: 130.3454213142395 seconds.\n",
      "08-13 16:47 [MainProcess, 19490] [INFO ]  **************************************************\n"
     ]
    },
    {
     "name": "stderr",
     "output_type": "stream",
     "text": [
      "100%|█████████████████████████████████████████| 422/422 [02:03<00:00,  3.41it/s]"
     ]
    },
    {
     "name": "stdout",
     "output_type": "stream",
     "text": [
      "lr:  4.2792980012978854e-07\n",
      "08-13 16:49 [MainProcess, 19490] [INFO ]  Iteration:8, train loss = 0.539961 ,train F1 = 0.425723 \n"
     ]
    },
    {
     "name": "stderr",
     "output_type": "stream",
     "text": [
      "\n",
      "100%|█████████████████████████████████████████| 158/158 [00:06<00:00, 23.21it/s]\n"
     ]
    },
    {
     "name": "stdout",
     "output_type": "stream",
     "text": [
      "08-13 16:49 [MainProcess, 19490] [INFO ]  valid Epoch:8, Train loss=0.5400, Valid loss=0.5044,Valid F1=0.6783, Valid weighted acc=0.7971\n",
      "08-13 16:49 [MainProcess, 19490] [INFO ]  Time used for each epoch training: 131.06769847869873 seconds.\n",
      "08-13 16:49 [MainProcess, 19490] [INFO ]  **************************************************\n"
     ]
    },
    {
     "name": "stderr",
     "output_type": "stream",
     "text": [
      "100%|█████████████████████████████████████████| 422/422 [02:03<00:00,  3.42it/s]"
     ]
    },
    {
     "name": "stdout",
     "output_type": "stream",
     "text": [
      "lr:  3.894161181181076e-07\n",
      "08-13 16:52 [MainProcess, 19490] [INFO ]  Iteration:9, train loss = 0.532979 ,train F1 = 0.416537 \n"
     ]
    },
    {
     "name": "stderr",
     "output_type": "stream",
     "text": [
      "\n",
      "100%|█████████████████████████████████████████| 158/158 [00:06<00:00, 23.27it/s]\n"
     ]
    },
    {
     "name": "stdout",
     "output_type": "stream",
     "text": [
      "08-13 16:52 [MainProcess, 19490] [INFO ]  valid Epoch:9, Train loss=0.5330, Valid loss=0.4857,Valid F1=0.7059, Valid weighted acc=0.7713\n",
      "08-13 16:52 [MainProcess, 19490] [INFO ]  Time used for each epoch training: 130.77302503585815 seconds.\n",
      "08-13 16:52 [MainProcess, 19490] [INFO ]  **************************************************\n"
     ]
    },
    {
     "name": "stderr",
     "output_type": "stream",
     "text": [
      "100%|█████████████████████████████████████████| 422/422 [02:03<00:00,  3.43it/s]"
     ]
    },
    {
     "name": "stdout",
     "output_type": "stream",
     "text": [
      "lr:  3.543686674874779e-07\n",
      "08-13 16:54 [MainProcess, 19490] [INFO ]  Iteration:10, train loss = 0.523975 ,train F1 = 0.506614 \n"
     ]
    },
    {
     "name": "stderr",
     "output_type": "stream",
     "text": [
      "\n",
      "100%|█████████████████████████████████████████| 158/158 [00:06<00:00, 23.28it/s]\n"
     ]
    },
    {
     "name": "stdout",
     "output_type": "stream",
     "text": [
      "08-13 16:54 [MainProcess, 19490] [INFO ]  valid Epoch:10, Train loss=0.5240, Valid loss=0.4777,Valid F1=0.7020, Valid weighted acc=0.7756\n",
      "08-13 16:54 [MainProcess, 19490] [INFO ]  Time used for each epoch training: 130.4322726726532 seconds.\n",
      "08-13 16:54 [MainProcess, 19490] [INFO ]  **************************************************\n"
     ]
    },
    {
     "name": "stderr",
     "output_type": "stream",
     "text": [
      "100%|█████████████████████████████████████████| 422/422 [02:03<00:00,  3.43it/s]"
     ]
    },
    {
     "name": "stdout",
     "output_type": "stream",
     "text": [
      "lr:  3.2247548741360487e-07\n",
      "08-13 16:56 [MainProcess, 19490] [INFO ]  Iteration:11, train loss = 0.512940 ,train F1 = 0.618454 \n"
     ]
    },
    {
     "name": "stderr",
     "output_type": "stream",
     "text": [
      "\n",
      "100%|█████████████████████████████████████████| 158/158 [00:06<00:00, 23.25it/s]"
     ]
    },
    {
     "name": "stdout",
     "output_type": "stream",
     "text": [
      "08-13 16:56 [MainProcess, 19490] [INFO ]  valid Epoch:11, Train loss=0.5129, Valid loss=0.5000,Valid F1=0.6452, Valid weighted acc=0.7919\n"
     ]
    },
    {
     "name": "stderr",
     "output_type": "stream",
     "text": [
      "\n"
     ]
    },
    {
     "name": "stdout",
     "output_type": "stream",
     "text": [
      "08-13 16:56 [MainProcess, 19490] [INFO ]  Time used for each epoch training: 130.36086535453796 seconds.\n",
      "08-13 16:56 [MainProcess, 19490] [INFO ]  **************************************************\n"
     ]
    },
    {
     "name": "stderr",
     "output_type": "stream",
     "text": [
      "100%|█████████████████████████████████████████| 422/422 [02:03<00:00,  3.43it/s]"
     ]
    },
    {
     "name": "stdout",
     "output_type": "stream",
     "text": [
      "lr:  2.9345269354638045e-07\n",
      "08-13 16:58 [MainProcess, 19490] [INFO ]  Iteration:12, train loss = 0.507903 ,train F1 = 0.634021 \n"
     ]
    },
    {
     "name": "stderr",
     "output_type": "stream",
     "text": [
      "\n",
      "100%|█████████████████████████████████████████| 158/158 [00:06<00:00, 23.27it/s]\n"
     ]
    },
    {
     "name": "stdout",
     "output_type": "stream",
     "text": [
      "08-13 16:58 [MainProcess, 19490] [INFO ]  valid Epoch:12, Train loss=0.5079, Valid loss=0.4734,Valid F1=0.7197, Valid weighted acc=0.8057\n",
      "08-13 16:58 [MainProcess, 19490] [INFO ]  Time used for each epoch training: 130.34231543540955 seconds.\n",
      "08-13 16:58 [MainProcess, 19490] [INFO ]  **************************************************\n"
     ]
    },
    {
     "name": "stderr",
     "output_type": "stream",
     "text": [
      "100%|█████████████████████████████████████████| 422/422 [02:03<00:00,  3.43it/s]"
     ]
    },
    {
     "name": "stdout",
     "output_type": "stream",
     "text": [
      "lr:  2.670419511272062e-07\n",
      "08-13 17:00 [MainProcess, 19490] [INFO ]  Iteration:13, train loss = 0.500836 ,train F1 = 0.667297 \n"
     ]
    },
    {
     "name": "stderr",
     "output_type": "stream",
     "text": [
      "\n",
      "100%|█████████████████████████████████████████| 158/158 [00:06<00:00, 23.24it/s]\n"
     ]
    },
    {
     "name": "stdout",
     "output_type": "stream",
     "text": [
      "08-13 17:00 [MainProcess, 19490] [INFO ]  valid Epoch:13, Train loss=0.5008, Valid loss=0.4601,Valid F1=0.7068, Valid weighted acc=0.7825\n",
      "08-13 17:00 [MainProcess, 19490] [INFO ]  Time used for each epoch training: 130.4286060333252 seconds.\n",
      "08-13 17:00 [MainProcess, 19490] [INFO ]  **************************************************\n"
     ]
    },
    {
     "name": "stderr",
     "output_type": "stream",
     "text": [
      "100%|█████████████████████████████████████████| 422/422 [02:02<00:00,  3.43it/s]"
     ]
    },
    {
     "name": "stdout",
     "output_type": "stream",
     "text": [
      "lr:  2.4300817552575764e-07\n",
      "08-13 17:02 [MainProcess, 19490] [INFO ]  Iteration:14, train loss = 0.497160 ,train F1 = 0.650779 \n"
     ]
    },
    {
     "name": "stderr",
     "output_type": "stream",
     "text": [
      "\n",
      "100%|█████████████████████████████████████████| 158/158 [00:06<00:00, 23.25it/s]\n"
     ]
    },
    {
     "name": "stdout",
     "output_type": "stream",
     "text": [
      "08-13 17:03 [MainProcess, 19490] [INFO ]  valid Epoch:14, Train loss=0.4972, Valid loss=0.4676,Valid F1=0.7174, Valid weighted acc=0.8160\n",
      "08-13 17:03 [MainProcess, 19490] [INFO ]  Time used for each epoch training: 130.28625559806824 seconds.\n",
      "08-13 17:03 [MainProcess, 19490] [INFO ]  **************************************************\n"
     ]
    },
    {
     "name": "stderr",
     "output_type": "stream",
     "text": [
      "100%|█████████████████████████████████████████| 422/422 [02:02<00:00,  3.43it/s]"
     ]
    },
    {
     "name": "stdout",
     "output_type": "stream",
     "text": [
      "lr:  2.2113743972843945e-07\n",
      "08-13 17:05 [MainProcess, 19490] [INFO ]  Iteration:15, train loss = 0.493250 ,train F1 = 0.638298 \n"
     ]
    },
    {
     "name": "stderr",
     "output_type": "stream",
     "text": [
      "\n",
      "100%|█████████████████████████████████████████| 158/158 [00:06<00:00, 23.27it/s]\n"
     ]
    },
    {
     "name": "stdout",
     "output_type": "stream",
     "text": [
      "08-13 17:05 [MainProcess, 19490] [INFO ]  valid Epoch:15, Train loss=0.4932, Valid loss=0.4524,Valid F1=0.7302, Valid weighted acc=0.8005\n",
      "08-13 17:05 [MainProcess, 19490] [INFO ]  Time used for each epoch training: 130.16543984413147 seconds.\n",
      "08-13 17:05 [MainProcess, 19490] [INFO ]  **************************************************\n"
     ]
    },
    {
     "name": "stderr",
     "output_type": "stream",
     "text": [
      "100%|█████████████████████████████████████████| 422/422 [02:03<00:00,  3.42it/s]"
     ]
    },
    {
     "name": "stdout",
     "output_type": "stream",
     "text": [
      "lr:  2.012350701528799e-07\n",
      "08-13 17:07 [MainProcess, 19490] [INFO ]  Iteration:16, train loss = 0.488321 ,train F1 = 0.686627 \n"
     ]
    },
    {
     "name": "stderr",
     "output_type": "stream",
     "text": [
      "\n",
      "100%|█████████████████████████████████████████| 158/158 [00:06<00:00, 23.21it/s]"
     ]
    },
    {
     "name": "stdout",
     "output_type": "stream",
     "text": [
      "08-13 17:07 [MainProcess, 19490] [INFO ]  valid Epoch:16, Train loss=0.4883, Valid loss=0.4487,Valid F1=0.7295, Valid weighted acc=0.7919\n"
     ]
    },
    {
     "name": "stderr",
     "output_type": "stream",
     "text": [
      "\n"
     ]
    },
    {
     "name": "stdout",
     "output_type": "stream",
     "text": [
      "08-13 17:07 [MainProcess, 19490] [INFO ]  Time used for each epoch training: 130.7332525253296 seconds.\n",
      "08-13 17:07 [MainProcess, 19490] [INFO ]  **************************************************\n"
     ]
    },
    {
     "name": "stderr",
     "output_type": "stream",
     "text": [
      "100%|█████████████████████████████████████████| 422/422 [02:03<00:00,  3.43it/s]"
     ]
    },
    {
     "name": "stdout",
     "output_type": "stream",
     "text": [
      "lr:  1.831239138391207e-07\n",
      "08-13 17:09 [MainProcess, 19490] [INFO ]  Iteration:17, train loss = 0.486355 ,train F1 = 0.694845 \n"
     ]
    },
    {
     "name": "stderr",
     "output_type": "stream",
     "text": [
      "\n",
      "100%|█████████████████████████████████████████| 158/158 [00:06<00:00, 23.29it/s]\n"
     ]
    },
    {
     "name": "stdout",
     "output_type": "stream",
     "text": [
      "08-13 17:09 [MainProcess, 19490] [INFO ]  valid Epoch:17, Train loss=0.4864, Valid loss=0.4482,Valid F1=0.7451, Valid weighted acc=0.8134\n",
      "08-13 17:09 [MainProcess, 19490] [INFO ]  Time used for each epoch training: 130.40610194206238 seconds.\n",
      "08-13 17:09 [MainProcess, 19490] [INFO ]  **************************************************\n"
     ]
    },
    {
     "name": "stderr",
     "output_type": "stream",
     "text": [
      "100%|█████████████████████████████████████████| 422/422 [02:03<00:00,  3.42it/s]"
     ]
    },
    {
     "name": "stdout",
     "output_type": "stream",
     "text": [
      "lr:  1.6664276159359984e-07\n",
      "08-13 17:11 [MainProcess, 19490] [INFO ]  Iteration:18, train loss = 0.484261 ,train F1 = 0.670520 \n"
     ]
    },
    {
     "name": "stderr",
     "output_type": "stream",
     "text": [
      "\n",
      "100%|█████████████████████████████████████████| 158/158 [00:06<00:00, 23.27it/s]\n"
     ]
    },
    {
     "name": "stdout",
     "output_type": "stream",
     "text": [
      "08-13 17:11 [MainProcess, 19490] [INFO ]  valid Epoch:18, Train loss=0.4843, Valid loss=0.4501,Valid F1=0.7273, Valid weighted acc=0.7885\n",
      "08-13 17:11 [MainProcess, 19490] [INFO ]  Time used for each epoch training: 130.76330065727234 seconds.\n",
      "08-13 17:11 [MainProcess, 19490] [INFO ]  **************************************************\n"
     ]
    },
    {
     "name": "stderr",
     "output_type": "stream",
     "text": [
      "100%|█████████████████████████████████████████| 422/422 [02:03<00:00,  3.41it/s]"
     ]
    },
    {
     "name": "stdout",
     "output_type": "stream",
     "text": [
      "lr:  1.5164491305017586e-07\n",
      "08-13 17:13 [MainProcess, 19490] [INFO ]  Iteration:19, train loss = 0.479100 ,train F1 = 0.693630 \n"
     ]
    },
    {
     "name": "stderr",
     "output_type": "stream",
     "text": [
      "\n",
      "100%|█████████████████████████████████████████| 158/158 [00:06<00:00, 23.01it/s]"
     ]
    },
    {
     "name": "stdout",
     "output_type": "stream",
     "text": [
      "08-13 17:13 [MainProcess, 19490] [INFO ]  valid Epoch:19, Train loss=0.4791, Valid loss=0.4453,Valid F1=0.7442, Valid weighted acc=0.8160\n"
     ]
    },
    {
     "name": "stderr",
     "output_type": "stream",
     "text": [
      "\n"
     ]
    },
    {
     "name": "stdout",
     "output_type": "stream",
     "text": [
      "08-13 17:13 [MainProcess, 19490] [INFO ]  Time used for each epoch training: 131.09523057937622 seconds.\n",
      "08-13 17:13 [MainProcess, 19490] [INFO ]  **************************************************\n"
     ]
    },
    {
     "name": "stderr",
     "output_type": "stream",
     "text": [
      "100%|█████████████████████████████████████████| 422/422 [02:03<00:00,  3.42it/s]"
     ]
    },
    {
     "name": "stdout",
     "output_type": "stream",
     "text": [
      "lr:  1.3799687087566003e-07\n",
      "08-13 17:15 [MainProcess, 19490] [INFO ]  Iteration:20, train loss = 0.473330 ,train F1 = 0.714004 \n"
     ]
    },
    {
     "name": "stderr",
     "output_type": "stream",
     "text": [
      "\n",
      "100%|█████████████████████████████████████████| 158/158 [00:06<00:00, 22.88it/s]\n"
     ]
    },
    {
     "name": "stdout",
     "output_type": "stream",
     "text": [
      "08-13 17:16 [MainProcess, 19490] [INFO ]  valid Epoch:20, Train loss=0.4733, Valid loss=0.4435,Valid F1=0.7309, Valid weighted acc=0.7979\n",
      "08-13 17:16 [MainProcess, 19490] [INFO ]  Time used for each epoch training: 130.919020652771 seconds.\n",
      "08-13 17:16 [MainProcess, 19490] [INFO ]  **************************************************\n"
     ]
    },
    {
     "name": "stderr",
     "output_type": "stream",
     "text": [
      "100%|█████████████████████████████████████████| 422/422 [02:04<00:00,  3.38it/s]"
     ]
    },
    {
     "name": "stdout",
     "output_type": "stream",
     "text": [
      "lr:  1.2557715249685064e-07\n",
      "08-13 17:18 [MainProcess, 19490] [INFO ]  Iteration:21, train loss = 0.474586 ,train F1 = 0.728025 \n"
     ]
    },
    {
     "name": "stderr",
     "output_type": "stream",
     "text": [
      "\n",
      "100%|█████████████████████████████████████████| 158/158 [00:06<00:00, 23.66it/s]\n"
     ]
    },
    {
     "name": "stdout",
     "output_type": "stream",
     "text": [
      "08-13 17:18 [MainProcess, 19490] [INFO ]  valid Epoch:21, Train loss=0.4746, Valid loss=0.4425,Valid F1=0.7336, Valid weighted acc=0.8100\n",
      "08-13 17:18 [MainProcess, 19490] [INFO ]  Time used for each epoch training: 131.95827865600586 seconds.\n",
      "08-13 17:18 [MainProcess, 19490] [INFO ]  **************************************************\n"
     ]
    },
    {
     "name": "stderr",
     "output_type": "stream",
     "text": [
      "100%|█████████████████████████████████████████| 422/422 [02:03<00:00,  3.41it/s]"
     ]
    },
    {
     "name": "stdout",
     "output_type": "stream",
     "text": [
      "lr:  1.1427520877213408e-07\n",
      "08-13 17:20 [MainProcess, 19490] [INFO ]  Iteration:22, train loss = 0.468243 ,train F1 = 0.740741 \n"
     ]
    },
    {
     "name": "stderr",
     "output_type": "stream",
     "text": [
      "\n",
      "100%|█████████████████████████████████████████| 158/158 [00:06<00:00, 23.47it/s]\n"
     ]
    },
    {
     "name": "stdout",
     "output_type": "stream",
     "text": [
      "08-13 17:20 [MainProcess, 19490] [INFO ]  valid Epoch:22, Train loss=0.4682, Valid loss=0.4416,Valid F1=0.7280, Valid weighted acc=0.7971\n",
      "08-13 17:20 [MainProcess, 19490] [INFO ]  Time used for each epoch training: 130.84093570709229 seconds.\n",
      "08-13 17:20 [MainProcess, 19490] [INFO ]  **************************************************\n"
     ]
    },
    {
     "name": "stderr",
     "output_type": "stream",
     "text": [
      "100%|█████████████████████████████████████████| 422/422 [02:03<00:00,  3.42it/s]"
     ]
    },
    {
     "name": "stdout",
     "output_type": "stream",
     "text": [
      "lr:  1.0399043998264202e-07\n",
      "08-13 17:22 [MainProcess, 19490] [INFO ]  Iteration:23, train loss = 0.465588 ,train F1 = 0.734818 \n"
     ]
    },
    {
     "name": "stderr",
     "output_type": "stream",
     "text": [
      "\n",
      "100%|█████████████████████████████████████████| 158/158 [00:06<00:00, 23.26it/s]\n"
     ]
    },
    {
     "name": "stdout",
     "output_type": "stream",
     "text": [
      "08-13 17:22 [MainProcess, 19490] [INFO ]  valid Epoch:23, Train loss=0.4656, Valid loss=0.4416,Valid F1=0.7315, Valid weighted acc=0.8065\n",
      "08-13 17:22 [MainProcess, 19490] [INFO ]  Time used for each epoch training: 130.7817029953003 seconds.\n",
      "08-13 17:22 [MainProcess, 19490] [INFO ]  **************************************************\n"
     ]
    },
    {
     "name": "stderr",
     "output_type": "stream",
     "text": [
      "100%|█████████████████████████████████████████| 422/422 [02:03<00:00,  3.43it/s]"
     ]
    },
    {
     "name": "stdout",
     "output_type": "stream",
     "text": [
      "lr:  9.463130038420424e-08\n",
      "08-13 17:24 [MainProcess, 19490] [INFO ]  Iteration:24, train loss = 0.468540 ,train F1 = 0.721992 \n"
     ]
    },
    {
     "name": "stderr",
     "output_type": "stream",
     "text": [
      "\n",
      "100%|█████████████████████████████████████████| 158/158 [00:06<00:00, 23.25it/s]\n"
     ]
    },
    {
     "name": "stdout",
     "output_type": "stream",
     "text": [
      "08-13 17:24 [MainProcess, 19490] [INFO ]  valid Epoch:24, Train loss=0.4685, Valid loss=0.4377,Valid F1=0.7213, Valid weighted acc=0.7868\n",
      "08-13 17:24 [MainProcess, 19490] [INFO ]  Time used for each epoch training: 130.4215726852417 seconds.\n",
      "08-13 17:24 [MainProcess, 19490] [INFO ]  **************************************************\n"
     ]
    },
    {
     "name": "stderr",
     "output_type": "stream",
     "text": [
      "100%|█████████████████████████████████████████| 422/422 [02:03<00:00,  3.43it/s]"
     ]
    },
    {
     "name": "stdout",
     "output_type": "stream",
     "text": [
      "lr:  8.611448334962586e-08\n",
      "08-13 17:26 [MainProcess, 19490] [INFO ]  Iteration:25, train loss = 0.466771 ,train F1 = 0.741834 \n"
     ]
    },
    {
     "name": "stderr",
     "output_type": "stream",
     "text": [
      "\n",
      "100%|█████████████████████████████████████████| 158/158 [00:06<00:00, 23.27it/s]\n"
     ]
    },
    {
     "name": "stdout",
     "output_type": "stream",
     "text": [
      "08-13 17:26 [MainProcess, 19490] [INFO ]  valid Epoch:25, Train loss=0.4668, Valid loss=0.4387,Valid F1=0.7229, Valid weighted acc=0.7928\n",
      "08-13 17:26 [MainProcess, 19490] [INFO ]  Time used for each epoch training: 130.43574237823486 seconds.\n",
      "08-13 17:26 [MainProcess, 19490] [INFO ]  **************************************************\n"
     ]
    },
    {
     "name": "stderr",
     "output_type": "stream",
     "text": [
      "100%|█████████████████████████████████████████| 422/422 [02:02<00:00,  3.43it/s]"
     ]
    },
    {
     "name": "stdout",
     "output_type": "stream",
     "text": [
      "lr:  7.836417984815954e-08\n",
      "08-13 17:29 [MainProcess, 19490] [INFO ]  Iteration:26, train loss = 0.461106 ,train F1 = 0.744939 \n"
     ]
    },
    {
     "name": "stderr",
     "output_type": "stream",
     "text": [
      "\n",
      "100%|█████████████████████████████████████████| 158/158 [00:06<00:00, 23.23it/s]\n"
     ]
    },
    {
     "name": "stdout",
     "output_type": "stream",
     "text": [
      "08-13 17:29 [MainProcess, 19490] [INFO ]  valid Epoch:26, Train loss=0.4611, Valid loss=0.4350,Valid F1=0.7194, Valid weighted acc=0.7945\n",
      "08-13 17:29 [MainProcess, 19490] [INFO ]  Time used for each epoch training: 130.1361598968506 seconds.\n",
      "08-13 17:29 [MainProcess, 19490] [INFO ]  **************************************************\n"
     ]
    },
    {
     "name": "stderr",
     "output_type": "stream",
     "text": [
      "100%|█████████████████████████████████████████| 422/422 [02:03<00:00,  3.42it/s]"
     ]
    },
    {
     "name": "stdout",
     "output_type": "stream",
     "text": [
      "lr:  7.131140366182519e-08\n",
      "08-13 17:31 [MainProcess, 19490] [INFO ]  Iteration:27, train loss = 0.462145 ,train F1 = 0.745474 \n"
     ]
    },
    {
     "name": "stderr",
     "output_type": "stream",
     "text": [
      "\n",
      "100%|█████████████████████████████████████████| 158/158 [00:06<00:00, 23.27it/s]\n"
     ]
    },
    {
     "name": "stdout",
     "output_type": "stream",
     "text": [
      "08-13 17:31 [MainProcess, 19490] [INFO ]  valid Epoch:27, Train loss=0.4621, Valid loss=0.4368,Valid F1=0.7258, Valid weighted acc=0.7936\n",
      "08-13 17:31 [MainProcess, 19490] [INFO ]  Time used for each epoch training: 130.6405622959137 seconds.\n",
      "08-13 17:31 [MainProcess, 19490] [INFO ]  **************************************************\n"
     ]
    },
    {
     "name": "stderr",
     "output_type": "stream",
     "text": [
      "100%|█████████████████████████████████████████| 422/422 [02:03<00:00,  3.43it/s]"
     ]
    },
    {
     "name": "stdout",
     "output_type": "stream",
     "text": [
      "lr:  6.489337733226092e-08\n",
      "08-13 17:33 [MainProcess, 19490] [INFO ]  Iteration:28, train loss = 0.462672 ,train F1 = 0.741834 \n"
     ]
    },
    {
     "name": "stderr",
     "output_type": "stream",
     "text": [
      "\n",
      "100%|█████████████████████████████████████████| 158/158 [00:06<00:00, 23.24it/s]\n"
     ]
    },
    {
     "name": "stdout",
     "output_type": "stream",
     "text": [
      "08-13 17:33 [MainProcess, 19490] [INFO ]  valid Epoch:28, Train loss=0.4627, Valid loss=0.4374,Valid F1=0.7280, Valid weighted acc=0.7971\n",
      "08-13 17:33 [MainProcess, 19490] [INFO ]  Time used for each epoch training: 130.45445132255554 seconds.\n",
      "08-13 17:33 [MainProcess, 19490] [INFO ]  **************************************************\n"
     ]
    },
    {
     "name": "stderr",
     "output_type": "stream",
     "text": [
      "100%|█████████████████████████████████████████| 422/422 [02:03<00:00,  3.42it/s]"
     ]
    },
    {
     "name": "stdout",
     "output_type": "stream",
     "text": [
      "lr:  5.905297337235744e-08\n",
      "08-13 17:35 [MainProcess, 19490] [INFO ]  Iteration:29, train loss = 0.461035 ,train F1 = 0.739224 \n"
     ]
    },
    {
     "name": "stderr",
     "output_type": "stream",
     "text": [
      "\n",
      "100%|█████████████████████████████████████████| 158/158 [00:06<00:00, 23.27it/s]\n"
     ]
    },
    {
     "name": "stdout",
     "output_type": "stream",
     "text": [
      "08-13 17:35 [MainProcess, 19490] [INFO ]  valid Epoch:29, Train loss=0.4610, Valid loss=0.4328,Valid F1=0.7280, Valid weighted acc=0.7971\n",
      "08-13 17:35 [MainProcess, 19490] [INFO ]  Time used for each epoch training: 130.660174369812 seconds.\n",
      "08-13 17:35 [MainProcess, 19490] [INFO ]  **************************************************\n"
     ]
    },
    {
     "name": "stderr",
     "output_type": "stream",
     "text": [
      "100%|█████████████████████████████████████████| 422/422 [02:03<00:00,  3.42it/s]"
     ]
    },
    {
     "name": "stdout",
     "output_type": "stream",
     "text": [
      "lr:  5.373820576884527e-08\n",
      "08-13 17:37 [MainProcess, 19490] [INFO ]  Iteration:30, train loss = 0.459342 ,train F1 = 0.742917 \n"
     ]
    },
    {
     "name": "stderr",
     "output_type": "stream",
     "text": [
      "\n",
      "100%|█████████████████████████████████████████| 158/158 [00:06<00:00, 23.64it/s]"
     ]
    },
    {
     "name": "stdout",
     "output_type": "stream",
     "text": [
      "08-13 17:37 [MainProcess, 19490] [INFO ]  valid Epoch:30, Train loss=0.4593, Valid loss=0.4320,Valid F1=0.7236, Valid weighted acc=0.7902\n"
     ]
    },
    {
     "name": "stderr",
     "output_type": "stream",
     "text": [
      "\n"
     ]
    },
    {
     "name": "stdout",
     "output_type": "stream",
     "text": [
      "08-13 17:37 [MainProcess, 19490] [INFO ]  Time used for each epoch training: 130.50086450576782 seconds.\n",
      "08-13 17:37 [MainProcess, 19490] [INFO ]  **************************************************\n"
     ]
    },
    {
     "name": "stderr",
     "output_type": "stream",
     "text": [
      "100%|█████████████████████████████████████████| 422/422 [02:02<00:00,  3.45it/s]"
     ]
    },
    {
     "name": "stdout",
     "output_type": "stream",
     "text": [
      "lr:  4.89017672496492e-08\n",
      "08-13 17:39 [MainProcess, 19490] [INFO ]  Iteration:31, train loss = 0.455490 ,train F1 = 0.769231 \n"
     ]
    },
    {
     "name": "stderr",
     "output_type": "stream",
     "text": [
      "\n",
      "100%|█████████████████████████████████████████| 158/158 [00:06<00:00, 23.63it/s]\n"
     ]
    },
    {
     "name": "stdout",
     "output_type": "stream",
     "text": [
      "08-13 17:40 [MainProcess, 19490] [INFO ]  valid Epoch:31, Train loss=0.4555, Valid loss=0.4358,Valid F1=0.7251, Valid weighted acc=0.7962\n",
      "08-13 17:40 [MainProcess, 19490] [INFO ]  Time used for each epoch training: 129.49339246749878 seconds.\n",
      "08-13 17:40 [MainProcess, 19490] [INFO ]  **************************************************\n"
     ]
    },
    {
     "name": "stderr",
     "output_type": "stream",
     "text": [
      "100%|█████████████████████████████████████████| 422/422 [02:02<00:00,  3.44it/s]"
     ]
    },
    {
     "name": "stdout",
     "output_type": "stream",
     "text": [
      "lr:  4.4500608197180777e-08\n",
      "08-13 17:42 [MainProcess, 19490] [INFO ]  Iteration:32, train loss = 0.457163 ,train F1 = 0.737619 \n"
     ]
    },
    {
     "name": "stderr",
     "output_type": "stream",
     "text": [
      "\n",
      "100%|█████████████████████████████████████████| 158/158 [00:06<00:00, 23.64it/s]"
     ]
    },
    {
     "name": "stdout",
     "output_type": "stream",
     "text": [
      "08-13 17:42 [MainProcess, 19490] [INFO ]  valid Epoch:32, Train loss=0.4572, Valid loss=0.4319,Valid F1=0.7280, Valid weighted acc=0.7971\n"
     ]
    },
    {
     "name": "stderr",
     "output_type": "stream",
     "text": [
      "\n"
     ]
    },
    {
     "name": "stdout",
     "output_type": "stream",
     "text": [
      "08-13 17:42 [MainProcess, 19490] [INFO ]  Time used for each epoch training: 129.82413864135742 seconds.\n",
      "08-13 17:42 [MainProcess, 19490] [INFO ]  **************************************************\n"
     ]
    },
    {
     "name": "stderr",
     "output_type": "stream",
     "text": [
      "100%|█████████████████████████████████████████| 422/422 [02:02<00:00,  3.46it/s]"
     ]
    },
    {
     "name": "stdout",
     "output_type": "stream",
     "text": [
      "lr:  4.049555345943451e-08\n",
      "08-13 17:44 [MainProcess, 19490] [INFO ]  Iteration:33, train loss = 0.458245 ,train F1 = 0.737395 \n"
     ]
    },
    {
     "name": "stderr",
     "output_type": "stream",
     "text": [
      "\n",
      "100%|█████████████████████████████████████████| 158/158 [00:06<00:00, 23.65it/s]"
     ]
    },
    {
     "name": "stdout",
     "output_type": "stream",
     "text": [
      "08-13 17:44 [MainProcess, 19490] [INFO ]  valid Epoch:33, Train loss=0.4582, Valid loss=0.4351,Valid F1=0.7280, Valid weighted acc=0.7971\n"
     ]
    },
    {
     "name": "stderr",
     "output_type": "stream",
     "text": [
      "\n"
     ]
    },
    {
     "name": "stdout",
     "output_type": "stream",
     "text": [
      "08-13 17:44 [MainProcess, 19490] [INFO ]  Time used for each epoch training: 129.33766341209412 seconds.\n",
      "08-13 17:44 [MainProcess, 19490] [INFO ]  **************************************************\n"
     ]
    },
    {
     "name": "stderr",
     "output_type": "stream",
     "text": [
      "100%|█████████████████████████████████████████| 422/422 [02:02<00:00,  3.45it/s]"
     ]
    },
    {
     "name": "stdout",
     "output_type": "stream",
     "text": [
      "lr:  3.685095364808541e-08\n",
      "08-13 17:46 [MainProcess, 19490] [INFO ]  Iteration:34, train loss = 0.456808 ,train F1 = 0.751334 \n"
     ]
    },
    {
     "name": "stderr",
     "output_type": "stream",
     "text": [
      "\n",
      "100%|█████████████████████████████████████████| 158/158 [00:06<00:00, 23.66it/s]"
     ]
    },
    {
     "name": "stdout",
     "output_type": "stream",
     "text": [
      "08-13 17:46 [MainProcess, 19490] [INFO ]  valid Epoch:34, Train loss=0.4568, Valid loss=0.4374,Valid F1=0.7280, Valid weighted acc=0.7971\n"
     ]
    },
    {
     "name": "stderr",
     "output_type": "stream",
     "text": [
      "\n"
     ]
    },
    {
     "name": "stdout",
     "output_type": "stream",
     "text": [
      "08-13 17:46 [MainProcess, 19490] [INFO ]  Time used for each epoch training: 129.33271837234497 seconds.\n",
      "08-13 17:46 [MainProcess, 19490] [INFO ]  **************************************************\n"
     ]
    },
    {
     "name": "stderr",
     "output_type": "stream",
     "text": [
      "100%|█████████████████████████████████████████| 422/422 [02:02<00:00,  3.45it/s]"
     ]
    },
    {
     "name": "stdout",
     "output_type": "stream",
     "text": [
      "lr:  3.353436781975772e-08\n",
      "08-13 17:48 [MainProcess, 19490] [INFO ]  Iteration:35, train loss = 0.452852 ,train F1 = 0.780110 \n"
     ]
    },
    {
     "name": "stderr",
     "output_type": "stream",
     "text": [
      "\n",
      "100%|█████████████████████████████████████████| 158/158 [00:06<00:00, 23.67it/s]"
     ]
    },
    {
     "name": "stdout",
     "output_type": "stream",
     "text": [
      "08-13 17:48 [MainProcess, 19490] [INFO ]  valid Epoch:35, Train loss=0.4529, Valid loss=0.4355,Valid F1=0.7280, Valid weighted acc=0.7971\n"
     ]
    },
    {
     "name": "stderr",
     "output_type": "stream",
     "text": [
      "\n"
     ]
    },
    {
     "name": "stdout",
     "output_type": "stream",
     "text": [
      "08-13 17:48 [MainProcess, 19490] [INFO ]  Time used for each epoch training: 129.47937417030334 seconds.\n",
      "08-13 17:48 [MainProcess, 19490] [INFO ]  **************************************************\n"
     ]
    },
    {
     "name": "stderr",
     "output_type": "stream",
     "text": [
      "100%|█████████████████████████████████████████| 422/422 [02:01<00:00,  3.46it/s]"
     ]
    },
    {
     "name": "stdout",
     "output_type": "stream",
     "text": [
      "lr:  3.051627471597953e-08\n",
      "08-13 17:50 [MainProcess, 19490] [INFO ]  Iteration:36, train loss = 0.454159 ,train F1 = 0.739040 \n"
     ]
    },
    {
     "name": "stderr",
     "output_type": "stream",
     "text": [
      "\n",
      "100%|█████████████████████████████████████████| 158/158 [00:06<00:00, 23.69it/s]"
     ]
    },
    {
     "name": "stdout",
     "output_type": "stream",
     "text": [
      "08-13 17:50 [MainProcess, 19490] [INFO ]  valid Epoch:36, Train loss=0.4542, Valid loss=0.4366,Valid F1=0.7280, Valid weighted acc=0.7971\n"
     ]
    },
    {
     "name": "stderr",
     "output_type": "stream",
     "text": [
      "\n"
     ]
    },
    {
     "name": "stdout",
     "output_type": "stream",
     "text": [
      "08-13 17:50 [MainProcess, 19490] [INFO ]  Time used for each epoch training: 129.11007952690125 seconds.\n",
      "08-13 17:50 [MainProcess, 19490] [INFO ]  **************************************************\n"
     ]
    },
    {
     "name": "stderr",
     "output_type": "stream",
     "text": [
      "100%|█████████████████████████████████████████| 422/422 [02:02<00:00,  3.46it/s]"
     ]
    },
    {
     "name": "stdout",
     "output_type": "stream",
     "text": [
      "lr:  2.7769809991541372e-08\n",
      "08-13 17:52 [MainProcess, 19490] [INFO ]  Iteration:37, train loss = 0.456547 ,train F1 = 0.746835 \n"
     ]
    },
    {
     "name": "stderr",
     "output_type": "stream",
     "text": [
      "\n",
      "100%|█████████████████████████████████████████| 158/158 [00:06<00:00, 23.66it/s]"
     ]
    },
    {
     "name": "stdout",
     "output_type": "stream",
     "text": [
      "08-13 17:52 [MainProcess, 19490] [INFO ]  valid Epoch:37, Train loss=0.4565, Valid loss=0.4344,Valid F1=0.7280, Valid weighted acc=0.7971\n"
     ]
    },
    {
     "name": "stderr",
     "output_type": "stream",
     "text": [
      "\n"
     ]
    },
    {
     "name": "stdout",
     "output_type": "stream",
     "text": [
      "08-13 17:52 [MainProcess, 19490] [INFO ]  Time used for each epoch training: 129.22837615013123 seconds.\n",
      "08-13 17:52 [MainProcess, 19490] [INFO ]  **************************************************\n"
     ]
    },
    {
     "name": "stderr",
     "output_type": "stream",
     "text": [
      "100%|█████████████████████████████████████████| 422/422 [02:01<00:00,  3.46it/s]"
     ]
    },
    {
     "name": "stdout",
     "output_type": "stream",
     "text": [
      "lr:  2.527052709230265e-08\n",
      "08-13 17:54 [MainProcess, 19490] [INFO ]  Iteration:38, train loss = 0.457761 ,train F1 = 0.721311 \n"
     ]
    },
    {
     "name": "stderr",
     "output_type": "stream",
     "text": [
      "\n",
      "100%|█████████████████████████████████████████| 158/158 [00:06<00:00, 23.62it/s]"
     ]
    },
    {
     "name": "stdout",
     "output_type": "stream",
     "text": [
      "08-13 17:55 [MainProcess, 19490] [INFO ]  valid Epoch:38, Train loss=0.4578, Valid loss=0.4377,Valid F1=0.7222, Valid weighted acc=0.7954\n"
     ]
    },
    {
     "name": "stderr",
     "output_type": "stream",
     "text": [
      "\n"
     ]
    },
    {
     "name": "stdout",
     "output_type": "stream",
     "text": [
      "08-13 17:55 [MainProcess, 19490] [INFO ]  Time used for each epoch training: 129.1469748020172 seconds.\n",
      "08-13 17:55 [MainProcess, 19490] [INFO ]  **************************************************\n"
     ]
    },
    {
     "name": "stderr",
     "output_type": "stream",
     "text": [
      "100%|█████████████████████████████████████████| 422/422 [02:02<00:00,  3.44it/s]"
     ]
    },
    {
     "name": "stdout",
     "output_type": "stream",
     "text": [
      "lr:  2.2996179653995413e-08\n",
      "08-13 17:57 [MainProcess, 19490] [INFO ]  Iteration:39, train loss = 0.454508 ,train F1 = 0.752665 \n"
     ]
    },
    {
     "name": "stderr",
     "output_type": "stream",
     "text": [
      "\n",
      "100%|█████████████████████████████████████████| 158/158 [00:06<00:00, 23.68it/s]"
     ]
    },
    {
     "name": "stdout",
     "output_type": "stream",
     "text": [
      "08-13 17:57 [MainProcess, 19490] [INFO ]  valid Epoch:39, Train loss=0.4545, Valid loss=0.4367,Valid F1=0.7194, Valid weighted acc=0.7945\n"
     ]
    },
    {
     "name": "stderr",
     "output_type": "stream",
     "text": [
      "\n"
     ]
    },
    {
     "name": "stdout",
     "output_type": "stream",
     "text": [
      "08-13 17:57 [MainProcess, 19490] [INFO ]  Time used for each epoch training: 129.75354766845703 seconds.\n",
      "08-13 17:57 [MainProcess, 19490] [INFO ]  **************************************************\n"
     ]
    },
    {
     "name": "stderr",
     "output_type": "stream",
     "text": [
      "100%|█████████████████████████████████████████| 422/422 [02:02<00:00,  3.46it/s]"
     ]
    },
    {
     "name": "stdout",
     "output_type": "stream",
     "text": [
      "lr:  2.0926523485135827e-08\n",
      "08-13 17:59 [MainProcess, 19490] [INFO ]  Iteration:40, train loss = 0.454213 ,train F1 = 0.752916 \n"
     ]
    },
    {
     "name": "stderr",
     "output_type": "stream",
     "text": [
      "\n",
      "100%|█████████████████████████████████████████| 158/158 [00:06<00:00, 23.68it/s]"
     ]
    },
    {
     "name": "stdout",
     "output_type": "stream",
     "text": [
      "08-13 17:59 [MainProcess, 19490] [INFO ]  valid Epoch:40, Train loss=0.4542, Valid loss=0.4350,Valid F1=0.7216, Valid weighted acc=0.7979\n"
     ]
    },
    {
     "name": "stderr",
     "output_type": "stream",
     "text": [
      "\n"
     ]
    },
    {
     "name": "stdout",
     "output_type": "stream",
     "text": [
      "08-13 17:59 [MainProcess, 19490] [INFO ]  Time used for each epoch training: 129.1884481906891 seconds.\n",
      "08-13 17:59 [MainProcess, 19490] [INFO ]  **************************************************\n"
     ]
    },
    {
     "name": "stderr",
     "output_type": "stream",
     "text": [
      "100%|█████████████████████████████████████████| 422/422 [02:02<00:00,  3.46it/s]"
     ]
    },
    {
     "name": "stdout",
     "output_type": "stream",
     "text": [
      "lr:  1.9043136371473602e-08\n",
      "08-13 18:01 [MainProcess, 19490] [INFO ]  Iteration:41, train loss = 0.452817 ,train F1 = 0.761400 \n"
     ]
    },
    {
     "name": "stderr",
     "output_type": "stream",
     "text": [
      "\n",
      "100%|█████████████████████████████████████████| 158/158 [00:06<00:00, 23.71it/s]"
     ]
    },
    {
     "name": "stdout",
     "output_type": "stream",
     "text": [
      "08-13 18:01 [MainProcess, 19490] [INFO ]  valid Epoch:41, Train loss=0.4528, Valid loss=0.4360,Valid F1=0.7194, Valid weighted acc=0.7945\n"
     ]
    },
    {
     "name": "stderr",
     "output_type": "stream",
     "text": [
      "\n"
     ]
    },
    {
     "name": "stdout",
     "output_type": "stream",
     "text": [
      "08-13 18:01 [MainProcess, 19490] [INFO ]  Time used for each epoch training: 129.2349305152893 seconds.\n",
      "08-13 18:01 [MainProcess, 19490] [INFO ]  **************************************************\n"
     ]
    },
    {
     "name": "stderr",
     "output_type": "stream",
     "text": [
      "100%|█████████████████████████████████████████| 422/422 [02:01<00:00,  3.46it/s]"
     ]
    },
    {
     "name": "stdout",
     "output_type": "stream",
     "text": [
      "lr:  1.7329254098040977e-08\n",
      "08-13 18:03 [MainProcess, 19490] [INFO ]  Iteration:42, train loss = 0.455711 ,train F1 = 0.750533 \n"
     ]
    },
    {
     "name": "stderr",
     "output_type": "stream",
     "text": [
      "\n",
      "100%|█████████████████████████████████████████| 158/158 [00:06<00:00, 23.67it/s]"
     ]
    },
    {
     "name": "stdout",
     "output_type": "stream",
     "text": [
      "08-13 18:03 [MainProcess, 19490] [INFO ]  valid Epoch:42, Train loss=0.4557, Valid loss=0.4338,Valid F1=0.7251, Valid weighted acc=0.7962\n"
     ]
    },
    {
     "name": "stderr",
     "output_type": "stream",
     "text": [
      "\n"
     ]
    },
    {
     "name": "stdout",
     "output_type": "stream",
     "text": [
      "08-13 18:03 [MainProcess, 19490] [INFO ]  Time used for each epoch training: 129.03771805763245 seconds.\n",
      "08-13 18:03 [MainProcess, 19490] [INFO ]  **************************************************\n"
     ]
    },
    {
     "name": "stderr",
     "output_type": "stream",
     "text": [
      "100%|█████████████████████████████████████████| 422/422 [02:02<00:00,  3.45it/s]"
     ]
    },
    {
     "name": "stdout",
     "output_type": "stream",
     "text": [
      "lr:  1.576962122921729e-08\n",
      "08-13 18:05 [MainProcess, 19490] [INFO ]  Iteration:43, train loss = 0.455727 ,train F1 = 0.757158 \n"
     ]
    },
    {
     "name": "stderr",
     "output_type": "stream",
     "text": [
      "\n",
      "100%|█████████████████████████████████████████| 158/158 [00:06<00:00, 23.68it/s]"
     ]
    },
    {
     "name": "stdout",
     "output_type": "stream",
     "text": [
      "08-13 18:05 [MainProcess, 19490] [INFO ]  valid Epoch:43, Train loss=0.4557, Valid loss=0.4322,Valid F1=0.7251, Valid weighted acc=0.7962\n"
     ]
    },
    {
     "name": "stderr",
     "output_type": "stream",
     "text": [
      "\n"
     ]
    },
    {
     "name": "stdout",
     "output_type": "stream",
     "text": [
      "08-13 18:05 [MainProcess, 19490] [INFO ]  Time used for each epoch training: 129.306214094162 seconds.\n",
      "08-13 18:05 [MainProcess, 19490] [INFO ]  **************************************************\n"
     ]
    },
    {
     "name": "stderr",
     "output_type": "stream",
     "text": [
      "100%|█████████████████████████████████████████| 422/422 [02:01<00:00,  3.46it/s]"
     ]
    },
    {
     "name": "stdout",
     "output_type": "stream",
     "text": [
      "lr:  1.4350355318587735e-08\n",
      "08-13 18:07 [MainProcess, 19490] [INFO ]  Iteration:44, train loss = 0.450576 ,train F1 = 0.761304 \n"
     ]
    },
    {
     "name": "stderr",
     "output_type": "stream",
     "text": [
      "\n",
      "100%|█████████████████████████████████████████| 158/158 [00:06<00:00, 23.63it/s]"
     ]
    },
    {
     "name": "stdout",
     "output_type": "stream",
     "text": [
      "08-13 18:08 [MainProcess, 19490] [INFO ]  valid Epoch:44, Train loss=0.4506, Valid loss=0.4290,Valid F1=0.7280, Valid weighted acc=0.7971\n"
     ]
    },
    {
     "name": "stderr",
     "output_type": "stream",
     "text": [
      "\n"
     ]
    },
    {
     "name": "stdout",
     "output_type": "stream",
     "text": [
      "08-13 18:08 [MainProcess, 19490] [INFO ]  Time used for each epoch training: 129.11321020126343 seconds.\n",
      "08-13 18:08 [MainProcess, 19490] [INFO ]  **************************************************\n"
     ]
    },
    {
     "name": "stderr",
     "output_type": "stream",
     "text": [
      "100%|█████████████████████████████████████████| 422/422 [02:01<00:00,  3.46it/s]"
     ]
    },
    {
     "name": "stdout",
     "output_type": "stream",
     "text": [
      "lr:  1.3058823339914839e-08\n",
      "08-13 18:10 [MainProcess, 19490] [INFO ]  Iteration:45, train loss = 0.456808 ,train F1 = 0.746835 \n"
     ]
    },
    {
     "name": "stderr",
     "output_type": "stream",
     "text": [
      "\n",
      "100%|█████████████████████████████████████████| 158/158 [00:06<00:00, 23.71it/s]"
     ]
    },
    {
     "name": "stdout",
     "output_type": "stream",
     "text": [
      "08-13 18:10 [MainProcess, 19490] [INFO ]  valid Epoch:45, Train loss=0.4568, Valid loss=0.4326,Valid F1=0.7280, Valid weighted acc=0.7971\n"
     ]
    },
    {
     "name": "stderr",
     "output_type": "stream",
     "text": [
      "\n"
     ]
    },
    {
     "name": "stdout",
     "output_type": "stream",
     "text": [
      "08-13 18:10 [MainProcess, 19490] [INFO ]  Time used for each epoch training: 129.09898781776428 seconds.\n",
      "08-13 18:10 [MainProcess, 19490] [INFO ]  **************************************************\n"
     ]
    },
    {
     "name": "stderr",
     "output_type": "stream",
     "text": [
      "100%|█████████████████████████████████████████| 422/422 [02:01<00:00,  3.46it/s]"
     ]
    },
    {
     "name": "stdout",
     "output_type": "stream",
     "text": [
      "lr:  1.1883529239322503e-08\n",
      "08-13 18:12 [MainProcess, 19490] [INFO ]  Iteration:46, train loss = 0.452634 ,train F1 = 0.760131 \n"
     ]
    },
    {
     "name": "stderr",
     "output_type": "stream",
     "text": [
      "\n",
      "100%|█████████████████████████████████████████| 158/158 [00:06<00:00, 23.71it/s]"
     ]
    },
    {
     "name": "stdout",
     "output_type": "stream",
     "text": [
      "08-13 18:12 [MainProcess, 19490] [INFO ]  valid Epoch:46, Train loss=0.4526, Valid loss=0.4326,Valid F1=0.7309, Valid weighted acc=0.7979\n"
     ]
    },
    {
     "name": "stderr",
     "output_type": "stream",
     "text": [
      "\n"
     ]
    },
    {
     "name": "stdout",
     "output_type": "stream",
     "text": [
      "08-13 18:12 [MainProcess, 19490] [INFO ]  Time used for each epoch training: 129.06161189079285 seconds.\n",
      "08-13 18:12 [MainProcess, 19490] [INFO ]  **************************************************\n"
     ]
    },
    {
     "name": "stderr",
     "output_type": "stream",
     "text": [
      "100%|█████████████████████████████████████████| 422/422 [02:01<00:00,  3.46it/s]"
     ]
    },
    {
     "name": "stdout",
     "output_type": "stream",
     "text": [
      "lr:  1.0814011607783479e-08\n",
      "08-13 18:14 [MainProcess, 19490] [INFO ]  Iteration:47, train loss = 0.454896 ,train F1 = 0.747014 \n"
     ]
    },
    {
     "name": "stderr",
     "output_type": "stream",
     "text": [
      "\n",
      "100%|█████████████████████████████████████████| 158/158 [00:06<00:00, 23.67it/s]"
     ]
    },
    {
     "name": "stdout",
     "output_type": "stream",
     "text": [
      "08-13 18:14 [MainProcess, 19490] [INFO ]  valid Epoch:47, Train loss=0.4549, Valid loss=0.4290,Valid F1=0.7258, Valid weighted acc=0.7936\n"
     ]
    },
    {
     "name": "stderr",
     "output_type": "stream",
     "text": [
      "\n"
     ]
    },
    {
     "name": "stdout",
     "output_type": "stream",
     "text": [
      "08-13 18:14 [MainProcess, 19490] [INFO ]  Time used for each epoch training: 129.12191033363342 seconds.\n",
      "08-13 18:14 [MainProcess, 19490] [INFO ]  **************************************************\n"
     ]
    },
    {
     "name": "stderr",
     "output_type": "stream",
     "text": [
      "100%|█████████████████████████████████████████| 422/422 [02:02<00:00,  3.45it/s]"
     ]
    },
    {
     "name": "stdout",
     "output_type": "stream",
     "text": [
      "lr:  9.840750563082966e-09\n",
      "08-13 18:16 [MainProcess, 19490] [INFO ]  Iteration:48, train loss = 0.451004 ,train F1 = 0.765295 \n"
     ]
    },
    {
     "name": "stderr",
     "output_type": "stream",
     "text": [
      "\n",
      "100%|█████████████████████████████████████████| 158/158 [00:06<00:00, 23.73it/s]"
     ]
    },
    {
     "name": "stdout",
     "output_type": "stream",
     "text": [
      "08-13 18:16 [MainProcess, 19490] [INFO ]  valid Epoch:48, Train loss=0.4510, Valid loss=0.4341,Valid F1=0.7287, Valid weighted acc=0.7945\n"
     ]
    },
    {
     "name": "stderr",
     "output_type": "stream",
     "text": [
      "\n"
     ]
    },
    {
     "name": "stdout",
     "output_type": "stream",
     "text": [
      "08-13 18:16 [MainProcess, 19490] [INFO ]  Time used for each epoch training: 129.4092755317688 seconds.\n",
      "08-13 18:16 [MainProcess, 19490] [INFO ]  **************************************************\n"
     ]
    },
    {
     "name": "stderr",
     "output_type": "stream",
     "text": [
      "100%|█████████████████████████████████████████| 422/422 [02:02<00:00,  3.45it/s]"
     ]
    },
    {
     "name": "stdout",
     "output_type": "stream",
     "text": [
      "lr:  8.955083012405499e-09\n",
      "08-13 18:18 [MainProcess, 19490] [INFO ]  Iteration:49, train loss = 0.447507 ,train F1 = 0.769399 \n"
     ]
    },
    {
     "name": "stderr",
     "output_type": "stream",
     "text": [
      "\n",
      "100%|█████████████████████████████████████████| 158/158 [00:06<00:00, 23.68it/s]"
     ]
    },
    {
     "name": "stdout",
     "output_type": "stream",
     "text": [
      "08-13 18:18 [MainProcess, 19490] [INFO ]  valid Epoch:49, Train loss=0.4475, Valid loss=0.4298,Valid F1=0.7309, Valid weighted acc=0.7979\n"
     ]
    },
    {
     "name": "stderr",
     "output_type": "stream",
     "text": [
      "\n"
     ]
    },
    {
     "name": "stdout",
     "output_type": "stream",
     "text": [
      "08-13 18:18 [MainProcess, 19490] [INFO ]  Time used for each epoch training: 129.59468150138855 seconds.\n",
      "08-13 18:18 [MainProcess, 19490] [INFO ]  **************************************************\n"
     ]
    },
    {
     "name": "stderr",
     "output_type": "stream",
     "text": [
      "100%|█████████████████████████████████████████| 422/422 [02:02<00:00,  3.45it/s]"
     ]
    },
    {
     "name": "stdout",
     "output_type": "stream",
     "text": [
      "lr:  8.149125541289004e-09\n",
      "08-13 18:20 [MainProcess, 19490] [INFO ]  Iteration:50, train loss = 0.450102 ,train F1 = 0.772627 \n"
     ]
    },
    {
     "name": "stderr",
     "output_type": "stream",
     "text": [
      "\n",
      "100%|█████████████████████████████████████████| 158/158 [00:06<00:00, 23.71it/s]"
     ]
    },
    {
     "name": "stdout",
     "output_type": "stream",
     "text": [
      "08-13 18:20 [MainProcess, 19490] [INFO ]  valid Epoch:50, Train loss=0.4501, Valid loss=0.4328,Valid F1=0.7280, Valid weighted acc=0.7971\n"
     ]
    },
    {
     "name": "stderr",
     "output_type": "stream",
     "text": [
      "\n"
     ]
    },
    {
     "name": "stdout",
     "output_type": "stream",
     "text": [
      "08-13 18:20 [MainProcess, 19490] [INFO ]  Time used for each epoch training: 129.4679889678955 seconds.\n",
      "08-13 18:20 [MainProcess, 19490] [INFO ]  **************************************************\n"
     ]
    },
    {
     "name": "stderr",
     "output_type": "stream",
     "text": [
      "100%|█████████████████████████████████████████| 422/422 [02:02<00:00,  3.45it/s]"
     ]
    },
    {
     "name": "stdout",
     "output_type": "stream",
     "text": [
      "lr:  7.415704242572994e-09\n",
      "08-13 18:23 [MainProcess, 19490] [INFO ]  Iteration:51, train loss = 0.449614 ,train F1 = 0.768898 \n"
     ]
    },
    {
     "name": "stderr",
     "output_type": "stream",
     "text": [
      "\n",
      "100%|█████████████████████████████████████████| 158/158 [00:06<00:00, 23.69it/s]"
     ]
    },
    {
     "name": "stdout",
     "output_type": "stream",
     "text": [
      "08-13 18:23 [MainProcess, 19490] [INFO ]  valid Epoch:51, Train loss=0.4496, Valid loss=0.4288,Valid F1=0.7280, Valid weighted acc=0.7971\n"
     ]
    },
    {
     "name": "stderr",
     "output_type": "stream",
     "text": [
      "\n"
     ]
    },
    {
     "name": "stdout",
     "output_type": "stream",
     "text": [
      "08-13 18:23 [MainProcess, 19490] [INFO ]  Time used for each epoch training: 129.6361403465271 seconds.\n",
      "08-13 18:23 [MainProcess, 19490] [INFO ]  **************************************************\n"
     ]
    },
    {
     "name": "stderr",
     "output_type": "stream",
     "text": [
      "100%|█████████████████████████████████████████| 422/422 [02:01<00:00,  3.46it/s]"
     ]
    },
    {
     "name": "stdout",
     "output_type": "stream",
     "text": [
      "lr:  6.748290860741425e-09\n",
      "08-13 18:25 [MainProcess, 19490] [INFO ]  Iteration:52, train loss = 0.454143 ,train F1 = 0.747604 \n"
     ]
    },
    {
     "name": "stderr",
     "output_type": "stream",
     "text": [
      "\n",
      "100%|█████████████████████████████████████████| 158/158 [00:06<00:00, 23.66it/s]"
     ]
    },
    {
     "name": "stdout",
     "output_type": "stream",
     "text": [
      "08-13 18:25 [MainProcess, 19490] [INFO ]  valid Epoch:52, Train loss=0.4541, Valid loss=0.4314,Valid F1=0.7280, Valid weighted acc=0.7971\n"
     ]
    },
    {
     "name": "stderr",
     "output_type": "stream",
     "text": [
      "\n"
     ]
    },
    {
     "name": "stdout",
     "output_type": "stream",
     "text": [
      "08-13 18:25 [MainProcess, 19490] [INFO ]  Time used for each epoch training: 129.10980892181396 seconds.\n",
      "08-13 18:25 [MainProcess, 19490] [INFO ]  **************************************************\n"
     ]
    },
    {
     "name": "stderr",
     "output_type": "stream",
     "text": [
      "100%|█████████████████████████████████████████| 422/422 [02:01<00:00,  3.46it/s]"
     ]
    },
    {
     "name": "stdout",
     "output_type": "stream",
     "text": [
      "lr:  6.1409446832746975e-09\n",
      "08-13 18:27 [MainProcess, 19490] [INFO ]  Iteration:53, train loss = 0.457292 ,train F1 = 0.758696 \n"
     ]
    },
    {
     "name": "stderr",
     "output_type": "stream",
     "text": [
      "\n",
      "100%|█████████████████████████████████████████| 158/158 [00:06<00:00, 23.69it/s]"
     ]
    },
    {
     "name": "stdout",
     "output_type": "stream",
     "text": [
      "08-13 18:27 [MainProcess, 19490] [INFO ]  valid Epoch:53, Train loss=0.4573, Valid loss=0.4274,Valid F1=0.7280, Valid weighted acc=0.7971\n"
     ]
    },
    {
     "name": "stderr",
     "output_type": "stream",
     "text": [
      "\n"
     ]
    },
    {
     "name": "stdout",
     "output_type": "stream",
     "text": [
      "08-13 18:27 [MainProcess, 19490] [INFO ]  Time used for each epoch training: 129.08676314353943 seconds.\n",
      "08-13 18:27 [MainProcess, 19490] [INFO ]  **************************************************\n"
     ]
    },
    {
     "name": "stderr",
     "output_type": "stream",
     "text": [
      "100%|█████████████████████████████████████████| 422/422 [02:02<00:00,  3.46it/s]"
     ]
    },
    {
     "name": "stdout",
     "output_type": "stream",
     "text": [
      "lr:  5.588259661779975e-09\n",
      "08-13 18:29 [MainProcess, 19490] [INFO ]  Iteration:54, train loss = 0.450574 ,train F1 = 0.760656 \n"
     ]
    },
    {
     "name": "stderr",
     "output_type": "stream",
     "text": [
      "\n",
      "100%|█████████████████████████████████████████| 158/158 [00:06<00:00, 23.69it/s]"
     ]
    },
    {
     "name": "stdout",
     "output_type": "stream",
     "text": [
      "08-13 18:29 [MainProcess, 19490] [INFO ]  valid Epoch:54, Train loss=0.4506, Valid loss=0.4318,Valid F1=0.7280, Valid weighted acc=0.7971\n"
     ]
    },
    {
     "name": "stderr",
     "output_type": "stream",
     "text": [
      "\n"
     ]
    },
    {
     "name": "stdout",
     "output_type": "stream",
     "text": [
      "08-13 18:29 [MainProcess, 19490] [INFO ]  Time used for each epoch training: 129.31022667884827 seconds.\n",
      "08-13 18:29 [MainProcess, 19490] [INFO ]  **************************************************\n"
     ]
    },
    {
     "name": "stderr",
     "output_type": "stream",
     "text": [
      "100%|█████████████████████████████████████████| 422/422 [02:02<00:00,  3.45it/s]"
     ]
    },
    {
     "name": "stdout",
     "output_type": "stream",
     "text": [
      "lr:  5.085316292219778e-09\n",
      "08-13 18:31 [MainProcess, 19490] [INFO ]  Iteration:55, train loss = 0.450647 ,train F1 = 0.753747 \n"
     ]
    },
    {
     "name": "stderr",
     "output_type": "stream",
     "text": [
      "\n",
      "100%|█████████████████████████████████████████| 158/158 [00:06<00:00, 23.68it/s]"
     ]
    },
    {
     "name": "stdout",
     "output_type": "stream",
     "text": [
      "08-13 18:31 [MainProcess, 19490] [INFO ]  valid Epoch:55, Train loss=0.4506, Valid loss=0.4332,Valid F1=0.7280, Valid weighted acc=0.7971\n"
     ]
    },
    {
     "name": "stderr",
     "output_type": "stream",
     "text": [
      "\n"
     ]
    },
    {
     "name": "stdout",
     "output_type": "stream",
     "text": [
      "08-13 18:31 [MainProcess, 19490] [INFO ]  Time used for each epoch training: 129.3013436794281 seconds.\n",
      "08-13 18:31 [MainProcess, 19490] [INFO ]  **************************************************\n"
     ]
    },
    {
     "name": "stderr",
     "output_type": "stream",
     "text": [
      "100%|█████████████████████████████████████████| 422/422 [02:01<00:00,  3.46it/s]"
     ]
    },
    {
     "name": "stdout",
     "output_type": "stream",
     "text": [
      "lr:  4.627637825919998e-09\n",
      "08-13 18:33 [MainProcess, 19490] [INFO ]  Iteration:56, train loss = 0.456862 ,train F1 = 0.743837 \n"
     ]
    },
    {
     "name": "stderr",
     "output_type": "stream",
     "text": [
      "\n",
      "100%|█████████████████████████████████████████| 158/158 [00:06<00:00, 23.70it/s]"
     ]
    },
    {
     "name": "stdout",
     "output_type": "stream",
     "text": [
      "08-13 18:33 [MainProcess, 19490] [INFO ]  valid Epoch:56, Train loss=0.4569, Valid loss=0.4292,Valid F1=0.7280, Valid weighted acc=0.7971\n"
     ]
    },
    {
     "name": "stderr",
     "output_type": "stream",
     "text": [
      "\n"
     ]
    },
    {
     "name": "stdout",
     "output_type": "stream",
     "text": [
      "08-13 18:33 [MainProcess, 19490] [INFO ]  Time used for each epoch training: 129.02903294563293 seconds.\n",
      "08-13 18:33 [MainProcess, 19490] [INFO ]  **************************************************\n"
     ]
    },
    {
     "name": "stderr",
     "output_type": "stream",
     "text": [
      "100%|█████████████████████████████████████████| 422/422 [02:02<00:00,  3.45it/s]"
     ]
    },
    {
     "name": "stdout",
     "output_type": "stream",
     "text": [
      "lr:  4.211150421587198e-09\n",
      "08-13 18:35 [MainProcess, 19490] [INFO ]  Iteration:57, train loss = 0.450035 ,train F1 = 0.761194 \n"
     ]
    },
    {
     "name": "stderr",
     "output_type": "stream",
     "text": [
      "\n",
      "100%|█████████████████████████████████████████| 158/158 [00:06<00:00, 23.65it/s]"
     ]
    },
    {
     "name": "stdout",
     "output_type": "stream",
     "text": [
      "08-13 18:36 [MainProcess, 19490] [INFO ]  valid Epoch:57, Train loss=0.4500, Valid loss=0.4270,Valid F1=0.7280, Valid weighted acc=0.7971\n"
     ]
    },
    {
     "name": "stderr",
     "output_type": "stream",
     "text": [
      "\n"
     ]
    },
    {
     "name": "stdout",
     "output_type": "stream",
     "text": [
      "08-13 18:36 [MainProcess, 19490] [INFO ]  Time used for each epoch training: 129.35309553146362 seconds.\n",
      "08-13 18:36 [MainProcess, 19490] [INFO ]  **************************************************\n"
     ]
    },
    {
     "name": "stderr",
     "output_type": "stream",
     "text": [
      "100%|█████████████████████████████████████████| 422/422 [02:02<00:00,  3.45it/s]"
     ]
    },
    {
     "name": "stdout",
     "output_type": "stream",
     "text": [
      "lr:  3.832146883644351e-09\n",
      "08-13 18:38 [MainProcess, 19490] [INFO ]  Iteration:58, train loss = 0.449452 ,train F1 = 0.770065 \n"
     ]
    },
    {
     "name": "stderr",
     "output_type": "stream",
     "text": [
      "\n",
      "100%|█████████████████████████████████████████| 158/158 [00:06<00:00, 23.73it/s]"
     ]
    },
    {
     "name": "stdout",
     "output_type": "stream",
     "text": [
      "08-13 18:38 [MainProcess, 19490] [INFO ]  valid Epoch:58, Train loss=0.4495, Valid loss=0.4302,Valid F1=0.7280, Valid weighted acc=0.7971\n"
     ]
    },
    {
     "name": "stderr",
     "output_type": "stream",
     "text": [
      "\n"
     ]
    },
    {
     "name": "stdout",
     "output_type": "stream",
     "text": [
      "08-13 18:38 [MainProcess, 19490] [INFO ]  Time used for each epoch training: 129.45929646492004 seconds.\n",
      "08-13 18:38 [MainProcess, 19490] [INFO ]  **************************************************\n"
     ]
    },
    {
     "name": "stderr",
     "output_type": "stream",
     "text": [
      "100%|█████████████████████████████████████████| 422/422 [02:02<00:00,  3.46it/s]"
     ]
    },
    {
     "name": "stdout",
     "output_type": "stream",
     "text": [
      "lr:  3.4872536641163594e-09\n",
      "08-13 18:40 [MainProcess, 19490] [INFO ]  Iteration:59, train loss = 0.451497 ,train F1 = 0.766949 \n"
     ]
    },
    {
     "name": "stderr",
     "output_type": "stream",
     "text": [
      "\n",
      "100%|█████████████████████████████████████████| 158/158 [00:06<00:00, 23.66it/s]"
     ]
    },
    {
     "name": "stdout",
     "output_type": "stream",
     "text": [
      "08-13 18:40 [MainProcess, 19490] [INFO ]  valid Epoch:59, Train loss=0.4515, Valid loss=0.4277,Valid F1=0.7280, Valid weighted acc=0.7971\n"
     ]
    },
    {
     "name": "stderr",
     "output_type": "stream",
     "text": [
      "\n"
     ]
    },
    {
     "name": "stdout",
     "output_type": "stream",
     "text": [
      "08-13 18:40 [MainProcess, 19490] [INFO ]  Time used for each epoch training: 129.20571279525757 seconds.\n",
      "08-13 18:40 [MainProcess, 19490] [INFO ]  **************************************************\n"
     ]
    },
    {
     "name": "stderr",
     "output_type": "stream",
     "text": [
      "100%|█████████████████████████████████████████| 422/422 [02:02<00:00,  3.46it/s]"
     ]
    },
    {
     "name": "stdout",
     "output_type": "stream",
     "text": [
      "lr:  3.173400834345887e-09\n",
      "08-13 18:42 [MainProcess, 19490] [INFO ]  Iteration:60, train loss = 0.450768 ,train F1 = 0.765143 \n"
     ]
    },
    {
     "name": "stderr",
     "output_type": "stream",
     "text": [
      "\n",
      "100%|█████████████████████████████████████████| 158/158 [00:06<00:00, 23.68it/s]"
     ]
    },
    {
     "name": "stdout",
     "output_type": "stream",
     "text": [
      "08-13 18:42 [MainProcess, 19490] [INFO ]  valid Epoch:60, Train loss=0.4508, Valid loss=0.4283,Valid F1=0.7280, Valid weighted acc=0.7971\n"
     ]
    },
    {
     "name": "stderr",
     "output_type": "stream",
     "text": [
      "\n"
     ]
    },
    {
     "name": "stdout",
     "output_type": "stream",
     "text": [
      "08-13 18:42 [MainProcess, 19490] [INFO ]  Time used for each epoch training: 129.19344758987427 seconds.\n",
      "08-13 18:42 [MainProcess, 19490] [INFO ]  **************************************************\n"
     ]
    },
    {
     "name": "stderr",
     "output_type": "stream",
     "text": [
      "100%|█████████████████████████████████████████| 422/422 [02:01<00:00,  3.46it/s]"
     ]
    },
    {
     "name": "stdout",
     "output_type": "stream",
     "text": [
      "lr:  2.887794759254757e-09\n",
      "08-13 18:44 [MainProcess, 19490] [INFO ]  Iteration:61, train loss = 0.452573 ,train F1 = 0.750816 \n"
     ]
    },
    {
     "name": "stderr",
     "output_type": "stream",
     "text": [
      "\n",
      "100%|█████████████████████████████████████████| 158/158 [00:06<00:00, 23.68it/s]\n"
     ]
    },
    {
     "name": "stdout",
     "output_type": "stream",
     "text": [
      "08-13 18:44 [MainProcess, 19490] [INFO ]  valid Epoch:61, Train loss=0.4526, Valid loss=0.4280,Valid F1=0.7280, Valid weighted acc=0.7971\n",
      "08-13 18:44 [MainProcess, 19490] [INFO ]  Time used for each epoch training: 129.07390308380127 seconds.\n",
      "08-13 18:44 [MainProcess, 19490] [INFO ]  **************************************************\n"
     ]
    },
    {
     "name": "stderr",
     "output_type": "stream",
     "text": [
      "100%|█████████████████████████████████████████| 422/422 [02:02<00:00,  3.45it/s]"
     ]
    },
    {
     "name": "stdout",
     "output_type": "stream",
     "text": [
      "lr:  2.627893230921829e-09\n",
      "08-13 18:46 [MainProcess, 19490] [INFO ]  Iteration:62, train loss = 0.448336 ,train F1 = 0.778878 \n"
     ]
    },
    {
     "name": "stderr",
     "output_type": "stream",
     "text": [
      "\n",
      "100%|█████████████████████████████████████████| 158/158 [00:06<00:00, 23.67it/s]"
     ]
    },
    {
     "name": "stdout",
     "output_type": "stream",
     "text": [
      "08-13 18:46 [MainProcess, 19490] [INFO ]  valid Epoch:62, Train loss=0.4483, Valid loss=0.4311,Valid F1=0.7280, Valid weighted acc=0.7971\n"
     ]
    },
    {
     "name": "stderr",
     "output_type": "stream",
     "text": [
      "\n"
     ]
    },
    {
     "name": "stdout",
     "output_type": "stream",
     "text": [
      "08-13 18:46 [MainProcess, 19490] [INFO ]  Time used for each epoch training: 129.34311819076538 seconds.\n",
      "08-13 18:46 [MainProcess, 19490] [INFO ]  **************************************************\n"
     ]
    },
    {
     "name": "stderr",
     "output_type": "stream",
     "text": [
      "100%|█████████████████████████████████████████| 422/422 [02:02<00:00,  3.45it/s]"
     ]
    },
    {
     "name": "stdout",
     "output_type": "stream",
     "text": [
      "lr:  2.3913828401388645e-09\n",
      "08-13 18:48 [MainProcess, 19490] [INFO ]  Iteration:63, train loss = 0.448155 ,train F1 = 0.766050 \n"
     ]
    },
    {
     "name": "stderr",
     "output_type": "stream",
     "text": [
      "\n",
      "100%|█████████████████████████████████████████| 158/158 [00:06<00:00, 23.68it/s]"
     ]
    },
    {
     "name": "stdout",
     "output_type": "stream",
     "text": [
      "08-13 18:48 [MainProcess, 19490] [INFO ]  valid Epoch:63, Train loss=0.4482, Valid loss=0.4310,Valid F1=0.7280, Valid weighted acc=0.7971\n"
     ]
    },
    {
     "name": "stderr",
     "output_type": "stream",
     "text": [
      "\n"
     ]
    },
    {
     "name": "stdout",
     "output_type": "stream",
     "text": [
      "08-13 18:48 [MainProcess, 19490] [INFO ]  Time used for each epoch training: 129.3371183872223 seconds.\n",
      "08-13 18:48 [MainProcess, 19490] [INFO ]  **************************************************\n"
     ]
    },
    {
     "name": "stderr",
     "output_type": "stream",
     "text": [
      "100%|█████████████████████████████████████████| 422/422 [02:02<00:00,  3.45it/s]"
     ]
    },
    {
     "name": "stdout",
     "output_type": "stream",
     "text": [
      "lr:  2.176158384526367e-09\n",
      "08-13 18:51 [MainProcess, 19490] [INFO ]  Iteration:64, train loss = 0.453286 ,train F1 = 0.772627 \n"
     ]
    },
    {
     "name": "stderr",
     "output_type": "stream",
     "text": [
      "\n",
      "100%|█████████████████████████████████████████| 158/158 [00:06<00:00, 23.68it/s]"
     ]
    },
    {
     "name": "stdout",
     "output_type": "stream",
     "text": [
      "08-13 18:51 [MainProcess, 19490] [INFO ]  valid Epoch:64, Train loss=0.4533, Valid loss=0.4291,Valid F1=0.7280, Valid weighted acc=0.7971\n"
     ]
    },
    {
     "name": "stderr",
     "output_type": "stream",
     "text": [
      "\n"
     ]
    },
    {
     "name": "stdout",
     "output_type": "stream",
     "text": [
      "08-13 18:51 [MainProcess, 19490] [INFO ]  Time used for each epoch training: 129.34605717658997 seconds.\n",
      "08-13 18:51 [MainProcess, 19490] [INFO ]  **************************************************\n"
     ]
    },
    {
     "name": "stderr",
     "output_type": "stream",
     "text": [
      "100%|█████████████████████████████████████████| 422/422 [02:02<00:00,  3.45it/s]"
     ]
    },
    {
     "name": "stdout",
     "output_type": "stream",
     "text": [
      "lr:  1.980304129918994e-09\n",
      "08-13 18:53 [MainProcess, 19490] [INFO ]  Iteration:65, train loss = 0.449575 ,train F1 = 0.776087 \n"
     ]
    },
    {
     "name": "stderr",
     "output_type": "stream",
     "text": [
      "\n",
      "100%|█████████████████████████████████████████| 158/158 [00:06<00:00, 23.66it/s]"
     ]
    },
    {
     "name": "stdout",
     "output_type": "stream",
     "text": [
      "08-13 18:53 [MainProcess, 19490] [INFO ]  valid Epoch:65, Train loss=0.4496, Valid loss=0.4334,Valid F1=0.7280, Valid weighted acc=0.7971\n"
     ]
    },
    {
     "name": "stderr",
     "output_type": "stream",
     "text": [
      "\n"
     ]
    },
    {
     "name": "stdout",
     "output_type": "stream",
     "text": [
      "08-13 18:53 [MainProcess, 19490] [INFO ]  Time used for each epoch training: 129.36141681671143 seconds.\n",
      "08-13 18:53 [MainProcess, 19490] [INFO ]  **************************************************\n"
     ]
    },
    {
     "name": "stderr",
     "output_type": "stream",
     "text": [
      "100%|█████████████████████████████████████████| 422/422 [02:02<00:00,  3.45it/s]"
     ]
    },
    {
     "name": "stdout",
     "output_type": "stream",
     "text": [
      "lr:  1.8020767582262846e-09\n",
      "08-13 18:55 [MainProcess, 19490] [INFO ]  Iteration:66, train loss = 0.451589 ,train F1 = 0.750266 \n"
     ]
    },
    {
     "name": "stderr",
     "output_type": "stream",
     "text": [
      "\n",
      "100%|█████████████████████████████████████████| 158/158 [00:06<00:00, 23.71it/s]"
     ]
    },
    {
     "name": "stdout",
     "output_type": "stream",
     "text": [
      "08-13 18:55 [MainProcess, 19490] [INFO ]  valid Epoch:66, Train loss=0.4516, Valid loss=0.4337,Valid F1=0.7280, Valid weighted acc=0.7971\n"
     ]
    },
    {
     "name": "stderr",
     "output_type": "stream",
     "text": [
      "\n"
     ]
    },
    {
     "name": "stdout",
     "output_type": "stream",
     "text": [
      "08-13 18:55 [MainProcess, 19490] [INFO ]  Time used for each epoch training: 129.32780504226685 seconds.\n",
      "08-13 18:55 [MainProcess, 19490] [INFO ]  **************************************************\n"
     ]
    },
    {
     "name": "stderr",
     "output_type": "stream",
     "text": [
      "100%|█████████████████████████████████████████| 422/422 [02:01<00:00,  3.46it/s]"
     ]
    },
    {
     "name": "stdout",
     "output_type": "stream",
     "text": [
      "lr:  1.639889849985919e-09\n",
      "08-13 18:57 [MainProcess, 19490] [INFO ]  Iteration:67, train loss = 0.454364 ,train F1 = 0.751606 \n"
     ]
    },
    {
     "name": "stderr",
     "output_type": "stream",
     "text": [
      "\n",
      "100%|█████████████████████████████████████████| 158/158 [00:06<00:00, 23.63it/s]"
     ]
    },
    {
     "name": "stdout",
     "output_type": "stream",
     "text": [
      "08-13 18:57 [MainProcess, 19490] [INFO ]  valid Epoch:67, Train loss=0.4544, Valid loss=0.4280,Valid F1=0.7280, Valid weighted acc=0.7971\n"
     ]
    },
    {
     "name": "stderr",
     "output_type": "stream",
     "text": [
      "\n"
     ]
    },
    {
     "name": "stdout",
     "output_type": "stream",
     "text": [
      "08-13 18:57 [MainProcess, 19490] [INFO ]  Time used for each epoch training: 129.06680917739868 seconds.\n",
      "08-13 18:57 [MainProcess, 19490] [INFO ]  **************************************************\n"
     ]
    },
    {
     "name": "stderr",
     "output_type": "stream",
     "text": [
      "100%|█████████████████████████████████████████| 422/422 [02:01<00:00,  3.46it/s]"
     ]
    },
    {
     "name": "stdout",
     "output_type": "stream",
     "text": [
      "lr:  1.4922997634871863e-09\n",
      "08-13 18:59 [MainProcess, 19490] [INFO ]  Iteration:68, train loss = 0.453207 ,train F1 = 0.766275 \n"
     ]
    },
    {
     "name": "stderr",
     "output_type": "stream",
     "text": [
      "\n",
      "100%|█████████████████████████████████████████| 158/158 [00:06<00:00, 23.61it/s]"
     ]
    },
    {
     "name": "stdout",
     "output_type": "stream",
     "text": [
      "08-13 18:59 [MainProcess, 19490] [INFO ]  valid Epoch:68, Train loss=0.4532, Valid loss=0.4286,Valid F1=0.7280, Valid weighted acc=0.7971\n"
     ]
    },
    {
     "name": "stderr",
     "output_type": "stream",
     "text": [
      "\n"
     ]
    },
    {
     "name": "stdout",
     "output_type": "stream",
     "text": [
      "08-13 18:59 [MainProcess, 19490] [INFO ]  Time used for each epoch training: 129.09136843681335 seconds.\n",
      "08-13 18:59 [MainProcess, 19490] [INFO ]  **************************************************\n"
     ]
    },
    {
     "name": "stderr",
     "output_type": "stream",
     "text": [
      "100%|█████████████████████████████████████████| 422/422 [02:02<00:00,  3.45it/s]"
     ]
    },
    {
     "name": "stdout",
     "output_type": "stream",
     "text": [
      "lr:  1.3579927847733396e-09\n",
      "08-13 19:01 [MainProcess, 19490] [INFO ]  Iteration:69, train loss = 0.452051 ,train F1 = 0.767914 \n"
     ]
    },
    {
     "name": "stderr",
     "output_type": "stream",
     "text": [
      "\n",
      "100%|█████████████████████████████████████████| 158/158 [00:06<00:00, 23.68it/s]"
     ]
    },
    {
     "name": "stdout",
     "output_type": "stream",
     "text": [
      "08-13 19:01 [MainProcess, 19490] [INFO ]  valid Epoch:69, Train loss=0.4521, Valid loss=0.4298,Valid F1=0.7280, Valid weighted acc=0.7971\n"
     ]
    },
    {
     "name": "stderr",
     "output_type": "stream",
     "text": [
      "\n"
     ]
    },
    {
     "name": "stdout",
     "output_type": "stream",
     "text": [
      "08-13 19:01 [MainProcess, 19490] [INFO ]  Time used for each epoch training: 129.39790058135986 seconds.\n",
      "08-13 19:01 [MainProcess, 19490] [INFO ]  **************************************************\n"
     ]
    },
    {
     "name": "stderr",
     "output_type": "stream",
     "text": [
      "100%|█████████████████████████████████████████| 422/422 [02:02<00:00,  3.45it/s]"
     ]
    },
    {
     "name": "stdout",
     "output_type": "stream",
     "text": [
      "lr:  1.235773434143739e-09\n",
      "08-13 19:03 [MainProcess, 19490] [INFO ]  Iteration:70, train loss = 0.454390 ,train F1 = 0.752711 \n"
     ]
    },
    {
     "name": "stderr",
     "output_type": "stream",
     "text": [
      "\n",
      "100%|█████████████████████████████████████████| 158/158 [00:06<00:00, 23.66it/s]"
     ]
    },
    {
     "name": "stdout",
     "output_type": "stream",
     "text": [
      "08-13 19:04 [MainProcess, 19490] [INFO ]  valid Epoch:70, Train loss=0.4544, Valid loss=0.4272,Valid F1=0.7280, Valid weighted acc=0.7971\n"
     ]
    },
    {
     "name": "stderr",
     "output_type": "stream",
     "text": [
      "\n"
     ]
    },
    {
     "name": "stdout",
     "output_type": "stream",
     "text": [
      "08-13 19:04 [MainProcess, 19490] [INFO ]  Time used for each epoch training: 129.43506741523743 seconds.\n",
      "08-13 19:04 [MainProcess, 19490] [INFO ]  **************************************************\n"
     ]
    },
    {
     "name": "stderr",
     "output_type": "stream",
     "text": [
      "100%|█████████████████████████████████████████| 422/422 [02:02<00:00,  3.46it/s]"
     ]
    },
    {
     "name": "stdout",
     "output_type": "stream",
     "text": [
      "lr:  1.1245538250708025e-09\n",
      "08-13 19:06 [MainProcess, 19490] [INFO ]  Iteration:71, train loss = 0.453088 ,train F1 = 0.758184 \n"
     ]
    },
    {
     "name": "stderr",
     "output_type": "stream",
     "text": [
      "\n",
      "100%|█████████████████████████████████████████| 158/158 [00:06<00:00, 23.67it/s]"
     ]
    },
    {
     "name": "stdout",
     "output_type": "stream",
     "text": [
      "08-13 19:06 [MainProcess, 19490] [INFO ]  valid Epoch:71, Train loss=0.4531, Valid loss=0.4295,Valid F1=0.7280, Valid weighted acc=0.7971\n"
     ]
    },
    {
     "name": "stderr",
     "output_type": "stream",
     "text": [
      "\n"
     ]
    },
    {
     "name": "stdout",
     "output_type": "stream",
     "text": [
      "08-13 19:06 [MainProcess, 19490] [INFO ]  Time used for each epoch training: 129.27856183052063 seconds.\n",
      "08-13 19:06 [MainProcess, 19490] [INFO ]  **************************************************\n"
     ]
    },
    {
     "name": "stderr",
     "output_type": "stream",
     "text": [
      "100%|█████████████████████████████████████████| 422/422 [02:02<00:00,  3.45it/s]"
     ]
    },
    {
     "name": "stdout",
     "output_type": "stream",
     "text": [
      "lr:  1.0233439808144303e-09\n",
      "08-13 19:08 [MainProcess, 19490] [INFO ]  Iteration:72, train loss = 0.452515 ,train F1 = 0.753994 \n"
     ]
    },
    {
     "name": "stderr",
     "output_type": "stream",
     "text": [
      "\n",
      "100%|█████████████████████████████████████████| 158/158 [00:06<00:00, 23.69it/s]"
     ]
    },
    {
     "name": "stdout",
     "output_type": "stream",
     "text": [
      "08-13 19:08 [MainProcess, 19490] [INFO ]  valid Epoch:72, Train loss=0.4525, Valid loss=0.4311,Valid F1=0.7280, Valid weighted acc=0.7971\n"
     ]
    },
    {
     "name": "stderr",
     "output_type": "stream",
     "text": [
      "\n"
     ]
    },
    {
     "name": "stdout",
     "output_type": "stream",
     "text": [
      "08-13 19:08 [MainProcess, 19490] [INFO ]  Time used for each epoch training: 129.32308626174927 seconds.\n",
      "08-13 19:08 [MainProcess, 19490] [INFO ]  **************************************************\n"
     ]
    },
    {
     "name": "stderr",
     "output_type": "stream",
     "text": [
      "100%|█████████████████████████████████████████| 422/422 [02:01<00:00,  3.46it/s]"
     ]
    },
    {
     "name": "stdout",
     "output_type": "stream",
     "text": [
      "lr:  9.312430225411316e-10\n",
      "08-13 19:10 [MainProcess, 19490] [INFO ]  Iteration:73, train loss = 0.453019 ,train F1 = 0.751620 \n"
     ]
    },
    {
     "name": "stderr",
     "output_type": "stream",
     "text": [
      "\n",
      "100%|█████████████████████████████████████████| 158/158 [00:06<00:00, 23.66it/s]"
     ]
    },
    {
     "name": "stdout",
     "output_type": "stream",
     "text": [
      "08-13 19:10 [MainProcess, 19490] [INFO ]  valid Epoch:73, Train loss=0.4530, Valid loss=0.4308,Valid F1=0.7280, Valid weighted acc=0.7971\n"
     ]
    },
    {
     "name": "stderr",
     "output_type": "stream",
     "text": [
      "\n"
     ]
    },
    {
     "name": "stdout",
     "output_type": "stream",
     "text": [
      "08-13 19:10 [MainProcess, 19490] [INFO ]  Time used for each epoch training: 129.08997750282288 seconds.\n",
      "08-13 19:10 [MainProcess, 19490] [INFO ]  **************************************************\n"
     ]
    },
    {
     "name": "stderr",
     "output_type": "stream",
     "text": [
      "100%|█████████████████████████████████████████| 422/422 [02:02<00:00,  3.45it/s]"
     ]
    },
    {
     "name": "stdout",
     "output_type": "stream",
     "text": [
      "lr:  8.474311505124298e-10\n",
      "08-13 19:12 [MainProcess, 19490] [INFO ]  Iteration:74, train loss = 0.453057 ,train F1 = 0.761488 \n"
     ]
    },
    {
     "name": "stderr",
     "output_type": "stream",
     "text": [
      "\n",
      "100%|█████████████████████████████████████████| 158/158 [00:06<00:00, 23.64it/s]"
     ]
    },
    {
     "name": "stdout",
     "output_type": "stream",
     "text": [
      "08-13 19:12 [MainProcess, 19490] [INFO ]  valid Epoch:74, Train loss=0.4531, Valid loss=0.4294,Valid F1=0.7280, Valid weighted acc=0.7971\n"
     ]
    },
    {
     "name": "stderr",
     "output_type": "stream",
     "text": [
      "\n"
     ]
    },
    {
     "name": "stdout",
     "output_type": "stream",
     "text": [
      "08-13 19:12 [MainProcess, 19490] [INFO ]  Time used for each epoch training: 129.4240846633911 seconds.\n",
      "08-13 19:12 [MainProcess, 19490] [INFO ]  **************************************************\n"
     ]
    },
    {
     "name": "stderr",
     "output_type": "stream",
     "text": [
      "100%|█████████████████████████████████████████| 422/422 [02:02<00:00,  3.46it/s]"
     ]
    },
    {
     "name": "stdout",
     "output_type": "stream",
     "text": [
      "lr:  7.711623469663112e-10\n",
      "08-13 19:14 [MainProcess, 19490] [INFO ]  Iteration:75, train loss = 0.452852 ,train F1 = 0.759521 \n"
     ]
    },
    {
     "name": "stderr",
     "output_type": "stream",
     "text": [
      "\n",
      "100%|█████████████████████████████████████████| 158/158 [00:06<00:00, 23.68it/s]"
     ]
    },
    {
     "name": "stdout",
     "output_type": "stream",
     "text": [
      "08-13 19:14 [MainProcess, 19490] [INFO ]  valid Epoch:75, Train loss=0.4529, Valid loss=0.4320,Valid F1=0.7280, Valid weighted acc=0.7971\n"
     ]
    },
    {
     "name": "stderr",
     "output_type": "stream",
     "text": [
      "\n"
     ]
    },
    {
     "name": "stdout",
     "output_type": "stream",
     "text": [
      "08-13 19:14 [MainProcess, 19490] [INFO ]  Time used for each epoch training: 129.30565857887268 seconds.\n",
      "08-13 19:14 [MainProcess, 19490] [INFO ]  **************************************************\n"
     ]
    },
    {
     "name": "stderr",
     "output_type": "stream",
     "text": [
      "100%|█████████████████████████████████████████| 422/422 [02:02<00:00,  3.45it/s]"
     ]
    },
    {
     "name": "stdout",
     "output_type": "stream",
     "text": [
      "lr:  7.017577357393431e-10\n",
      "08-13 19:16 [MainProcess, 19490] [INFO ]  Iteration:76, train loss = 0.448410 ,train F1 = 0.774477 \n"
     ]
    },
    {
     "name": "stderr",
     "output_type": "stream",
     "text": [
      "\n",
      "100%|█████████████████████████████████████████| 158/158 [00:06<00:00, 23.69it/s]"
     ]
    },
    {
     "name": "stdout",
     "output_type": "stream",
     "text": [
      "08-13 19:16 [MainProcess, 19490] [INFO ]  valid Epoch:76, Train loss=0.4484, Valid loss=0.4286,Valid F1=0.7280, Valid weighted acc=0.7971\n"
     ]
    },
    {
     "name": "stderr",
     "output_type": "stream",
     "text": [
      "\n"
     ]
    },
    {
     "name": "stdout",
     "output_type": "stream",
     "text": [
      "08-13 19:16 [MainProcess, 19490] [INFO ]  Time used for each epoch training: 129.31008529663086 seconds.\n",
      "08-13 19:16 [MainProcess, 19490] [INFO ]  **************************************************\n"
     ]
    },
    {
     "name": "stderr",
     "output_type": "stream",
     "text": [
      "100%|█████████████████████████████████████████| 422/422 [02:01<00:00,  3.46it/s]"
     ]
    },
    {
     "name": "stdout",
     "output_type": "stream",
     "text": [
      "lr:  6.385995395228023e-10\n",
      "08-13 19:19 [MainProcess, 19490] [INFO ]  Iteration:77, train loss = 0.451550 ,train F1 = 0.768069 \n"
     ]
    },
    {
     "name": "stderr",
     "output_type": "stream",
     "text": [
      "\n",
      "100%|█████████████████████████████████████████| 158/158 [00:06<00:00, 23.69it/s]"
     ]
    },
    {
     "name": "stdout",
     "output_type": "stream",
     "text": [
      "08-13 19:19 [MainProcess, 19490] [INFO ]  valid Epoch:77, Train loss=0.4515, Valid loss=0.4315,Valid F1=0.7280, Valid weighted acc=0.7971\n"
     ]
    },
    {
     "name": "stderr",
     "output_type": "stream",
     "text": [
      "\n"
     ]
    },
    {
     "name": "stdout",
     "output_type": "stream",
     "text": [
      "08-13 19:19 [MainProcess, 19490] [INFO ]  Time used for each epoch training: 129.1079123020172 seconds.\n",
      "08-13 19:19 [MainProcess, 19490] [INFO ]  **************************************************\n"
     ]
    },
    {
     "name": "stderr",
     "output_type": "stream",
     "text": [
      "100%|█████████████████████████████████████████| 422/422 [02:02<00:00,  3.45it/s]"
     ]
    },
    {
     "name": "stdout",
     "output_type": "stream",
     "text": [
      "lr:  5.811255809657501e-10\n",
      "08-13 19:21 [MainProcess, 19490] [INFO ]  Iteration:78, train loss = 0.453202 ,train F1 = 0.759825 \n"
     ]
    },
    {
     "name": "stderr",
     "output_type": "stream",
     "text": [
      "\n",
      "100%|█████████████████████████████████████████| 158/158 [00:06<00:00, 23.67it/s]"
     ]
    },
    {
     "name": "stdout",
     "output_type": "stream",
     "text": [
      "08-13 19:21 [MainProcess, 19490] [INFO ]  valid Epoch:78, Train loss=0.4532, Valid loss=0.4273,Valid F1=0.7280, Valid weighted acc=0.7971\n"
     ]
    },
    {
     "name": "stderr",
     "output_type": "stream",
     "text": [
      "\n"
     ]
    },
    {
     "name": "stdout",
     "output_type": "stream",
     "text": [
      "08-13 19:21 [MainProcess, 19490] [INFO ]  Time used for each epoch training: 129.34022736549377 seconds.\n",
      "08-13 19:21 [MainProcess, 19490] [INFO ]  **************************************************\n"
     ]
    },
    {
     "name": "stderr",
     "output_type": "stream",
     "text": [
      "100%|█████████████████████████████████████████| 422/422 [02:01<00:00,  3.46it/s]"
     ]
    },
    {
     "name": "stdout",
     "output_type": "stream",
     "text": [
      "lr:  5.288242786788326e-10\n",
      "08-13 19:23 [MainProcess, 19490] [INFO ]  Iteration:79, train loss = 0.454399 ,train F1 = 0.744615 \n"
     ]
    },
    {
     "name": "stderr",
     "output_type": "stream",
     "text": [
      "\n",
      "100%|█████████████████████████████████████████| 158/158 [00:06<00:00, 23.69it/s]"
     ]
    },
    {
     "name": "stdout",
     "output_type": "stream",
     "text": [
      "08-13 19:23 [MainProcess, 19490] [INFO ]  valid Epoch:79, Train loss=0.4544, Valid loss=0.4302,Valid F1=0.7280, Valid weighted acc=0.7971\n"
     ]
    },
    {
     "name": "stderr",
     "output_type": "stream",
     "text": [
      "\n"
     ]
    },
    {
     "name": "stdout",
     "output_type": "stream",
     "text": [
      "08-13 19:23 [MainProcess, 19490] [INFO ]  Time used for each epoch training: 129.06274843215942 seconds.\n",
      "08-13 19:23 [MainProcess, 19490] [INFO ]  **************************************************\n"
     ]
    }
   ],
   "source": [
    "torch.cuda.empty_cache()\n",
    "\n",
    "murmur_classes = ['Present','Unknown', 'Absent']\n",
    "outcome_classes = ['Abnormal', 'Normal']\n",
    "if args.mode=='murmur':\n",
    "    classes =  murmur_classes \n",
    "elif args.mode =='outcome':\n",
    "    classes = outcome_classes\n",
    "\n",
    "\n",
    "    \n",
    "all_file_train = len(trainset)\n",
    "dataloader_train_len = len(dataloader_train)\n",
    "\n",
    "\n",
    "\n",
    "\n",
    "for iter_ in range(args.end_iter):\n",
    "    train_pred_label,  train_gt_label = [], []\n",
    "    start_time = time.time()\n",
    "    running_loss = 0.0\n",
    "    idx = 0\n",
    "    wav2vec2_lcnn_model.train()\n",
    "    for feature, current_murmur, _ in tqdm(dataloader_train): ###current_outcome\n",
    "        feature = feature.cuda()\n",
    "        feature = torch.tensor(feature, dtype=torch.float32)\n",
    "#         current_age_group = current_age_group.cuda()\n",
    "#         sex_feature = sex_feature.cuda()\n",
    "#         height_weight = height_weight.cuda()\n",
    "#         preg_feature = preg_feature.cuda()\n",
    "#         loc_feature = loc_feature.cuda()\n",
    "        current_murmur = current_murmur.cuda()\n",
    "#         current_outcome = current_outcome.cuda()\n",
    "\n",
    "\n",
    "\n",
    "\n",
    "\n",
    "\n",
    "        output_train = wav2vec2_lcnn_model(feature)   # output\n",
    "        output_train = output_train.squeeze(1)\n",
    "\n",
    "\n",
    "        output_preds_labels = (torch.ceil(output_train-0.4)).data.cpu().numpy()\n",
    "        train_pred_label.extend(list(output_preds_labels))\n",
    "        train_gt_label.extend(list(current_murmur.data.cpu().numpy()))\n",
    "        \n",
    "#         murmur_weight = [4 if i==1 else 1 for i in list(current_murmur.data.cpu().numpy())]\n",
    "        \n",
    "#         criterion = torch.nn.BCELoss(weight = torch.tensor(murmur_weight).cuda())\n",
    "        loss = criterion(output_train.to(torch.float32), current_murmur.to(torch.float32))\n",
    "                        \n",
    "        \n",
    "\n",
    "\n",
    "        idx +=1              \n",
    "\n",
    "        opt.zero_grad()\n",
    "        loss.backward()\n",
    "        opt.step()\n",
    "\n",
    "        running_loss += loss.item()\n",
    "\n",
    "    train_f1 = f1_score(y_true= train_gt_label, y_pred= train_pred_label)\n",
    "    \n",
    "    \n",
    "    scheduler.step()\n",
    "    print(\"lr: \", opt.param_groups[0]['lr'])\n",
    "    logger.info(\"Iteration:{0}, train loss = {1:.6f} ,train F1 = {2:.6f} \".format(iter_, \n",
    "                 running_loss/dataloader_train_len,train_f1))\n",
    "\n",
    "    # eval\n",
    "    all_file_valid = len(validset)\n",
    "    dataloader_valid_len = len(dataloader_valid)\n",
    "    wav2vec2_lcnn_model.eval()\n",
    "\n",
    "    with torch.no_grad():\n",
    "        running_loss_dev = 0.0\n",
    "        index = 0\n",
    "        dev_pred_label,  dev_gt_label = [], []\n",
    "        for feature,  current_murmur, _ in tqdm(dataloader_valid):  #current_outcome\n",
    "            feature_dev = feature.cuda()\n",
    "            feature_dev = torch.tensor(feature_dev, dtype=torch.float32)\n",
    "#             current_age_group_dev = current_age_group.cuda()\n",
    "#             sex_feature_dev = sex_feature.cuda()\n",
    "#             height_weight_dev = height_weight.cuda()\n",
    "#             preg_feature_dev = preg_feature.cuda()\n",
    "#             loc_feature_dev = loc_feature.cuda()\n",
    "            current_murmur_dev = current_murmur.cuda()\n",
    "#             current_outcome_dev = current_outcome.cuda()\n",
    "\n",
    "\n",
    "            output_dev = wav2vec2_lcnn_model(feature_dev)\n",
    "            output_dev = output_dev.squeeze(1)\n",
    "\n",
    "            \n",
    "            \n",
    "            output_preds_labels_dev = (torch.ceil(output_dev-0.4)).data.cpu().numpy()\n",
    "            dev_pred_label.extend(list(output_preds_labels_dev))\n",
    "            dev_gt_label.extend(list(current_murmur_dev.data.cpu().numpy()))\n",
    "            \n",
    "            \n",
    "#             murmur_weight_dev = [4 if i==1 else 1 for i in list(current_murmur_dev.data.cpu().numpy())]\n",
    "        \n",
    "#             criterion = torch.nn.BCELoss(weight = torch.tensor(murmur_weight_dev).cuda())\n",
    "            loss_dev = criterion(output_dev.to(torch.float32), current_murmur_dev.to(torch.float32))\n",
    "            \n",
    "            \n",
    "            running_loss_dev += loss_dev.item()\n",
    "                        \n",
    "\n",
    "            index = index+1   \n",
    "            \n",
    "        dev_preds_onehot_label = np.array([[1.0,0.0,0.0] if i == 1 else [0.0,0.0,1.0] for i in dev_pred_label])    \n",
    "        dev_gt_onehot_label = np.array([[1.0,0.0,0.0] if i == 1 else [0.0,0.0,1.0] for i in dev_gt_label])\n",
    "            \n",
    "        \n",
    "\n",
    "        dev_f1 = f1_score(y_true= dev_gt_label, y_pred= dev_pred_label)\n",
    "        weighted_acc = compute_weighted_accuracy(dev_gt_onehot_label, dev_preds_onehot_label, classes)\n",
    "\n",
    "        \n",
    "\n",
    "\n",
    "\n",
    "    logger.info(\"valid Epoch:%d, Train loss=%.4f, Valid loss=%.4f,Valid F1=%.4f, Valid weighted acc=%.4f\" %( iter_,\n",
    "            running_loss/dataloader_train_len, running_loss_dev/dataloader_valid_len, dev_f1,weighted_acc ))\n",
    "    score_file.write(\"%d epoch, VALID LOSS %f, VALID F1 %2.2f%%, VALID WEIGHTED ACC %2.2f%%\\n\"%(iter_, \n",
    "                            running_loss_dev/dataloader_valid_len, dev_f1, weighted_acc ))\n",
    "    score_file.flush()\n",
    "\n",
    "    torch.save(wav2vec2_lcnn_model.state_dict(), os.path.join(model_folder, \"{}_{}.model\".format(args.model_name, iter_)))\n",
    "\n",
    "    end_time = time.time()\n",
    "    logger.info(\"Time used for each epoch training: {} seconds.\".format(end_time - start_time))\n",
    "    logger.info(\"*\" * 50)\n",
    "\n",
    "\n",
    "# if verbose >= 1:\n",
    "#     print('Done.')"
   ]
  },
  {
   "cell_type": "code",
   "execution_count": 35,
   "id": "76ef9de0",
   "metadata": {},
   "outputs": [],
   "source": [
    "train_f1 = f1_score(y_true= train_gt_label[:100], y_pred= train_pred_label[:100])"
   ]
  },
  {
   "cell_type": "code",
   "execution_count": 36,
   "id": "9d066219",
   "metadata": {},
   "outputs": [
    {
     "data": {
      "text/plain": [
       "0.1875"
      ]
     },
     "execution_count": 36,
     "metadata": {},
     "output_type": "execute_result"
    }
   ],
   "source": [
    "train_f1"
   ]
  },
  {
   "cell_type": "code",
   "execution_count": 37,
   "id": "6cff0f03",
   "metadata": {},
   "outputs": [
    {
     "data": {
      "text/plain": [
       "2532"
      ]
     },
     "execution_count": 37,
     "metadata": {},
     "output_type": "execute_result"
    }
   ],
   "source": [
    "len(train_gt_label)"
   ]
  },
  {
   "cell_type": "code",
   "execution_count": 25,
   "id": "823597c3",
   "metadata": {},
   "outputs": [
    {
     "data": {
      "text/plain": [
       "[1.0, 1.0, 1.0, 1.0, 1.0, 1.0, 1.0, 1.0, 1.0, 1.0]"
      ]
     },
     "execution_count": 25,
     "metadata": {},
     "output_type": "execute_result"
    }
   ],
   "source": [
    "train_pred_label[:10]"
   ]
  },
  {
   "cell_type": "code",
   "execution_count": 27,
   "id": "52b4c9ad",
   "metadata": {},
   "outputs": [
    {
     "data": {
      "text/plain": [
       "torch.Size([3])"
      ]
     },
     "execution_count": 27,
     "metadata": {},
     "output_type": "execute_result"
    }
   ],
   "source": [
    "output_dev.shape"
   ]
  },
  {
   "cell_type": "code",
   "execution_count": 28,
   "id": "12e60dc5",
   "metadata": {},
   "outputs": [
    {
     "data": {
      "text/plain": [
       "array([-0., -0., -0.], dtype=float32)"
      ]
     },
     "execution_count": 28,
     "metadata": {},
     "output_type": "execute_result"
    }
   ],
   "source": [
    "output_preds_labels_dev"
   ]
  },
  {
   "cell_type": "code",
   "execution_count": 31,
   "id": "2674ba4b",
   "metadata": {},
   "outputs": [
    {
     "data": {
      "text/plain": [
       "133"
      ]
     },
     "execution_count": 31,
     "metadata": {},
     "output_type": "execute_result"
    }
   ],
   "source": [
    "dev_gt_label.count(1)"
   ]
  },
  {
   "cell_type": "code",
   "execution_count": 32,
   "id": "27951f3a",
   "metadata": {},
   "outputs": [
    {
     "data": {
      "text/plain": [
       "0"
      ]
     },
     "execution_count": 32,
     "metadata": {},
     "output_type": "execute_result"
    }
   ],
   "source": [
    "dev_pred_label.count(1)"
   ]
  },
  {
   "cell_type": "code",
   "execution_count": 34,
   "id": "d69b9a40",
   "metadata": {},
   "outputs": [
    {
     "data": {
      "text/plain": [
       "631"
      ]
     },
     "execution_count": 34,
     "metadata": {},
     "output_type": "execute_result"
    }
   ],
   "source": [
    "len(dev_gt_label)"
   ]
  },
  {
   "cell_type": "code",
   "execution_count": 12,
   "id": "02c07904",
   "metadata": {},
   "outputs": [],
   "source": [
    "def load_challenge_model(model_folder, verbose):\n",
    "    murmur_train_model = torch.load('/home/jh20/narin/physionet/hmd_LCNN' + '/' + 'hmd_LCNN_model_murmur_19.model')\n",
    "    outcome_train_model = torch.load('/home/jh20/narin/physionet/hmd_CNN_outcome' + '/' + 'hmd_CNN_outcome_model_25.model')\n",
    "    return [murmur_train_model, outcome_train_model]"
   ]
  },
  {
   "cell_type": "code",
   "execution_count": 14,
   "id": "88e9bddd",
   "metadata": {},
   "outputs": [],
   "source": [
    "import sys\n",
    "sys.path.append(\"/home/jh20/narin/physionet/python-classifier-2022/model\")\n",
    "\n",
    "from CNN_outcome import CNN as CNN_outcome"
   ]
  },
  {
   "cell_type": "code",
   "execution_count": null,
   "id": "ac90d9ee",
   "metadata": {},
   "outputs": [],
   "source": [
    "import librosa\n",
    "import math\n",
    "import random\n",
    "\n",
    "def get_features(data, recordings):\n",
    "    \n",
    "    murmur_classes = ['Present', 'Unknown', 'Absent']\n",
    "    num_murmur_classes = len(murmur_classes)\n",
    "    outcome_classes = ['Abnormal', 'Normal']\n",
    "    num_outcome_classes = len(outcome_classes)\n",
    "    \n",
    "    age_classes = ['Neonate', 'Infant', 'Child', 'Adolescent', 'Young Adult']\n",
    "    recording_locations = ['AV', 'MV', 'PV', 'TV', 'PhC']\n",
    "    \n",
    "    num_recordings = len(recordings)\n",
    "    \n",
    "    \n",
    "    feature_dict={}\n",
    "    \n",
    "    feature_dict['mel']=[]\n",
    "    for i in range(num_recordings):\n",
    "        #log mel feature\n",
    "        log_mel_feature = librosa.power_to_db(librosa.feature.melspectrogram(y = recordings[i].astype(np.float32),\n",
    "                                                         sr= 4000,\n",
    "                                                             n_mels=128,\n",
    "                                                             n_fft=400, \n",
    "                                                             hop_length=128, \n",
    "                                                             win_length=400))\n",
    "        feature_dict['mel'].append(log_mel_feature)\n",
    "    \n",
    "    recording_info_lst = data.split('\\n')[1:num_recordings+1]\n",
    "    feature_dict['wav2vec2'] = []\n",
    "    for i in range(num_recordings):\n",
    "        pk_feature_fnm = recording_info_lst[i].split(' ')[2].replace('wav','pickle')\n",
    "        with open('/home/jh20/Data/nr_data/ECG/Physionet2022/physionet.org/files/circor-heart-sound/1.0.3/validation_wav2vec2/'+ pk_feature_fnm ,'rb') as fr:\n",
    "            feature = pickle.load(fr)\n",
    "        feature_dict['wav2vec2'].append(feature)\n",
    "    \n",
    "\n",
    "    # age\n",
    "    current_patient_age = get_age(data)\n",
    "    current_age_group = np.zeros(6, dtype=np.float32)\n",
    "    if current_patient_age in age_classes:\n",
    "        j = age_classes.index(current_patient_age)\n",
    "        current_age_group[j] = 1.0\n",
    "    else :\n",
    "        current_age_group[5] = 1.0\n",
    "\n",
    "    feature_dict['age']=current_age_group\n",
    "\n",
    "\n",
    "\n",
    "    # sex\n",
    "    sex = get_sex(data)\n",
    "    sex_feature = np.zeros(2, dtype=np.float32)\n",
    "    if compare_strings(sex, 'Female'):\n",
    "        sex_feature[0] = 1.0\n",
    "    elif compare_strings(sex, 'Male'):\n",
    "        sex_feature[1] = 1.0\n",
    "\n",
    "    feature_dict['sex']=sex_feature\n",
    "\n",
    "    # height and weight.\n",
    "    height = get_height(data)\n",
    "    weight = get_weight(data)\n",
    "\n",
    "    ## simple impute\n",
    "    if math.isnan(height) :\n",
    "        height = 110.846  #mean\n",
    "    if math.isnan(weight) :\n",
    "        weight = 23.767   #mean\n",
    "\n",
    "    height_weight = np.array([height, weight], dtype=np.float32)\n",
    "\n",
    "\n",
    "    feature_dict['hw']=height_weight\n",
    "\n",
    "    # Extract pregnancy\n",
    "    preg_feature = np.zeros(2, dtype=np.float32)\n",
    "    is_pregnant = get_pregnancy_status(data)\n",
    "    if is_pregnant == True:\n",
    "        preg_feature[0] = 1.0\n",
    "    elif is_pregnant == False:\n",
    "        preg_feature[1] = 1.0\n",
    "\n",
    "    feature_dict['preg']=preg_feature\n",
    "\n",
    "    # Extract location\n",
    "    feature_dict['loc']=[]\n",
    "    locations = get_locations(data)\n",
    "    for j in range(num_recordings):\n",
    "        \n",
    "        num_recording_locations = len(recording_locations)\n",
    "        loc_feature = np.zeros(num_recording_locations, dtype=np.float32)\n",
    "        if locations[j] in recording_locations:\n",
    "            idx = recording_locations.index(locations[j])\n",
    "            loc_feature[idx] = 1.0\n",
    "            \n",
    "        feature_dict['loc'].append(loc_feature)\n",
    "\n",
    "\n",
    "\n",
    "\n",
    "    # label\n",
    "\n",
    "    current_murmur = np.zeros(num_murmur_classes, dtype=np.float32)\n",
    "    murmur = get_murmur(data)\n",
    "    if murmur in murmur_classes:\n",
    "        j = murmur_classes.index(murmur)\n",
    "        current_murmur[j] = 1\n",
    "    \n",
    "    feature_dict['murmur']=current_murmur\n",
    "    \n",
    "    current_outcome = np.zeros(num_outcome_classes, dtype=np.float32)\n",
    "    outcome = get_outcome(data)\n",
    "    if outcome in outcome_classes:\n",
    "        j = outcome_classes.index(outcome)\n",
    "        current_outcome[j] = 1\n",
    "\n",
    "    feature_dict['outcome']=current_outcome\n",
    "    \n",
    "    \n",
    "\n",
    "\n",
    "    return feature_dict"
   ]
  },
  {
   "cell_type": "code",
   "execution_count": null,
   "id": "90438f44",
   "metadata": {},
   "outputs": [],
   "source": [
    "def run_challenge_model(model, data, recordings, verbose):\n",
    "    murmur_model , outcome_model = model\n",
    "    \n",
    "    device = torch.device('cuda' if torch.cuda.is_available() else 'cpu')\n",
    "#     print ('Available devices ', torch.cuda.device_count())\n",
    "        \n",
    "    GPU_NUM = args.gpu # 원하는 GPU 번호 입력\n",
    "    device = torch.device(f'cuda:{GPU_NUM}' if torch.cuda.is_available() else 'cpu')\n",
    "    torch.cuda.set_device(device) # change allocation of current GPU\n",
    "\n",
    "    \n",
    "    # Define the model\n",
    "    murmur_classifier = LCNN_murmur(\"murmur\")\n",
    "    murmur_classifier = murmur_classifier.cuda(device)\n",
    "    \n",
    "    outcome_classifier = CNN_outcome()\n",
    "    outcome_classifier = outcome_classifier.cuda(device)\n",
    "    \n",
    "    murmur_classifier.load_state_dict(murmur_model)\n",
    "    outcome_classifier.load_state_dict(outcome_model)\n",
    "    \n",
    "#     wav_files = glob.glob(data_folder + '*.wav')\n",
    "#     num_wav_files = len(wav_files)\n",
    "    \n",
    "    murmur_classes = ['Present', 'Unknown', 'Absent']\n",
    "    num_murmur_classes = len(murmur_classes)\n",
    "    outcome_classes = ['Abnormal', 'Normal']\n",
    "    num_outcome_classes = len(outcome_classes)\n",
    "    \n",
    "    age_classes = ['Neonate', 'Infant', 'Child', 'Adolescent', 'Young Adult']\n",
    "    recording_locations = ['AV', 'MV', 'PV', 'TV', 'PhC']\n",
    "    \n",
    "    num_recordings = len(recordings)\n",
    "    recordings_list=[]\n",
    "    for i in range(num_recordings):\n",
    "        recording = recordings[i]\n",
    "        length = 20*4000  \n",
    "        if recording.shape[0] <= length:\n",
    "            shortage = length - recording.shape[0]\n",
    "            recording = np.pad(recording, (0, shortage), 'wrap')\n",
    "        start_frame = np.int64(random.random()*(recording.shape[0]-length))\n",
    "        recording = recording[start_frame:start_frame + length] \n",
    "        \n",
    "        recordings_list.append(recording)\n",
    "        \n",
    "\n",
    "    features = get_features(data, recordings_list)\n",
    "    \n",
    "    predict_murmur_arr= np.zeros((num_recordings,3))\n",
    "    predict_outcome_arr= np.zeros((num_recordings,2))\n",
    "    \n",
    "    for i in range(num_recordings):\n",
    "        \n",
    "        logmel = torch.tensor(features['mel'][i]).cuda()\n",
    "        age = torch.tensor(features['age']).cuda()\n",
    "        sex = torch.tensor(features['sex']).cuda()\n",
    "        hw = torch.tensor(features['hw']).cuda()\n",
    "        preg = torch.tensor(features['preg']).cuda()\n",
    "        loc = torch.tensor(features['loc'][i]).cuda()\n",
    "        wav2vec2_feature = torch.tensor(features['wav2vec2'][i]).cuda()\n",
    "        \n",
    "        logmel = logmel.unsqueeze(0)\n",
    "        age = age.unsqueeze(0)\n",
    "        sex = sex.unsqueeze(0)\n",
    "        hw = hw.unsqueeze(0)\n",
    "        preg = preg.unsqueeze(0)\n",
    "        loc = loc.unsqueeze(0)\n",
    "        wav2vec2_feature = wav2vec2_feature.unsqueeze(1)\n",
    "        \n",
    "        predict_murmur = F.log_softmax(murmur_classifier(wav2vec2_feature), dim=1)\n",
    "        predict_outcome = F.log_softmax(outcome_classifier(logmel,age,sex,hw,preg,loc), dim=1)\n",
    "        \n",
    "        predict_murmur_arr[i,:]= predict_murmur.data.detach().cpu().numpy()\n",
    "        predict_outcome_arr[i,:] = predict_outcome.data.detach().cpu().numpy()\n",
    "\n",
    "    \n",
    "    \n",
    "    \n",
    "   \n",
    "    # Get classifier probabilities.\n",
    "    idx1 = predict_murmur_arr.argmax(axis=0)[0]\n",
    "    murmur_probabilities = predict_murmur_arr[idx1,] \n",
    "    idx2 = predict_outcome_arr.argmax(axis=0)[0]\n",
    "    outcome_probabilities = predict_outcome_arr[idx2,]\n",
    "\n",
    "\n",
    "    # Choose label with highest probability.\n",
    "    murmur_labels = np.zeros(len(murmur_classes), dtype=np.int_)\n",
    "    idx = np.argmax(murmur_probabilities)\n",
    "    murmur_labels[idx] = 1\n",
    "    outcome_labels = np.zeros(len(outcome_classes), dtype=np.int_)\n",
    "    idx = np.argmax(outcome_probabilities)\n",
    "    outcome_labels[idx] = 1\n",
    "\n",
    "    # Concatenate classes, labels, and probabilities.\n",
    "    classes = murmur_classes + outcome_classes\n",
    "    labels = np.concatenate((murmur_labels, outcome_labels))\n",
    "    probabilities = np.concatenate((murmur_probabilities, outcome_probabilities))\n",
    "\n",
    "    return classes, labels, probabilities"
   ]
  },
  {
   "cell_type": "code",
   "execution_count": null,
   "id": "89e1131d",
   "metadata": {},
   "outputs": [],
   "source": [
    "import numpy as np, os, sys\n",
    "# from helper_code import *\n",
    "# from team_code import load_challenge_model, run_challenge_model\n",
    "\n",
    "# Run model.\n",
    "def run_model(model_folder, data_folder, output_folder, allow_failures, verbose):\n",
    "    # Load models.\n",
    "    if verbose >= 1:\n",
    "        print('Loading Challenge model...')\n",
    "\n",
    "    model = load_challenge_model(model_folder, verbose) ### Teams: Implement this function!!!\n",
    "\n",
    "    # Find the patient data files.\n",
    "    patient_files = find_patient_files(data_folder)\n",
    "    num_patient_files = len(patient_files)\n",
    "\n",
    "    if num_patient_files==0:\n",
    "        raise Exception('No data was provided.')\n",
    "\n",
    "    # Create a folder for the Challenge outputs if it does not already exist.\n",
    "    os.makedirs(output_folder, exist_ok=True)\n",
    "\n",
    "    # Run the team's model on the Challenge data.\n",
    "    if verbose >= 1:\n",
    "        print('Running model on Challenge data...')\n",
    "\n",
    "    # Iterate over the patient files.\n",
    "    for i in range(num_patient_files):\n",
    "        if verbose >= 2:\n",
    "            print('    {}/{}...'.format(i+1, num_patient_files))\n",
    "\n",
    "        patient_data = load_patient_data(patient_files[i])\n",
    "        recordings = load_recordings(data_folder, patient_data)\n",
    "\n",
    "        # Allow or disallow the model to fail on parts of the data; helpful for debugging.\n",
    "        try:\n",
    "            classes, labels, probabilities = run_challenge_model(model, patient_data, recordings, verbose) ### Teams: Implement this function!!!\n",
    "        except:\n",
    "            if allow_failures:\n",
    "                if verbose >= 2:\n",
    "                    print('... failed.')\n",
    "                classes, labels, probabilities = list(), list(), list()\n",
    "            else:\n",
    "                raise\n",
    "\n",
    "        # Save Challenge outputs.\n",
    "        head, tail = os.path.split(patient_files[i])\n",
    "        root, extension = os.path.splitext(tail)\n",
    "        output_file = os.path.join(output_folder, root + '.csv')\n",
    "        patient_id = get_patient_id(patient_data)\n",
    "        save_challenge_outputs(output_file, patient_id, classes, labels, probabilities)\n",
    "\n",
    "    if verbose >= 1:\n",
    "        print('Done.')"
   ]
  },
  {
   "cell_type": "code",
   "execution_count": null,
   "id": "5b684a61",
   "metadata": {},
   "outputs": [],
   "source": []
  }
 ],
 "metadata": {
  "kernelspec": {
   "display_name": "Python 3 (ipykernel)",
   "language": "python",
   "name": "python3"
  },
  "language_info": {
   "codemirror_mode": {
    "name": "ipython",
    "version": 3
   },
   "file_extension": ".py",
   "mimetype": "text/x-python",
   "name": "python",
   "nbconvert_exporter": "python",
   "pygments_lexer": "ipython3",
   "version": "3.8.5"
  }
 },
 "nbformat": 4,
 "nbformat_minor": 5
}
