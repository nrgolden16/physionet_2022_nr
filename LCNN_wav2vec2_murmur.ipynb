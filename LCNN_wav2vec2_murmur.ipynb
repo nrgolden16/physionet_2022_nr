{
 "cells": [
  {
   "cell_type": "code",
   "execution_count": 1,
   "id": "a81bdb3c",
   "metadata": {},
   "outputs": [],
   "source": [
    "import sys\n",
    "sys.path.append(\"/home/jh20/narin/physionet/python-classifier-2022\")\n",
    "from helper_code import *\n",
    "import numpy as np, scipy as sp, scipy.stats, os, joblib\n",
    "import glob\n",
    "import pandas as pd\n",
    "from sklearn.model_selection import train_test_split\n",
    "import time\n",
    "import torch.nn.functional as F\n",
    "from tqdm import tqdm\n",
    "from IPython.display import Audio\n",
    "from scipy.io import wavfile\n",
    "import soundfile\n",
    "import librosa\n",
    "import torch\n",
    "import random\n",
    "from transformers import Wav2Vec2ForCTC, Wav2Vec2Tokenizer, Wav2Vec2Model,Wav2Vec2Config, Wav2Vec2FeatureExtractor, Wav2Vec2Processor"
   ]
  },
  {
   "cell_type": "code",
   "execution_count": 2,
   "id": "aebe6c29",
   "metadata": {},
   "outputs": [],
   "source": [
    "import logging\n",
    "def get_logger(filename):\n",
    "    # Logging configuration: set the basic configuration of the logging system\n",
    "    log_formatter = logging.Formatter(fmt='%(asctime)s [%(processName)s, %(process)s] [%(levelname)-5.5s]  %(message)s',\n",
    "                                      datefmt='%m-%d %H:%M')\n",
    "    logger = logging.getLogger()\n",
    "    logger.setLevel(logging.DEBUG)\n",
    "    # File logger\n",
    "    file_handler = logging.FileHandler(\"{}.log\".format(filename))\n",
    "    file_handler.setFormatter(log_formatter)\n",
    "    file_handler.setLevel(logging.DEBUG)\n",
    "    logger.addHandler(file_handler)\n",
    "    # Stderr logger\n",
    "    std_handler = logging.StreamHandler(sys.stdout)\n",
    "    std_handler.setFormatter(log_formatter)\n",
    "    std_handler.setLevel(logging.DEBUG)\n",
    "    logger.addHandler(std_handler)\n",
    "    return logger"
   ]
  },
  {
   "cell_type": "code",
   "execution_count": 3,
   "id": "9746d289",
   "metadata": {},
   "outputs": [],
   "source": [
    "# Compute a binary confusion matrix, where the columns are the expert labels and the rows are the classifier labels.\n",
    "def compute_confusion_matrix(labels, outputs):\n",
    "    assert(np.shape(labels)[0] == np.shape(outputs)[0])\n",
    "    assert(all(value in (0, 1, True, False) for value in np.unique(labels)))\n",
    "    assert(all(value in (0, 1, True, False) for value in np.unique(outputs)))\n",
    "\n",
    "    num_patients = np.shape(labels)[0]\n",
    "    num_label_classes = np.shape(labels)[1]\n",
    "    num_output_classes = np.shape(outputs)[1]\n",
    "\n",
    "    A = np.zeros((num_output_classes, num_label_classes))\n",
    "    for k in range(num_patients):\n",
    "        for i in range(num_output_classes):\n",
    "            for j in range(num_label_classes):\n",
    "                if outputs[k, i] == 1 and labels[k, j] == 1:\n",
    "                    A[i, j] += 1\n",
    "\n",
    "    return A\n",
    "\n",
    "# Compute binary one-vs-rest confusion matrices, where the columns are the expert labels and the rows are the classifier labels.\n",
    "def compute_one_vs_rest_confusion_matrix(labels, outputs):\n",
    "    assert(np.shape(labels) == np.shape(outputs))\n",
    "    assert(all(value in (0, 1, True, False) for value in np.unique(labels)))\n",
    "    assert(all(value in (0, 1, True, False) for value in np.unique(outputs)))\n",
    "\n",
    "    num_patients, num_classes = np.shape(labels)\n",
    "\n",
    "    A = np.zeros((num_classes, 2, 2))\n",
    "    for i in range(num_patients):\n",
    "        for j in range(num_classes):\n",
    "            if labels[i, j] == 1 and outputs[i, j] == 1: # TP\n",
    "                A[j, 0, 0] += 1\n",
    "            elif labels[i, j] == 0 and outputs[i, j] == 1: # FP\n",
    "                A[j, 0, 1] += 1\n",
    "            elif labels[i, j] == 1 and outputs[i, j] == 0: # FN\n",
    "                A[j, 1, 0] += 1\n",
    "            elif labels[i, j] == 0 and outputs[i, j] == 0: # TN\n",
    "                A[j, 1, 1] += 1\n",
    "\n",
    "    return A\n",
    "\n",
    "# Compute macro F-measure.\n",
    "def compute_f_measure(labels, outputs):\n",
    "    num_patients, num_classes = np.shape(labels)\n",
    "\n",
    "    A = compute_one_vs_rest_confusion_matrix(labels, outputs)\n",
    "\n",
    "    f_measure = np.zeros(num_classes)\n",
    "    for k in range(num_classes):\n",
    "        tp, fp, fn, tn = A[k, 0, 0], A[k, 0, 1], A[k, 1, 0], A[k, 1, 1]\n",
    "        if 2 * tp + fp + fn > 0:\n",
    "            f_measure[k] = float(2 * tp) / float(2 * tp + fp + fn)\n",
    "        else:\n",
    "            f_measure[k] = float('nan')\n",
    "\n",
    "    if np.any(np.isfinite(f_measure)):\n",
    "        macro_f_measure = np.nanmean(f_measure)\n",
    "    else:\n",
    "        macro_f_measure = float('nan')\n",
    "\n",
    "    return macro_f_measure, f_measure\n",
    "\n",
    "# Compute accuracy.\n",
    "def compute_accuracy(labels, outputs):\n",
    "    # Compute confusion matrix.\n",
    "    assert(np.shape(labels) == np.shape(outputs))\n",
    "    num_patients, num_classes = np.shape(labels)\n",
    "    A = compute_confusion_matrix(labels, outputs)\n",
    "\n",
    "    # Compute accuracy.\n",
    "    if np.sum(A) > 0:\n",
    "        accuracy = np.trace(A) / np.sum(A)\n",
    "    else:\n",
    "        accuracy = float('nan')\n",
    "\n",
    "    # Compute per-class accuracy.\n",
    "    accuracy_classes = np.zeros(num_classes)\n",
    "    for i in range(num_classes):\n",
    "        if np.sum(A[:, i]) > 0:\n",
    "            accuracy_classes[i] = A[i, i] / np.sum(A[:, i])\n",
    "        else:\n",
    "            accuracy_classes[i] = float('nan')\n",
    "\n",
    "    return accuracy, accuracy_classes\n",
    "\n",
    "# Compute accuracy.\n",
    "def compute_weighted_accuracy(labels, outputs, classes):\n",
    "    # Define constants.\n",
    "    if classes == ['Present', 'Unknown', 'Absent']:\n",
    "        weights = np.array([[5, 3, 1], [5, 3, 1], [5, 3, 1]])\n",
    "    elif classes == ['Abnormal', 'Normal']:\n",
    "        weights = np.array([[5, 1], [5, 1]])\n",
    "    else:\n",
    "        raise NotImplementedError('Weighted accuracy undefined for classes {}'.format(', '.join(classes)))\n",
    "\n",
    "    # Compute confusion matrix.\n",
    "    assert(np.shape(labels) == np.shape(outputs))\n",
    "    A = compute_confusion_matrix(labels, outputs)\n",
    "\n",
    "    # Multiply the confusion matrix by the weight matrix.\n",
    "    assert(np.shape(A) == np.shape(weights))\n",
    "    B = weights * A\n",
    "\n",
    "    # Compute weighted_accuracy.\n",
    "    if np.sum(B) > 0:\n",
    "        weighted_accuracy = np.trace(B) / np.sum(B)\n",
    "    else:\n",
    "        weighted_accuracy = float('nan')\n",
    "\n",
    "    return weighted_accuracy"
   ]
  },
  {
   "cell_type": "code",
   "execution_count": 4,
   "id": "83659ec5",
   "metadata": {},
   "outputs": [],
   "source": [
    "# from torchmetrics import F1\n",
    "# from torchmetrics import Accuracy\n",
    "\n",
    "from sklearn.metrics import f1_score"
   ]
  },
  {
   "cell_type": "code",
   "execution_count": 5,
   "id": "b53bf77f",
   "metadata": {},
   "outputs": [],
   "source": [
    "import argparse, warnings, sys\n",
    "import torch\n",
    "\n",
    "sys.path.append('/home/jh20/narin/dcase/DESED_task')\n",
    "sys.path.append('/home/jh20/narin/dcase/DESED_task/recipes/dcase2022_task4_baseline')\n",
    "\n",
    "\n",
    "parser = argparse.ArgumentParser(description = \"HMD_trainer\")\n",
    "## Training Settings\n",
    "parser.add_argument('--train_data_folder',    default='/home/jh20/Data/nr_data/ECG/Physionet2022/physionet.org/files/circor-heart-sound/1.0.3/train/',     help='train data path')\n",
    "parser.add_argument('--valid_data_folder',    default='/home/jh20/Data/nr_data/ECG/Physionet2022/physionet.org/files/circor-heart-sound/1.0.3/validation/',     help='validation data path')\n",
    "parser.add_argument('--train_feature_folder',    default='/home/jh20/Data/nr_data/ECG/Physionet2022/physionet.org/files/circor-heart-sound/1.0.3/train_wav2vec2/',     help='train feature path')\n",
    "parser.add_argument('--valid_feature_folder',    default='/home/jh20/Data/nr_data/ECG/Physionet2022/physionet.org/files/circor-heart-sound/1.0.3/validation_wav2vec2/',     help='validation feature path')\n",
    "parser.add_argument('--output_folder',    default='./output_folder_LCNN',     help='output folder')\n",
    "parser.add_argument(\"--mode\",default=\"murmur\", type=str, help=\"mode : murmur/outcome\")\n",
    "parser.add_argument(\"--lr\",default=1e-3, type=float, help=\"learning rate\")\n",
    "parser.add_argument(\"--minibatchsize_train\", default=32 ,type=int)\n",
    "parser.add_argument(\"--minibatchsize_valid\", default=8, type=int)\n",
    "parser.add_argument(\"--train_num_workers\", default=8, type=int, help=\"number of training workers\")\n",
    "parser.add_argument(\"--dev_num_workers\", default=1, type=int, help=\"number of validation workers\")\n",
    "parser.add_argument(\"--seed\", default=617, type=int)\n",
    "parser.add_argument(\"--model_path\", default='./hmd_LCNN', type=str)\n",
    "parser.add_argument(\"--logdir\", default='./log_hmd_LCNN/', type=str)\n",
    "parser.add_argument(\"--model_name\", default='hmd_LCNN_model_murmur', type=str)\n",
    "parser.add_argument(\"--start_iter\", default=0, type=int)\n",
    "parser.add_argument(\"--end_iter\", default=80, type=int)\n",
    "parser.add_argument(\"--gpu\", default=\"0\", type=str)\n",
    "\n",
    "\n",
    "\n",
    "\n",
    "warnings.simplefilter(action='ignore', category=FutureWarning)\n",
    "warnings.filterwarnings('ignore')\n",
    "warnings.simplefilter(\"ignore\")\n",
    "torch.multiprocessing.set_sharing_strategy('file_system')\n",
    "args = parser.parse_args(args=[])"
   ]
  },
  {
   "cell_type": "code",
   "execution_count": 6,
   "id": "a52ffe3d",
   "metadata": {},
   "outputs": [],
   "source": [
    "def read_recording(wav_fn, audio_length= 20, sr= 4000):\n",
    "\n",
    "    recording, frequency = librosa.load(wav_fn, sr = sr)\n",
    "    \n",
    "    recording = recording*1.0\n",
    "\n",
    "\n",
    "    length = audio_length*sr\n",
    "    if recording.shape[0] <= length:\n",
    "        shortage = length - recording.shape[0]\n",
    "        recording = np.pad(recording, (0, shortage), 'wrap')\n",
    "    start_frame = np.int64(random.random()*(recording.shape[0]-length))\n",
    "    recording = recording[start_frame:start_frame + length] \n",
    "\n",
    "    return recording, frequency"
   ]
  },
  {
   "cell_type": "code",
   "execution_count": 7,
   "id": "7c980bb4",
   "metadata": {},
   "outputs": [
    {
     "name": "stderr",
     "output_type": "stream",
     "text": [
      "Some weights of Wav2Vec2ForCTC were not initialized from the model checkpoint at facebook/wav2vec2-base-960h and are newly initialized: ['wav2vec2.masked_spec_embed']\n",
      "You should probably TRAIN this model on a down-stream task to be able to use it for predictions and inference.\n"
     ]
    }
   ],
   "source": [
    "from tqdm import tqdm\n",
    "import pickle\n",
    "import torch.nn as nn\n",
    "wav_files = glob.glob(args.train_data_folder + '*.wav')\n",
    "# processor = Wav2Vec2Processor.from_pretrained(\"facebook/wav2vec2-base-960h\")\n",
    "CTC = Wav2Vec2ForCTC.from_pretrained(\"facebook/wav2vec2-base-960h\")\n",
    "CTC.lm_head = nn.Identity()\n",
    "# for i in tqdm(range(len(wav_files))):\n",
    "#     current_recording = read_recording(wav_files[i])\n",
    "# #     current_recording = current_recording.reshape(1,80000)\n",
    "#     input_values = processor(current_recording, return_tensors=\"pt\", padding=\"longest\").input_values\n",
    "#     feature = CTC(input_values).logits\n",
    "#     feature.requires_grad = False\n",
    "#     fnm = wav_files[i].split('/')[-1].replace('wav','pickle')\n",
    "#     with open('/home/jh20/Data/nr_data/ECG/Physionet2022/physionet.org/files/circor-heart-sound/1.0.3/train_wav2vec2/'+ fnm ,'wb') as fw:\n",
    "#         pickle.dump(feature,fw)"
   ]
  },
  {
   "cell_type": "code",
   "execution_count": 8,
   "id": "dcd57ef5",
   "metadata": {},
   "outputs": [
    {
     "data": {
      "text/plain": [
       "Wav2Vec2ForCTC(\n",
       "  (wav2vec2): Wav2Vec2Model(\n",
       "    (feature_extractor): Wav2Vec2FeatureEncoder(\n",
       "      (conv_layers): ModuleList(\n",
       "        (0): Wav2Vec2GroupNormConvLayer(\n",
       "          (conv): Conv1d(1, 512, kernel_size=(10,), stride=(5,), bias=False)\n",
       "          (activation): GELUActivation()\n",
       "          (layer_norm): GroupNorm(512, 512, eps=1e-05, affine=True)\n",
       "        )\n",
       "        (1): Wav2Vec2NoLayerNormConvLayer(\n",
       "          (conv): Conv1d(512, 512, kernel_size=(3,), stride=(2,), bias=False)\n",
       "          (activation): GELUActivation()\n",
       "        )\n",
       "        (2): Wav2Vec2NoLayerNormConvLayer(\n",
       "          (conv): Conv1d(512, 512, kernel_size=(3,), stride=(2,), bias=False)\n",
       "          (activation): GELUActivation()\n",
       "        )\n",
       "        (3): Wav2Vec2NoLayerNormConvLayer(\n",
       "          (conv): Conv1d(512, 512, kernel_size=(3,), stride=(2,), bias=False)\n",
       "          (activation): GELUActivation()\n",
       "        )\n",
       "        (4): Wav2Vec2NoLayerNormConvLayer(\n",
       "          (conv): Conv1d(512, 512, kernel_size=(3,), stride=(2,), bias=False)\n",
       "          (activation): GELUActivation()\n",
       "        )\n",
       "        (5): Wav2Vec2NoLayerNormConvLayer(\n",
       "          (conv): Conv1d(512, 512, kernel_size=(2,), stride=(2,), bias=False)\n",
       "          (activation): GELUActivation()\n",
       "        )\n",
       "        (6): Wav2Vec2NoLayerNormConvLayer(\n",
       "          (conv): Conv1d(512, 512, kernel_size=(2,), stride=(2,), bias=False)\n",
       "          (activation): GELUActivation()\n",
       "        )\n",
       "      )\n",
       "    )\n",
       "    (feature_projection): Wav2Vec2FeatureProjection(\n",
       "      (layer_norm): LayerNorm((512,), eps=1e-05, elementwise_affine=True)\n",
       "      (projection): Linear(in_features=512, out_features=768, bias=True)\n",
       "      (dropout): Dropout(p=0.1, inplace=False)\n",
       "    )\n",
       "    (encoder): Wav2Vec2Encoder(\n",
       "      (pos_conv_embed): Wav2Vec2PositionalConvEmbedding(\n",
       "        (conv): Conv1d(768, 768, kernel_size=(128,), stride=(1,), padding=(64,), groups=16)\n",
       "        (padding): Wav2Vec2SamePadLayer()\n",
       "        (activation): GELUActivation()\n",
       "      )\n",
       "      (layer_norm): LayerNorm((768,), eps=1e-05, elementwise_affine=True)\n",
       "      (dropout): Dropout(p=0.1, inplace=False)\n",
       "      (layers): ModuleList(\n",
       "        (0): Wav2Vec2EncoderLayer(\n",
       "          (attention): Wav2Vec2Attention(\n",
       "            (k_proj): Linear(in_features=768, out_features=768, bias=True)\n",
       "            (v_proj): Linear(in_features=768, out_features=768, bias=True)\n",
       "            (q_proj): Linear(in_features=768, out_features=768, bias=True)\n",
       "            (out_proj): Linear(in_features=768, out_features=768, bias=True)\n",
       "          )\n",
       "          (dropout): Dropout(p=0.1, inplace=False)\n",
       "          (layer_norm): LayerNorm((768,), eps=1e-05, elementwise_affine=True)\n",
       "          (feed_forward): Wav2Vec2FeedForward(\n",
       "            (intermediate_dropout): Dropout(p=0.1, inplace=False)\n",
       "            (intermediate_dense): Linear(in_features=768, out_features=3072, bias=True)\n",
       "            (intermediate_act_fn): GELUActivation()\n",
       "            (output_dense): Linear(in_features=3072, out_features=768, bias=True)\n",
       "            (output_dropout): Dropout(p=0.1, inplace=False)\n",
       "          )\n",
       "          (final_layer_norm): LayerNorm((768,), eps=1e-05, elementwise_affine=True)\n",
       "        )\n",
       "        (1): Wav2Vec2EncoderLayer(\n",
       "          (attention): Wav2Vec2Attention(\n",
       "            (k_proj): Linear(in_features=768, out_features=768, bias=True)\n",
       "            (v_proj): Linear(in_features=768, out_features=768, bias=True)\n",
       "            (q_proj): Linear(in_features=768, out_features=768, bias=True)\n",
       "            (out_proj): Linear(in_features=768, out_features=768, bias=True)\n",
       "          )\n",
       "          (dropout): Dropout(p=0.1, inplace=False)\n",
       "          (layer_norm): LayerNorm((768,), eps=1e-05, elementwise_affine=True)\n",
       "          (feed_forward): Wav2Vec2FeedForward(\n",
       "            (intermediate_dropout): Dropout(p=0.1, inplace=False)\n",
       "            (intermediate_dense): Linear(in_features=768, out_features=3072, bias=True)\n",
       "            (intermediate_act_fn): GELUActivation()\n",
       "            (output_dense): Linear(in_features=3072, out_features=768, bias=True)\n",
       "            (output_dropout): Dropout(p=0.1, inplace=False)\n",
       "          )\n",
       "          (final_layer_norm): LayerNorm((768,), eps=1e-05, elementwise_affine=True)\n",
       "        )\n",
       "        (2): Wav2Vec2EncoderLayer(\n",
       "          (attention): Wav2Vec2Attention(\n",
       "            (k_proj): Linear(in_features=768, out_features=768, bias=True)\n",
       "            (v_proj): Linear(in_features=768, out_features=768, bias=True)\n",
       "            (q_proj): Linear(in_features=768, out_features=768, bias=True)\n",
       "            (out_proj): Linear(in_features=768, out_features=768, bias=True)\n",
       "          )\n",
       "          (dropout): Dropout(p=0.1, inplace=False)\n",
       "          (layer_norm): LayerNorm((768,), eps=1e-05, elementwise_affine=True)\n",
       "          (feed_forward): Wav2Vec2FeedForward(\n",
       "            (intermediate_dropout): Dropout(p=0.1, inplace=False)\n",
       "            (intermediate_dense): Linear(in_features=768, out_features=3072, bias=True)\n",
       "            (intermediate_act_fn): GELUActivation()\n",
       "            (output_dense): Linear(in_features=3072, out_features=768, bias=True)\n",
       "            (output_dropout): Dropout(p=0.1, inplace=False)\n",
       "          )\n",
       "          (final_layer_norm): LayerNorm((768,), eps=1e-05, elementwise_affine=True)\n",
       "        )\n",
       "        (3): Wav2Vec2EncoderLayer(\n",
       "          (attention): Wav2Vec2Attention(\n",
       "            (k_proj): Linear(in_features=768, out_features=768, bias=True)\n",
       "            (v_proj): Linear(in_features=768, out_features=768, bias=True)\n",
       "            (q_proj): Linear(in_features=768, out_features=768, bias=True)\n",
       "            (out_proj): Linear(in_features=768, out_features=768, bias=True)\n",
       "          )\n",
       "          (dropout): Dropout(p=0.1, inplace=False)\n",
       "          (layer_norm): LayerNorm((768,), eps=1e-05, elementwise_affine=True)\n",
       "          (feed_forward): Wav2Vec2FeedForward(\n",
       "            (intermediate_dropout): Dropout(p=0.1, inplace=False)\n",
       "            (intermediate_dense): Linear(in_features=768, out_features=3072, bias=True)\n",
       "            (intermediate_act_fn): GELUActivation()\n",
       "            (output_dense): Linear(in_features=3072, out_features=768, bias=True)\n",
       "            (output_dropout): Dropout(p=0.1, inplace=False)\n",
       "          )\n",
       "          (final_layer_norm): LayerNorm((768,), eps=1e-05, elementwise_affine=True)\n",
       "        )\n",
       "        (4): Wav2Vec2EncoderLayer(\n",
       "          (attention): Wav2Vec2Attention(\n",
       "            (k_proj): Linear(in_features=768, out_features=768, bias=True)\n",
       "            (v_proj): Linear(in_features=768, out_features=768, bias=True)\n",
       "            (q_proj): Linear(in_features=768, out_features=768, bias=True)\n",
       "            (out_proj): Linear(in_features=768, out_features=768, bias=True)\n",
       "          )\n",
       "          (dropout): Dropout(p=0.1, inplace=False)\n",
       "          (layer_norm): LayerNorm((768,), eps=1e-05, elementwise_affine=True)\n",
       "          (feed_forward): Wav2Vec2FeedForward(\n",
       "            (intermediate_dropout): Dropout(p=0.1, inplace=False)\n",
       "            (intermediate_dense): Linear(in_features=768, out_features=3072, bias=True)\n",
       "            (intermediate_act_fn): GELUActivation()\n",
       "            (output_dense): Linear(in_features=3072, out_features=768, bias=True)\n",
       "            (output_dropout): Dropout(p=0.1, inplace=False)\n",
       "          )\n",
       "          (final_layer_norm): LayerNorm((768,), eps=1e-05, elementwise_affine=True)\n",
       "        )\n",
       "        (5): Wav2Vec2EncoderLayer(\n",
       "          (attention): Wav2Vec2Attention(\n",
       "            (k_proj): Linear(in_features=768, out_features=768, bias=True)\n",
       "            (v_proj): Linear(in_features=768, out_features=768, bias=True)\n",
       "            (q_proj): Linear(in_features=768, out_features=768, bias=True)\n",
       "            (out_proj): Linear(in_features=768, out_features=768, bias=True)\n",
       "          )\n",
       "          (dropout): Dropout(p=0.1, inplace=False)\n",
       "          (layer_norm): LayerNorm((768,), eps=1e-05, elementwise_affine=True)\n",
       "          (feed_forward): Wav2Vec2FeedForward(\n",
       "            (intermediate_dropout): Dropout(p=0.1, inplace=False)\n",
       "            (intermediate_dense): Linear(in_features=768, out_features=3072, bias=True)\n",
       "            (intermediate_act_fn): GELUActivation()\n",
       "            (output_dense): Linear(in_features=3072, out_features=768, bias=True)\n",
       "            (output_dropout): Dropout(p=0.1, inplace=False)\n",
       "          )\n",
       "          (final_layer_norm): LayerNorm((768,), eps=1e-05, elementwise_affine=True)\n",
       "        )\n",
       "        (6): Wav2Vec2EncoderLayer(\n",
       "          (attention): Wav2Vec2Attention(\n",
       "            (k_proj): Linear(in_features=768, out_features=768, bias=True)\n",
       "            (v_proj): Linear(in_features=768, out_features=768, bias=True)\n",
       "            (q_proj): Linear(in_features=768, out_features=768, bias=True)\n",
       "            (out_proj): Linear(in_features=768, out_features=768, bias=True)\n",
       "          )\n",
       "          (dropout): Dropout(p=0.1, inplace=False)\n",
       "          (layer_norm): LayerNorm((768,), eps=1e-05, elementwise_affine=True)\n",
       "          (feed_forward): Wav2Vec2FeedForward(\n",
       "            (intermediate_dropout): Dropout(p=0.1, inplace=False)\n",
       "            (intermediate_dense): Linear(in_features=768, out_features=3072, bias=True)\n",
       "            (intermediate_act_fn): GELUActivation()\n",
       "            (output_dense): Linear(in_features=3072, out_features=768, bias=True)\n",
       "            (output_dropout): Dropout(p=0.1, inplace=False)\n",
       "          )\n",
       "          (final_layer_norm): LayerNorm((768,), eps=1e-05, elementwise_affine=True)\n",
       "        )\n",
       "        (7): Wav2Vec2EncoderLayer(\n",
       "          (attention): Wav2Vec2Attention(\n",
       "            (k_proj): Linear(in_features=768, out_features=768, bias=True)\n",
       "            (v_proj): Linear(in_features=768, out_features=768, bias=True)\n",
       "            (q_proj): Linear(in_features=768, out_features=768, bias=True)\n",
       "            (out_proj): Linear(in_features=768, out_features=768, bias=True)\n",
       "          )\n",
       "          (dropout): Dropout(p=0.1, inplace=False)\n",
       "          (layer_norm): LayerNorm((768,), eps=1e-05, elementwise_affine=True)\n",
       "          (feed_forward): Wav2Vec2FeedForward(\n",
       "            (intermediate_dropout): Dropout(p=0.1, inplace=False)\n",
       "            (intermediate_dense): Linear(in_features=768, out_features=3072, bias=True)\n",
       "            (intermediate_act_fn): GELUActivation()\n",
       "            (output_dense): Linear(in_features=3072, out_features=768, bias=True)\n",
       "            (output_dropout): Dropout(p=0.1, inplace=False)\n",
       "          )\n",
       "          (final_layer_norm): LayerNorm((768,), eps=1e-05, elementwise_affine=True)\n",
       "        )\n",
       "        (8): Wav2Vec2EncoderLayer(\n",
       "          (attention): Wav2Vec2Attention(\n",
       "            (k_proj): Linear(in_features=768, out_features=768, bias=True)\n",
       "            (v_proj): Linear(in_features=768, out_features=768, bias=True)\n",
       "            (q_proj): Linear(in_features=768, out_features=768, bias=True)\n",
       "            (out_proj): Linear(in_features=768, out_features=768, bias=True)\n",
       "          )\n",
       "          (dropout): Dropout(p=0.1, inplace=False)\n",
       "          (layer_norm): LayerNorm((768,), eps=1e-05, elementwise_affine=True)\n",
       "          (feed_forward): Wav2Vec2FeedForward(\n",
       "            (intermediate_dropout): Dropout(p=0.1, inplace=False)\n",
       "            (intermediate_dense): Linear(in_features=768, out_features=3072, bias=True)\n",
       "            (intermediate_act_fn): GELUActivation()\n",
       "            (output_dense): Linear(in_features=3072, out_features=768, bias=True)\n",
       "            (output_dropout): Dropout(p=0.1, inplace=False)\n",
       "          )\n",
       "          (final_layer_norm): LayerNorm((768,), eps=1e-05, elementwise_affine=True)\n",
       "        )\n",
       "        (9): Wav2Vec2EncoderLayer(\n",
       "          (attention): Wav2Vec2Attention(\n",
       "            (k_proj): Linear(in_features=768, out_features=768, bias=True)\n",
       "            (v_proj): Linear(in_features=768, out_features=768, bias=True)\n",
       "            (q_proj): Linear(in_features=768, out_features=768, bias=True)\n",
       "            (out_proj): Linear(in_features=768, out_features=768, bias=True)\n",
       "          )\n",
       "          (dropout): Dropout(p=0.1, inplace=False)\n",
       "          (layer_norm): LayerNorm((768,), eps=1e-05, elementwise_affine=True)\n",
       "          (feed_forward): Wav2Vec2FeedForward(\n",
       "            (intermediate_dropout): Dropout(p=0.1, inplace=False)\n",
       "            (intermediate_dense): Linear(in_features=768, out_features=3072, bias=True)\n",
       "            (intermediate_act_fn): GELUActivation()\n",
       "            (output_dense): Linear(in_features=3072, out_features=768, bias=True)\n",
       "            (output_dropout): Dropout(p=0.1, inplace=False)\n",
       "          )\n",
       "          (final_layer_norm): LayerNorm((768,), eps=1e-05, elementwise_affine=True)\n",
       "        )\n",
       "        (10): Wav2Vec2EncoderLayer(\n",
       "          (attention): Wav2Vec2Attention(\n",
       "            (k_proj): Linear(in_features=768, out_features=768, bias=True)\n",
       "            (v_proj): Linear(in_features=768, out_features=768, bias=True)\n",
       "            (q_proj): Linear(in_features=768, out_features=768, bias=True)\n",
       "            (out_proj): Linear(in_features=768, out_features=768, bias=True)\n",
       "          )\n",
       "          (dropout): Dropout(p=0.1, inplace=False)\n",
       "          (layer_norm): LayerNorm((768,), eps=1e-05, elementwise_affine=True)\n",
       "          (feed_forward): Wav2Vec2FeedForward(\n",
       "            (intermediate_dropout): Dropout(p=0.1, inplace=False)\n",
       "            (intermediate_dense): Linear(in_features=768, out_features=3072, bias=True)\n",
       "            (intermediate_act_fn): GELUActivation()\n",
       "            (output_dense): Linear(in_features=3072, out_features=768, bias=True)\n",
       "            (output_dropout): Dropout(p=0.1, inplace=False)\n",
       "          )\n",
       "          (final_layer_norm): LayerNorm((768,), eps=1e-05, elementwise_affine=True)\n",
       "        )\n",
       "        (11): Wav2Vec2EncoderLayer(\n",
       "          (attention): Wav2Vec2Attention(\n",
       "            (k_proj): Linear(in_features=768, out_features=768, bias=True)\n",
       "            (v_proj): Linear(in_features=768, out_features=768, bias=True)\n",
       "            (q_proj): Linear(in_features=768, out_features=768, bias=True)\n",
       "            (out_proj): Linear(in_features=768, out_features=768, bias=True)\n",
       "          )\n",
       "          (dropout): Dropout(p=0.1, inplace=False)\n",
       "          (layer_norm): LayerNorm((768,), eps=1e-05, elementwise_affine=True)\n",
       "          (feed_forward): Wav2Vec2FeedForward(\n",
       "            (intermediate_dropout): Dropout(p=0.1, inplace=False)\n",
       "            (intermediate_dense): Linear(in_features=768, out_features=3072, bias=True)\n",
       "            (intermediate_act_fn): GELUActivation()\n",
       "            (output_dense): Linear(in_features=3072, out_features=768, bias=True)\n",
       "            (output_dropout): Dropout(p=0.1, inplace=False)\n",
       "          )\n",
       "          (final_layer_norm): LayerNorm((768,), eps=1e-05, elementwise_affine=True)\n",
       "        )\n",
       "      )\n",
       "    )\n",
       "  )\n",
       "  (dropout): Dropout(p=0.1, inplace=False)\n",
       "  (lm_head): Identity()\n",
       ")"
      ]
     },
     "execution_count": 8,
     "metadata": {},
     "output_type": "execute_result"
    }
   ],
   "source": [
    "CTC"
   ]
  },
  {
   "cell_type": "code",
   "execution_count": 13,
   "id": "ffddb536",
   "metadata": {},
   "outputs": [
    {
     "name": "stderr",
     "output_type": "stream",
     "text": [
      "100%|███████████████████████████████████████| 2532/2532 [07:31<00:00,  5.61it/s]\n"
     ]
    }
   ],
   "source": [
    "wav_files = glob.glob(args.train_data_folder + '*.wav')\n",
    "for i in tqdm(range(len(wav_files))):\n",
    "    current_recording, frequency = read_recording(wav_files[i])\n",
    "    current_recording = current_recording.reshape(1,80000)\n",
    "#     input_values = processor(current_recording, return_tensors=\"pt\", padding=\"longest\").input_values\n",
    "    feature = CTC(torch.tensor(current_recording)).logits\n",
    "#     feature.requires_grad = False\n",
    "    fnm = wav_files[i].split('/')[-1].replace('wav','pickle')\n",
    "    with open(args.train_feature_folder + fnm ,'wb') as fw:\n",
    "        pickle.dump(feature,fw)"
   ]
  },
  {
   "cell_type": "code",
   "execution_count": 15,
   "id": "d0499b9a",
   "metadata": {},
   "outputs": [
    {
     "name": "stderr",
     "output_type": "stream",
     "text": [
      "100%|█████████████████████████████████████████| 631/631 [01:41<00:00,  6.21it/s]\n"
     ]
    }
   ],
   "source": [
    "wav_files = glob.glob(args.valid_data_folder + '*.wav')\n",
    "for i in tqdm(range(len(wav_files))):\n",
    "    current_recording, frequency = read_recording(wav_files[i])\n",
    "    current_recording = current_recording.reshape(1,80000)\n",
    "    feature = CTC(torch.tensor(current_recording)).logits\n",
    "#     feature.requires_grad = False\n",
    "    fnm = wav_files[i].split('/')[-1].replace('wav','pickle')\n",
    "    with open(args.valid_feature_folder+ fnm ,'wb') as fw:\n",
    "        pickle.dump(feature,fw)"
   ]
  },
  {
   "cell_type": "code",
   "execution_count": 6,
   "id": "1a830b91",
   "metadata": {},
   "outputs": [],
   "source": [
    "import torch.nn as nn\n",
    "import torch\n",
    "import torch.nn.functional as F\n",
    "\n",
    "class LCNN(nn.Module):\n",
    "\n",
    "    def __init__(self,mode):\n",
    "\n",
    "        super(LCNN, self).__init__()\n",
    "        '''input : (B,1,F,T)'''\n",
    "        \n",
    "        self.mode = mode\n",
    "        \n",
    "        self.conv2d_1  = nn.Conv2d(1, 32, kernel_size=(5,5), stride=(1,1), padding=(2,2))\n",
    "        self.conv2d_2  = nn.Conv2d(1, 32, kernel_size=(5,5), stride=(1,1), padding=(2,2))\n",
    "        \n",
    "        self.max2d_1 = nn.MaxPool2d(kernel_size =(2,2), stride=(2,2),padding = 0)\n",
    "        \n",
    "        self.conv2d_3  = nn.Conv2d(32, 32, kernel_size=(1,1), stride=(1,1))\n",
    "        self.conv2d_4  = nn.Conv2d(32, 32, kernel_size=(1,1), stride=(1,1))\n",
    "        \n",
    "        self.bn2d_1 = nn.BatchNorm2d(32)\n",
    "        \n",
    "        self.conv2d_5  = nn.Conv2d(32, 48, kernel_size=(3,3), stride=(1,1), padding=(1,1))\n",
    "        self.conv2d_6  = nn.Conv2d(32, 48, kernel_size=(3,3), stride=(1,1), padding=(1,1))\n",
    "        \n",
    "        self.max2d_2 = nn.MaxPool2d(kernel_size =(2,2), stride=(2,2),padding = 0)\n",
    "        self.bn2d_2 = nn.BatchNorm2d(48)\n",
    "        \n",
    "        \n",
    "        self.conv2d_7  = nn.Conv2d(48, 48, kernel_size=(1,1), stride=(1,1))\n",
    "        self.conv2d_8  = nn.Conv2d(48, 48, kernel_size=(1,1), stride=(1,1))\n",
    "        \n",
    "        self.bn2d_3 = nn.BatchNorm2d(48)\n",
    "        \n",
    "        self.conv2d_9  = nn.Conv2d(48, 64, kernel_size=(3,3), stride=(1,1), padding=(1,1))\n",
    "        self.conv2d_10  = nn.Conv2d(48, 64, kernel_size=(3,3), stride=(1,1), padding=(1,1))\n",
    "        \n",
    "        self.max2d_3 = nn.MaxPool2d(kernel_size =(2,2), stride=(2,2),padding = 0)\n",
    "        \n",
    "        self.conv2d_11  = nn.Conv2d(64, 64, kernel_size=(1,1), stride=(1,1))\n",
    "        self.conv2d_12  = nn.Conv2d(64, 64, kernel_size=(1,1), stride=(1,1))\n",
    "        \n",
    "        self.bn2d_4 = nn.BatchNorm2d(64)\n",
    "        \n",
    "        self.conv2d_13  = nn.Conv2d(64, 32, kernel_size=(3,3), stride=(1,1), padding=(1,1))\n",
    "        self.conv2d_14  = nn.Conv2d(64, 32, kernel_size=(3,3), stride=(1,1), padding=(1,1))\n",
    "        \n",
    "        self.bn2d_5 = nn.BatchNorm2d(32)\n",
    "        \n",
    "        \n",
    "        self.conv2d_15  = nn.Conv2d(32, 32, kernel_size=(1,1), stride=(1,1))\n",
    "        self.conv2d_16  = nn.Conv2d(32, 32, kernel_size=(1,1), stride=(1,1))\n",
    "        \n",
    "        self.bn2d_6 = nn.BatchNorm2d(32)\n",
    "        \n",
    "        \n",
    "        self.conv2d_17  = nn.Conv2d(32, 32, kernel_size=(1,1), stride=(1,1))\n",
    "        self.conv2d_18  = nn.Conv2d(32, 32, kernel_size=(1,1), stride=(1,1))\n",
    "        \n",
    "        self.max2d_4 = nn.MaxPool2d(kernel_size =(2,2), stride=(2,2),padding = 0)\n",
    "        \n",
    "        self.adaptavg = nn.AdaptiveAvgPool2d(1)\n",
    "        \n",
    "        \n",
    "#        self.fc1 = nn.Linear(64, 128)\n",
    "        \n",
    "        if self.mode == 'murmur' :\n",
    "            self.fc_mur = nn.Sequential(\n",
    "                                        nn.Linear(32,1),\n",
    "                                        nn.Sigmoid()\n",
    "                                        )\n",
    "        elif self.mode == 'outcome' :\n",
    "            self.fc_out = nn.Sequential(\n",
    "                                        nn.Linear(128,32),\n",
    "                                        nn.ReLU(),\n",
    "                                        nn.Linear(32,1),\n",
    "                                        nn.Sigmoid()\n",
    "                                        )\n",
    "        \n",
    "        \n",
    "    def forward(self, input):\n",
    "        \n",
    "        x1 = self.conv2d_1(input)\n",
    "        x2 = self.conv2d_2(input)\n",
    "        max1 = torch.maximum(x1,x2)\n",
    "        x = self.max2d_1(max1)\n",
    "        \n",
    "        x3 = self.conv2d_3(x)\n",
    "        x4 = self.conv2d_4(x)\n",
    "        max2 = torch.maximum(x3,x4)\n",
    "        x = self.bn2d_1(max2)\n",
    "        \n",
    "        x5 = self.conv2d_5(x)\n",
    "        x6 = self.conv2d_6(x)\n",
    "        max3 = torch.maximum(x5,x6)\n",
    "        x = self.max2d_2(max3)\n",
    "        x = self.bn2d_2(x)\n",
    "        \n",
    "        x7 = self.conv2d_7(x)\n",
    "        x8 = self.conv2d_8(x)\n",
    "        max4 = torch.maximum(x7,x8)\n",
    "        x = self.bn2d_3(max4)\n",
    "        \n",
    "        x9 = self.conv2d_9(x)\n",
    "        x10 = self.conv2d_10(x)\n",
    "        max5 = torch.maximum(x9,x10)\n",
    "        x = self.max2d_3(max5)\n",
    "        \n",
    "        x11 = self.conv2d_11(x)\n",
    "        x12 = self.conv2d_12(x)\n",
    "        max6 = torch.maximum(x11,x12)\n",
    "        x = self.bn2d_4(max6)\n",
    "        \n",
    "        x13 = self.conv2d_13(x)\n",
    "        x14 = self.conv2d_14(x)\n",
    "        max7 = torch.maximum(x13,x14)\n",
    "        x = self.bn2d_5(max7)\n",
    "        \n",
    "        x15 = self.conv2d_15(x)\n",
    "        x16 = self.conv2d_16(x)\n",
    "        max8 = torch.maximum(x15,x16)\n",
    "        x = self.bn2d_6(max8)\n",
    "        \n",
    "        x17 = self.conv2d_17(x)\n",
    "        x18 = self.conv2d_18(x)\n",
    "        max9 = torch.maximum(x17,x18)\n",
    "        x = self.max2d_4(max9)\n",
    "        \n",
    "        x = self.adaptavg(x)\n",
    "        x = x.view(x.size(0),-1)\n",
    "        \n",
    "#        x = self.fc1(x)\n",
    "        \n",
    "        \n",
    "        if self.mode == 'murmur' :\n",
    "            out = self.fc_mur(x)\n",
    "        elif self.mode == 'outcome' :\n",
    "            out = self.fc_out(x)\n",
    "#        out = {'murmur':out1, 'outcome':out2}\n",
    "        \n",
    "        return out"
   ]
  },
  {
   "cell_type": "code",
   "execution_count": 8,
   "id": "594cdde9",
   "metadata": {},
   "outputs": [],
   "source": [
    "feature_files = glob.glob(args.train_feature_folder + '*.pickle')\n",
    "murmur_classes = ['Present', 'Absent']\n",
    "murmur_weight = []\n",
    "murmur_label = []\n",
    "for i in range(len(feature_files)):\n",
    "    filename = feature_files[i]\n",
    "    current_patient_id = filename.split('/')[-1].split('_')[0]\n",
    "    current_txt_file = args.train_data_folder + str(current_patient_id) + '.txt'\n",
    "    with open(current_txt_file, 'r') as f:\n",
    "        current_patient_data = f.read()\n",
    "    if get_murmur(current_patient_data)==murmur_classes[0]:\n",
    "        murmur_weight.append(4)\n",
    "        murmur_label.append(1)\n",
    "    elif get_murmur(current_patient_data)==murmur_classes[1]:\n",
    "        murmur_weight.append(1)\n",
    "        murmur_label.append(0)\n",
    "    else:\n",
    "        murmur_weight.append(1)\n",
    "        murmur_label.append(0)"
   ]
  },
  {
   "cell_type": "code",
   "execution_count": 7,
   "id": "aace5480",
   "metadata": {},
   "outputs": [],
   "source": [
    "from torch.utils.data import Dataset,DataLoader, RandomSampler\n",
    "import pandas as pd\n",
    "import numpy as np\n",
    "import sys\n",
    "sys.path.append(\"/home/jh20/narin/physionet/python-classifier-2022\")\n",
    "from helper_code import *\n",
    "import torchaudio\n",
    "import random\n",
    "import numpy as np\n",
    "import librosa\n",
    "import glob\n",
    "import math\n",
    "import pickle\n",
    "\n",
    "\n",
    "\n",
    "\n",
    "\n",
    "# def read_recording(wav_fn, audio_length= 20, sr= 4000):  #20초 \n",
    "\n",
    "#     recording, frequency = load_wav_file(wav_fn)\n",
    "\n",
    "\n",
    "#     length = audio_length*sr\n",
    "#     if recording.shape[0] <= length:\n",
    "#         shortage = length - recording.shape[0]\n",
    "#         recording = np.pad(recording, (0, shortage), 'wrap')\n",
    "#     start_frame = np.int64(random.random()*(recording.shape[0]-length))\n",
    "#     recording = recording[start_frame:start_frame + length] \n",
    "\n",
    "#     return recording\n",
    "\n",
    "\n",
    "\n",
    "class train_loader(Dataset):\n",
    "    def __init__(self,data_folder, feature_folder, **kwargs):\n",
    "        self.data_folder = data_folder\n",
    "        self.feature_folder = feature_folder\n",
    "        \n",
    "        \n",
    "        self.feature_file = glob.glob(feature_folder + '*.pickle')\n",
    "        self.wav_files = glob.glob(data_folder + '*.wav')\n",
    "        self.num_feature_files = len(self.feature_file)\n",
    "        \n",
    "        self.murmur_classes = ['Present', 'Absent']\n",
    "        self.num_murmur_classes = len(self.murmur_classes)\n",
    "        self.outcome_classes = ['Abnormal', 'Normal']\n",
    "        self.num_outcome_classes = len(self.outcome_classes)\n",
    "        \n",
    "        self.age_classes = ['Neonate', 'Infant', 'Child', 'Adolescent', 'Young Adult']\n",
    "        self.recording_locations = ['AV', 'MV', 'PV', 'TV', 'PhC']\n",
    "        \n",
    "        \n",
    "        \n",
    "\n",
    "        \n",
    "        murmur_lable = np.zeros(self.num_feature_files, dtype=np.float32)\n",
    "        outcome_lable = np.zeros(self.num_feature_files, dtype=np.float32)\n",
    "        examples = {}\n",
    "        for i in range(self.num_feature_files):\n",
    "            filename = self.feature_file[i]\n",
    "            current_patient_id = filename.split('/')[-1].split('_')[0]\n",
    "            current_txt_file = self.data_folder + str(current_patient_id) + '.txt'\n",
    "            with open(current_txt_file, 'r') as f:\n",
    "                current_patient_data = f.read()\n",
    "            current_loc = filename.split('/')[-1].split('.')[0].split('_')[1]\n",
    "            if filename.split('/')[-1].split('.')[0]  not in examples.keys():\n",
    "                current_feature_data = filename.split('/')[-1].split('.')[0]\n",
    "                with open(filename, 'rb') as fr:\n",
    "                    feature = pickle.load(fr)\n",
    "                examples[current_feature_data] = {\n",
    "                    \"id\" : current_patient_id,\n",
    "                    \"txt_fn\" : current_txt_file,   #txt,\n",
    "                    \"feature\" : feature,  #wav2vev2\n",
    "                    \"num_location\": get_num_locations(current_patient_data),\n",
    "                    \"frequency\" : get_frequency(current_patient_data),\n",
    "                    \"location\" : current_loc,\n",
    "                    \"age\" : get_age(current_patient_data),\n",
    "                    \"sex\" : get_sex(current_patient_data),\n",
    "                    \"height\" : get_height(current_patient_data),\n",
    "                    \"weight\" : get_weight(current_patient_data),\n",
    "                    \"pregnancy_status\" : get_pregnancy_status(current_patient_data),\n",
    "                    \"murmur\" : get_murmur(current_patient_data),\n",
    "                    \"outcome\" : get_outcome(current_patient_data)\n",
    "\n",
    "                }\n",
    "            if get_murmur(current_patient_data) == self.murmur_classes[0]:\n",
    "                murmur_lable[i] = 1\n",
    "            elif get_murmur(current_patient_data) == self.murmur_classes[1]:\n",
    "                murmur_lable[i] = 0\n",
    "            else :\n",
    "                murmur_lable[i] = 0\n",
    "                \n",
    "            if get_outcome(current_patient_data) == self.outcome_classes[0]:\n",
    "                outcome_lable[i] = 1\n",
    "            elif get_outcome(current_patient_data) == self.outcome_classes[1]:\n",
    "                outcome_lable[i] = 0\n",
    "                \n",
    "            \n",
    "        self.examples = examples\n",
    "        self.examples_list = list(examples.keys())\n",
    "        self.murmur_lable = murmur_lable\n",
    "        self.outcome_lable = outcome_lable\n",
    "        \n",
    "        \n",
    "        \n",
    "        \n",
    "        \n",
    "        if len(self.examples_list) != self.num_feature_files:\n",
    "            raise ValueError('length is different!')\n",
    "    def __len__(self):\n",
    "        return len(self.examples_list)\n",
    "    \n",
    "        \n",
    "    def __getitem__(self, index):\n",
    "        \n",
    "        # patient info\n",
    "        current_feature_dict = self.examples[self.examples_list[index]]\n",
    "        current_patient_data = load_patient_data(current_feature_dict[\"txt_fn\"])\n",
    "\n",
    "        \n",
    "        # wav2vec2 feature\n",
    "        \n",
    "        feature = current_feature_dict[\"feature\"]\n",
    "        feature.requires_grad = False\n",
    "        current_murmur = self.murmur_lable[index]\n",
    "        current_outcome = self.outcome_lable[index]\n",
    "        \n",
    "        \n",
    "#         #log mel feature\n",
    "#         log_mel_feature = librosa.power_to_db(librosa.feature.melspectrogram(y = current_recording.astype(np.float32),\n",
    "#                                                          sr= 4000,\n",
    "#                                                          n_mels=128,\n",
    "#                                                          n_fft=400, \n",
    "#                                                          hop_length=128, \n",
    "#                                                          win_length=400))\n",
    "        \n",
    "#         # age\n",
    "#         current_patient_age = current_wav_dict[\"age\"]\n",
    "#         current_age_group = np.zeros(6, dtype=np.float32)\n",
    "#         if current_patient_age in self.age_classes:\n",
    "#             j = self.age_classes.index(current_patient_age)\n",
    "#             current_age_group[j] = 1.0\n",
    "#         else :\n",
    "#             current_age_group[5] = 1.0\n",
    "            \n",
    "            \n",
    "#         # sex\n",
    "#         sex = current_wav_dict[\"sex\"]\n",
    "#         sex_feature = np.zeros(2, dtype=np.float32)\n",
    "#         if compare_strings(sex, 'Female'):\n",
    "#             sex_feature[0] = 1.0\n",
    "#         elif compare_strings(sex, 'Male'):\n",
    "#             sex_feature[1] = 1.0\n",
    "            \n",
    "#         # height and weight.\n",
    "#         height = current_wav_dict[\"height\"]\n",
    "#         weight = current_wav_dict[\"weight\"]\n",
    "        \n",
    "#         ## simple impute\n",
    "#         if math.isnan(height) :\n",
    "#             height = 110.846  #mean\n",
    "#         if math.isnan(weight) :\n",
    "#             weight = 23.767   #mean\n",
    "            \n",
    "#         height_weight = np.array([height, weight], dtype=np.float32)\n",
    "        \n",
    "        \n",
    "#         # Extract pregnancy\n",
    "#         preg_feature = np.zeros(2, dtype=np.float32)\n",
    "#         is_pregnant = current_wav_dict[\"pregnancy_status\"]\n",
    "#         if is_pregnant == True:\n",
    "#             preg_feature[0] = 1.0\n",
    "#         elif is_pregnant == False:\n",
    "#             preg_feature[1] = 1.0\n",
    "\n",
    "#         # Extract location\n",
    "#         location = current_wav_dict[\"location\"]\n",
    "#         num_recording_locations = len(self.recording_locations)\n",
    "#         loc_feature = np.zeros(num_recording_locations, dtype=np.float32)\n",
    "#         if location in self.recording_locations:\n",
    "#             j = self.recording_locations.index(location)\n",
    "#             loc_feature[j] = 1.0\n",
    "\n",
    "\n",
    "        \n",
    "\n",
    "        # label\n",
    "        \n",
    "#         current_murmur = np.zeros(self.num_murmur_classes, dtype=np.float32)\n",
    "#         murmur = get_murmur(current_patient_data)\n",
    "#         if murmur in self.murmur_classes:\n",
    "#             j = self.murmur_classes.index(murmur)\n",
    "#             current_murmur[j] = 1\n",
    "#         else:\n",
    "#             current_murmur[1] = 1   #unknown absent에 합침\n",
    "\n",
    "\n",
    "#         current_outcome = np.zeros(self.num_outcome_classes, dtype=np.float32)\n",
    "#         outcome = get_outcome(current_patient_data)\n",
    "#         if outcome in self.outcome_classes:\n",
    "#             j = self.outcome_classes.index(outcome)\n",
    "#             current_outcome[j] = 1\n",
    "            \n",
    "\n",
    "\n",
    "        \n",
    "        return feature, current_murmur, current_outcome"
   ]
  },
  {
   "cell_type": "code",
   "execution_count": 14,
   "id": "c08f4ed6",
   "metadata": {},
   "outputs": [],
   "source": [
    "feature_file = glob.glob(args.train_feature_folder + '*.pickle')"
   ]
  },
  {
   "cell_type": "code",
   "execution_count": 26,
   "id": "04f393d4",
   "metadata": {},
   "outputs": [
    {
     "data": {
      "text/plain": [
       "'/home/jh20/Data/nr_data/ECG/Physionet2022/physionet.org/files/circor-heart-sound/1.0.3/train_wav2vec2/68632_TV.pickle'"
      ]
     },
     "execution_count": 26,
     "metadata": {},
     "output_type": "execute_result"
    }
   ],
   "source": [
    "feature_file[34]"
   ]
  },
  {
   "cell_type": "code",
   "execution_count": 27,
   "id": "629a601e",
   "metadata": {},
   "outputs": [
    {
     "data": {
      "text/plain": [
       "'68632 3 4000\\nAV 68632_AV.hea 68632_AV.wav 68632_AV.tsv\\nPV 68632_PV.hea 68632_PV.wav 68632_PV.tsv\\nTV 68632_TV.hea 68632_TV.wav 68632_TV.tsv\\n#Age: Child\\n#Sex: Female\\n#Height: 114.0\\n#Weight: 26.2\\n#Pregnancy status: False\\n#Murmur: Absent\\n#Murmur locations: nan\\n#Most audible location: nan\\n#Systolic murmur timing: nan\\n#Systolic murmur shape: nan\\n#Systolic murmur grading: nan\\n#Systolic murmur pitch: nan\\n#Systolic murmur quality: nan\\n#Diastolic murmur timing: nan\\n#Diastolic murmur shape: nan\\n#Diastolic murmur grading: nan\\n#Diastolic murmur pitch: nan\\n#Diastolic murmur quality: nan\\n#Outcome: Abnormal\\n#Campaign: CC2015\\n#Additional ID: 50384\\n'"
      ]
     },
     "execution_count": 27,
     "metadata": {},
     "output_type": "execute_result"
    }
   ],
   "source": [
    "load_patient_data('/home/jh20/Data/nr_data/ECG/Physionet2022/physionet.org/files/circor-heart-sound/1.0.3/train/68632.txt')"
   ]
  },
  {
   "cell_type": "code",
   "execution_count": 25,
   "id": "99691215",
   "metadata": {},
   "outputs": [
    {
     "data": {
      "text/plain": [
       "(tensor([[[-4.2646e-02,  1.0644e-02,  5.1547e-02,  ..., -1.8400e-01,\n",
       "           -3.0286e-02, -9.6961e-02],\n",
       "          [-3.5525e-02,  4.7679e-03,  5.2417e-02,  ..., -1.7215e-01,\n",
       "           -2.9180e-02, -1.0286e-01],\n",
       "          [-4.2010e-02,  7.4536e-03,  4.2672e-02,  ..., -1.8307e-01,\n",
       "           -2.9273e-02, -9.8510e-02],\n",
       "          ...,\n",
       "          [ 2.9015e-03,  2.2511e-04, -3.1314e-02,  ..., -1.8359e-01,\n",
       "           -1.4312e-02, -7.5786e-02],\n",
       "          [ 7.9736e-02,  3.3385e-02, -1.4494e-01,  ..., -2.6928e-01,\n",
       "           -1.4058e-02,  5.1259e-02],\n",
       "          [-8.9012e-02,  3.5963e-02,  5.1406e-02,  ..., -2.1893e-01,\n",
       "           -2.8922e-02, -5.7201e-02]]]),\n",
       " 0.0,\n",
       " 1.0)"
      ]
     },
     "execution_count": 25,
     "metadata": {},
     "output_type": "execute_result"
    }
   ],
   "source": [
    "trainset[34]"
   ]
  },
  {
   "cell_type": "code",
   "execution_count": 8,
   "id": "7ae741c8",
   "metadata": {},
   "outputs": [
    {
     "name": "stdout",
     "output_type": "stream",
     "text": [
      "Available devices  1\n"
     ]
    }
   ],
   "source": [
    "# Find data files.\n",
    "# if verbose >= 1:\n",
    "#     print('Finding data files...')\n",
    "device = torch.device('cuda' if torch.cuda.is_available() else 'cpu')\n",
    "print ('Available devices ', torch.cuda.device_count())\n",
    "    \n",
    "GPU_NUM = args.gpu # 원하는 GPU 번호 입력\n",
    "device = torch.device(f'cuda:{GPU_NUM}' if torch.cuda.is_available() else 'cpu')\n",
    "torch.cuda.set_device(device) # change allocation of current GPU\n",
    "\n",
    "# Find the patient data files.\n",
    "patient_files = find_patient_files(args.train_data_folder)\n",
    "num_patient_files = len(patient_files)\n",
    "\n",
    "if num_patient_files==0:\n",
    "    raise Exception('No data was provided.')\n",
    "\n",
    "# Create a folder for the model if it does not already exist.\n",
    "os.makedirs(args.model_path, exist_ok=True)\n",
    "os.makedirs(args.logdir, exist_ok=True)\n",
    "\n",
    "open(args.logdir + 'score.txt', \"a+\")\n",
    "score_file = open(args.logdir + 'score.txt', \"a+\")\n",
    "\n",
    "\n",
    "model_folder = args.model_path\n",
    "log_dir = args.logdir\n",
    "logger = get_logger(log_dir + '/' + model_folder)\n",
    "\n",
    "# Define the model\n",
    "lcnn_model = LCNN(\"murmur\")\n",
    "lcnn_model = lcnn_model.cuda(device)\n",
    "\n",
    "# Define the metrics\n",
    "# accuracy = Accuracy(num_classes=2)\n",
    "# f1 = F1(num_classes=2,average='micro')\n",
    "\n",
    "# optimizer, loss\n",
    "opt = torch.optim.Adam(lcnn_model.parameters(), lr=args.lr, betas=(0.9, 0.999))\n",
    "scheduler = torch.optim.lr_scheduler.ExponentialLR(opt, 0.91)\n",
    "criterion = torch.nn.BCELoss()\n",
    "\n",
    "\n",
    "#data loader\n",
    "trainset = train_loader(args.train_data_folder, args.train_feature_folder )\n",
    "validset = train_loader(args.valid_data_folder, args.valid_feature_folder )\n",
    "point_sampler = RandomSampler(trainset)\n",
    "\n",
    "dataloader_train = DataLoader(dataset=trainset,\n",
    "                    batch_size=args.minibatchsize_train,\n",
    "                           sampler =point_sampler,\n",
    "                           num_workers=args.train_num_workers)\n",
    "dataloader_valid = DataLoader(dataset=validset,\n",
    "                    batch_size=args.minibatchsize_valid,\n",
    "                           num_workers=args.dev_num_workers)"
   ]
  },
  {
   "cell_type": "code",
   "execution_count": 51,
   "id": "eb5075d7",
   "metadata": {},
   "outputs": [],
   "source": [
    "a = torch.ceil(torch.tensor([0.6,0.3,0.1])-0.5).numpy()"
   ]
  },
  {
   "cell_type": "code",
   "execution_count": 52,
   "id": "7cc34ae2",
   "metadata": {},
   "outputs": [
    {
     "data": {
      "text/plain": [
       "True"
      ]
     },
     "execution_count": 52,
     "metadata": {},
     "output_type": "execute_result"
    }
   ],
   "source": [
    "a[1] == 0.0"
   ]
  },
  {
   "cell_type": "code",
   "execution_count": 58,
   "id": "bd57f525",
   "metadata": {},
   "outputs": [
    {
     "ename": "AttributeError",
     "evalue": "'numpy.ndarray' object has no attribute 'concat'",
     "output_type": "error",
     "traceback": [
      "\u001b[0;31m---------------------------------------------------------------------------\u001b[0m",
      "\u001b[0;31mAttributeError\u001b[0m                            Traceback (most recent call last)",
      "\u001b[0;32m/tmp/ipykernel_6460/2792082491.py\u001b[0m in \u001b[0;36m<module>\u001b[0;34m\u001b[0m\n\u001b[1;32m      1\u001b[0m \u001b[0mb\u001b[0m \u001b[0;34m=\u001b[0m \u001b[0mnp\u001b[0m\u001b[0;34m.\u001b[0m\u001b[0marray\u001b[0m\u001b[0;34m(\u001b[0m\u001b[0;34m[\u001b[0m\u001b[0;36m1\u001b[0m\u001b[0;34m,\u001b[0m\u001b[0;36m2\u001b[0m\u001b[0;34m,\u001b[0m\u001b[0;36m3\u001b[0m\u001b[0;34m]\u001b[0m\u001b[0;34m)\u001b[0m\u001b[0;34m\u001b[0m\u001b[0;34m\u001b[0m\u001b[0m\n\u001b[1;32m      2\u001b[0m \u001b[0;34m\u001b[0m\u001b[0m\n\u001b[0;32m----> 3\u001b[0;31m \u001b[0mb\u001b[0m\u001b[0;34m.\u001b[0m\u001b[0mconcat\u001b[0m\u001b[0;34m(\u001b[0m\u001b[0ma\u001b[0m\u001b[0;34m)\u001b[0m\u001b[0;34m\u001b[0m\u001b[0;34m\u001b[0m\u001b[0m\n\u001b[0m",
      "\u001b[0;31mAttributeError\u001b[0m: 'numpy.ndarray' object has no attribute 'concat'"
     ]
    }
   ],
   "source": [
    "b = np.array([1,2,3])\n",
    "\n",
    "b.concat(a)"
   ]
  },
  {
   "cell_type": "code",
   "execution_count": 61,
   "id": "102bd088",
   "metadata": {},
   "outputs": [
    {
     "data": {
      "text/plain": [
       "array([[1., 0., 0.],\n",
       "       [0., 0., 1.],\n",
       "       [1., 0., 0.]])"
      ]
     },
     "execution_count": 61,
     "metadata": {},
     "output_type": "execute_result"
    }
   ],
   "source": [
    "np.array([[1.0,0.0,0.0] if i ==1 else [0.0,0.0,1.0] for i in [1.0,0.0,1.0]])"
   ]
  },
  {
   "cell_type": "code",
   "execution_count": 69,
   "id": "9cce4663",
   "metadata": {},
   "outputs": [
    {
     "data": {
      "text/plain": [
       "torch.Size([32, 1, 249, 768])"
      ]
     },
     "execution_count": 69,
     "metadata": {},
     "output_type": "execute_result"
    }
   ],
   "source": [
    "next(iter(dataloader_train))[0].shape"
   ]
  },
  {
   "cell_type": "code",
   "execution_count": 12,
   "id": "695f55be",
   "metadata": {},
   "outputs": [
    {
     "ename": "RuntimeError",
     "evalue": "CUDA out of memory. Tried to allocate 206.00 MiB (GPU 0; 10.75 GiB total capacity; 6.73 GiB already allocated; 99.38 MiB free; 6.81 GiB reserved in total by PyTorch) If reserved memory is >> allocated memory try setting max_split_size_mb to avoid fragmentation.  See documentation for Memory Management and PYTORCH_CUDA_ALLOC_CONF",
     "output_type": "error",
     "traceback": [
      "\u001b[0;31m---------------------------------------------------------------------------\u001b[0m",
      "\u001b[0;31mRuntimeError\u001b[0m                              Traceback (most recent call last)",
      "\u001b[0;32m/tmp/ipykernel_25141/553296349.py\u001b[0m in \u001b[0;36m<module>\u001b[0;34m\u001b[0m\n\u001b[1;32m      1\u001b[0m \u001b[0mx\u001b[0m \u001b[0;34m=\u001b[0m \u001b[0mtorch\u001b[0m\u001b[0;34m.\u001b[0m\u001b[0mrandn\u001b[0m\u001b[0;34m(\u001b[0m\u001b[0;34m(\u001b[0m\u001b[0;36m32\u001b[0m\u001b[0;34m,\u001b[0m\u001b[0;36m1\u001b[0m\u001b[0;34m,\u001b[0m\u001b[0;36m200\u001b[0m\u001b[0;34m,\u001b[0m\u001b[0;36m700\u001b[0m\u001b[0;34m)\u001b[0m\u001b[0;34m)\u001b[0m\u001b[0;34m.\u001b[0m\u001b[0mcuda\u001b[0m\u001b[0;34m(\u001b[0m\u001b[0;34m)\u001b[0m\u001b[0;34m\u001b[0m\u001b[0;34m\u001b[0m\u001b[0m\n\u001b[0;32m----> 2\u001b[0;31m \u001b[0mlcnn_model\u001b[0m\u001b[0;34m(\u001b[0m\u001b[0mx\u001b[0m\u001b[0;34m)\u001b[0m\u001b[0;34m.\u001b[0m\u001b[0msqueeze\u001b[0m\u001b[0;34m(\u001b[0m\u001b[0;36m1\u001b[0m\u001b[0;34m)\u001b[0m\u001b[0;34m\u001b[0m\u001b[0;34m\u001b[0m\u001b[0m\n\u001b[0m",
      "\u001b[0;32m~/anaconda3/lib/python3.7/site-packages/torch/nn/modules/module.py\u001b[0m in \u001b[0;36m_call_impl\u001b[0;34m(self, *input, **kwargs)\u001b[0m\n\u001b[1;32m   1100\u001b[0m         if not (self._backward_hooks or self._forward_hooks or self._forward_pre_hooks or _global_backward_hooks\n\u001b[1;32m   1101\u001b[0m                 or _global_forward_hooks or _global_forward_pre_hooks):\n\u001b[0;32m-> 1102\u001b[0;31m             \u001b[0;32mreturn\u001b[0m \u001b[0mforward_call\u001b[0m\u001b[0;34m(\u001b[0m\u001b[0;34m*\u001b[0m\u001b[0minput\u001b[0m\u001b[0;34m,\u001b[0m \u001b[0;34m**\u001b[0m\u001b[0mkwargs\u001b[0m\u001b[0;34m)\u001b[0m\u001b[0;34m\u001b[0m\u001b[0;34m\u001b[0m\u001b[0m\n\u001b[0m\u001b[1;32m   1103\u001b[0m         \u001b[0;31m# Do not call functions when jit is used\u001b[0m\u001b[0;34m\u001b[0m\u001b[0;34m\u001b[0m\u001b[0;34m\u001b[0m\u001b[0m\n\u001b[1;32m   1104\u001b[0m         \u001b[0mfull_backward_hooks\u001b[0m\u001b[0;34m,\u001b[0m \u001b[0mnon_full_backward_hooks\u001b[0m \u001b[0;34m=\u001b[0m \u001b[0;34m[\u001b[0m\u001b[0;34m]\u001b[0m\u001b[0;34m,\u001b[0m \u001b[0;34m[\u001b[0m\u001b[0;34m]\u001b[0m\u001b[0;34m\u001b[0m\u001b[0;34m\u001b[0m\u001b[0m\n",
      "\u001b[0;32m/tmp/ipykernel_25141/1828285442.py\u001b[0m in \u001b[0;36mforward\u001b[0;34m(self, input)\u001b[0m\n\u001b[1;32m     93\u001b[0m \u001b[0;34m\u001b[0m\u001b[0m\n\u001b[1;32m     94\u001b[0m         \u001b[0mx5\u001b[0m \u001b[0;34m=\u001b[0m \u001b[0mself\u001b[0m\u001b[0;34m.\u001b[0m\u001b[0mconv2d_5\u001b[0m\u001b[0;34m(\u001b[0m\u001b[0mx\u001b[0m\u001b[0;34m)\u001b[0m\u001b[0;34m\u001b[0m\u001b[0;34m\u001b[0m\u001b[0m\n\u001b[0;32m---> 95\u001b[0;31m         \u001b[0mx6\u001b[0m \u001b[0;34m=\u001b[0m \u001b[0mself\u001b[0m\u001b[0;34m.\u001b[0m\u001b[0mconv2d_6\u001b[0m\u001b[0;34m(\u001b[0m\u001b[0mx\u001b[0m\u001b[0;34m)\u001b[0m\u001b[0;34m\u001b[0m\u001b[0;34m\u001b[0m\u001b[0m\n\u001b[0m\u001b[1;32m     96\u001b[0m         \u001b[0mmax3\u001b[0m \u001b[0;34m=\u001b[0m \u001b[0mtorch\u001b[0m\u001b[0;34m.\u001b[0m\u001b[0mmaximum\u001b[0m\u001b[0;34m(\u001b[0m\u001b[0mx5\u001b[0m\u001b[0;34m,\u001b[0m\u001b[0mx6\u001b[0m\u001b[0;34m)\u001b[0m\u001b[0;34m\u001b[0m\u001b[0;34m\u001b[0m\u001b[0m\n\u001b[1;32m     97\u001b[0m         \u001b[0mx\u001b[0m \u001b[0;34m=\u001b[0m \u001b[0mself\u001b[0m\u001b[0;34m.\u001b[0m\u001b[0mmax2d_2\u001b[0m\u001b[0;34m(\u001b[0m\u001b[0mmax3\u001b[0m\u001b[0;34m)\u001b[0m\u001b[0;34m\u001b[0m\u001b[0;34m\u001b[0m\u001b[0m\n",
      "\u001b[0;32m~/anaconda3/lib/python3.7/site-packages/torch/nn/modules/module.py\u001b[0m in \u001b[0;36m_call_impl\u001b[0;34m(self, *input, **kwargs)\u001b[0m\n\u001b[1;32m   1100\u001b[0m         if not (self._backward_hooks or self._forward_hooks or self._forward_pre_hooks or _global_backward_hooks\n\u001b[1;32m   1101\u001b[0m                 or _global_forward_hooks or _global_forward_pre_hooks):\n\u001b[0;32m-> 1102\u001b[0;31m             \u001b[0;32mreturn\u001b[0m \u001b[0mforward_call\u001b[0m\u001b[0;34m(\u001b[0m\u001b[0;34m*\u001b[0m\u001b[0minput\u001b[0m\u001b[0;34m,\u001b[0m \u001b[0;34m**\u001b[0m\u001b[0mkwargs\u001b[0m\u001b[0;34m)\u001b[0m\u001b[0;34m\u001b[0m\u001b[0;34m\u001b[0m\u001b[0m\n\u001b[0m\u001b[1;32m   1103\u001b[0m         \u001b[0;31m# Do not call functions when jit is used\u001b[0m\u001b[0;34m\u001b[0m\u001b[0;34m\u001b[0m\u001b[0;34m\u001b[0m\u001b[0m\n\u001b[1;32m   1104\u001b[0m         \u001b[0mfull_backward_hooks\u001b[0m\u001b[0;34m,\u001b[0m \u001b[0mnon_full_backward_hooks\u001b[0m \u001b[0;34m=\u001b[0m \u001b[0;34m[\u001b[0m\u001b[0;34m]\u001b[0m\u001b[0;34m,\u001b[0m \u001b[0;34m[\u001b[0m\u001b[0;34m]\u001b[0m\u001b[0;34m\u001b[0m\u001b[0;34m\u001b[0m\u001b[0m\n",
      "\u001b[0;32m~/anaconda3/lib/python3.7/site-packages/torch/nn/modules/conv.py\u001b[0m in \u001b[0;36mforward\u001b[0;34m(self, input)\u001b[0m\n\u001b[1;32m    444\u001b[0m \u001b[0;34m\u001b[0m\u001b[0m\n\u001b[1;32m    445\u001b[0m     \u001b[0;32mdef\u001b[0m \u001b[0mforward\u001b[0m\u001b[0;34m(\u001b[0m\u001b[0mself\u001b[0m\u001b[0;34m,\u001b[0m \u001b[0minput\u001b[0m\u001b[0;34m:\u001b[0m \u001b[0mTensor\u001b[0m\u001b[0;34m)\u001b[0m \u001b[0;34m->\u001b[0m \u001b[0mTensor\u001b[0m\u001b[0;34m:\u001b[0m\u001b[0;34m\u001b[0m\u001b[0;34m\u001b[0m\u001b[0m\n\u001b[0;32m--> 446\u001b[0;31m         \u001b[0;32mreturn\u001b[0m \u001b[0mself\u001b[0m\u001b[0;34m.\u001b[0m\u001b[0m_conv_forward\u001b[0m\u001b[0;34m(\u001b[0m\u001b[0minput\u001b[0m\u001b[0;34m,\u001b[0m \u001b[0mself\u001b[0m\u001b[0;34m.\u001b[0m\u001b[0mweight\u001b[0m\u001b[0;34m,\u001b[0m \u001b[0mself\u001b[0m\u001b[0;34m.\u001b[0m\u001b[0mbias\u001b[0m\u001b[0;34m)\u001b[0m\u001b[0;34m\u001b[0m\u001b[0;34m\u001b[0m\u001b[0m\n\u001b[0m\u001b[1;32m    447\u001b[0m \u001b[0;34m\u001b[0m\u001b[0m\n\u001b[1;32m    448\u001b[0m \u001b[0;32mclass\u001b[0m \u001b[0mConv3d\u001b[0m\u001b[0;34m(\u001b[0m\u001b[0m_ConvNd\u001b[0m\u001b[0;34m)\u001b[0m\u001b[0;34m:\u001b[0m\u001b[0;34m\u001b[0m\u001b[0;34m\u001b[0m\u001b[0m\n",
      "\u001b[0;32m~/anaconda3/lib/python3.7/site-packages/torch/nn/modules/conv.py\u001b[0m in \u001b[0;36m_conv_forward\u001b[0;34m(self, input, weight, bias)\u001b[0m\n\u001b[1;32m    441\u001b[0m                             _pair(0), self.dilation, self.groups)\n\u001b[1;32m    442\u001b[0m         return F.conv2d(input, weight, bias, self.stride,\n\u001b[0;32m--> 443\u001b[0;31m                         self.padding, self.dilation, self.groups)\n\u001b[0m\u001b[1;32m    444\u001b[0m \u001b[0;34m\u001b[0m\u001b[0m\n\u001b[1;32m    445\u001b[0m     \u001b[0;32mdef\u001b[0m \u001b[0mforward\u001b[0m\u001b[0;34m(\u001b[0m\u001b[0mself\u001b[0m\u001b[0;34m,\u001b[0m \u001b[0minput\u001b[0m\u001b[0;34m:\u001b[0m \u001b[0mTensor\u001b[0m\u001b[0;34m)\u001b[0m \u001b[0;34m->\u001b[0m \u001b[0mTensor\u001b[0m\u001b[0;34m:\u001b[0m\u001b[0;34m\u001b[0m\u001b[0;34m\u001b[0m\u001b[0m\n",
      "\u001b[0;31mRuntimeError\u001b[0m: CUDA out of memory. Tried to allocate 206.00 MiB (GPU 0; 10.75 GiB total capacity; 6.73 GiB already allocated; 99.38 MiB free; 6.81 GiB reserved in total by PyTorch) If reserved memory is >> allocated memory try setting max_split_size_mb to avoid fragmentation.  See documentation for Memory Management and PYTORCH_CUDA_ALLOC_CONF"
     ]
    }
   ],
   "source": [
    "x = torch.randn((32,1,200,700)).cuda()\n",
    "lcnn_model(x).squeeze(1)"
   ]
  },
  {
   "cell_type": "code",
   "execution_count": 9,
   "id": "de2ee8e7",
   "metadata": {},
   "outputs": [
    {
     "name": "stderr",
     "output_type": "stream",
     "text": [
      "100%|███████████████████████████████████████████| 80/80 [00:17<00:00,  4.64it/s]"
     ]
    },
    {
     "name": "stdout",
     "output_type": "stream",
     "text": [
      "lr:  0.00091\n",
      "08-12 01:34 [MainProcess, 18718] [INFO ]  Iteration:0, train loss = 0.434671 ,train F1 = 0.350000 \n"
     ]
    },
    {
     "name": "stderr",
     "output_type": "stream",
     "text": [
      "\n",
      "100%|███████████████████████████████████████████| 79/79 [00:01<00:00, 68.80it/s]"
     ]
    },
    {
     "name": "stdout",
     "output_type": "stream",
     "text": [
      "08-12 01:34 [MainProcess, 18718] [INFO ]  valid Epoch:0, Train loss=0.4347, Valid loss=0.5125,Valid F1=0.4024, Valid weighted acc=0.5727\n",
      "08-12 01:34 [MainProcess, 18718] [INFO ]  Time used for each epoch training: 18.407928943634033 seconds.\n",
      "08-12 01:34 [MainProcess, 18718] [INFO ]  **************************************************\n"
     ]
    },
    {
     "name": "stderr",
     "output_type": "stream",
     "text": [
      "\n",
      "100%|███████████████████████████████████████████| 80/80 [00:16<00:00,  4.72it/s]"
     ]
    },
    {
     "name": "stdout",
     "output_type": "stream",
     "text": [
      "lr:  0.0008281\n",
      "08-12 01:34 [MainProcess, 18718] [INFO ]  Iteration:1, train loss = 0.383155 ,train F1 = 0.469880 \n"
     ]
    },
    {
     "name": "stderr",
     "output_type": "stream",
     "text": [
      "\n",
      "100%|███████████████████████████████████████████| 79/79 [00:01<00:00, 68.77it/s]"
     ]
    },
    {
     "name": "stdout",
     "output_type": "stream",
     "text": [
      "08-12 01:34 [MainProcess, 18718] [INFO ]  valid Epoch:1, Train loss=0.3832, Valid loss=0.4811,Valid F1=0.4072, Valid weighted acc=0.5744\n",
      "08-12 01:34 [MainProcess, 18718] [INFO ]  Time used for each epoch training: 18.099538803100586 seconds.\n",
      "08-12 01:34 [MainProcess, 18718] [INFO ]  **************************************************\n"
     ]
    },
    {
     "name": "stderr",
     "output_type": "stream",
     "text": [
      "\n",
      "100%|███████████████████████████████████████████| 80/80 [00:17<00:00,  4.68it/s]"
     ]
    },
    {
     "name": "stdout",
     "output_type": "stream",
     "text": [
      "lr:  0.0007535710000000001\n",
      "08-12 01:34 [MainProcess, 18718] [INFO ]  Iteration:2, train loss = 0.361058 ,train F1 = 0.539455 \n"
     ]
    },
    {
     "name": "stderr",
     "output_type": "stream",
     "text": [
      "\n",
      "100%|███████████████████████████████████████████| 79/79 [00:01<00:00, 68.96it/s]"
     ]
    },
    {
     "name": "stdout",
     "output_type": "stream",
     "text": [
      "08-12 01:34 [MainProcess, 18718] [INFO ]  valid Epoch:2, Train loss=0.3611, Valid loss=0.4059,Valid F1=0.4674, Valid weighted acc=0.6062\n",
      "08-12 01:34 [MainProcess, 18718] [INFO ]  Time used for each epoch training: 18.26734495162964 seconds.\n",
      "08-12 01:34 [MainProcess, 18718] [INFO ]  **************************************************\n"
     ]
    },
    {
     "name": "stderr",
     "output_type": "stream",
     "text": [
      "\n",
      "100%|███████████████████████████████████████████| 80/80 [00:17<00:00,  4.67it/s]"
     ]
    },
    {
     "name": "stdout",
     "output_type": "stream",
     "text": [
      "lr:  0.0006857496100000001\n",
      "08-12 01:35 [MainProcess, 18718] [INFO ]  Iteration:3, train loss = 0.351090 ,train F1 = 0.521614 \n"
     ]
    },
    {
     "name": "stderr",
     "output_type": "stream",
     "text": [
      "\n",
      "100%|███████████████████████████████████████████| 79/79 [00:01<00:00, 68.81it/s]"
     ]
    },
    {
     "name": "stdout",
     "output_type": "stream",
     "text": [
      "08-12 01:35 [MainProcess, 18718] [INFO ]  valid Epoch:3, Train loss=0.3511, Valid loss=0.4451,Valid F1=0.4048, Valid weighted acc=0.5735\n",
      "08-12 01:35 [MainProcess, 18718] [INFO ]  Time used for each epoch training: 18.30012536048889 seconds.\n",
      "08-12 01:35 [MainProcess, 18718] [INFO ]  **************************************************\n"
     ]
    },
    {
     "name": "stderr",
     "output_type": "stream",
     "text": [
      "\n",
      "100%|███████████████████████████████████████████| 80/80 [00:17<00:00,  4.66it/s]"
     ]
    },
    {
     "name": "stdout",
     "output_type": "stream",
     "text": [
      "lr:  0.0006240321451000001\n",
      "08-12 01:35 [MainProcess, 18718] [INFO ]  Iteration:4, train loss = 0.339943 ,train F1 = 0.560669 \n"
     ]
    },
    {
     "name": "stderr",
     "output_type": "stream",
     "text": [
      "\n",
      "100%|███████████████████████████████████████████| 79/79 [00:01<00:00, 69.44it/s]"
     ]
    },
    {
     "name": "stdout",
     "output_type": "stream",
     "text": [
      "08-12 01:35 [MainProcess, 18718] [INFO ]  valid Epoch:4, Train loss=0.3399, Valid loss=0.4199,Valid F1=0.5502, Valid weighted acc=0.6707\n",
      "08-12 01:35 [MainProcess, 18718] [INFO ]  Time used for each epoch training: 18.329203605651855 seconds.\n",
      "08-12 01:35 [MainProcess, 18718] [INFO ]  **************************************************\n"
     ]
    },
    {
     "name": "stderr",
     "output_type": "stream",
     "text": [
      "\n",
      "100%|███████████████████████████████████████████| 80/80 [00:17<00:00,  4.63it/s]"
     ]
    },
    {
     "name": "stdout",
     "output_type": "stream",
     "text": [
      "lr:  0.0005678692520410001\n",
      "08-12 01:35 [MainProcess, 18718] [INFO ]  Iteration:5, train loss = 0.330942 ,train F1 = 0.555866 \n"
     ]
    },
    {
     "name": "stderr",
     "output_type": "stream",
     "text": [
      "\n",
      "100%|███████████████████████████████████████████| 79/79 [00:01<00:00, 61.61it/s]"
     ]
    },
    {
     "name": "stdout",
     "output_type": "stream",
     "text": [
      "08-12 01:35 [MainProcess, 18718] [INFO ]  valid Epoch:5, Train loss=0.3309, Valid loss=0.4006,Valid F1=0.5545, Valid weighted acc=0.6681\n",
      "08-12 01:35 [MainProcess, 18718] [INFO ]  Time used for each epoch training: 18.569180011749268 seconds.\n",
      "08-12 01:35 [MainProcess, 18718] [INFO ]  **************************************************\n"
     ]
    },
    {
     "name": "stderr",
     "output_type": "stream",
     "text": [
      "\n",
      "100%|███████████████████████████████████████████| 80/80 [00:17<00:00,  4.69it/s]"
     ]
    },
    {
     "name": "stdout",
     "output_type": "stream",
     "text": [
      "lr:  0.00051676101935731\n",
      "08-12 01:36 [MainProcess, 18718] [INFO ]  Iteration:6, train loss = 0.315021 ,train F1 = 0.585970 \n"
     ]
    },
    {
     "name": "stderr",
     "output_type": "stream",
     "text": [
      "\n",
      "100%|███████████████████████████████████████████| 79/79 [00:01<00:00, 70.83it/s]"
     ]
    },
    {
     "name": "stdout",
     "output_type": "stream",
     "text": [
      "08-12 01:36 [MainProcess, 18718] [INFO ]  valid Epoch:6, Train loss=0.3150, Valid loss=0.4035,Valid F1=0.4972, Valid weighted acc=0.6191\n",
      "08-12 01:36 [MainProcess, 18718] [INFO ]  Time used for each epoch training: 18.199458122253418 seconds.\n"
     ]
    },
    {
     "name": "stderr",
     "output_type": "stream",
     "text": [
      "\n"
     ]
    },
    {
     "name": "stdout",
     "output_type": "stream",
     "text": [
      "08-12 01:36 [MainProcess, 18718] [INFO ]  **************************************************\n"
     ]
    },
    {
     "name": "stderr",
     "output_type": "stream",
     "text": [
      "100%|███████████████████████████████████████████| 80/80 [00:16<00:00,  4.75it/s]"
     ]
    },
    {
     "name": "stdout",
     "output_type": "stream",
     "text": [
      "lr:  0.00047025252761515214\n",
      "08-12 01:36 [MainProcess, 18718] [INFO ]  Iteration:7, train loss = 0.305399 ,train F1 = 0.612517 \n"
     ]
    },
    {
     "name": "stderr",
     "output_type": "stream",
     "text": [
      "\n",
      "100%|███████████████████████████████████████████| 79/79 [00:01<00:00, 68.23it/s]"
     ]
    },
    {
     "name": "stdout",
     "output_type": "stream",
     "text": [
      "08-12 01:36 [MainProcess, 18718] [INFO ]  valid Epoch:7, Train loss=0.3054, Valid loss=0.4531,Valid F1=0.4946, Valid weighted acc=0.6199\n",
      "08-12 01:36 [MainProcess, 18718] [INFO ]  Time used for each epoch training: 18.0207576751709 seconds.\n",
      "08-12 01:36 [MainProcess, 18718] [INFO ]  **************************************************\n"
     ]
    },
    {
     "name": "stderr",
     "output_type": "stream",
     "text": [
      "\n",
      "100%|███████████████████████████████████████████| 80/80 [00:16<00:00,  4.75it/s]"
     ]
    },
    {
     "name": "stdout",
     "output_type": "stream",
     "text": [
      "lr:  0.00042792980012978845\n",
      "08-12 01:36 [MainProcess, 18718] [INFO ]  Iteration:8, train loss = 0.304377 ,train F1 = 0.620134 \n"
     ]
    },
    {
     "name": "stderr",
     "output_type": "stream",
     "text": [
      "\n",
      "100%|███████████████████████████████████████████| 79/79 [00:01<00:00, 71.39it/s]"
     ]
    },
    {
     "name": "stdout",
     "output_type": "stream",
     "text": [
      "08-12 01:36 [MainProcess, 18718] [INFO ]  valid Epoch:8, Train loss=0.3044, Valid loss=0.4528,Valid F1=0.5027, Valid weighted acc=0.6242\n",
      "08-12 01:36 [MainProcess, 18718] [INFO ]  Time used for each epoch training: 17.971577167510986 seconds.\n",
      "08-12 01:36 [MainProcess, 18718] [INFO ]  **************************************************\n"
     ]
    },
    {
     "name": "stderr",
     "output_type": "stream",
     "text": [
      "\n",
      "100%|███████████████████████████████████████████| 80/80 [00:16<00:00,  4.76it/s]"
     ]
    },
    {
     "name": "stdout",
     "output_type": "stream",
     "text": [
      "lr:  0.0003894161181181075\n",
      "08-12 01:36 [MainProcess, 18718] [INFO ]  Iteration:9, train loss = 0.279169 ,train F1 = 0.639366 \n"
     ]
    },
    {
     "name": "stderr",
     "output_type": "stream",
     "text": [
      "\n",
      "100%|███████████████████████████████████████████| 79/79 [00:01<00:00, 70.49it/s]"
     ]
    },
    {
     "name": "stdout",
     "output_type": "stream",
     "text": [
      "08-12 01:36 [MainProcess, 18718] [INFO ]  valid Epoch:9, Train loss=0.2792, Valid loss=0.4158,Valid F1=0.5279, Valid weighted acc=0.6414\n",
      "08-12 01:36 [MainProcess, 18718] [INFO ]  Time used for each epoch training: 17.936171293258667 seconds.\n",
      "08-12 01:36 [MainProcess, 18718] [INFO ]  **************************************************\n"
     ]
    },
    {
     "name": "stderr",
     "output_type": "stream",
     "text": [
      "\n",
      "100%|███████████████████████████████████████████| 80/80 [00:16<00:00,  4.76it/s]"
     ]
    },
    {
     "name": "stdout",
     "output_type": "stream",
     "text": [
      "lr:  0.0003543686674874778\n",
      "08-12 01:37 [MainProcess, 18718] [INFO ]  Iteration:10, train loss = 0.274106 ,train F1 = 0.659740 \n"
     ]
    },
    {
     "name": "stderr",
     "output_type": "stream",
     "text": [
      "\n",
      "100%|███████████████████████████████████████████| 79/79 [00:01<00:00, 70.57it/s]"
     ]
    },
    {
     "name": "stdout",
     "output_type": "stream",
     "text": [
      "08-12 01:37 [MainProcess, 18718] [INFO ]  valid Epoch:10, Train loss=0.2741, Valid loss=0.4148,Valid F1=0.5051, Valid weighted acc=0.6303\n",
      "08-12 01:37 [MainProcess, 18718] [INFO ]  Time used for each epoch training: 17.947654008865356 seconds.\n",
      "08-12 01:37 [MainProcess, 18718] [INFO ]  **************************************************\n"
     ]
    },
    {
     "name": "stderr",
     "output_type": "stream",
     "text": [
      "\n",
      "100%|███████████████████████████████████████████| 80/80 [00:16<00:00,  4.75it/s]"
     ]
    },
    {
     "name": "stdout",
     "output_type": "stream",
     "text": [
      "lr:  0.00032247548741360483\n",
      "08-12 01:37 [MainProcess, 18718] [INFO ]  Iteration:11, train loss = 0.260978 ,train F1 = 0.666667 \n"
     ]
    },
    {
     "name": "stderr",
     "output_type": "stream",
     "text": [
      "\n",
      "100%|███████████████████████████████████████████| 79/79 [00:01<00:00, 70.48it/s]"
     ]
    },
    {
     "name": "stdout",
     "output_type": "stream",
     "text": [
      "08-12 01:37 [MainProcess, 18718] [INFO ]  valid Epoch:11, Train loss=0.2610, Valid loss=0.4433,Valid F1=0.4848, Valid weighted acc=0.6199\n",
      "08-12 01:37 [MainProcess, 18718] [INFO ]  Time used for each epoch training: 17.981865882873535 seconds.\n",
      "08-12 01:37 [MainProcess, 18718] [INFO ]  **************************************************\n"
     ]
    },
    {
     "name": "stderr",
     "output_type": "stream",
     "text": [
      "\n",
      "100%|███████████████████████████████████████████| 80/80 [00:16<00:00,  4.75it/s]"
     ]
    },
    {
     "name": "stdout",
     "output_type": "stream",
     "text": [
      "lr:  0.0002934526935463804\n",
      "08-12 01:37 [MainProcess, 18718] [INFO ]  Iteration:12, train loss = 0.254428 ,train F1 = 0.698856 \n"
     ]
    },
    {
     "name": "stderr",
     "output_type": "stream",
     "text": [
      "\n",
      "100%|███████████████████████████████████████████| 79/79 [00:01<00:00, 70.60it/s]"
     ]
    },
    {
     "name": "stdout",
     "output_type": "stream",
     "text": [
      "08-12 01:37 [MainProcess, 18718] [INFO ]  valid Epoch:12, Train loss=0.2544, Valid loss=0.4352,Valid F1=0.4948, Valid weighted acc=0.6234\n",
      "08-12 01:37 [MainProcess, 18718] [INFO ]  Time used for each epoch training: 17.98683738708496 seconds.\n",
      "08-12 01:37 [MainProcess, 18718] [INFO ]  **************************************************\n"
     ]
    },
    {
     "name": "stderr",
     "output_type": "stream",
     "text": [
      "\n",
      "100%|███████████████████████████████████████████| 80/80 [00:16<00:00,  4.75it/s]"
     ]
    },
    {
     "name": "stdout",
     "output_type": "stream",
     "text": [
      "lr:  0.00026704195112720616\n",
      "08-12 01:38 [MainProcess, 18718] [INFO ]  Iteration:13, train loss = 0.230885 ,train F1 = 0.722500 \n"
     ]
    },
    {
     "name": "stderr",
     "output_type": "stream",
     "text": [
      "\n",
      "100%|███████████████████████████████████████████| 79/79 [00:01<00:00, 71.03it/s]"
     ]
    },
    {
     "name": "stdout",
     "output_type": "stream",
     "text": [
      "08-12 01:38 [MainProcess, 18718] [INFO ]  valid Epoch:13, Train loss=0.2309, Valid loss=0.4606,Valid F1=0.5231, Valid weighted acc=0.6380\n",
      "08-12 01:38 [MainProcess, 18718] [INFO ]  Time used for each epoch training: 17.98027777671814 seconds.\n",
      "08-12 01:38 [MainProcess, 18718] [INFO ]  **************************************************\n"
     ]
    },
    {
     "name": "stderr",
     "output_type": "stream",
     "text": [
      "\n",
      "100%|███████████████████████████████████████████| 80/80 [00:16<00:00,  4.75it/s]"
     ]
    },
    {
     "name": "stdout",
     "output_type": "stream",
     "text": [
      "lr:  0.00024300817552575763\n",
      "08-12 01:38 [MainProcess, 18718] [INFO ]  Iteration:14, train loss = 0.217553 ,train F1 = 0.743210 \n"
     ]
    },
    {
     "name": "stderr",
     "output_type": "stream",
     "text": [
      "\n",
      "100%|███████████████████████████████████████████| 79/79 [00:01<00:00, 70.26it/s]"
     ]
    },
    {
     "name": "stdout",
     "output_type": "stream",
     "text": [
      "08-12 01:38 [MainProcess, 18718] [INFO ]  valid Epoch:14, Train loss=0.2176, Valid loss=0.4556,Valid F1=0.5240, Valid weighted acc=0.6552\n",
      "08-12 01:38 [MainProcess, 18718] [INFO ]  Time used for each epoch training: 17.982253074645996 seconds.\n",
      "08-12 01:38 [MainProcess, 18718] [INFO ]  **************************************************\n"
     ]
    },
    {
     "name": "stderr",
     "output_type": "stream",
     "text": [
      "\n",
      "100%|███████████████████████████████████████████| 80/80 [00:16<00:00,  4.75it/s]"
     ]
    },
    {
     "name": "stdout",
     "output_type": "stream",
     "text": [
      "lr:  0.00022113743972843945\n",
      "08-12 01:38 [MainProcess, 18718] [INFO ]  Iteration:15, train loss = 0.197141 ,train F1 = 0.767357 \n"
     ]
    },
    {
     "name": "stderr",
     "output_type": "stream",
     "text": [
      "\n",
      "100%|███████████████████████████████████████████| 79/79 [00:01<00:00, 70.19it/s]"
     ]
    },
    {
     "name": "stdout",
     "output_type": "stream",
     "text": [
      "08-12 01:38 [MainProcess, 18718] [INFO ]  valid Epoch:15, Train loss=0.1971, Valid loss=0.4903,Valid F1=0.5158, Valid weighted acc=0.6320\n",
      "08-12 01:38 [MainProcess, 18718] [INFO ]  Time used for each epoch training: 17.985021829605103 seconds.\n",
      "08-12 01:38 [MainProcess, 18718] [INFO ]  **************************************************\n"
     ]
    },
    {
     "name": "stderr",
     "output_type": "stream",
     "text": [
      "\n",
      "100%|███████████████████████████████████████████| 80/80 [00:16<00:00,  4.74it/s]"
     ]
    },
    {
     "name": "stdout",
     "output_type": "stream",
     "text": [
      "lr:  0.0002012350701528799\n",
      "08-12 01:39 [MainProcess, 18718] [INFO ]  Iteration:16, train loss = 0.180833 ,train F1 = 0.800948 \n"
     ]
    },
    {
     "name": "stderr",
     "output_type": "stream",
     "text": [
      "\n",
      "100%|███████████████████████████████████████████| 79/79 [00:01<00:00, 70.93it/s]"
     ]
    },
    {
     "name": "stdout",
     "output_type": "stream",
     "text": [
      "08-12 01:39 [MainProcess, 18718] [INFO ]  valid Epoch:16, Train loss=0.1808, Valid loss=0.5001,Valid F1=0.5279, Valid weighted acc=0.6414\n",
      "08-12 01:39 [MainProcess, 18718] [INFO ]  Time used for each epoch training: 18.011128664016724 seconds.\n",
      "08-12 01:39 [MainProcess, 18718] [INFO ]  **************************************************\n"
     ]
    },
    {
     "name": "stderr",
     "output_type": "stream",
     "text": [
      "\n",
      "100%|███████████████████████████████████████████| 80/80 [00:16<00:00,  4.74it/s]"
     ]
    },
    {
     "name": "stdout",
     "output_type": "stream",
     "text": [
      "lr:  0.0001831239138391207\n",
      "08-12 01:39 [MainProcess, 18718] [INFO ]  Iteration:17, train loss = 0.169227 ,train F1 = 0.798100 \n"
     ]
    },
    {
     "name": "stderr",
     "output_type": "stream",
     "text": [
      "\n",
      "100%|███████████████████████████████████████████| 79/79 [00:01<00:00, 69.75it/s]"
     ]
    },
    {
     "name": "stdout",
     "output_type": "stream",
     "text": [
      "08-12 01:39 [MainProcess, 18718] [INFO ]  valid Epoch:17, Train loss=0.1692, Valid loss=0.5063,Valid F1=0.5000, Valid weighted acc=0.6251\n",
      "08-12 01:39 [MainProcess, 18718] [INFO ]  Time used for each epoch training: 18.01371192932129 seconds.\n",
      "08-12 01:39 [MainProcess, 18718] [INFO ]  **************************************************\n"
     ]
    },
    {
     "name": "stderr",
     "output_type": "stream",
     "text": [
      "\n",
      "100%|███████████████████████████████████████████| 80/80 [00:16<00:00,  4.74it/s]"
     ]
    },
    {
     "name": "stdout",
     "output_type": "stream",
     "text": [
      "lr:  0.00016664276159359984\n",
      "08-12 01:39 [MainProcess, 18718] [INFO ]  Iteration:18, train loss = 0.164265 ,train F1 = 0.828704 \n"
     ]
    },
    {
     "name": "stderr",
     "output_type": "stream",
     "text": [
      "\n",
      "100%|███████████████████████████████████████████| 79/79 [00:01<00:00, 69.93it/s]"
     ]
    },
    {
     "name": "stdout",
     "output_type": "stream",
     "text": [
      "08-12 01:39 [MainProcess, 18718] [INFO ]  valid Epoch:18, Train loss=0.1643, Valid loss=0.4935,Valid F1=0.5532, Valid weighted acc=0.6758\n",
      "08-12 01:39 [MainProcess, 18718] [INFO ]  Time used for each epoch training: 18.01975417137146 seconds.\n",
      "08-12 01:39 [MainProcess, 18718] [INFO ]  **************************************************\n"
     ]
    },
    {
     "name": "stderr",
     "output_type": "stream",
     "text": [
      "\n",
      "100%|███████████████████████████████████████████| 80/80 [00:16<00:00,  4.74it/s]"
     ]
    },
    {
     "name": "stdout",
     "output_type": "stream",
     "text": [
      "lr:  0.00015164491305017587\n",
      "08-12 01:39 [MainProcess, 18718] [INFO ]  Iteration:19, train loss = 0.151991 ,train F1 = 0.839907 \n"
     ]
    },
    {
     "name": "stderr",
     "output_type": "stream",
     "text": [
      "\n",
      "100%|███████████████████████████████████████████| 79/79 [00:01<00:00, 70.05it/s]"
     ]
    },
    {
     "name": "stdout",
     "output_type": "stream",
     "text": [
      "08-12 01:39 [MainProcess, 18718] [INFO ]  valid Epoch:19, Train loss=0.1520, Valid loss=0.5018,Valid F1=0.5596, Valid weighted acc=0.6698\n",
      "08-12 01:39 [MainProcess, 18718] [INFO ]  Time used for each epoch training: 18.02786946296692 seconds.\n",
      "08-12 01:39 [MainProcess, 18718] [INFO ]  **************************************************\n"
     ]
    },
    {
     "name": "stderr",
     "output_type": "stream",
     "text": [
      "\n",
      "100%|███████████████████████████████████████████| 80/80 [00:16<00:00,  4.74it/s]"
     ]
    },
    {
     "name": "stdout",
     "output_type": "stream",
     "text": [
      "lr:  0.00013799687087566004\n",
      "08-12 01:40 [MainProcess, 18718] [INFO ]  Iteration:20, train loss = 0.135414 ,train F1 = 0.853855 \n"
     ]
    },
    {
     "name": "stderr",
     "output_type": "stream",
     "text": [
      "\n",
      "100%|███████████████████████████████████████████| 79/79 [00:01<00:00, 69.88it/s]"
     ]
    },
    {
     "name": "stdout",
     "output_type": "stream",
     "text": [
      "08-12 01:40 [MainProcess, 18718] [INFO ]  valid Epoch:20, Train loss=0.1354, Valid loss=0.4912,Valid F1=0.5381, Valid weighted acc=0.6604\n",
      "08-12 01:40 [MainProcess, 18718] [INFO ]  Time used for each epoch training: 18.007023334503174 seconds.\n",
      "08-12 01:40 [MainProcess, 18718] [INFO ]  **************************************************\n"
     ]
    },
    {
     "name": "stderr",
     "output_type": "stream",
     "text": [
      "\n",
      "100%|███████████████████████████████████████████| 80/80 [00:16<00:00,  4.74it/s]"
     ]
    },
    {
     "name": "stdout",
     "output_type": "stream",
     "text": [
      "lr:  0.00012557715249685063\n",
      "08-12 01:40 [MainProcess, 18718] [INFO ]  Iteration:21, train loss = 0.124945 ,train F1 = 0.887387 \n"
     ]
    },
    {
     "name": "stderr",
     "output_type": "stream",
     "text": [
      "\n",
      "100%|███████████████████████████████████████████| 79/79 [00:01<00:00, 70.14it/s]"
     ]
    },
    {
     "name": "stdout",
     "output_type": "stream",
     "text": [
      "08-12 01:40 [MainProcess, 18718] [INFO ]  valid Epoch:21, Train loss=0.1249, Valid loss=0.5098,Valid F1=0.5381, Valid weighted acc=0.6604\n",
      "08-12 01:40 [MainProcess, 18718] [INFO ]  Time used for each epoch training: 18.025858163833618 seconds.\n",
      "08-12 01:40 [MainProcess, 18718] [INFO ]  **************************************************\n"
     ]
    },
    {
     "name": "stderr",
     "output_type": "stream",
     "text": [
      "\n",
      "100%|███████████████████████████████████████████| 80/80 [00:16<00:00,  4.73it/s]"
     ]
    },
    {
     "name": "stdout",
     "output_type": "stream",
     "text": [
      "lr:  0.00011427520877213407\n",
      "08-12 01:40 [MainProcess, 18718] [INFO ]  Iteration:22, train loss = 0.098049 ,train F1 = 0.922234 \n"
     ]
    },
    {
     "name": "stderr",
     "output_type": "stream",
     "text": [
      "\n",
      "100%|███████████████████████████████████████████| 79/79 [00:01<00:00, 70.07it/s]"
     ]
    },
    {
     "name": "stdout",
     "output_type": "stream",
     "text": [
      "08-12 01:40 [MainProcess, 18718] [INFO ]  valid Epoch:22, Train loss=0.0980, Valid loss=0.5545,Valid F1=0.5392, Valid weighted acc=0.6509\n",
      "08-12 01:40 [MainProcess, 18718] [INFO ]  Time used for each epoch training: 18.059035301208496 seconds.\n",
      "08-12 01:40 [MainProcess, 18718] [INFO ]  **************************************************\n"
     ]
    },
    {
     "name": "stderr",
     "output_type": "stream",
     "text": [
      "\n",
      "100%|███████████████████████████████████████████| 80/80 [00:16<00:00,  4.74it/s]"
     ]
    },
    {
     "name": "stdout",
     "output_type": "stream",
     "text": [
      "lr:  0.00010399043998264201\n",
      "08-12 01:41 [MainProcess, 18718] [INFO ]  Iteration:23, train loss = 0.089076 ,train F1 = 0.922907 \n"
     ]
    },
    {
     "name": "stderr",
     "output_type": "stream",
     "text": [
      "\n",
      "100%|███████████████████████████████████████████| 79/79 [00:01<00:00, 69.52it/s]"
     ]
    },
    {
     "name": "stdout",
     "output_type": "stream",
     "text": [
      "08-12 01:41 [MainProcess, 18718] [INFO ]  valid Epoch:23, Train loss=0.0891, Valid loss=0.5153,Valid F1=0.5520, Valid weighted acc=0.6672\n",
      "08-12 01:41 [MainProcess, 18718] [INFO ]  Time used for each epoch training: 18.046847105026245 seconds.\n",
      "08-12 01:41 [MainProcess, 18718] [INFO ]  **************************************************\n"
     ]
    },
    {
     "name": "stderr",
     "output_type": "stream",
     "text": [
      "\n",
      "100%|███████████████████████████████████████████| 80/80 [00:16<00:00,  4.73it/s]"
     ]
    },
    {
     "name": "stdout",
     "output_type": "stream",
     "text": [
      "lr:  9.463130038420423e-05\n",
      "08-12 01:41 [MainProcess, 18718] [INFO ]  Iteration:24, train loss = 0.084189 ,train F1 = 0.930283 \n"
     ]
    },
    {
     "name": "stderr",
     "output_type": "stream",
     "text": [
      "\n",
      "100%|███████████████████████████████████████████| 79/79 [00:01<00:00, 70.11it/s]"
     ]
    },
    {
     "name": "stdout",
     "output_type": "stream",
     "text": [
      "08-12 01:41 [MainProcess, 18718] [INFO ]  valid Epoch:24, Train loss=0.0842, Valid loss=0.5160,Valid F1=0.5278, Valid weighted acc=0.6509\n",
      "08-12 01:41 [MainProcess, 18718] [INFO ]  Time used for each epoch training: 18.05156636238098 seconds.\n",
      "08-12 01:41 [MainProcess, 18718] [INFO ]  **************************************************\n"
     ]
    },
    {
     "name": "stderr",
     "output_type": "stream",
     "text": [
      "\n",
      "100%|███████████████████████████████████████████| 80/80 [00:16<00:00,  4.73it/s]"
     ]
    },
    {
     "name": "stdout",
     "output_type": "stream",
     "text": [
      "lr:  8.611448334962585e-05\n",
      "08-12 01:41 [MainProcess, 18718] [INFO ]  Iteration:25, train loss = 0.066242 ,train F1 = 0.942949 \n"
     ]
    },
    {
     "name": "stderr",
     "output_type": "stream",
     "text": [
      "\n",
      "100%|███████████████████████████████████████████| 79/79 [00:01<00:00, 69.76it/s]"
     ]
    },
    {
     "name": "stdout",
     "output_type": "stream",
     "text": [
      "08-12 01:41 [MainProcess, 18718] [INFO ]  valid Epoch:25, Train loss=0.0662, Valid loss=0.5488,Valid F1=0.4828, Valid weighted acc=0.6208\n",
      "08-12 01:41 [MainProcess, 18718] [INFO ]  Time used for each epoch training: 18.044245719909668 seconds.\n",
      "08-12 01:41 [MainProcess, 18718] [INFO ]  **************************************************\n"
     ]
    },
    {
     "name": "stderr",
     "output_type": "stream",
     "text": [
      "\n",
      "100%|███████████████████████████████████████████| 80/80 [00:16<00:00,  4.72it/s]"
     ]
    },
    {
     "name": "stdout",
     "output_type": "stream",
     "text": [
      "lr:  7.836417984815953e-05\n",
      "08-12 01:42 [MainProcess, 18718] [INFO ]  Iteration:26, train loss = 0.060734 ,train F1 = 0.959227 \n"
     ]
    },
    {
     "name": "stderr",
     "output_type": "stream",
     "text": [
      "\n",
      "100%|███████████████████████████████████████████| 79/79 [00:01<00:00, 69.90it/s]"
     ]
    },
    {
     "name": "stdout",
     "output_type": "stream",
     "text": [
      "08-12 01:42 [MainProcess, 18718] [INFO ]  valid Epoch:26, Train loss=0.0607, Valid loss=0.5666,Valid F1=0.5429, Valid weighted acc=0.6561\n",
      "08-12 01:42 [MainProcess, 18718] [INFO ]  Time used for each epoch training: 18.077171564102173 seconds.\n",
      "08-12 01:42 [MainProcess, 18718] [INFO ]  **************************************************\n"
     ]
    },
    {
     "name": "stderr",
     "output_type": "stream",
     "text": [
      "\n",
      "100%|███████████████████████████████████████████| 80/80 [00:16<00:00,  4.73it/s]"
     ]
    },
    {
     "name": "stdout",
     "output_type": "stream",
     "text": [
      "lr:  7.131140366182518e-05\n",
      "08-12 01:42 [MainProcess, 18718] [INFO ]  Iteration:27, train loss = 0.057504 ,train F1 = 0.964856 \n"
     ]
    },
    {
     "name": "stderr",
     "output_type": "stream",
     "text": [
      "\n",
      "100%|███████████████████████████████████████████| 79/79 [00:01<00:00, 69.78it/s]"
     ]
    },
    {
     "name": "stdout",
     "output_type": "stream",
     "text": [
      "08-12 01:42 [MainProcess, 18718] [INFO ]  valid Epoch:27, Train loss=0.0575, Valid loss=0.5702,Valid F1=0.5238, Valid weighted acc=0.6457\n",
      "08-12 01:42 [MainProcess, 18718] [INFO ]  Time used for each epoch training: 18.06382393836975 seconds.\n",
      "08-12 01:42 [MainProcess, 18718] [INFO ]  **************************************************\n"
     ]
    },
    {
     "name": "stderr",
     "output_type": "stream",
     "text": [
      "\n",
      "100%|███████████████████████████████████████████| 80/80 [00:16<00:00,  4.73it/s]"
     ]
    },
    {
     "name": "stdout",
     "output_type": "stream",
     "text": [
      "lr:  6.489337733226091e-05\n",
      "08-12 01:42 [MainProcess, 18718] [INFO ]  Iteration:28, train loss = 0.055601 ,train F1 = 0.968085 \n"
     ]
    },
    {
     "name": "stderr",
     "output_type": "stream",
     "text": [
      "\n",
      "100%|███████████████████████████████████████████| 79/79 [00:01<00:00, 70.26it/s]"
     ]
    },
    {
     "name": "stdout",
     "output_type": "stream",
     "text": [
      "08-12 01:42 [MainProcess, 18718] [INFO ]  valid Epoch:28, Train loss=0.0556, Valid loss=0.5282,Valid F1=0.5385, Valid weighted acc=0.6664\n"
     ]
    },
    {
     "name": "stderr",
     "output_type": "stream",
     "text": [
      "\n"
     ]
    },
    {
     "name": "stdout",
     "output_type": "stream",
     "text": [
      "08-12 01:42 [MainProcess, 18718] [INFO ]  Time used for each epoch training: 18.070302486419678 seconds.\n",
      "08-12 01:42 [MainProcess, 18718] [INFO ]  **************************************************\n"
     ]
    },
    {
     "name": "stderr",
     "output_type": "stream",
     "text": [
      "100%|███████████████████████████████████████████| 80/80 [00:16<00:00,  4.72it/s]"
     ]
    },
    {
     "name": "stdout",
     "output_type": "stream",
     "text": [
      "lr:  5.905297337235743e-05\n",
      "08-12 01:42 [MainProcess, 18718] [INFO ]  Iteration:29, train loss = 0.050719 ,train F1 = 0.974576 \n"
     ]
    },
    {
     "name": "stderr",
     "output_type": "stream",
     "text": [
      "\n",
      "100%|███████████████████████████████████████████| 79/79 [00:01<00:00, 69.85it/s]"
     ]
    },
    {
     "name": "stdout",
     "output_type": "stream",
     "text": [
      "08-12 01:42 [MainProcess, 18718] [INFO ]  valid Epoch:29, Train loss=0.0507, Valid loss=0.5966,Valid F1=0.5131, Valid weighted acc=0.6311\n",
      "08-12 01:42 [MainProcess, 18718] [INFO ]  Time used for each epoch training: 18.091134309768677 seconds.\n",
      "08-12 01:42 [MainProcess, 18718] [INFO ]  **************************************************\n"
     ]
    },
    {
     "name": "stderr",
     "output_type": "stream",
     "text": [
      "\n",
      "100%|███████████████████████████████████████████| 80/80 [00:16<00:00,  4.72it/s]"
     ]
    },
    {
     "name": "stdout",
     "output_type": "stream",
     "text": [
      "lr:  5.373820576884526e-05\n",
      "08-12 01:43 [MainProcess, 18718] [INFO ]  Iteration:30, train loss = 0.039835 ,train F1 = 0.984227 \n"
     ]
    },
    {
     "name": "stderr",
     "output_type": "stream",
     "text": [
      "\n",
      "100%|███████████████████████████████████████████| 79/79 [00:01<00:00, 69.78it/s]"
     ]
    },
    {
     "name": "stdout",
     "output_type": "stream",
     "text": [
      "08-12 01:43 [MainProcess, 18718] [INFO ]  valid Epoch:30, Train loss=0.0398, Valid loss=0.6039,Valid F1=0.5204, Valid weighted acc=0.6371\n",
      "08-12 01:43 [MainProcess, 18718] [INFO ]  Time used for each epoch training: 18.11204695701599 seconds.\n",
      "08-12 01:43 [MainProcess, 18718] [INFO ]  **************************************************\n"
     ]
    },
    {
     "name": "stderr",
     "output_type": "stream",
     "text": [
      "\n",
      "100%|███████████████████████████████████████████| 80/80 [00:16<00:00,  4.72it/s]"
     ]
    },
    {
     "name": "stdout",
     "output_type": "stream",
     "text": [
      "lr:  4.890176724964919e-05\n",
      "08-12 01:43 [MainProcess, 18718] [INFO ]  Iteration:31, train loss = 0.038477 ,train F1 = 0.988482 \n"
     ]
    },
    {
     "name": "stderr",
     "output_type": "stream",
     "text": [
      "\n",
      "100%|███████████████████████████████████████████| 79/79 [00:01<00:00, 69.53it/s]"
     ]
    },
    {
     "name": "stdout",
     "output_type": "stream",
     "text": [
      "08-12 01:43 [MainProcess, 18718] [INFO ]  valid Epoch:31, Train loss=0.0385, Valid loss=0.5646,Valid F1=0.5411, Valid weighted acc=0.6535\n",
      "08-12 01:43 [MainProcess, 18718] [INFO ]  Time used for each epoch training: 18.094030141830444 seconds.\n",
      "08-12 01:43 [MainProcess, 18718] [INFO ]  **************************************************\n"
     ]
    },
    {
     "name": "stderr",
     "output_type": "stream",
     "text": [
      "\n",
      "100%|███████████████████████████████████████████| 80/80 [00:16<00:00,  4.72it/s]"
     ]
    },
    {
     "name": "stdout",
     "output_type": "stream",
     "text": [
      "lr:  4.450060819718076e-05\n",
      "08-12 01:43 [MainProcess, 18718] [INFO ]  Iteration:32, train loss = 0.039879 ,train F1 = 0.978903 \n"
     ]
    },
    {
     "name": "stderr",
     "output_type": "stream",
     "text": [
      "\n",
      "100%|███████████████████████████████████████████| 79/79 [00:01<00:00, 70.01it/s]"
     ]
    },
    {
     "name": "stdout",
     "output_type": "stream",
     "text": [
      "08-12 01:43 [MainProcess, 18718] [INFO ]  valid Epoch:32, Train loss=0.0399, Valid loss=0.6256,Valid F1=0.5102, Valid weighted acc=0.6320\n",
      "08-12 01:43 [MainProcess, 18718] [INFO ]  Time used for each epoch training: 18.089922189712524 seconds.\n",
      "08-12 01:43 [MainProcess, 18718] [INFO ]  **************************************************\n"
     ]
    },
    {
     "name": "stderr",
     "output_type": "stream",
     "text": [
      "\n",
      "100%|███████████████████████████████████████████| 80/80 [00:16<00:00,  4.72it/s]"
     ]
    },
    {
     "name": "stdout",
     "output_type": "stream",
     "text": [
      "lr:  4.049555345943449e-05\n",
      "08-12 01:44 [MainProcess, 18718] [INFO ]  Iteration:33, train loss = 0.036426 ,train F1 = 0.983264 \n"
     ]
    },
    {
     "name": "stderr",
     "output_type": "stream",
     "text": [
      "\n",
      "100%|███████████████████████████████████████████| 79/79 [00:01<00:00, 69.91it/s]"
     ]
    },
    {
     "name": "stdout",
     "output_type": "stream",
     "text": [
      "08-12 01:44 [MainProcess, 18718] [INFO ]  valid Epoch:33, Train loss=0.0364, Valid loss=0.6332,Valid F1=0.5236, Valid weighted acc=0.6363\n",
      "08-12 01:44 [MainProcess, 18718] [INFO ]  Time used for each epoch training: 18.115335941314697 seconds.\n",
      "08-12 01:44 [MainProcess, 18718] [INFO ]  **************************************************\n"
     ]
    },
    {
     "name": "stderr",
     "output_type": "stream",
     "text": [
      "\n",
      "100%|███████████████████████████████████████████| 80/80 [00:16<00:00,  4.72it/s]"
     ]
    },
    {
     "name": "stdout",
     "output_type": "stream",
     "text": [
      "lr:  3.685095364808539e-05\n",
      "08-12 01:44 [MainProcess, 18718] [INFO ]  Iteration:34, train loss = 0.040647 ,train F1 = 0.985325 \n"
     ]
    },
    {
     "name": "stderr",
     "output_type": "stream",
     "text": [
      "\n",
      "100%|███████████████████████████████████████████| 79/79 [00:01<00:00, 69.95it/s]"
     ]
    },
    {
     "name": "stdout",
     "output_type": "stream",
     "text": [
      "08-12 01:44 [MainProcess, 18718] [INFO ]  valid Epoch:34, Train loss=0.0406, Valid loss=0.6060,Valid F1=0.5149, Valid weighted acc=0.6371\n",
      "08-12 01:44 [MainProcess, 18718] [INFO ]  Time used for each epoch training: 18.09134078025818 seconds.\n",
      "08-12 01:44 [MainProcess, 18718] [INFO ]  **************************************************\n"
     ]
    },
    {
     "name": "stderr",
     "output_type": "stream",
     "text": [
      "\n",
      "100%|███████████████████████████████████████████| 80/80 [00:16<00:00,  4.72it/s]"
     ]
    },
    {
     "name": "stdout",
     "output_type": "stream",
     "text": [
      "lr:  3.3534367819757705e-05\n",
      "08-12 01:44 [MainProcess, 18718] [INFO ]  Iteration:35, train loss = 0.031589 ,train F1 = 0.992701 \n"
     ]
    },
    {
     "name": "stderr",
     "output_type": "stream",
     "text": [
      "\n",
      "100%|███████████████████████████████████████████| 79/79 [00:01<00:00, 69.85it/s]"
     ]
    },
    {
     "name": "stdout",
     "output_type": "stream",
     "text": [
      "08-12 01:44 [MainProcess, 18718] [INFO ]  valid Epoch:35, Train loss=0.0316, Valid loss=0.6297,Valid F1=0.5152, Valid weighted acc=0.6354\n",
      "08-12 01:44 [MainProcess, 18718] [INFO ]  Time used for each epoch training: 18.090464115142822 seconds.\n",
      "08-12 01:44 [MainProcess, 18718] [INFO ]  **************************************************\n"
     ]
    },
    {
     "name": "stderr",
     "output_type": "stream",
     "text": [
      "\n",
      "100%|███████████████████████████████████████████| 80/80 [00:16<00:00,  4.72it/s]"
     ]
    },
    {
     "name": "stdout",
     "output_type": "stream",
     "text": [
      "lr:  3.051627471597951e-05\n",
      "08-12 01:45 [MainProcess, 18718] [INFO ]  Iteration:36, train loss = 0.030049 ,train F1 = 0.989540 \n"
     ]
    },
    {
     "name": "stderr",
     "output_type": "stream",
     "text": [
      "\n",
      "100%|███████████████████████████████████████████| 79/79 [00:01<00:00, 69.71it/s]"
     ]
    },
    {
     "name": "stdout",
     "output_type": "stream",
     "text": [
      "08-12 01:45 [MainProcess, 18718] [INFO ]  valid Epoch:36, Train loss=0.0300, Valid loss=0.5980,Valid F1=0.5126, Valid weighted acc=0.6346\n",
      "08-12 01:45 [MainProcess, 18718] [INFO ]  Time used for each epoch training: 18.109840393066406 seconds.\n",
      "08-12 01:45 [MainProcess, 18718] [INFO ]  **************************************************\n"
     ]
    },
    {
     "name": "stderr",
     "output_type": "stream",
     "text": [
      "\n",
      "100%|███████████████████████████████████████████| 80/80 [00:16<00:00,  4.72it/s]"
     ]
    },
    {
     "name": "stdout",
     "output_type": "stream",
     "text": [
      "lr:  2.7769809991541357e-05\n",
      "08-12 01:45 [MainProcess, 18718] [INFO ]  Iteration:37, train loss = 0.044643 ,train F1 = 0.989540 \n"
     ]
    },
    {
     "name": "stderr",
     "output_type": "stream",
     "text": [
      "\n",
      "100%|███████████████████████████████████████████| 79/79 [00:01<00:00, 69.85it/s]"
     ]
    },
    {
     "name": "stdout",
     "output_type": "stream",
     "text": [
      "08-12 01:45 [MainProcess, 18718] [INFO ]  valid Epoch:37, Train loss=0.0446, Valid loss=0.6943,Valid F1=0.5263, Valid weighted acc=0.6371\n",
      "08-12 01:45 [MainProcess, 18718] [INFO ]  Time used for each epoch training: 18.084310054779053 seconds.\n",
      "08-12 01:45 [MainProcess, 18718] [INFO ]  **************************************************\n"
     ]
    },
    {
     "name": "stderr",
     "output_type": "stream",
     "text": [
      "\n",
      "100%|███████████████████████████████████████████| 80/80 [00:16<00:00,  4.72it/s]"
     ]
    },
    {
     "name": "stdout",
     "output_type": "stream",
     "text": [
      "lr:  2.5270527092302636e-05\n",
      "08-12 01:45 [MainProcess, 18718] [INFO ]  Iteration:38, train loss = 0.033242 ,train F1 = 0.990615 \n"
     ]
    },
    {
     "name": "stderr",
     "output_type": "stream",
     "text": [
      "\n",
      "100%|███████████████████████████████████████████| 79/79 [00:01<00:00, 69.81it/s]"
     ]
    },
    {
     "name": "stdout",
     "output_type": "stream",
     "text": [
      "08-12 01:45 [MainProcess, 18718] [INFO ]  valid Epoch:38, Train loss=0.0332, Valid loss=0.6494,Valid F1=0.5155, Valid weighted acc=0.6337\n",
      "08-12 01:45 [MainProcess, 18718] [INFO ]  Time used for each epoch training: 18.103521823883057 seconds.\n",
      "08-12 01:45 [MainProcess, 18718] [INFO ]  **************************************************\n"
     ]
    },
    {
     "name": "stderr",
     "output_type": "stream",
     "text": [
      "\n",
      "100%|███████████████████████████████████████████| 80/80 [00:16<00:00,  4.72it/s]"
     ]
    },
    {
     "name": "stdout",
     "output_type": "stream",
     "text": [
      "lr:  2.29961796539954e-05\n",
      "08-12 01:45 [MainProcess, 18718] [INFO ]  Iteration:39, train loss = 0.026656 ,train F1 = 0.994797 \n"
     ]
    },
    {
     "name": "stderr",
     "output_type": "stream",
     "text": [
      "\n",
      "100%|███████████████████████████████████████████| 79/79 [00:01<00:00, 69.83it/s]"
     ]
    },
    {
     "name": "stdout",
     "output_type": "stream",
     "text": [
      "08-12 01:45 [MainProcess, 18718] [INFO ]  valid Epoch:39, Train loss=0.0267, Valid loss=0.5941,Valid F1=0.5288, Valid weighted acc=0.6475\n",
      "08-12 01:45 [MainProcess, 18718] [INFO ]  Time used for each epoch training: 18.108336210250854 seconds.\n",
      "08-12 01:45 [MainProcess, 18718] [INFO ]  **************************************************\n"
     ]
    },
    {
     "name": "stderr",
     "output_type": "stream",
     "text": [
      "\n",
      "100%|███████████████████████████████████████████| 80/80 [00:16<00:00,  4.72it/s]"
     ]
    },
    {
     "name": "stdout",
     "output_type": "stream",
     "text": [
      "lr:  2.0926523485135813e-05\n",
      "08-12 01:46 [MainProcess, 18718] [INFO ]  Iteration:40, train loss = 0.027211 ,train F1 = 0.992701 \n"
     ]
    },
    {
     "name": "stderr",
     "output_type": "stream",
     "text": [
      "\n",
      "100%|███████████████████████████████████████████| 79/79 [00:01<00:00, 68.76it/s]"
     ]
    },
    {
     "name": "stdout",
     "output_type": "stream",
     "text": [
      "08-12 01:46 [MainProcess, 18718] [INFO ]  valid Epoch:40, Train loss=0.0272, Valid loss=0.6288,Valid F1=0.5155, Valid weighted acc=0.6337\n",
      "08-12 01:46 [MainProcess, 18718] [INFO ]  Time used for each epoch training: 18.10915756225586 seconds.\n",
      "08-12 01:46 [MainProcess, 18718] [INFO ]  **************************************************\n"
     ]
    },
    {
     "name": "stderr",
     "output_type": "stream",
     "text": [
      "\n",
      "100%|███████████████████████████████████████████| 80/80 [00:16<00:00,  4.72it/s]"
     ]
    },
    {
     "name": "stdout",
     "output_type": "stream",
     "text": [
      "lr:  1.904313637147359e-05\n",
      "08-12 01:46 [MainProcess, 18718] [INFO ]  Iteration:41, train loss = 0.025728 ,train F1 = 0.993750 \n"
     ]
    },
    {
     "name": "stderr",
     "output_type": "stream",
     "text": [
      "\n",
      "100%|███████████████████████████████████████████| 79/79 [00:01<00:00, 70.05it/s]"
     ]
    },
    {
     "name": "stdout",
     "output_type": "stream",
     "text": [
      "08-12 01:46 [MainProcess, 18718] [INFO ]  valid Epoch:41, Train loss=0.0257, Valid loss=0.6235,Valid F1=0.5200, Valid weighted acc=0.6389\n",
      "08-12 01:46 [MainProcess, 18718] [INFO ]  Time used for each epoch training: 18.10189986228943 seconds.\n",
      "08-12 01:46 [MainProcess, 18718] [INFO ]  **************************************************\n"
     ]
    },
    {
     "name": "stderr",
     "output_type": "stream",
     "text": [
      "\n",
      "100%|███████████████████████████████████████████| 80/80 [00:16<00:00,  4.72it/s]"
     ]
    },
    {
     "name": "stdout",
     "output_type": "stream",
     "text": [
      "lr:  1.7329254098040968e-05\n",
      "08-12 01:46 [MainProcess, 18718] [INFO ]  Iteration:42, train loss = 0.025439 ,train F1 = 0.993750 \n"
     ]
    },
    {
     "name": "stderr",
     "output_type": "stream",
     "text": [
      "\n",
      "100%|███████████████████████████████████████████| 79/79 [00:01<00:00, 69.71it/s]"
     ]
    },
    {
     "name": "stdout",
     "output_type": "stream",
     "text": [
      "08-12 01:46 [MainProcess, 18718] [INFO ]  valid Epoch:42, Train loss=0.0254, Valid loss=0.6227,Valid F1=0.5248, Valid weighted acc=0.6423\n",
      "08-12 01:46 [MainProcess, 18718] [INFO ]  Time used for each epoch training: 18.10102677345276 seconds.\n",
      "08-12 01:46 [MainProcess, 18718] [INFO ]  **************************************************\n"
     ]
    },
    {
     "name": "stderr",
     "output_type": "stream",
     "text": [
      "\n",
      "100%|███████████████████████████████████████████| 80/80 [00:16<00:00,  4.72it/s]"
     ]
    },
    {
     "name": "stdout",
     "output_type": "stream",
     "text": [
      "lr:  1.5769621229217283e-05\n",
      "08-12 01:47 [MainProcess, 18718] [INFO ]  Iteration:43, train loss = 0.023458 ,train F1 = 0.997925 \n"
     ]
    },
    {
     "name": "stderr",
     "output_type": "stream",
     "text": [
      "\n",
      "100%|███████████████████████████████████████████| 79/79 [00:01<00:00, 69.70it/s]"
     ]
    },
    {
     "name": "stdout",
     "output_type": "stream",
     "text": [
      "08-12 01:47 [MainProcess, 18718] [INFO ]  valid Epoch:43, Train loss=0.0235, Valid loss=0.6329,Valid F1=0.5274, Valid weighted acc=0.6432\n",
      "08-12 01:47 [MainProcess, 18718] [INFO ]  Time used for each epoch training: 18.11208939552307 seconds.\n",
      "08-12 01:47 [MainProcess, 18718] [INFO ]  **************************************************\n"
     ]
    },
    {
     "name": "stderr",
     "output_type": "stream",
     "text": [
      "\n",
      "100%|███████████████████████████████████████████| 80/80 [00:16<00:00,  4.72it/s]"
     ]
    },
    {
     "name": "stdout",
     "output_type": "stream",
     "text": [
      "lr:  1.4350355318587729e-05\n",
      "08-12 01:47 [MainProcess, 18718] [INFO ]  Iteration:44, train loss = 0.023688 ,train F1 = 0.993763 \n"
     ]
    },
    {
     "name": "stderr",
     "output_type": "stream",
     "text": [
      "\n",
      "100%|███████████████████████████████████████████| 79/79 [00:01<00:00, 69.88it/s]"
     ]
    },
    {
     "name": "stdout",
     "output_type": "stream",
     "text": [
      "08-12 01:47 [MainProcess, 18718] [INFO ]  valid Epoch:44, Train loss=0.0237, Valid loss=0.6103,Valid F1=0.5222, Valid weighted acc=0.6414\n",
      "08-12 01:47 [MainProcess, 18718] [INFO ]  Time used for each epoch training: 18.105700254440308 seconds.\n",
      "08-12 01:47 [MainProcess, 18718] [INFO ]  **************************************************\n"
     ]
    },
    {
     "name": "stderr",
     "output_type": "stream",
     "text": [
      "\n",
      "100%|███████████████████████████████████████████| 80/80 [00:16<00:00,  4.72it/s]"
     ]
    },
    {
     "name": "stdout",
     "output_type": "stream",
     "text": [
      "lr:  1.3058823339914834e-05\n",
      "08-12 01:47 [MainProcess, 18718] [INFO ]  Iteration:45, train loss = 0.023408 ,train F1 = 0.993750 \n"
     ]
    },
    {
     "name": "stderr",
     "output_type": "stream",
     "text": [
      "\n",
      "100%|███████████████████████████████████████████| 79/79 [00:01<00:00, 69.89it/s]"
     ]
    },
    {
     "name": "stdout",
     "output_type": "stream",
     "text": [
      "08-12 01:47 [MainProcess, 18718] [INFO ]  valid Epoch:45, Train loss=0.0234, Valid loss=0.6248,Valid F1=0.5149, Valid weighted acc=0.6371\n",
      "08-12 01:47 [MainProcess, 18718] [INFO ]  Time used for each epoch training: 18.112600564956665 seconds.\n",
      "08-12 01:47 [MainProcess, 18718] [INFO ]  **************************************************\n"
     ]
    },
    {
     "name": "stderr",
     "output_type": "stream",
     "text": [
      "\n",
      "100%|███████████████████████████████████████████| 80/80 [00:16<00:00,  4.71it/s]"
     ]
    },
    {
     "name": "stdout",
     "output_type": "stream",
     "text": [
      "lr:  1.18835292393225e-05\n",
      "08-12 01:48 [MainProcess, 18718] [INFO ]  Iteration:46, train loss = 0.023500 ,train F1 = 0.994797 \n"
     ]
    },
    {
     "name": "stderr",
     "output_type": "stream",
     "text": [
      "\n",
      "100%|███████████████████████████████████████████| 79/79 [00:01<00:00, 70.05it/s]"
     ]
    },
    {
     "name": "stdout",
     "output_type": "stream",
     "text": [
      "08-12 01:48 [MainProcess, 18718] [INFO ]  valid Epoch:46, Train loss=0.0235, Valid loss=0.5941,Valid F1=0.5357, Valid weighted acc=0.6595\n",
      "08-12 01:48 [MainProcess, 18718] [INFO ]  Time used for each epoch training: 18.116363286972046 seconds.\n",
      "08-12 01:48 [MainProcess, 18718] [INFO ]  **************************************************\n"
     ]
    },
    {
     "name": "stderr",
     "output_type": "stream",
     "text": [
      "\n",
      "100%|███████████████████████████████████████████| 80/80 [00:16<00:00,  4.72it/s]"
     ]
    },
    {
     "name": "stdout",
     "output_type": "stream",
     "text": [
      "lr:  1.0814011607783475e-05\n",
      "08-12 01:48 [MainProcess, 18718] [INFO ]  Iteration:47, train loss = 0.020870 ,train F1 = 0.998964 \n"
     ]
    },
    {
     "name": "stderr",
     "output_type": "stream",
     "text": [
      "\n",
      "100%|███████████████████████████████████████████| 79/79 [00:01<00:00, 69.45it/s]"
     ]
    },
    {
     "name": "stdout",
     "output_type": "stream",
     "text": [
      "08-12 01:48 [MainProcess, 18718] [INFO ]  valid Epoch:47, Train loss=0.0209, Valid loss=0.6709,Valid F1=0.5236, Valid weighted acc=0.6363\n",
      "08-12 01:48 [MainProcess, 18718] [INFO ]  Time used for each epoch training: 18.12151050567627 seconds.\n",
      "08-12 01:48 [MainProcess, 18718] [INFO ]  **************************************************\n"
     ]
    },
    {
     "name": "stderr",
     "output_type": "stream",
     "text": [
      "\n",
      "100%|███████████████████████████████████████████| 80/80 [00:16<00:00,  4.71it/s]"
     ]
    },
    {
     "name": "stdout",
     "output_type": "stream",
     "text": [
      "lr:  9.840750563082964e-06\n",
      "08-12 01:48 [MainProcess, 18718] [INFO ]  Iteration:48, train loss = 0.022769 ,train F1 = 0.994797 \n"
     ]
    },
    {
     "name": "stderr",
     "output_type": "stream",
     "text": [
      "\n",
      "100%|███████████████████████████████████████████| 79/79 [00:01<00:00, 69.64it/s]"
     ]
    },
    {
     "name": "stdout",
     "output_type": "stream",
     "text": [
      "08-12 01:48 [MainProcess, 18718] [INFO ]  valid Epoch:48, Train loss=0.0228, Valid loss=0.6245,Valid F1=0.5373, Valid weighted acc=0.6483\n",
      "08-12 01:48 [MainProcess, 18718] [INFO ]  Time used for each epoch training: 18.131532430648804 seconds.\n",
      "08-12 01:48 [MainProcess, 18718] [INFO ]  **************************************************\n"
     ]
    },
    {
     "name": "stderr",
     "output_type": "stream",
     "text": [
      "\n",
      "100%|███████████████████████████████████████████| 80/80 [00:16<00:00,  4.72it/s]"
     ]
    },
    {
     "name": "stdout",
     "output_type": "stream",
     "text": [
      "lr:  8.955083012405497e-06\n",
      "08-12 01:48 [MainProcess, 18718] [INFO ]  Iteration:49, train loss = 0.019356 ,train F1 = 0.998964 \n"
     ]
    },
    {
     "name": "stderr",
     "output_type": "stream",
     "text": [
      "\n",
      "100%|███████████████████████████████████████████| 79/79 [00:01<00:00, 69.71it/s]"
     ]
    },
    {
     "name": "stdout",
     "output_type": "stream",
     "text": [
      "08-12 01:48 [MainProcess, 18718] [INFO ]  valid Epoch:49, Train loss=0.0194, Valid loss=0.6411,Valid F1=0.5226, Valid weighted acc=0.6397\n",
      "08-12 01:48 [MainProcess, 18718] [INFO ]  Time used for each epoch training: 18.11344265937805 seconds.\n",
      "08-12 01:48 [MainProcess, 18718] [INFO ]  **************************************************\n"
     ]
    },
    {
     "name": "stderr",
     "output_type": "stream",
     "text": [
      "\n",
      "100%|███████████████████████████████████████████| 80/80 [00:16<00:00,  4.71it/s]"
     ]
    },
    {
     "name": "stdout",
     "output_type": "stream",
     "text": [
      "lr:  8.149125541289003e-06\n",
      "08-12 01:49 [MainProcess, 18718] [INFO ]  Iteration:50, train loss = 0.023426 ,train F1 = 0.996885 \n"
     ]
    },
    {
     "name": "stderr",
     "output_type": "stream",
     "text": [
      "\n",
      "100%|███████████████████████████████████████████| 79/79 [00:01<00:00, 69.37it/s]"
     ]
    },
    {
     "name": "stdout",
     "output_type": "stream",
     "text": [
      "08-12 01:49 [MainProcess, 18718] [INFO ]  valid Epoch:50, Train loss=0.0234, Valid loss=0.6670,Valid F1=0.5263, Valid weighted acc=0.6371\n",
      "08-12 01:49 [MainProcess, 18718] [INFO ]  Time used for each epoch training: 18.121481895446777 seconds.\n",
      "08-12 01:49 [MainProcess, 18718] [INFO ]  **************************************************\n"
     ]
    },
    {
     "name": "stderr",
     "output_type": "stream",
     "text": [
      "\n",
      "100%|███████████████████████████████████████████| 80/80 [00:16<00:00,  4.71it/s]"
     ]
    },
    {
     "name": "stdout",
     "output_type": "stream",
     "text": [
      "lr:  7.415704242572993e-06\n",
      "08-12 01:49 [MainProcess, 18718] [INFO ]  Iteration:51, train loss = 0.019326 ,train F1 = 0.998964 \n"
     ]
    },
    {
     "name": "stderr",
     "output_type": "stream",
     "text": [
      "\n",
      "100%|███████████████████████████████████████████| 79/79 [00:01<00:00, 69.75it/s]"
     ]
    },
    {
     "name": "stdout",
     "output_type": "stream",
     "text": [
      "08-12 01:49 [MainProcess, 18718] [INFO ]  valid Epoch:51, Train loss=0.0193, Valid loss=0.6624,Valid F1=0.5208, Valid weighted acc=0.6354\n",
      "08-12 01:49 [MainProcess, 18718] [INFO ]  Time used for each epoch training: 18.12866497039795 seconds.\n",
      "08-12 01:49 [MainProcess, 18718] [INFO ]  **************************************************\n"
     ]
    },
    {
     "name": "stderr",
     "output_type": "stream",
     "text": [
      "\n",
      "100%|███████████████████████████████████████████| 80/80 [00:16<00:00,  4.71it/s]"
     ]
    },
    {
     "name": "stdout",
     "output_type": "stream",
     "text": [
      "lr:  6.748290860741424e-06\n",
      "08-12 01:49 [MainProcess, 18718] [INFO ]  Iteration:52, train loss = 0.019991 ,train F1 = 0.996885 \n"
     ]
    },
    {
     "name": "stderr",
     "output_type": "stream",
     "text": [
      "\n",
      "100%|███████████████████████████████████████████| 79/79 [00:01<00:00, 69.72it/s]"
     ]
    },
    {
     "name": "stdout",
     "output_type": "stream",
     "text": [
      "08-12 01:49 [MainProcess, 18718] [INFO ]  valid Epoch:52, Train loss=0.0200, Valid loss=0.6294,Valid F1=0.5274, Valid weighted acc=0.6432\n",
      "08-12 01:49 [MainProcess, 18718] [INFO ]  Time used for each epoch training: 18.129781246185303 seconds.\n",
      "08-12 01:49 [MainProcess, 18718] [INFO ]  **************************************************\n"
     ]
    },
    {
     "name": "stderr",
     "output_type": "stream",
     "text": [
      "\n",
      "100%|███████████████████████████████████████████| 80/80 [00:16<00:00,  4.71it/s]"
     ]
    },
    {
     "name": "stdout",
     "output_type": "stream",
     "text": [
      "lr:  6.140944683274696e-06\n",
      "08-12 01:50 [MainProcess, 18718] [INFO ]  Iteration:53, train loss = 0.020789 ,train F1 = 0.996885 \n"
     ]
    },
    {
     "name": "stderr",
     "output_type": "stream",
     "text": [
      "\n",
      "100%|███████████████████████████████████████████| 79/79 [00:01<00:00, 69.52it/s]"
     ]
    },
    {
     "name": "stdout",
     "output_type": "stream",
     "text": [
      "08-12 01:50 [MainProcess, 18718] [INFO ]  valid Epoch:53, Train loss=0.0208, Valid loss=0.6360,Valid F1=0.5274, Valid weighted acc=0.6432\n",
      "08-12 01:50 [MainProcess, 18718] [INFO ]  Time used for each epoch training: 18.12615180015564 seconds.\n",
      "08-12 01:50 [MainProcess, 18718] [INFO ]  **************************************************\n"
     ]
    },
    {
     "name": "stderr",
     "output_type": "stream",
     "text": [
      "\n",
      "100%|███████████████████████████████████████████| 80/80 [00:16<00:00,  4.71it/s]"
     ]
    },
    {
     "name": "stdout",
     "output_type": "stream",
     "text": [
      "lr:  5.588259661779973e-06\n",
      "08-12 01:50 [MainProcess, 18718] [INFO ]  Iteration:54, train loss = 0.017060 ,train F1 = 0.998964 \n"
     ]
    },
    {
     "name": "stderr",
     "output_type": "stream",
     "text": [
      "\n",
      "100%|███████████████████████████████████████████| 79/79 [00:01<00:00, 69.85it/s]"
     ]
    },
    {
     "name": "stdout",
     "output_type": "stream",
     "text": [
      "08-12 01:50 [MainProcess, 18718] [INFO ]  valid Epoch:54, Train loss=0.0171, Valid loss=0.6304,Valid F1=0.5300, Valid weighted acc=0.6440\n",
      "08-12 01:50 [MainProcess, 18718] [INFO ]  Time used for each epoch training: 18.135945320129395 seconds.\n",
      "08-12 01:50 [MainProcess, 18718] [INFO ]  **************************************************\n"
     ]
    },
    {
     "name": "stderr",
     "output_type": "stream",
     "text": [
      "\n",
      "100%|███████████████████████████████████████████| 80/80 [00:16<00:00,  4.72it/s]"
     ]
    },
    {
     "name": "stdout",
     "output_type": "stream",
     "text": [
      "lr:  5.085316292219776e-06\n",
      "08-12 01:50 [MainProcess, 18718] [INFO ]  Iteration:55, train loss = 0.016861 ,train F1 = 0.998964 \n"
     ]
    },
    {
     "name": "stderr",
     "output_type": "stream",
     "text": [
      "\n",
      "100%|███████████████████████████████████████████| 79/79 [00:01<00:00, 69.66it/s]"
     ]
    },
    {
     "name": "stdout",
     "output_type": "stream",
     "text": [
      "08-12 01:50 [MainProcess, 18718] [INFO ]  valid Epoch:55, Train loss=0.0169, Valid loss=0.6630,Valid F1=0.5208, Valid weighted acc=0.6354\n",
      "08-12 01:50 [MainProcess, 18718] [INFO ]  Time used for each epoch training: 18.11081886291504 seconds.\n",
      "08-12 01:50 [MainProcess, 18718] [INFO ]  **************************************************\n"
     ]
    },
    {
     "name": "stderr",
     "output_type": "stream",
     "text": [
      "\n",
      "100%|███████████████████████████████████████████| 80/80 [00:16<00:00,  4.71it/s]"
     ]
    },
    {
     "name": "stdout",
     "output_type": "stream",
     "text": [
      "lr:  4.627637825919996e-06\n",
      "08-12 01:51 [MainProcess, 18718] [INFO ]  Iteration:56, train loss = 0.019380 ,train F1 = 0.997925 \n"
     ]
    },
    {
     "name": "stderr",
     "output_type": "stream",
     "text": [
      "\n",
      "100%|███████████████████████████████████████████| 79/79 [00:01<00:00, 69.83it/s]"
     ]
    },
    {
     "name": "stdout",
     "output_type": "stream",
     "text": [
      "08-12 01:51 [MainProcess, 18718] [INFO ]  valid Epoch:56, Train loss=0.0194, Valid loss=0.6536,Valid F1=0.5128, Valid weighted acc=0.6328\n",
      "08-12 01:51 [MainProcess, 18718] [INFO ]  Time used for each epoch training: 18.13115692138672 seconds.\n",
      "08-12 01:51 [MainProcess, 18718] [INFO ]  **************************************************\n"
     ]
    },
    {
     "name": "stderr",
     "output_type": "stream",
     "text": [
      "\n",
      "100%|███████████████████████████████████████████| 80/80 [00:17<00:00,  4.70it/s]"
     ]
    },
    {
     "name": "stdout",
     "output_type": "stream",
     "text": [
      "lr:  4.211150421587196e-06\n",
      "08-12 01:51 [MainProcess, 18718] [INFO ]  Iteration:57, train loss = 0.033181 ,train F1 = 0.995842 \n"
     ]
    },
    {
     "name": "stderr",
     "output_type": "stream",
     "text": [
      "\n",
      "100%|███████████████████████████████████████████| 79/79 [00:01<00:00, 66.88it/s]"
     ]
    },
    {
     "name": "stdout",
     "output_type": "stream",
     "text": [
      "08-12 01:51 [MainProcess, 18718] [INFO ]  valid Epoch:57, Train loss=0.0332, Valid loss=0.7121,Valid F1=0.5263, Valid weighted acc=0.6371\n",
      "08-12 01:51 [MainProcess, 18718] [INFO ]  Time used for each epoch training: 18.207325220108032 seconds.\n",
      "08-12 01:51 [MainProcess, 18718] [INFO ]  **************************************************\n"
     ]
    },
    {
     "name": "stderr",
     "output_type": "stream",
     "text": [
      "\n",
      "100%|███████████████████████████████████████████| 80/80 [00:17<00:00,  4.67it/s]"
     ]
    },
    {
     "name": "stdout",
     "output_type": "stream",
     "text": [
      "lr:  3.832146883644349e-06\n",
      "08-12 01:51 [MainProcess, 18718] [INFO ]  Iteration:58, train loss = 0.019693 ,train F1 = 0.997925 \n"
     ]
    },
    {
     "name": "stderr",
     "output_type": "stream",
     "text": [
      "\n",
      "100%|███████████████████████████████████████████| 79/79 [00:01<00:00, 69.66it/s]"
     ]
    },
    {
     "name": "stdout",
     "output_type": "stream",
     "text": [
      "08-12 01:51 [MainProcess, 18718] [INFO ]  valid Epoch:58, Train loss=0.0197, Valid loss=0.6566,Valid F1=0.5102, Valid weighted acc=0.6320\n",
      "08-12 01:51 [MainProcess, 18718] [INFO ]  Time used for each epoch training: 18.28841471672058 seconds.\n",
      "08-12 01:51 [MainProcess, 18718] [INFO ]  **************************************************\n"
     ]
    },
    {
     "name": "stderr",
     "output_type": "stream",
     "text": [
      "\n",
      "100%|███████████████████████████████████████████| 80/80 [00:16<00:00,  4.72it/s]"
     ]
    },
    {
     "name": "stdout",
     "output_type": "stream",
     "text": [
      "lr:  3.487253664116358e-06\n",
      "08-12 01:51 [MainProcess, 18718] [INFO ]  Iteration:59, train loss = 0.019546 ,train F1 = 0.998964 \n"
     ]
    },
    {
     "name": "stderr",
     "output_type": "stream",
     "text": [
      "\n",
      "100%|███████████████████████████████████████████| 79/79 [00:01<00:00, 69.52it/s]"
     ]
    },
    {
     "name": "stdout",
     "output_type": "stream",
     "text": [
      "08-12 01:52 [MainProcess, 18718] [INFO ]  valid Epoch:59, Train loss=0.0195, Valid loss=0.6656,Valid F1=0.5128, Valid weighted acc=0.6328\n",
      "08-12 01:52 [MainProcess, 18718] [INFO ]  Time used for each epoch training: 18.105620622634888 seconds.\n",
      "08-12 01:52 [MainProcess, 18718] [INFO ]  **************************************************\n"
     ]
    },
    {
     "name": "stderr",
     "output_type": "stream",
     "text": [
      "\n",
      "100%|███████████████████████████████████████████| 80/80 [00:16<00:00,  4.72it/s]"
     ]
    },
    {
     "name": "stdout",
     "output_type": "stream",
     "text": [
      "lr:  3.1734008343458857e-06\n",
      "08-12 01:52 [MainProcess, 18718] [INFO ]  Iteration:60, train loss = 0.019655 ,train F1 = 0.996885 \n"
     ]
    },
    {
     "name": "stderr",
     "output_type": "stream",
     "text": [
      "\n",
      "100%|███████████████████████████████████████████| 79/79 [00:01<00:00, 69.92it/s]"
     ]
    },
    {
     "name": "stdout",
     "output_type": "stream",
     "text": [
      "08-12 01:52 [MainProcess, 18718] [INFO ]  valid Epoch:60, Train loss=0.0197, Valid loss=0.6211,Valid F1=0.5192, Valid weighted acc=0.6423\n",
      "08-12 01:52 [MainProcess, 18718] [INFO ]  Time used for each epoch training: 18.086368799209595 seconds.\n",
      "08-12 01:52 [MainProcess, 18718] [INFO ]  **************************************************\n"
     ]
    },
    {
     "name": "stderr",
     "output_type": "stream",
     "text": [
      "\n",
      "100%|███████████████████████████████████████████| 80/80 [00:16<00:00,  4.72it/s]"
     ]
    },
    {
     "name": "stdout",
     "output_type": "stream",
     "text": [
      "lr:  2.887794759254756e-06\n",
      "08-12 01:52 [MainProcess, 18718] [INFO ]  Iteration:61, train loss = 0.018622 ,train F1 = 0.998964 \n"
     ]
    },
    {
     "name": "stderr",
     "output_type": "stream",
     "text": [
      "\n",
      "100%|███████████████████████████████████████████| 79/79 [00:01<00:00, 70.44it/s]"
     ]
    },
    {
     "name": "stdout",
     "output_type": "stream",
     "text": [
      "08-12 01:52 [MainProcess, 18718] [INFO ]  valid Epoch:61, Train loss=0.0186, Valid loss=0.6616,Valid F1=0.5253, Valid weighted acc=0.6406\n"
     ]
    },
    {
     "name": "stderr",
     "output_type": "stream",
     "text": [
      "\n"
     ]
    },
    {
     "name": "stdout",
     "output_type": "stream",
     "text": [
      "08-12 01:52 [MainProcess, 18718] [INFO ]  Time used for each epoch training: 18.090198278427124 seconds.\n",
      "08-12 01:52 [MainProcess, 18718] [INFO ]  **************************************************\n"
     ]
    },
    {
     "name": "stderr",
     "output_type": "stream",
     "text": [
      "100%|███████████████████████████████████████████| 80/80 [00:16<00:00,  4.71it/s]"
     ]
    },
    {
     "name": "stdout",
     "output_type": "stream",
     "text": [
      "lr:  2.627893230921828e-06\n",
      "08-12 01:52 [MainProcess, 18718] [INFO ]  Iteration:62, train loss = 0.016667 ,train F1 = 1.000000 \n"
     ]
    },
    {
     "name": "stderr",
     "output_type": "stream",
     "text": [
      "\n",
      "100%|███████████████████████████████████████████| 79/79 [00:01<00:00, 69.16it/s]"
     ]
    },
    {
     "name": "stdout",
     "output_type": "stream",
     "text": [
      "08-12 01:52 [MainProcess, 18718] [INFO ]  valid Epoch:62, Train loss=0.0167, Valid loss=0.6665,Valid F1=0.5102, Valid weighted acc=0.6320\n",
      "08-12 01:52 [MainProcess, 18718] [INFO ]  Time used for each epoch training: 18.129642486572266 seconds.\n",
      "08-12 01:52 [MainProcess, 18718] [INFO ]  **************************************************\n"
     ]
    },
    {
     "name": "stderr",
     "output_type": "stream",
     "text": [
      "\n",
      "100%|███████████████████████████████████████████| 80/80 [00:16<00:00,  4.72it/s]"
     ]
    },
    {
     "name": "stdout",
     "output_type": "stream",
     "text": [
      "lr:  2.3913828401388635e-06\n",
      "08-12 01:53 [MainProcess, 18718] [INFO ]  Iteration:63, train loss = 0.019780 ,train F1 = 0.998964 \n"
     ]
    },
    {
     "name": "stderr",
     "output_type": "stream",
     "text": [
      "\n",
      "100%|███████████████████████████████████████████| 79/79 [00:01<00:00, 69.92it/s]"
     ]
    },
    {
     "name": "stdout",
     "output_type": "stream",
     "text": [
      "08-12 01:53 [MainProcess, 18718] [INFO ]  valid Epoch:63, Train loss=0.0198, Valid loss=0.6907,Valid F1=0.5263, Valid weighted acc=0.6371\n",
      "08-12 01:53 [MainProcess, 18718] [INFO ]  Time used for each epoch training: 18.102525234222412 seconds.\n",
      "08-12 01:53 [MainProcess, 18718] [INFO ]  **************************************************\n"
     ]
    },
    {
     "name": "stderr",
     "output_type": "stream",
     "text": [
      "\n",
      "100%|███████████████████████████████████████████| 80/80 [00:16<00:00,  4.72it/s]"
     ]
    },
    {
     "name": "stdout",
     "output_type": "stream",
     "text": [
      "lr:  2.176158384526366e-06\n",
      "08-12 01:53 [MainProcess, 18718] [INFO ]  Iteration:64, train loss = 0.018107 ,train F1 = 0.997925 \n"
     ]
    },
    {
     "name": "stderr",
     "output_type": "stream",
     "text": [
      "\n",
      "100%|███████████████████████████████████████████| 79/79 [00:01<00:00, 70.03it/s]"
     ]
    },
    {
     "name": "stdout",
     "output_type": "stream",
     "text": [
      "08-12 01:53 [MainProcess, 18718] [INFO ]  valid Epoch:64, Train loss=0.0181, Valid loss=0.6736,Valid F1=0.5181, Valid weighted acc=0.6346\n",
      "08-12 01:53 [MainProcess, 18718] [INFO ]  Time used for each epoch training: 18.095725774765015 seconds.\n",
      "08-12 01:53 [MainProcess, 18718] [INFO ]  **************************************************\n"
     ]
    },
    {
     "name": "stderr",
     "output_type": "stream",
     "text": [
      "\n",
      "100%|███████████████████████████████████████████| 80/80 [00:16<00:00,  4.72it/s]"
     ]
    },
    {
     "name": "stdout",
     "output_type": "stream",
     "text": [
      "lr:  1.980304129918993e-06\n",
      "08-12 01:53 [MainProcess, 18718] [INFO ]  Iteration:65, train loss = 0.020036 ,train F1 = 0.996885 \n"
     ]
    },
    {
     "name": "stderr",
     "output_type": "stream",
     "text": [
      "\n",
      "100%|███████████████████████████████████████████| 79/79 [00:01<00:00, 69.93it/s]"
     ]
    },
    {
     "name": "stdout",
     "output_type": "stream",
     "text": [
      "08-12 01:53 [MainProcess, 18718] [INFO ]  valid Epoch:65, Train loss=0.0200, Valid loss=0.6938,Valid F1=0.5236, Valid weighted acc=0.6363\n",
      "08-12 01:53 [MainProcess, 18718] [INFO ]  Time used for each epoch training: 18.104647636413574 seconds.\n",
      "08-12 01:53 [MainProcess, 18718] [INFO ]  **************************************************\n"
     ]
    },
    {
     "name": "stderr",
     "output_type": "stream",
     "text": [
      "\n",
      "100%|███████████████████████████████████████████| 80/80 [00:16<00:00,  4.71it/s]"
     ]
    },
    {
     "name": "stdout",
     "output_type": "stream",
     "text": [
      "lr:  1.8020767582262836e-06\n",
      "08-12 01:54 [MainProcess, 18718] [INFO ]  Iteration:66, train loss = 0.023077 ,train F1 = 0.994797 \n"
     ]
    },
    {
     "name": "stderr",
     "output_type": "stream",
     "text": [
      "\n",
      "100%|███████████████████████████████████████████| 79/79 [00:01<00:00, 69.66it/s]"
     ]
    },
    {
     "name": "stdout",
     "output_type": "stream",
     "text": [
      "08-12 01:54 [MainProcess, 18718] [INFO ]  valid Epoch:66, Train loss=0.0231, Valid loss=0.6776,Valid F1=0.5236, Valid weighted acc=0.6363\n",
      "08-12 01:54 [MainProcess, 18718] [INFO ]  Time used for each epoch training: 18.116918087005615 seconds.\n",
      "08-12 01:54 [MainProcess, 18718] [INFO ]  **************************************************\n"
     ]
    },
    {
     "name": "stderr",
     "output_type": "stream",
     "text": [
      "\n",
      "100%|███████████████████████████████████████████| 80/80 [00:16<00:00,  4.72it/s]"
     ]
    },
    {
     "name": "stdout",
     "output_type": "stream",
     "text": [
      "lr:  1.639889849985918e-06\n",
      "08-12 01:54 [MainProcess, 18718] [INFO ]  Iteration:67, train loss = 0.016923 ,train F1 = 0.997925 \n"
     ]
    },
    {
     "name": "stderr",
     "output_type": "stream",
     "text": [
      "\n",
      "100%|███████████████████████████████████████████| 79/79 [00:01<00:00, 69.78it/s]"
     ]
    },
    {
     "name": "stdout",
     "output_type": "stream",
     "text": [
      "08-12 01:54 [MainProcess, 18718] [INFO ]  valid Epoch:67, Train loss=0.0169, Valid loss=0.6685,Valid F1=0.5155, Valid weighted acc=0.6337\n",
      "08-12 01:54 [MainProcess, 18718] [INFO ]  Time used for each epoch training: 18.09205913543701 seconds.\n",
      "08-12 01:54 [MainProcess, 18718] [INFO ]  **************************************************\n"
     ]
    },
    {
     "name": "stderr",
     "output_type": "stream",
     "text": [
      "\n",
      "100%|███████████████████████████████████████████| 80/80 [00:16<00:00,  4.72it/s]"
     ]
    },
    {
     "name": "stdout",
     "output_type": "stream",
     "text": [
      "lr:  1.4922997634871856e-06\n",
      "08-12 01:54 [MainProcess, 18718] [INFO ]  Iteration:68, train loss = 0.020423 ,train F1 = 0.997925 \n"
     ]
    },
    {
     "name": "stderr",
     "output_type": "stream",
     "text": [
      "\n",
      "100%|███████████████████████████████████████████| 79/79 [00:01<00:00, 69.63it/s]"
     ]
    },
    {
     "name": "stdout",
     "output_type": "stream",
     "text": [
      "08-12 01:54 [MainProcess, 18718] [INFO ]  valid Epoch:68, Train loss=0.0204, Valid loss=0.6632,Valid F1=0.5155, Valid weighted acc=0.6337\n",
      "08-12 01:54 [MainProcess, 18718] [INFO ]  Time used for each epoch training: 18.116078853607178 seconds.\n",
      "08-12 01:54 [MainProcess, 18718] [INFO ]  **************************************************\n"
     ]
    },
    {
     "name": "stderr",
     "output_type": "stream",
     "text": [
      "\n",
      "100%|███████████████████████████████████████████| 80/80 [00:16<00:00,  4.72it/s]"
     ]
    },
    {
     "name": "stdout",
     "output_type": "stream",
     "text": [
      "lr:  1.357992784773339e-06\n",
      "08-12 01:55 [MainProcess, 18718] [INFO ]  Iteration:69, train loss = 0.017767 ,train F1 = 0.997925 \n"
     ]
    },
    {
     "name": "stderr",
     "output_type": "stream",
     "text": [
      "\n",
      "100%|███████████████████████████████████████████| 79/79 [00:01<00:00, 70.05it/s]"
     ]
    },
    {
     "name": "stdout",
     "output_type": "stream",
     "text": [
      "08-12 01:55 [MainProcess, 18718] [INFO ]  valid Epoch:69, Train loss=0.0178, Valid loss=0.6642,Valid F1=0.5155, Valid weighted acc=0.6337\n",
      "08-12 01:55 [MainProcess, 18718] [INFO ]  Time used for each epoch training: 18.10964584350586 seconds.\n",
      "08-12 01:55 [MainProcess, 18718] [INFO ]  **************************************************\n"
     ]
    },
    {
     "name": "stderr",
     "output_type": "stream",
     "text": [
      "\n",
      "100%|███████████████████████████████████████████| 80/80 [00:16<00:00,  4.72it/s]"
     ]
    },
    {
     "name": "stdout",
     "output_type": "stream",
     "text": [
      "lr:  1.2357734341437386e-06\n",
      "08-12 01:55 [MainProcess, 18718] [INFO ]  Iteration:70, train loss = 0.020722 ,train F1 = 0.993750 \n"
     ]
    },
    {
     "name": "stderr",
     "output_type": "stream",
     "text": [
      "\n",
      "100%|███████████████████████████████████████████| 79/79 [00:01<00:00, 69.54it/s]"
     ]
    },
    {
     "name": "stdout",
     "output_type": "stream",
     "text": [
      "08-12 01:55 [MainProcess, 18718] [INFO ]  valid Epoch:70, Train loss=0.0207, Valid loss=0.6680,Valid F1=0.5128, Valid weighted acc=0.6328\n",
      "08-12 01:55 [MainProcess, 18718] [INFO ]  Time used for each epoch training: 18.109731435775757 seconds.\n",
      "08-12 01:55 [MainProcess, 18718] [INFO ]  **************************************************\n"
     ]
    },
    {
     "name": "stderr",
     "output_type": "stream",
     "text": [
      "\n",
      "100%|███████████████████████████████████████████| 80/80 [00:16<00:00,  4.71it/s]"
     ]
    },
    {
     "name": "stdout",
     "output_type": "stream",
     "text": [
      "lr:  1.1245538250708021e-06\n",
      "08-12 01:55 [MainProcess, 18718] [INFO ]  Iteration:71, train loss = 0.018244 ,train F1 = 0.998964 \n"
     ]
    },
    {
     "name": "stderr",
     "output_type": "stream",
     "text": [
      "\n",
      "100%|███████████████████████████████████████████| 79/79 [00:01<00:00, 69.76it/s]"
     ]
    },
    {
     "name": "stdout",
     "output_type": "stream",
     "text": [
      "08-12 01:55 [MainProcess, 18718] [INFO ]  valid Epoch:71, Train loss=0.0182, Valid loss=0.6641,Valid F1=0.5155, Valid weighted acc=0.6337\n",
      "08-12 01:55 [MainProcess, 18718] [INFO ]  Time used for each epoch training: 18.12116289138794 seconds.\n",
      "08-12 01:55 [MainProcess, 18718] [INFO ]  **************************************************\n"
     ]
    },
    {
     "name": "stderr",
     "output_type": "stream",
     "text": [
      "\n",
      "100%|███████████████████████████████████████████| 80/80 [00:16<00:00,  4.71it/s]"
     ]
    },
    {
     "name": "stdout",
     "output_type": "stream",
     "text": [
      "lr:  1.02334398081443e-06\n",
      "08-12 01:55 [MainProcess, 18718] [INFO ]  Iteration:72, train loss = 0.017106 ,train F1 = 0.997925 \n"
     ]
    },
    {
     "name": "stderr",
     "output_type": "stream",
     "text": [
      "\n",
      "100%|███████████████████████████████████████████| 79/79 [00:01<00:00, 69.81it/s]"
     ]
    },
    {
     "name": "stdout",
     "output_type": "stream",
     "text": [
      "08-12 01:55 [MainProcess, 18718] [INFO ]  valid Epoch:72, Train loss=0.0171, Valid loss=0.6467,Valid F1=0.5294, Valid weighted acc=0.6457\n",
      "08-12 01:55 [MainProcess, 18718] [INFO ]  Time used for each epoch training: 18.121116161346436 seconds.\n",
      "08-12 01:55 [MainProcess, 18718] [INFO ]  **************************************************\n"
     ]
    },
    {
     "name": "stderr",
     "output_type": "stream",
     "text": [
      "\n",
      "100%|███████████████████████████████████████████| 80/80 [00:16<00:00,  4.71it/s]"
     ]
    },
    {
     "name": "stdout",
     "output_type": "stream",
     "text": [
      "lr:  9.312430225411312e-07\n",
      "08-12 01:56 [MainProcess, 18718] [INFO ]  Iteration:73, train loss = 0.020005 ,train F1 = 0.997925 \n"
     ]
    },
    {
     "name": "stderr",
     "output_type": "stream",
     "text": [
      "\n",
      "100%|███████████████████████████████████████████| 79/79 [00:01<00:00, 69.47it/s]"
     ]
    },
    {
     "name": "stdout",
     "output_type": "stream",
     "text": [
      "08-12 01:56 [MainProcess, 18718] [INFO ]  valid Epoch:73, Train loss=0.0200, Valid loss=0.6784,Valid F1=0.5236, Valid weighted acc=0.6363\n",
      "08-12 01:56 [MainProcess, 18718] [INFO ]  Time used for each epoch training: 18.125303983688354 seconds.\n",
      "08-12 01:56 [MainProcess, 18718] [INFO ]  **************************************************\n"
     ]
    },
    {
     "name": "stderr",
     "output_type": "stream",
     "text": [
      "\n",
      "100%|███████████████████████████████████████████| 80/80 [00:16<00:00,  4.71it/s]"
     ]
    },
    {
     "name": "stdout",
     "output_type": "stream",
     "text": [
      "lr:  8.474311505124295e-07\n",
      "08-12 01:56 [MainProcess, 18718] [INFO ]  Iteration:74, train loss = 0.019207 ,train F1 = 0.998964 \n"
     ]
    },
    {
     "name": "stderr",
     "output_type": "stream",
     "text": [
      "\n",
      "100%|███████████████████████████████████████████| 79/79 [00:01<00:00, 69.59it/s]"
     ]
    },
    {
     "name": "stdout",
     "output_type": "stream",
     "text": [
      "08-12 01:56 [MainProcess, 18718] [INFO ]  valid Epoch:74, Train loss=0.0192, Valid loss=0.6644,Valid F1=0.5102, Valid weighted acc=0.6320\n",
      "08-12 01:56 [MainProcess, 18718] [INFO ]  Time used for each epoch training: 18.12703537940979 seconds.\n",
      "08-12 01:56 [MainProcess, 18718] [INFO ]  **************************************************\n"
     ]
    },
    {
     "name": "stderr",
     "output_type": "stream",
     "text": [
      "\n",
      "100%|███████████████████████████████████████████| 80/80 [00:16<00:00,  4.71it/s]"
     ]
    },
    {
     "name": "stdout",
     "output_type": "stream",
     "text": [
      "lr:  7.711623469663109e-07\n",
      "08-12 01:56 [MainProcess, 18718] [INFO ]  Iteration:75, train loss = 0.018247 ,train F1 = 0.998964 \n"
     ]
    },
    {
     "name": "stderr",
     "output_type": "stream",
     "text": [
      "\n",
      "100%|███████████████████████████████████████████| 79/79 [00:01<00:00, 69.95it/s]"
     ]
    },
    {
     "name": "stdout",
     "output_type": "stream",
     "text": [
      "08-12 01:56 [MainProcess, 18718] [INFO ]  valid Epoch:75, Train loss=0.0182, Valid loss=0.6626,Valid F1=0.5178, Valid weighted acc=0.6363\n",
      "08-12 01:56 [MainProcess, 18718] [INFO ]  Time used for each epoch training: 18.11391019821167 seconds.\n",
      "08-12 01:56 [MainProcess, 18718] [INFO ]  **************************************************\n"
     ]
    },
    {
     "name": "stderr",
     "output_type": "stream",
     "text": [
      "\n",
      "100%|███████████████████████████████████████████| 80/80 [00:16<00:00,  4.71it/s]"
     ]
    },
    {
     "name": "stdout",
     "output_type": "stream",
     "text": [
      "lr:  7.017577357393429e-07\n",
      "08-12 01:57 [MainProcess, 18718] [INFO ]  Iteration:76, train loss = 0.017030 ,train F1 = 0.997925 \n"
     ]
    },
    {
     "name": "stderr",
     "output_type": "stream",
     "text": [
      "\n",
      "100%|███████████████████████████████████████████| 79/79 [00:01<00:00, 69.31it/s]"
     ]
    },
    {
     "name": "stdout",
     "output_type": "stream",
     "text": [
      "08-12 01:57 [MainProcess, 18718] [INFO ]  valid Epoch:76, Train loss=0.0170, Valid loss=0.6528,Valid F1=0.5102, Valid weighted acc=0.6320\n",
      "08-12 01:57 [MainProcess, 18718] [INFO ]  Time used for each epoch training: 18.12725520133972 seconds.\n",
      "08-12 01:57 [MainProcess, 18718] [INFO ]  **************************************************\n"
     ]
    },
    {
     "name": "stderr",
     "output_type": "stream",
     "text": [
      "\n",
      "100%|███████████████████████████████████████████| 80/80 [00:16<00:00,  4.71it/s]"
     ]
    },
    {
     "name": "stdout",
     "output_type": "stream",
     "text": [
      "lr:  6.38599539522802e-07\n",
      "08-12 01:57 [MainProcess, 18718] [INFO ]  Iteration:77, train loss = 0.019224 ,train F1 = 0.997925 \n"
     ]
    },
    {
     "name": "stderr",
     "output_type": "stream",
     "text": [
      "\n",
      "100%|███████████████████████████████████████████| 79/79 [00:01<00:00, 69.76it/s]"
     ]
    },
    {
     "name": "stdout",
     "output_type": "stream",
     "text": [
      "08-12 01:57 [MainProcess, 18718] [INFO ]  valid Epoch:77, Train loss=0.0192, Valid loss=0.6562,Valid F1=0.5102, Valid weighted acc=0.6320\n",
      "08-12 01:57 [MainProcess, 18718] [INFO ]  Time used for each epoch training: 18.120269060134888 seconds.\n",
      "08-12 01:57 [MainProcess, 18718] [INFO ]  **************************************************\n"
     ]
    },
    {
     "name": "stderr",
     "output_type": "stream",
     "text": [
      "\n",
      "100%|███████████████████████████████████████████| 80/80 [00:16<00:00,  4.71it/s]"
     ]
    },
    {
     "name": "stdout",
     "output_type": "stream",
     "text": [
      "lr:  5.811255809657499e-07\n",
      "08-12 01:57 [MainProcess, 18718] [INFO ]  Iteration:78, train loss = 0.017552 ,train F1 = 0.997925 \n"
     ]
    },
    {
     "name": "stderr",
     "output_type": "stream",
     "text": [
      "\n",
      "100%|███████████████████████████████████████████| 79/79 [00:01<00:00, 69.16it/s]"
     ]
    },
    {
     "name": "stdout",
     "output_type": "stream",
     "text": [
      "08-12 01:57 [MainProcess, 18718] [INFO ]  valid Epoch:78, Train loss=0.0176, Valid loss=0.6725,Valid F1=0.5208, Valid weighted acc=0.6354\n",
      "08-12 01:57 [MainProcess, 18718] [INFO ]  Time used for each epoch training: 18.130603313446045 seconds.\n",
      "08-12 01:57 [MainProcess, 18718] [INFO ]  **************************************************\n"
     ]
    },
    {
     "name": "stderr",
     "output_type": "stream",
     "text": [
      "\n",
      "100%|███████████████████████████████████████████| 80/80 [00:16<00:00,  4.71it/s]"
     ]
    },
    {
     "name": "stdout",
     "output_type": "stream",
     "text": [
      "lr:  5.288242786788324e-07\n",
      "08-12 01:58 [MainProcess, 18718] [INFO ]  Iteration:79, train loss = 0.021580 ,train F1 = 0.997925 \n"
     ]
    },
    {
     "name": "stderr",
     "output_type": "stream",
     "text": [
      "\n",
      "100%|███████████████████████████████████████████| 79/79 [00:01<00:00, 69.67it/s]"
     ]
    },
    {
     "name": "stdout",
     "output_type": "stream",
     "text": [
      "08-12 01:58 [MainProcess, 18718] [INFO ]  valid Epoch:79, Train loss=0.0216, Valid loss=0.6676,Valid F1=0.5236, Valid weighted acc=0.6363\n",
      "08-12 01:58 [MainProcess, 18718] [INFO ]  Time used for each epoch training: 18.133819580078125 seconds.\n",
      "08-12 01:58 [MainProcess, 18718] [INFO ]  **************************************************\n"
     ]
    },
    {
     "name": "stderr",
     "output_type": "stream",
     "text": [
      "\n"
     ]
    }
   ],
   "source": [
    "murmur_classes = ['Present', 'Unknown','Absent']\n",
    "outcome_classes = ['Abnormal', 'Normal']\n",
    "if args.mode=='murmur':\n",
    "    classes =  murmur_classes \n",
    "elif args.mode =='outcome':\n",
    "    classes = outcome_classes\n",
    "\n",
    "\n",
    "    \n",
    "all_file_train = len(trainset)\n",
    "dataloader_train_len = len(dataloader_train)\n",
    "\n",
    "\n",
    "\n",
    "\n",
    "for iter_ in range(args.end_iter):\n",
    "    train_pred_label,  train_gt_label = [], []\n",
    "    start_time = time.time()\n",
    "    running_loss = 0.0\n",
    "    idx = 0\n",
    "    lcnn_model.train()\n",
    "    for feature, current_murmur, _ in tqdm(dataloader_train): ###current_outcome\n",
    "        feature = feature.cuda()\n",
    "#         current_age_group = current_age_group.cuda()\n",
    "#         sex_feature = sex_feature.cuda()\n",
    "#         height_weight = height_weight.cuda()\n",
    "#         preg_feature = preg_feature.cuda()\n",
    "#         loc_feature = loc_feature.cuda()\n",
    "        current_murmur = current_murmur.cuda()\n",
    "#         current_outcome = current_outcome.cuda()\n",
    "\n",
    "\n",
    "\n",
    "\n",
    "\n",
    "\n",
    "        output_train = lcnn_model(feature)   # output\n",
    "        output_train = output_train.squeeze(1)\n",
    "\n",
    "\n",
    "        output_preds_labels = (torch.ceil(output_train-0.5)).data.cpu().numpy()\n",
    "        train_pred_label.extend(list(output_preds_labels))\n",
    "        train_gt_label.extend(list(current_murmur.data.cpu().numpy()))\n",
    "        \n",
    "#         murmur_weight = [4 if i==1 else 1 for i in list(current_murmur.data.cpu().numpy())]\n",
    "        \n",
    "#         criterion = torch.nn.BCELoss(weight = torch.tensor(murmur_weight).cuda())\n",
    "        loss = criterion(output_train, current_murmur)\n",
    "                        \n",
    "        \n",
    "\n",
    "\n",
    "        idx +=1              \n",
    "\n",
    "        opt.zero_grad()\n",
    "        loss.backward()\n",
    "        opt.step()\n",
    "\n",
    "        running_loss += loss.item()\n",
    "\n",
    "    train_f1 = f1_score(y_true= train_gt_label, y_pred= train_pred_label)\n",
    "    \n",
    "    \n",
    "    scheduler.step()\n",
    "    print(\"lr: \", opt.param_groups[0]['lr'])\n",
    "    logger.info(\"Iteration:{0}, train loss = {1:.6f} ,train F1 = {2:.6f} \".format(iter_, \n",
    "                 running_loss/dataloader_train_len,train_f1))\n",
    "\n",
    "    # eval\n",
    "    all_file_valid = len(validset)\n",
    "    dataloader_valid_len = len(dataloader_valid)\n",
    "    lcnn_model.eval()\n",
    "\n",
    "    with torch.no_grad():\n",
    "        running_loss_dev = 0.0\n",
    "        index = 0\n",
    "        dev_pred_label,  dev_gt_label = [], []\n",
    "        for feature,  current_murmur, _ in tqdm(dataloader_valid):  #current_outcome\n",
    "            feature_dev = feature.cuda()\n",
    "#             current_age_group_dev = current_age_group.cuda()\n",
    "#             sex_feature_dev = sex_feature.cuda()\n",
    "#             height_weight_dev = height_weight.cuda()\n",
    "#             preg_feature_dev = preg_feature.cuda()\n",
    "#             loc_feature_dev = loc_feature.cuda()\n",
    "            current_murmur_dev = current_murmur.cuda()\n",
    "#             current_outcome_dev = current_outcome.cuda()\n",
    "\n",
    "\n",
    "            output_dev = lcnn_model(feature_dev)\n",
    "            output_dev = output_dev.squeeze(1)\n",
    "\n",
    "            \n",
    "            \n",
    "            output_preds_labels_dev = (torch.ceil(output_dev-0.5)).data.cpu().numpy()\n",
    "            dev_pred_label.extend(list(output_preds_labels_dev))\n",
    "            dev_gt_label.extend(list(current_murmur_dev.data.cpu().numpy()))\n",
    "            \n",
    "            \n",
    "#             murmur_weight_dev = [4 if i==1 else 1 for i in list(current_murmur_dev.data.cpu().numpy())]\n",
    "        \n",
    "#             criterion = torch.nn.BCELoss(weight = torch.tensor(murmur_weight_dev).cuda())\n",
    "            loss_dev = criterion(output_dev, current_murmur_dev)\n",
    "            \n",
    "            \n",
    "            running_loss_dev += loss_dev.item()\n",
    "                        \n",
    "\n",
    "            index = index+1   \n",
    "            \n",
    "        dev_preds_onehot_label = np.array([[1.0,0.0,0.0] if i == 1 else [0.0,0.0,1.0] for i in dev_pred_label])    \n",
    "        dev_gt_onehot_label = np.array([[1.0,0.0,0.0] if i == 1 else [0.0,0.0,1.0] for i in dev_gt_label])\n",
    "            \n",
    "        \n",
    "\n",
    "        dev_f1 = f1_score(y_true= dev_gt_label, y_pred= dev_pred_label)\n",
    "        weighted_acc = compute_weighted_accuracy(dev_gt_onehot_label, dev_preds_onehot_label, classes)\n",
    "\n",
    "        \n",
    "\n",
    "\n",
    "\n",
    "    logger.info(\"valid Epoch:%d, Train loss=%.4f, Valid loss=%.4f,Valid F1=%.4f, Valid weighted acc=%.4f\" %( iter_,\n",
    "            running_loss/dataloader_train_len, running_loss_dev/dataloader_valid_len, dev_f1,weighted_acc ))\n",
    "    score_file.write(\"%d epoch, VALID LOSS %f, VALID F1 %2.2f%%, VALID WEIGHTED ACC%2.2f%%\\n\"%(iter_, \n",
    "                            running_loss_dev/dataloader_valid_len, dev_f1, weighted_acc ))\n",
    "    score_file.flush()\n",
    "\n",
    "    torch.save(lcnn_model.state_dict(), os.path.join(model_folder, \"{}_{}.model\".format(args.model_name, iter_)))\n",
    "\n",
    "    end_time = time.time()\n",
    "    logger.info(\"Time used for each epoch training: {} seconds.\".format(end_time - start_time))\n",
    "    logger.info(\"*\" * 50)\n",
    "\n",
    "\n",
    "# if verbose >= 1:\n",
    "#     print('Done.')"
   ]
  },
  {
   "cell_type": "code",
   "execution_count": 11,
   "id": "36d4d23b",
   "metadata": {},
   "outputs": [
    {
     "data": {
      "text/plain": [
       "array([-0.,  1., -0., -0., -0., -0., -0.], dtype=float32)"
      ]
     },
     "execution_count": 11,
     "metadata": {},
     "output_type": "execute_result"
    }
   ],
   "source": [
    "output_preds_labels_dev"
   ]
  },
  {
   "cell_type": "code",
   "execution_count": 18,
   "id": "fe2fe3d2",
   "metadata": {},
   "outputs": [],
   "source": [
    "current_murmur = np.zeros((1,2), dtype=int)"
   ]
  },
  {
   "cell_type": "code",
   "execution_count": 21,
   "id": "2b32ea2b",
   "metadata": {},
   "outputs": [
    {
     "data": {
      "text/plain": [
       "array([[0, 1]])"
      ]
     },
     "execution_count": 21,
     "metadata": {},
     "output_type": "execute_result"
    }
   ],
   "source": [
    "current_murmur"
   ]
  },
  {
   "cell_type": "code",
   "execution_count": 20,
   "id": "f66d82ef",
   "metadata": {},
   "outputs": [],
   "source": [
    "current_murmur[0][0] = 0\n",
    "current_murmur[0][1] = 1"
   ]
  },
  {
   "cell_type": "code",
   "execution_count": 17,
   "id": "b54407c4",
   "metadata": {},
   "outputs": [
    {
     "data": {
      "text/plain": [
       "58"
      ]
     },
     "execution_count": 17,
     "metadata": {},
     "output_type": "execute_result"
    }
   ],
   "source": [
    "dev_pred_label.count(1)"
   ]
  },
  {
   "cell_type": "code",
   "execution_count": 22,
   "id": "a36df12b",
   "metadata": {},
   "outputs": [],
   "source": [
    "torch.cuda.empty_cache()"
   ]
  },
  {
   "cell_type": "code",
   "execution_count": null,
   "id": "2540fd0d",
   "metadata": {},
   "outputs": [],
   "source": []
  }
 ],
 "metadata": {
  "kernelspec": {
   "display_name": "Python 3 (ipykernel)",
   "language": "python",
   "name": "python3"
  },
  "language_info": {
   "codemirror_mode": {
    "name": "ipython",
    "version": 3
   },
   "file_extension": ".py",
   "mimetype": "text/x-python",
   "name": "python",
   "nbconvert_exporter": "python",
   "pygments_lexer": "ipython3",
   "version": "3.7.6"
  }
 },
 "nbformat": 4,
 "nbformat_minor": 5
}
